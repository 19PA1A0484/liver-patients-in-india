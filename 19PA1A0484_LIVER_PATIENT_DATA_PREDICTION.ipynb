{
  "cells": [
    {
      "cell_type": "markdown",
      "metadata": {
        "id": "view-in-github",
        "colab_type": "text"
      },
      "source": [
        "<a href=\"https://colab.research.google.com/github/19PA1A0484/liver-patients-in-india/blob/main/19PA1A0484_LIVER_PATIENT_DATA_PREDICTION.ipynb\" target=\"_parent\"><img src=\"https://colab.research.google.com/assets/colab-badge.svg\" alt=\"Open In Colab\"/></a>"
      ]
    },
    {
      "cell_type": "markdown",
      "source": [
        "# **IMPORT NECCESARY BUILT IN LIBRARIES**"
      ],
      "metadata": {
        "id": "vIBa6UJ5C8eq"
      }
    },
    {
      "cell_type": "code",
      "execution_count": null,
      "metadata": {
        "id": "7B-6huI54a1V"
      },
      "outputs": [],
      "source": [
        "import pandas as pd\n",
        "import numpy as np\n",
        "import matplotlib.pyplot as plt\n",
        "import seaborn as sns\n",
        "%matplotlib inline\n",
        "import plotly.graph_objects as go\n",
        "import plotly.express as px"
      ]
    },
    {
      "cell_type": "markdown",
      "source": [
        "## **IMPORT DATA SET FROM THE LINK LIVER PATIENT DATA SET**\n",
        "IMPORTING THE DATA"
      ],
      "metadata": {
        "id": "V35ziiMbDOp3"
      }
    },
    {
      "cell_type": "code",
      "execution_count": null,
      "metadata": {
        "colab": {
          "base_uri": "https://localhost:8080/",
          "height": 270
        },
        "id": "MnzxzT6U4qWr",
        "outputId": "9743b452-9da9-4280-aabc-29d2761a4dba"
      },
      "outputs": [
        {
          "output_type": "execute_result",
          "data": {
            "text/plain": [
              "   Age  Gender  Total_Bilirubin  Direct_Bilirubin  Alkaline_Phosphotase  \\\n",
              "0   65  Female              0.7               0.1                   187   \n",
              "1   62    Male             10.9               5.5                   699   \n",
              "2   62    Male              7.3               4.1                   490   \n",
              "3   58    Male              1.0               0.4                   182   \n",
              "4   72    Male              3.9               2.0                   195   \n",
              "\n",
              "   Alamine_Aminotransferase  Aspartate_Aminotransferase  Total_Protiens  \\\n",
              "0                        16                          18             6.8   \n",
              "1                        64                         100             7.5   \n",
              "2                        60                          68             7.0   \n",
              "3                        14                          20             6.8   \n",
              "4                        27                          59             7.3   \n",
              "\n",
              "   Albumin  Albumin_and_Globulin_Ratio  Liver_Problem  \n",
              "0      3.3                        0.90              1  \n",
              "1      3.2                        0.74              1  \n",
              "2      3.3                        0.89              1  \n",
              "3      3.4                        1.00              1  \n",
              "4      2.4                        0.40              1  "
            ],
            "text/html": [
              "\n",
              "  <div id=\"df-12921cd7-ae97-4065-8b27-3b997e2d0939\">\n",
              "    <div class=\"colab-df-container\">\n",
              "      <div>\n",
              "<style scoped>\n",
              "    .dataframe tbody tr th:only-of-type {\n",
              "        vertical-align: middle;\n",
              "    }\n",
              "\n",
              "    .dataframe tbody tr th {\n",
              "        vertical-align: top;\n",
              "    }\n",
              "\n",
              "    .dataframe thead th {\n",
              "        text-align: right;\n",
              "    }\n",
              "</style>\n",
              "<table border=\"1\" class=\"dataframe\">\n",
              "  <thead>\n",
              "    <tr style=\"text-align: right;\">\n",
              "      <th></th>\n",
              "      <th>Age</th>\n",
              "      <th>Gender</th>\n",
              "      <th>Total_Bilirubin</th>\n",
              "      <th>Direct_Bilirubin</th>\n",
              "      <th>Alkaline_Phosphotase</th>\n",
              "      <th>Alamine_Aminotransferase</th>\n",
              "      <th>Aspartate_Aminotransferase</th>\n",
              "      <th>Total_Protiens</th>\n",
              "      <th>Albumin</th>\n",
              "      <th>Albumin_and_Globulin_Ratio</th>\n",
              "      <th>Liver_Problem</th>\n",
              "    </tr>\n",
              "  </thead>\n",
              "  <tbody>\n",
              "    <tr>\n",
              "      <th>0</th>\n",
              "      <td>65</td>\n",
              "      <td>Female</td>\n",
              "      <td>0.7</td>\n",
              "      <td>0.1</td>\n",
              "      <td>187</td>\n",
              "      <td>16</td>\n",
              "      <td>18</td>\n",
              "      <td>6.8</td>\n",
              "      <td>3.3</td>\n",
              "      <td>0.90</td>\n",
              "      <td>1</td>\n",
              "    </tr>\n",
              "    <tr>\n",
              "      <th>1</th>\n",
              "      <td>62</td>\n",
              "      <td>Male</td>\n",
              "      <td>10.9</td>\n",
              "      <td>5.5</td>\n",
              "      <td>699</td>\n",
              "      <td>64</td>\n",
              "      <td>100</td>\n",
              "      <td>7.5</td>\n",
              "      <td>3.2</td>\n",
              "      <td>0.74</td>\n",
              "      <td>1</td>\n",
              "    </tr>\n",
              "    <tr>\n",
              "      <th>2</th>\n",
              "      <td>62</td>\n",
              "      <td>Male</td>\n",
              "      <td>7.3</td>\n",
              "      <td>4.1</td>\n",
              "      <td>490</td>\n",
              "      <td>60</td>\n",
              "      <td>68</td>\n",
              "      <td>7.0</td>\n",
              "      <td>3.3</td>\n",
              "      <td>0.89</td>\n",
              "      <td>1</td>\n",
              "    </tr>\n",
              "    <tr>\n",
              "      <th>3</th>\n",
              "      <td>58</td>\n",
              "      <td>Male</td>\n",
              "      <td>1.0</td>\n",
              "      <td>0.4</td>\n",
              "      <td>182</td>\n",
              "      <td>14</td>\n",
              "      <td>20</td>\n",
              "      <td>6.8</td>\n",
              "      <td>3.4</td>\n",
              "      <td>1.00</td>\n",
              "      <td>1</td>\n",
              "    </tr>\n",
              "    <tr>\n",
              "      <th>4</th>\n",
              "      <td>72</td>\n",
              "      <td>Male</td>\n",
              "      <td>3.9</td>\n",
              "      <td>2.0</td>\n",
              "      <td>195</td>\n",
              "      <td>27</td>\n",
              "      <td>59</td>\n",
              "      <td>7.3</td>\n",
              "      <td>2.4</td>\n",
              "      <td>0.40</td>\n",
              "      <td>1</td>\n",
              "    </tr>\n",
              "  </tbody>\n",
              "</table>\n",
              "</div>\n",
              "      <button class=\"colab-df-convert\" onclick=\"convertToInteractive('df-12921cd7-ae97-4065-8b27-3b997e2d0939')\"\n",
              "              title=\"Convert this dataframe to an interactive table.\"\n",
              "              style=\"display:none;\">\n",
              "        \n",
              "  <svg xmlns=\"http://www.w3.org/2000/svg\" height=\"24px\"viewBox=\"0 0 24 24\"\n",
              "       width=\"24px\">\n",
              "    <path d=\"M0 0h24v24H0V0z\" fill=\"none\"/>\n",
              "    <path d=\"M18.56 5.44l.94 2.06.94-2.06 2.06-.94-2.06-.94-.94-2.06-.94 2.06-2.06.94zm-11 1L8.5 8.5l.94-2.06 2.06-.94-2.06-.94L8.5 2.5l-.94 2.06-2.06.94zm10 10l.94 2.06.94-2.06 2.06-.94-2.06-.94-.94-2.06-.94 2.06-2.06.94z\"/><path d=\"M17.41 7.96l-1.37-1.37c-.4-.4-.92-.59-1.43-.59-.52 0-1.04.2-1.43.59L10.3 9.45l-7.72 7.72c-.78.78-.78 2.05 0 2.83L4 21.41c.39.39.9.59 1.41.59.51 0 1.02-.2 1.41-.59l7.78-7.78 2.81-2.81c.8-.78.8-2.07 0-2.86zM5.41 20L4 18.59l7.72-7.72 1.47 1.35L5.41 20z\"/>\n",
              "  </svg>\n",
              "      </button>\n",
              "      \n",
              "  <style>\n",
              "    .colab-df-container {\n",
              "      display:flex;\n",
              "      flex-wrap:wrap;\n",
              "      gap: 12px;\n",
              "    }\n",
              "\n",
              "    .colab-df-convert {\n",
              "      background-color: #E8F0FE;\n",
              "      border: none;\n",
              "      border-radius: 50%;\n",
              "      cursor: pointer;\n",
              "      display: none;\n",
              "      fill: #1967D2;\n",
              "      height: 32px;\n",
              "      padding: 0 0 0 0;\n",
              "      width: 32px;\n",
              "    }\n",
              "\n",
              "    .colab-df-convert:hover {\n",
              "      background-color: #E2EBFA;\n",
              "      box-shadow: 0px 1px 2px rgba(60, 64, 67, 0.3), 0px 1px 3px 1px rgba(60, 64, 67, 0.15);\n",
              "      fill: #174EA6;\n",
              "    }\n",
              "\n",
              "    [theme=dark] .colab-df-convert {\n",
              "      background-color: #3B4455;\n",
              "      fill: #D2E3FC;\n",
              "    }\n",
              "\n",
              "    [theme=dark] .colab-df-convert:hover {\n",
              "      background-color: #434B5C;\n",
              "      box-shadow: 0px 1px 3px 1px rgba(0, 0, 0, 0.15);\n",
              "      filter: drop-shadow(0px 1px 2px rgba(0, 0, 0, 0.3));\n",
              "      fill: #FFFFFF;\n",
              "    }\n",
              "  </style>\n",
              "\n",
              "      <script>\n",
              "        const buttonEl =\n",
              "          document.querySelector('#df-12921cd7-ae97-4065-8b27-3b997e2d0939 button.colab-df-convert');\n",
              "        buttonEl.style.display =\n",
              "          google.colab.kernel.accessAllowed ? 'block' : 'none';\n",
              "\n",
              "        async function convertToInteractive(key) {\n",
              "          const element = document.querySelector('#df-12921cd7-ae97-4065-8b27-3b997e2d0939');\n",
              "          const dataTable =\n",
              "            await google.colab.kernel.invokeFunction('convertToInteractive',\n",
              "                                                     [key], {});\n",
              "          if (!dataTable) return;\n",
              "\n",
              "          const docLinkHtml = 'Like what you see? Visit the ' +\n",
              "            '<a target=\"_blank\" href=https://colab.research.google.com/notebooks/data_table.ipynb>data table notebook</a>'\n",
              "            + ' to learn more about interactive tables.';\n",
              "          element.innerHTML = '';\n",
              "          dataTable['output_type'] = 'display_data';\n",
              "          await google.colab.output.renderOutput(dataTable, element);\n",
              "          const docLink = document.createElement('div');\n",
              "          docLink.innerHTML = docLinkHtml;\n",
              "          element.appendChild(docLink);\n",
              "        }\n",
              "      </script>\n",
              "    </div>\n",
              "  </div>\n",
              "  "
            ]
          },
          "metadata": {},
          "execution_count": 2
        }
      ],
      "source": [
        "df=pd.read_csv(\"https://raw.githubusercontent.com/dphi-official/Datasets/master/liver_patient_data/indian_liver_patient_dataset.csv\")\n",
        "df.head()"
      ]
    },
    {
      "cell_type": "markdown",
      "source": [
        "# **About the dataset**\n",
        "\n",
        "This data set contains liver patient records and non liver patient records collected from North East of Andhra Pradesh, India. The \"Liver_Problem\" column is the target variable used to divide groups into liver patient ( Liver_Problem == 1) or not ( Liver_Problem == 2).\n",
        "\n",
        "Liver_Problem == 1, implies the individual is a liver patient\n",
        "\n",
        "Liver_Problem == 2, implies the individual is not a liver patient"
      ],
      "metadata": {
        "id": "EUy08ITHD9VQ"
      }
    },
    {
      "cell_type": "code",
      "source": [
        "df.columns"
      ],
      "metadata": {
        "colab": {
          "base_uri": "https://localhost:8080/"
        },
        "id": "IXfEhYPiERGQ",
        "outputId": "6e4547c2-79bf-45b6-87d0-30257bbb4c0f"
      },
      "execution_count": null,
      "outputs": [
        {
          "output_type": "execute_result",
          "data": {
            "text/plain": [
              "Index(['Age', 'Gender', 'Total_Bilirubin', 'Direct_Bilirubin',\n",
              "       'Alkaline_Phosphotase', 'Alamine_Aminotransferase',\n",
              "       'Aspartate_Aminotransferase', 'Total_Protiens', 'Albumin',\n",
              "       'Albumin_and_Globulin_Ratio', 'Liver_Problem'],\n",
              "      dtype='object')"
            ]
          },
          "metadata": {},
          "execution_count": 3
        }
      ]
    },
    {
      "cell_type": "markdown",
      "source": [
        "# **Data Description:**\n",
        "\n",
        "Age of the patient\n",
        "\n",
        "Gender of the patient\n",
        "\n",
        "Total Bilirubin\n",
        "\n",
        "Direct Bilirubin\n",
        "\n",
        "Alkaline Phosphotase\n",
        "\n",
        "Alamine Aminotransferase\n",
        "\n",
        "Aspartate Aminotransferase\n",
        "\n",
        "Total Protiens\n",
        "\n",
        "Albumin\n",
        "\n",
        "Albumin and Globulin Ratio\n",
        "\n",
        "\"Liver_Problem\" column is the target variable used to divide groups into liver patient (liver disease) or not (no disease)."
      ],
      "metadata": {
        "id": "fUienxI4EVoe"
      }
    },
    {
      "cell_type": "code",
      "execution_count": null,
      "metadata": {
        "colab": {
          "base_uri": "https://localhost:8080/"
        },
        "id": "DZSQuMdQ43jA",
        "outputId": "e67291cb-c079-4623-a03d-e38b821b7a04"
      },
      "outputs": [
        {
          "output_type": "execute_result",
          "data": {
            "text/plain": [
              "(500, 11)"
            ]
          },
          "metadata": {},
          "execution_count": 4
        }
      ],
      "source": [
        "df.shape"
      ]
    },
    {
      "cell_type": "code",
      "execution_count": null,
      "metadata": {
        "colab": {
          "base_uri": "https://localhost:8080/"
        },
        "id": "vFl1KVk847v1",
        "outputId": "882dba3e-e4a6-4bd4-cf6a-57b52a2e3d79"
      },
      "outputs": [
        {
          "output_type": "execute_result",
          "data": {
            "text/plain": [
              "5500"
            ]
          },
          "metadata": {},
          "execution_count": 5
        }
      ],
      "source": [
        "df.size"
      ]
    },
    {
      "cell_type": "markdown",
      "source": [
        "# **Data Cleaning**"
      ],
      "metadata": {
        "id": "vvso15w0EreW"
      }
    },
    {
      "cell_type": "code",
      "execution_count": null,
      "metadata": {
        "colab": {
          "base_uri": "https://localhost:8080/"
        },
        "id": "N6cHdlUM41bu",
        "outputId": "c1f35928-68cf-4e92-bf85-7cc9bb043c40"
      },
      "outputs": [
        {
          "output_type": "stream",
          "name": "stdout",
          "text": [
            "<class 'pandas.core.frame.DataFrame'>\n",
            "RangeIndex: 500 entries, 0 to 499\n",
            "Data columns (total 11 columns):\n",
            " #   Column                      Non-Null Count  Dtype  \n",
            "---  ------                      --------------  -----  \n",
            " 0   Age                         500 non-null    int64  \n",
            " 1   Gender                      500 non-null    object \n",
            " 2   Total_Bilirubin             500 non-null    float64\n",
            " 3   Direct_Bilirubin            500 non-null    float64\n",
            " 4   Alkaline_Phosphotase        500 non-null    int64  \n",
            " 5   Alamine_Aminotransferase    500 non-null    int64  \n",
            " 6   Aspartate_Aminotransferase  500 non-null    int64  \n",
            " 7   Total_Protiens              500 non-null    float64\n",
            " 8   Albumin                     500 non-null    float64\n",
            " 9   Albumin_and_Globulin_Ratio  496 non-null    float64\n",
            " 10  Liver_Problem               500 non-null    int64  \n",
            "dtypes: float64(5), int64(5), object(1)\n",
            "memory usage: 43.1+ KB\n"
          ]
        }
      ],
      "source": [
        "df.info()"
      ]
    },
    {
      "cell_type": "code",
      "execution_count": null,
      "metadata": {
        "colab": {
          "base_uri": "https://localhost:8080/"
        },
        "id": "HgP5TdqD5BYY",
        "outputId": "a46ce563-0a73-4854-a05b-13f69fc90954"
      },
      "outputs": [
        {
          "output_type": "execute_result",
          "data": {
            "text/plain": [
              "Age                           0\n",
              "Gender                        0\n",
              "Total_Bilirubin               0\n",
              "Direct_Bilirubin              0\n",
              "Alkaline_Phosphotase          0\n",
              "Alamine_Aminotransferase      0\n",
              "Aspartate_Aminotransferase    0\n",
              "Total_Protiens                0\n",
              "Albumin                       0\n",
              "Albumin_and_Globulin_Ratio    4\n",
              "Liver_Problem                 0\n",
              "dtype: int64"
            ]
          },
          "metadata": {},
          "execution_count": 7
        }
      ],
      "source": [
        "df.isna().sum()"
      ]
    },
    {
      "cell_type": "markdown",
      "source": [
        "**Albumin_and_Globulin_Ratio** has 4 Null values,where all the data has no Null value and it can be replace by its mean values"
      ],
      "metadata": {
        "id": "RaIReTtgExiu"
      }
    },
    {
      "cell_type": "code",
      "execution_count": null,
      "metadata": {
        "colab": {
          "base_uri": "https://localhost:8080/"
        },
        "id": "D5kFeCJA5Jlm",
        "outputId": "0ac32784-87a8-4721-9784-cc528d320d93"
      },
      "outputs": [
        {
          "output_type": "execute_result",
          "data": {
            "text/plain": [
              "Age                           0\n",
              "Gender                        0\n",
              "Total_Bilirubin               0\n",
              "Direct_Bilirubin              0\n",
              "Alkaline_Phosphotase          0\n",
              "Alamine_Aminotransferase      0\n",
              "Aspartate_Aminotransferase    0\n",
              "Total_Protiens                0\n",
              "Albumin                       0\n",
              "Albumin_and_Globulin_Ratio    0\n",
              "Liver_Problem                 0\n",
              "dtype: int64"
            ]
          },
          "metadata": {},
          "execution_count": 8
        }
      ],
      "source": [
        "df['Albumin_and_Globulin_Ratio'].fillna(df['Albumin_and_Globulin_Ratio'].mean(),inplace=True)\n",
        "df.isna().sum()"
      ]
    },
    {
      "cell_type": "code",
      "execution_count": null,
      "metadata": {
        "colab": {
          "base_uri": "https://localhost:8080/",
          "height": 363
        },
        "id": "qIR0E8IS5YRV",
        "outputId": "0a24a7e5-bf2f-4161-9b91-a710694a6727"
      },
      "outputs": [
        {
          "output_type": "execute_result",
          "data": {
            "text/plain": [
              "                            count        mean         std   min     25%  \\\n",
              "Age                         500.0   44.586000   16.533400   4.0   32.75   \n",
              "Total_Bilirubin             500.0    2.603800    5.120238   0.4    0.80   \n",
              "Direct_Bilirubin            500.0    1.117200    2.066709   0.1    0.20   \n",
              "Alkaline_Phosphotase        500.0  296.372000  257.461676  63.0  175.00   \n",
              "Alamine_Aminotransferase    500.0   82.736000  194.366775  10.0   23.00   \n",
              "Aspartate_Aminotransferase  500.0  108.820000  307.093557  10.0   24.75   \n",
              "Total_Protiens              500.0    6.444800    1.089020   2.7    5.70   \n",
              "Albumin                     500.0    3.168800    0.799741   0.9    2.60   \n",
              "Albumin_and_Globulin_Ratio  500.0    0.960907    0.293107   0.3    0.80   \n",
              "Liver_Problem               500.0    1.300000    0.458717   1.0    1.00   \n",
              "\n",
              "                              50%     75%     max  \n",
              "Age                          45.0   58.00    85.0  \n",
              "Total_Bilirubin               0.9    2.20    75.0  \n",
              "Direct_Bilirubin              0.3    1.00    14.2  \n",
              "Alkaline_Phosphotase        205.5  298.00  2110.0  \n",
              "Alamine_Aminotransferase     33.5   59.25  2000.0  \n",
              "Aspartate_Aminotransferase   40.0   79.25  4929.0  \n",
              "Total_Protiens                6.5    7.20     9.6  \n",
              "Albumin                       3.1    3.80     5.5  \n",
              "Albumin_and_Globulin_Ratio    1.0    1.10     1.9  \n",
              "Liver_Problem                 1.0    2.00     2.0  "
            ],
            "text/html": [
              "\n",
              "  <div id=\"df-cd2a020a-7566-4e95-98b6-74a43bf0fa04\">\n",
              "    <div class=\"colab-df-container\">\n",
              "      <div>\n",
              "<style scoped>\n",
              "    .dataframe tbody tr th:only-of-type {\n",
              "        vertical-align: middle;\n",
              "    }\n",
              "\n",
              "    .dataframe tbody tr th {\n",
              "        vertical-align: top;\n",
              "    }\n",
              "\n",
              "    .dataframe thead th {\n",
              "        text-align: right;\n",
              "    }\n",
              "</style>\n",
              "<table border=\"1\" class=\"dataframe\">\n",
              "  <thead>\n",
              "    <tr style=\"text-align: right;\">\n",
              "      <th></th>\n",
              "      <th>count</th>\n",
              "      <th>mean</th>\n",
              "      <th>std</th>\n",
              "      <th>min</th>\n",
              "      <th>25%</th>\n",
              "      <th>50%</th>\n",
              "      <th>75%</th>\n",
              "      <th>max</th>\n",
              "    </tr>\n",
              "  </thead>\n",
              "  <tbody>\n",
              "    <tr>\n",
              "      <th>Age</th>\n",
              "      <td>500.0</td>\n",
              "      <td>44.586000</td>\n",
              "      <td>16.533400</td>\n",
              "      <td>4.0</td>\n",
              "      <td>32.75</td>\n",
              "      <td>45.0</td>\n",
              "      <td>58.00</td>\n",
              "      <td>85.0</td>\n",
              "    </tr>\n",
              "    <tr>\n",
              "      <th>Total_Bilirubin</th>\n",
              "      <td>500.0</td>\n",
              "      <td>2.603800</td>\n",
              "      <td>5.120238</td>\n",
              "      <td>0.4</td>\n",
              "      <td>0.80</td>\n",
              "      <td>0.9</td>\n",
              "      <td>2.20</td>\n",
              "      <td>75.0</td>\n",
              "    </tr>\n",
              "    <tr>\n",
              "      <th>Direct_Bilirubin</th>\n",
              "      <td>500.0</td>\n",
              "      <td>1.117200</td>\n",
              "      <td>2.066709</td>\n",
              "      <td>0.1</td>\n",
              "      <td>0.20</td>\n",
              "      <td>0.3</td>\n",
              "      <td>1.00</td>\n",
              "      <td>14.2</td>\n",
              "    </tr>\n",
              "    <tr>\n",
              "      <th>Alkaline_Phosphotase</th>\n",
              "      <td>500.0</td>\n",
              "      <td>296.372000</td>\n",
              "      <td>257.461676</td>\n",
              "      <td>63.0</td>\n",
              "      <td>175.00</td>\n",
              "      <td>205.5</td>\n",
              "      <td>298.00</td>\n",
              "      <td>2110.0</td>\n",
              "    </tr>\n",
              "    <tr>\n",
              "      <th>Alamine_Aminotransferase</th>\n",
              "      <td>500.0</td>\n",
              "      <td>82.736000</td>\n",
              "      <td>194.366775</td>\n",
              "      <td>10.0</td>\n",
              "      <td>23.00</td>\n",
              "      <td>33.5</td>\n",
              "      <td>59.25</td>\n",
              "      <td>2000.0</td>\n",
              "    </tr>\n",
              "    <tr>\n",
              "      <th>Aspartate_Aminotransferase</th>\n",
              "      <td>500.0</td>\n",
              "      <td>108.820000</td>\n",
              "      <td>307.093557</td>\n",
              "      <td>10.0</td>\n",
              "      <td>24.75</td>\n",
              "      <td>40.0</td>\n",
              "      <td>79.25</td>\n",
              "      <td>4929.0</td>\n",
              "    </tr>\n",
              "    <tr>\n",
              "      <th>Total_Protiens</th>\n",
              "      <td>500.0</td>\n",
              "      <td>6.444800</td>\n",
              "      <td>1.089020</td>\n",
              "      <td>2.7</td>\n",
              "      <td>5.70</td>\n",
              "      <td>6.5</td>\n",
              "      <td>7.20</td>\n",
              "      <td>9.6</td>\n",
              "    </tr>\n",
              "    <tr>\n",
              "      <th>Albumin</th>\n",
              "      <td>500.0</td>\n",
              "      <td>3.168800</td>\n",
              "      <td>0.799741</td>\n",
              "      <td>0.9</td>\n",
              "      <td>2.60</td>\n",
              "      <td>3.1</td>\n",
              "      <td>3.80</td>\n",
              "      <td>5.5</td>\n",
              "    </tr>\n",
              "    <tr>\n",
              "      <th>Albumin_and_Globulin_Ratio</th>\n",
              "      <td>500.0</td>\n",
              "      <td>0.960907</td>\n",
              "      <td>0.293107</td>\n",
              "      <td>0.3</td>\n",
              "      <td>0.80</td>\n",
              "      <td>1.0</td>\n",
              "      <td>1.10</td>\n",
              "      <td>1.9</td>\n",
              "    </tr>\n",
              "    <tr>\n",
              "      <th>Liver_Problem</th>\n",
              "      <td>500.0</td>\n",
              "      <td>1.300000</td>\n",
              "      <td>0.458717</td>\n",
              "      <td>1.0</td>\n",
              "      <td>1.00</td>\n",
              "      <td>1.0</td>\n",
              "      <td>2.00</td>\n",
              "      <td>2.0</td>\n",
              "    </tr>\n",
              "  </tbody>\n",
              "</table>\n",
              "</div>\n",
              "      <button class=\"colab-df-convert\" onclick=\"convertToInteractive('df-cd2a020a-7566-4e95-98b6-74a43bf0fa04')\"\n",
              "              title=\"Convert this dataframe to an interactive table.\"\n",
              "              style=\"display:none;\">\n",
              "        \n",
              "  <svg xmlns=\"http://www.w3.org/2000/svg\" height=\"24px\"viewBox=\"0 0 24 24\"\n",
              "       width=\"24px\">\n",
              "    <path d=\"M0 0h24v24H0V0z\" fill=\"none\"/>\n",
              "    <path d=\"M18.56 5.44l.94 2.06.94-2.06 2.06-.94-2.06-.94-.94-2.06-.94 2.06-2.06.94zm-11 1L8.5 8.5l.94-2.06 2.06-.94-2.06-.94L8.5 2.5l-.94 2.06-2.06.94zm10 10l.94 2.06.94-2.06 2.06-.94-2.06-.94-.94-2.06-.94 2.06-2.06.94z\"/><path d=\"M17.41 7.96l-1.37-1.37c-.4-.4-.92-.59-1.43-.59-.52 0-1.04.2-1.43.59L10.3 9.45l-7.72 7.72c-.78.78-.78 2.05 0 2.83L4 21.41c.39.39.9.59 1.41.59.51 0 1.02-.2 1.41-.59l7.78-7.78 2.81-2.81c.8-.78.8-2.07 0-2.86zM5.41 20L4 18.59l7.72-7.72 1.47 1.35L5.41 20z\"/>\n",
              "  </svg>\n",
              "      </button>\n",
              "      \n",
              "  <style>\n",
              "    .colab-df-container {\n",
              "      display:flex;\n",
              "      flex-wrap:wrap;\n",
              "      gap: 12px;\n",
              "    }\n",
              "\n",
              "    .colab-df-convert {\n",
              "      background-color: #E8F0FE;\n",
              "      border: none;\n",
              "      border-radius: 50%;\n",
              "      cursor: pointer;\n",
              "      display: none;\n",
              "      fill: #1967D2;\n",
              "      height: 32px;\n",
              "      padding: 0 0 0 0;\n",
              "      width: 32px;\n",
              "    }\n",
              "\n",
              "    .colab-df-convert:hover {\n",
              "      background-color: #E2EBFA;\n",
              "      box-shadow: 0px 1px 2px rgba(60, 64, 67, 0.3), 0px 1px 3px 1px rgba(60, 64, 67, 0.15);\n",
              "      fill: #174EA6;\n",
              "    }\n",
              "\n",
              "    [theme=dark] .colab-df-convert {\n",
              "      background-color: #3B4455;\n",
              "      fill: #D2E3FC;\n",
              "    }\n",
              "\n",
              "    [theme=dark] .colab-df-convert:hover {\n",
              "      background-color: #434B5C;\n",
              "      box-shadow: 0px 1px 3px 1px rgba(0, 0, 0, 0.15);\n",
              "      filter: drop-shadow(0px 1px 2px rgba(0, 0, 0, 0.3));\n",
              "      fill: #FFFFFF;\n",
              "    }\n",
              "  </style>\n",
              "\n",
              "      <script>\n",
              "        const buttonEl =\n",
              "          document.querySelector('#df-cd2a020a-7566-4e95-98b6-74a43bf0fa04 button.colab-df-convert');\n",
              "        buttonEl.style.display =\n",
              "          google.colab.kernel.accessAllowed ? 'block' : 'none';\n",
              "\n",
              "        async function convertToInteractive(key) {\n",
              "          const element = document.querySelector('#df-cd2a020a-7566-4e95-98b6-74a43bf0fa04');\n",
              "          const dataTable =\n",
              "            await google.colab.kernel.invokeFunction('convertToInteractive',\n",
              "                                                     [key], {});\n",
              "          if (!dataTable) return;\n",
              "\n",
              "          const docLinkHtml = 'Like what you see? Visit the ' +\n",
              "            '<a target=\"_blank\" href=https://colab.research.google.com/notebooks/data_table.ipynb>data table notebook</a>'\n",
              "            + ' to learn more about interactive tables.';\n",
              "          element.innerHTML = '';\n",
              "          dataTable['output_type'] = 'display_data';\n",
              "          await google.colab.output.renderOutput(dataTable, element);\n",
              "          const docLink = document.createElement('div');\n",
              "          docLink.innerHTML = docLinkHtml;\n",
              "          element.appendChild(docLink);\n",
              "        }\n",
              "      </script>\n",
              "    </div>\n",
              "  </div>\n",
              "  "
            ]
          },
          "metadata": {},
          "execution_count": 9
        }
      ],
      "source": [
        "df.describe().transpose()"
      ]
    },
    {
      "cell_type": "markdown",
      "source": [
        "# **Calcuating the value counts of liver problem **\n",
        "\n",
        "in this data is 150 people didn't have liver problems and 350 people has liver problems out of 500 people"
      ],
      "metadata": {
        "id": "HQ8CoODNFIs8"
      }
    },
    {
      "cell_type": "code",
      "execution_count": null,
      "metadata": {
        "colab": {
          "base_uri": "https://localhost:8080/"
        },
        "id": "RnlMvrhZ5pEF",
        "outputId": "9fecec44-173f-4c63-dac3-c09bf0ddc988"
      },
      "outputs": [
        {
          "output_type": "execute_result",
          "data": {
            "text/plain": [
              "1    350\n",
              "2    150\n",
              "Name: Liver_Problem, dtype: int64"
            ]
          },
          "metadata": {},
          "execution_count": 10
        }
      ],
      "source": [
        "df.Liver_Problem.value_counts()"
      ]
    },
    {
      "cell_type": "markdown",
      "source": [
        "# **Data Analysis & Visualization**"
      ],
      "metadata": {
        "id": "kT75us7MH_H9"
      }
    },
    {
      "cell_type": "code",
      "execution_count": null,
      "metadata": {
        "id": "tBOAE9Yq-lgn"
      },
      "outputs": [],
      "source": [
        "palette = {1: '#ff00a5', 2: '#4cff00'}"
      ]
    },
    {
      "cell_type": "markdown",
      "source": [
        "**The below pie chart represents that the color red the area shows the liver problem having max number of people**"
      ],
      "metadata": {
        "id": "TDLKIAPPF13V"
      }
    },
    {
      "cell_type": "code",
      "execution_count": null,
      "metadata": {
        "colab": {
          "base_uri": "https://localhost:8080/",
          "height": 529
        },
        "id": "onNbb_Dq6Bge",
        "outputId": "5953ae54-26fb-4e18-b7fd-f0d7759526bd"
      },
      "outputs": [
        {
          "output_type": "display_data",
          "data": {
            "text/html": [
              "<html>\n",
              "<head><meta charset=\"utf-8\" /></head>\n",
              "<body>\n",
              "    <div>            <script src=\"https://cdnjs.cloudflare.com/ajax/libs/mathjax/2.7.5/MathJax.js?config=TeX-AMS-MML_SVG\"></script><script type=\"text/javascript\">if (window.MathJax) {MathJax.Hub.Config({SVG: {font: \"STIX-Web\"}});}</script>                <script type=\"text/javascript\">window.PlotlyConfig = {MathJaxConfig: 'local'};</script>\n",
              "        <script src=\"https://cdn.plot.ly/plotly-2.8.3.min.js\"></script>                <div id=\"75a40b97-3b2c-43a6-88a7-3f8899436e95\" class=\"plotly-graph-div\" style=\"height:512px; width:768px;\"></div>            <script type=\"text/javascript\">                                    window.PLOTLYENV=window.PLOTLYENV || {};                                    if (document.getElementById(\"75a40b97-3b2c-43a6-88a7-3f8899436e95\")) {                    Plotly.newPlot(                        \"75a40b97-3b2c-43a6-88a7-3f8899436e95\",                        [{\"labels\":[1,2],\"marker\":{\"colors\":[\"#ff00a5\",\"#4cff00\"],\"line\":{\"color\":\"#000000\",\"width\":1}},\"values\":[350,150],\"type\":\"pie\",\"title\":{\"font\":{\"size\":20}},\"textfont\":{\"size\":16}}],                        {\"template\":{\"data\":{\"bar\":[{\"error_x\":{\"color\":\"#2a3f5f\"},\"error_y\":{\"color\":\"#2a3f5f\"},\"marker\":{\"line\":{\"color\":\"#E5ECF6\",\"width\":0.5},\"pattern\":{\"fillmode\":\"overlay\",\"size\":10,\"solidity\":0.2}},\"type\":\"bar\"}],\"barpolar\":[{\"marker\":{\"line\":{\"color\":\"#E5ECF6\",\"width\":0.5},\"pattern\":{\"fillmode\":\"overlay\",\"size\":10,\"solidity\":0.2}},\"type\":\"barpolar\"}],\"carpet\":[{\"aaxis\":{\"endlinecolor\":\"#2a3f5f\",\"gridcolor\":\"white\",\"linecolor\":\"white\",\"minorgridcolor\":\"white\",\"startlinecolor\":\"#2a3f5f\"},\"baxis\":{\"endlinecolor\":\"#2a3f5f\",\"gridcolor\":\"white\",\"linecolor\":\"white\",\"minorgridcolor\":\"white\",\"startlinecolor\":\"#2a3f5f\"},\"type\":\"carpet\"}],\"choropleth\":[{\"colorbar\":{\"outlinewidth\":0,\"ticks\":\"\"},\"type\":\"choropleth\"}],\"contour\":[{\"colorbar\":{\"outlinewidth\":0,\"ticks\":\"\"},\"colorscale\":[[0.0,\"#0d0887\"],[0.1111111111111111,\"#46039f\"],[0.2222222222222222,\"#7201a8\"],[0.3333333333333333,\"#9c179e\"],[0.4444444444444444,\"#bd3786\"],[0.5555555555555556,\"#d8576b\"],[0.6666666666666666,\"#ed7953\"],[0.7777777777777778,\"#fb9f3a\"],[0.8888888888888888,\"#fdca26\"],[1.0,\"#f0f921\"]],\"type\":\"contour\"}],\"contourcarpet\":[{\"colorbar\":{\"outlinewidth\":0,\"ticks\":\"\"},\"type\":\"contourcarpet\"}],\"heatmap\":[{\"colorbar\":{\"outlinewidth\":0,\"ticks\":\"\"},\"colorscale\":[[0.0,\"#0d0887\"],[0.1111111111111111,\"#46039f\"],[0.2222222222222222,\"#7201a8\"],[0.3333333333333333,\"#9c179e\"],[0.4444444444444444,\"#bd3786\"],[0.5555555555555556,\"#d8576b\"],[0.6666666666666666,\"#ed7953\"],[0.7777777777777778,\"#fb9f3a\"],[0.8888888888888888,\"#fdca26\"],[1.0,\"#f0f921\"]],\"type\":\"heatmap\"}],\"heatmapgl\":[{\"colorbar\":{\"outlinewidth\":0,\"ticks\":\"\"},\"colorscale\":[[0.0,\"#0d0887\"],[0.1111111111111111,\"#46039f\"],[0.2222222222222222,\"#7201a8\"],[0.3333333333333333,\"#9c179e\"],[0.4444444444444444,\"#bd3786\"],[0.5555555555555556,\"#d8576b\"],[0.6666666666666666,\"#ed7953\"],[0.7777777777777778,\"#fb9f3a\"],[0.8888888888888888,\"#fdca26\"],[1.0,\"#f0f921\"]],\"type\":\"heatmapgl\"}],\"histogram\":[{\"marker\":{\"pattern\":{\"fillmode\":\"overlay\",\"size\":10,\"solidity\":0.2}},\"type\":\"histogram\"}],\"histogram2d\":[{\"colorbar\":{\"outlinewidth\":0,\"ticks\":\"\"},\"colorscale\":[[0.0,\"#0d0887\"],[0.1111111111111111,\"#46039f\"],[0.2222222222222222,\"#7201a8\"],[0.3333333333333333,\"#9c179e\"],[0.4444444444444444,\"#bd3786\"],[0.5555555555555556,\"#d8576b\"],[0.6666666666666666,\"#ed7953\"],[0.7777777777777778,\"#fb9f3a\"],[0.8888888888888888,\"#fdca26\"],[1.0,\"#f0f921\"]],\"type\":\"histogram2d\"}],\"histogram2dcontour\":[{\"colorbar\":{\"outlinewidth\":0,\"ticks\":\"\"},\"colorscale\":[[0.0,\"#0d0887\"],[0.1111111111111111,\"#46039f\"],[0.2222222222222222,\"#7201a8\"],[0.3333333333333333,\"#9c179e\"],[0.4444444444444444,\"#bd3786\"],[0.5555555555555556,\"#d8576b\"],[0.6666666666666666,\"#ed7953\"],[0.7777777777777778,\"#fb9f3a\"],[0.8888888888888888,\"#fdca26\"],[1.0,\"#f0f921\"]],\"type\":\"histogram2dcontour\"}],\"mesh3d\":[{\"colorbar\":{\"outlinewidth\":0,\"ticks\":\"\"},\"type\":\"mesh3d\"}],\"parcoords\":[{\"line\":{\"colorbar\":{\"outlinewidth\":0,\"ticks\":\"\"}},\"type\":\"parcoords\"}],\"pie\":[{\"automargin\":true,\"type\":\"pie\"}],\"scatter\":[{\"marker\":{\"colorbar\":{\"outlinewidth\":0,\"ticks\":\"\"}},\"type\":\"scatter\"}],\"scatter3d\":[{\"line\":{\"colorbar\":{\"outlinewidth\":0,\"ticks\":\"\"}},\"marker\":{\"colorbar\":{\"outlinewidth\":0,\"ticks\":\"\"}},\"type\":\"scatter3d\"}],\"scattercarpet\":[{\"marker\":{\"colorbar\":{\"outlinewidth\":0,\"ticks\":\"\"}},\"type\":\"scattercarpet\"}],\"scattergeo\":[{\"marker\":{\"colorbar\":{\"outlinewidth\":0,\"ticks\":\"\"}},\"type\":\"scattergeo\"}],\"scattergl\":[{\"marker\":{\"colorbar\":{\"outlinewidth\":0,\"ticks\":\"\"}},\"type\":\"scattergl\"}],\"scattermapbox\":[{\"marker\":{\"colorbar\":{\"outlinewidth\":0,\"ticks\":\"\"}},\"type\":\"scattermapbox\"}],\"scatterpolar\":[{\"marker\":{\"colorbar\":{\"outlinewidth\":0,\"ticks\":\"\"}},\"type\":\"scatterpolar\"}],\"scatterpolargl\":[{\"marker\":{\"colorbar\":{\"outlinewidth\":0,\"ticks\":\"\"}},\"type\":\"scatterpolargl\"}],\"scatterternary\":[{\"marker\":{\"colorbar\":{\"outlinewidth\":0,\"ticks\":\"\"}},\"type\":\"scatterternary\"}],\"surface\":[{\"colorbar\":{\"outlinewidth\":0,\"ticks\":\"\"},\"colorscale\":[[0.0,\"#0d0887\"],[0.1111111111111111,\"#46039f\"],[0.2222222222222222,\"#7201a8\"],[0.3333333333333333,\"#9c179e\"],[0.4444444444444444,\"#bd3786\"],[0.5555555555555556,\"#d8576b\"],[0.6666666666666666,\"#ed7953\"],[0.7777777777777778,\"#fb9f3a\"],[0.8888888888888888,\"#fdca26\"],[1.0,\"#f0f921\"]],\"type\":\"surface\"}],\"table\":[{\"cells\":{\"fill\":{\"color\":\"#EBF0F8\"},\"line\":{\"color\":\"white\"}},\"header\":{\"fill\":{\"color\":\"#C8D4E3\"},\"line\":{\"color\":\"white\"}},\"type\":\"table\"}]},\"layout\":{\"annotationdefaults\":{\"arrowcolor\":\"#2a3f5f\",\"arrowhead\":0,\"arrowwidth\":1},\"autotypenumbers\":\"strict\",\"coloraxis\":{\"colorbar\":{\"outlinewidth\":0,\"ticks\":\"\"}},\"colorscale\":{\"diverging\":[[0,\"#8e0152\"],[0.1,\"#c51b7d\"],[0.2,\"#de77ae\"],[0.3,\"#f1b6da\"],[0.4,\"#fde0ef\"],[0.5,\"#f7f7f7\"],[0.6,\"#e6f5d0\"],[0.7,\"#b8e186\"],[0.8,\"#7fbc41\"],[0.9,\"#4d9221\"],[1,\"#276419\"]],\"sequential\":[[0.0,\"#0d0887\"],[0.1111111111111111,\"#46039f\"],[0.2222222222222222,\"#7201a8\"],[0.3333333333333333,\"#9c179e\"],[0.4444444444444444,\"#bd3786\"],[0.5555555555555556,\"#d8576b\"],[0.6666666666666666,\"#ed7953\"],[0.7777777777777778,\"#fb9f3a\"],[0.8888888888888888,\"#fdca26\"],[1.0,\"#f0f921\"]],\"sequentialminus\":[[0.0,\"#0d0887\"],[0.1111111111111111,\"#46039f\"],[0.2222222222222222,\"#7201a8\"],[0.3333333333333333,\"#9c179e\"],[0.4444444444444444,\"#bd3786\"],[0.5555555555555556,\"#d8576b\"],[0.6666666666666666,\"#ed7953\"],[0.7777777777777778,\"#fb9f3a\"],[0.8888888888888888,\"#fdca26\"],[1.0,\"#f0f921\"]]},\"colorway\":[\"#636efa\",\"#EF553B\",\"#00cc96\",\"#ab63fa\",\"#FFA15A\",\"#19d3f3\",\"#FF6692\",\"#B6E880\",\"#FF97FF\",\"#FECB52\"],\"font\":{\"color\":\"#2a3f5f\"},\"geo\":{\"bgcolor\":\"white\",\"lakecolor\":\"white\",\"landcolor\":\"#E5ECF6\",\"showlakes\":true,\"showland\":true,\"subunitcolor\":\"white\"},\"hoverlabel\":{\"align\":\"left\"},\"hovermode\":\"closest\",\"mapbox\":{\"style\":\"light\"},\"paper_bgcolor\":\"white\",\"plot_bgcolor\":\"#E5ECF6\",\"polar\":{\"angularaxis\":{\"gridcolor\":\"white\",\"linecolor\":\"white\",\"ticks\":\"\"},\"bgcolor\":\"#E5ECF6\",\"radialaxis\":{\"gridcolor\":\"white\",\"linecolor\":\"white\",\"ticks\":\"\"}},\"scene\":{\"xaxis\":{\"backgroundcolor\":\"#E5ECF6\",\"gridcolor\":\"white\",\"gridwidth\":2,\"linecolor\":\"white\",\"showbackground\":true,\"ticks\":\"\",\"zerolinecolor\":\"white\"},\"yaxis\":{\"backgroundcolor\":\"#E5ECF6\",\"gridcolor\":\"white\",\"gridwidth\":2,\"linecolor\":\"white\",\"showbackground\":true,\"ticks\":\"\",\"zerolinecolor\":\"white\"},\"zaxis\":{\"backgroundcolor\":\"#E5ECF6\",\"gridcolor\":\"white\",\"gridwidth\":2,\"linecolor\":\"white\",\"showbackground\":true,\"ticks\":\"\",\"zerolinecolor\":\"white\"}},\"shapedefaults\":{\"line\":{\"color\":\"#2a3f5f\"}},\"ternary\":{\"aaxis\":{\"gridcolor\":\"white\",\"linecolor\":\"white\",\"ticks\":\"\"},\"baxis\":{\"gridcolor\":\"white\",\"linecolor\":\"white\",\"ticks\":\"\"},\"bgcolor\":\"#E5ECF6\",\"caxis\":{\"gridcolor\":\"white\",\"linecolor\":\"white\",\"ticks\":\"\"}},\"title\":{\"x\":0.05},\"xaxis\":{\"automargin\":true,\"gridcolor\":\"white\",\"linecolor\":\"white\",\"ticks\":\"\",\"title\":{\"standoff\":15},\"zerolinecolor\":\"white\",\"zerolinewidth\":2},\"yaxis\":{\"automargin\":true,\"gridcolor\":\"white\",\"linecolor\":\"white\",\"ticks\":\"\",\"title\":{\"standoff\":15},\"zerolinecolor\":\"white\",\"zerolinewidth\":2}}},\"title\":{\"text\":\"Frequency of Liver\"},\"width\":768,\"height\":512},                        {\"responsive\": true}                    ).then(function(){\n",
              "                            \n",
              "var gd = document.getElementById('75a40b97-3b2c-43a6-88a7-3f8899436e95');\n",
              "var x = new MutationObserver(function (mutations, observer) {{\n",
              "        var display = window.getComputedStyle(gd).display;\n",
              "        if (!display || display === 'none') {{\n",
              "            console.log([gd, 'removed!']);\n",
              "            Plotly.purge(gd);\n",
              "            observer.disconnect();\n",
              "        }}\n",
              "}});\n",
              "\n",
              "// Listen for the removal of the full notebook cells\n",
              "var notebookContainer = gd.closest('#notebook-container');\n",
              "if (notebookContainer) {{\n",
              "    x.observe(notebookContainer, {childList: true});\n",
              "}}\n",
              "\n",
              "// Listen for the clearing of the current output cell\n",
              "var outputEl = gd.closest('.output');\n",
              "if (outputEl) {{\n",
              "    x.observe(outputEl, {childList: true});\n",
              "}}\n",
              "\n",
              "                        })                };                            </script>        </div>\n",
              "</body>\n",
              "</html>"
            ]
          },
          "metadata": {}
        }
      ],
      "source": [
        "livProb = df['Liver_Problem'].value_counts()\n",
        "\n",
        "fig = go.Figure()\n",
        "fig.add_pie(labels=livProb.index, values=livProb.values, marker={'colors': list(palette.values())})\n",
        "fig.update_layout(title='Frequency of Liver', width=768, height=512)\n",
        "fig.update_traces(titlefont_size=20, textfont_size=16, marker=dict(line=dict(color='#000000', width=1)))\n",
        "fig.show()"
      ]
    },
    {
      "cell_type": "markdown",
      "source": [
        "# **Here the age can be categorized into 6 categories**\n",
        "\n",
        "Toddler= 0 - 4\n",
        "\n",
        "Child= 5 - 12\n",
        "\n",
        "Young= 12 - 17\n",
        "\n",
        "Young Adult= 18 - 25\n",
        "\n",
        "Adult= 26 - 45\n",
        "\n",
        "Old>= 46"
      ],
      "metadata": {
        "id": "6vFWnjAXGLNb"
      }
    },
    {
      "cell_type": "code",
      "execution_count": null,
      "metadata": {
        "colab": {
          "base_uri": "https://localhost:8080/"
        },
        "id": "tJ4mPHDH_Shc",
        "outputId": "098d5746-cdaa-46c7-f3a5-4f9990b07182"
      },
      "outputs": [
        {
          "output_type": "execute_result",
          "data": {
            "text/plain": [
              "0              Old\n",
              "1              Old\n",
              "2              Old\n",
              "3              Old\n",
              "4              Old\n",
              "          ...     \n",
              "495          Adult\n",
              "496    Young Adult\n",
              "497            Old\n",
              "498            Old\n",
              "499            Old\n",
              "Name: Age, Length: 500, dtype: category\n",
              "Categories (6, object): ['Toddler' < 'Child' < 'Young' < 'Young Adult' < 'Adult' < 'Old']"
            ]
          },
          "metadata": {},
          "execution_count": 13
        }
      ],
      "source": [
        "bins= [0, 5, 12, 18, 26, 46, df['Age'].max()+1]\n",
        "labels = ['Toddler', 'Child', 'Young', 'Young Adult', 'Adult', 'Old']\n",
        "df['Age'] = pd.cut(df['Age'], bins=bins, labels=labels, right=False)\n",
        "df['Age']"
      ]
    },
    {
      "cell_type": "markdown",
      "source": [
        "**BELOW BAR CHART SHOWS RELATION BETWEEN THE LIVER_PROBLEMS BASED ON AGE**\n",
        "\n",
        "**THE YOUNG ADULT,ADULT AND  OLD AGE PEOPLE HAS MORE LIVER PROBLEMS**"
      ],
      "metadata": {
        "id": "-GbYBlC_LQIr"
      }
    },
    {
      "cell_type": "code",
      "execution_count": null,
      "metadata": {
        "colab": {
          "base_uri": "https://localhost:8080/"
        },
        "id": "donbT9Qv-pTS",
        "outputId": "7ec9d8ba-7d49-4463-8472-0b9f718fb1cd"
      },
      "outputs": [
        {
          "output_type": "display_data",
          "data": {
            "text/plain": [
              "<Figure size 1152x432 with 2 Axes>"
            ],
            "image/png": "[encoded data removed]"
          },
          "metadata": {
            "needs_background": "light"
          }
        }
      ],
      "source": [
        "fig, ax = plt.subplots(1, 2, figsize=(16, 6), sharey=True)\n",
        "\n",
        "for i, gen in enumerate(['Male', 'Female']):\n",
        "    agesNliver = df[(df['Liver_Problem'] == 2) & (df['Gender'] == gen)]['Age'].value_counts(sort=False)\n",
        "    agesYliver = df[(df['Liver_Problem'] == 1) & (df['Gender'] == gen)]['Age'].value_counts(sort=False)\n",
        "\n",
        "    ax[i].bar(agesNliver.index, agesNliver.values, label='Not Liver', color=palette[2])\n",
        "    ax[i].bar(agesYliver.index, agesYliver.values, label='Liver', color=palette[1])\n",
        "\n",
        "    ax[i].set_ylabel('Count')\n",
        "    ax[i].set_title(f'Amount of liver based on age - {gen}')\n",
        "    ax[i].legend()\n",
        "\n",
        "plt.show()"
      ]
    },
    {
      "cell_type": "markdown",
      "source": [
        "**PLOT SHOWS THAT THE LIVER PROBLEM INCREASE WITH INCREASE IN TOTAL_BILIRUBIN VALUE BILIRUBIN VALUE >10 THE LIVER PROBLEM IS MUCH MORE**"
      ],
      "metadata": {
        "id": "mE-k75ZvKpxD"
      }
    },
    {
      "cell_type": "code",
      "execution_count": null,
      "metadata": {
        "colab": {
          "base_uri": "https://localhost:8080/"
        },
        "id": "JCwmCJxq_YeE",
        "outputId": "643b4bb6-0358-43a3-9e50-bfc2015c521d"
      },
      "outputs": [
        {
          "output_type": "display_data",
          "data": {
            "text/plain": [
              "<Figure size 1152x432 with 1 Axes>"
            ],
            "image/png": "[encoded data removed]"
          },
          "metadata": {
            "needs_background": "light"
          }
        }
      ],
      "source": [
        "fig = plt.figure(figsize=(16, 6))\n",
        "sns.scatterplot(x='Direct_Bilirubin', y='Total_Bilirubin', hue='Liver_Problem', data=df, palette=palette)\n",
        "plt.show()"
      ]
    },
    {
      "cell_type": "markdown",
      "source": [
        "**PLOT SHOWS THAT THE LIVER PROBLEM INCREASE WITH INCREASE IN TOTAL_BILIRUBIN VALUE AND DIRECT_BULIRUBIN\n",
        "VALUE >6**\n",
        "\n",
        "**THE LIVER PROBLEM IS MUCH MORE**"
      ],
      "metadata": {
        "id": "mOuWJJCGJ21F"
      }
    },
    {
      "cell_type": "code",
      "execution_count": null,
      "metadata": {
        "colab": {
          "base_uri": "https://localhost:8080/"
        },
        "id": "GsuttWsi_m3T",
        "outputId": "4540c77f-b441-4f7d-9077-413d46601ee4"
      },
      "outputs": [
        {
          "output_type": "execute_result",
          "data": {
            "text/plain": [
              "<seaborn.axisgrid.JointGrid at 0x7fec3ba884d0>"
            ]
          },
          "metadata": {},
          "execution_count": 16
        },
        {
          "output_type": "display_data",
          "data": {
            "text/plain": [
              "<Figure size 432x432 with 3 Axes>"
            ],
            "image/png": "[encoded data removed]"
          },
          "metadata": {
            "needs_background": "light"
          }
        }
      ],
      "source": [
        "sns.jointplot(x='Liver_Problem',y=\"Total_Bilirubin\",data=df)"
      ]
    },
    {
      "cell_type": "markdown",
      "source": [
        "**dISPLOT SHOWS THE RELATION BETWEEN TOTAL PROTIENS AND LIVER PROBLEMS**\n",
        "\n",
        "THE GRAPH SHOWS IF THE TOTAL PROTIEN LEVEL IS 3 AND LESS THERE IS LIVER PROBLEMS AND IF THE PROTIEN LEVEL IS GREATER THAN 8 LIVER PROBLEM IS MORE"
      ],
      "metadata": {
        "id": "28g2VzZoIzUd"
      }
    },
    {
      "cell_type": "code",
      "source": [
        "fig = plt.figure(figsize=(16, 6))\n",
        "sns.scatterplot(x='Liver_Problem', y='Total_Protiens', data=df)\n",
        "plt.show()"
      ],
      "metadata": {
        "colab": {
          "base_uri": "https://localhost:8080/"
        },
        "id": "r8nTMvT52qt1",
        "outputId": "7e168ba6-7867-4980-cb5d-38360ad31e74"
      },
      "execution_count": null,
      "outputs": [
        {
          "output_type": "display_data",
          "data": {
            "text/plain": [
              "<Figure size 1152x432 with 1 Axes>"
            ],
            "image/png": "[encoded data removed]"
          },
          "metadata": {
            "needs_background": "light"
          }
        }
      ]
    },
    {
      "cell_type": "markdown",
      "source": [
        "# **DATA PREPROCESSING**"
      ],
      "metadata": {
        "id": "gvNvGKWQOHqi"
      }
    },
    {
      "cell_type": "code",
      "source": [
        "df = df[df['Direct_Bilirubin'] < df['Total_Bilirubin']]\n",
        "df = df[df['Total_Bilirubin'] < 70]\n",
        "df = df[df['Aspartate_Aminotransferase'] < 4000]\n",
        "df = df[df['Alamine_Aminotransferase'] < 1900]"
      ],
      "metadata": {
        "id": "a_2sKgPc4AY_"
      },
      "execution_count": null,
      "outputs": []
    },
    {
      "cell_type": "code",
      "source": [
        "df.shape"
      ],
      "metadata": {
        "colab": {
          "base_uri": "https://localhost:8080/"
        },
        "id": "thDyS2iz4PoU",
        "outputId": "2a8a635b-2ec3-4be3-e69f-ca5ebf67a5dc"
      },
      "execution_count": null,
      "outputs": [
        {
          "output_type": "execute_result",
          "data": {
            "text/plain": [
              "(494, 11)"
            ]
          },
          "metadata": {},
          "execution_count": 19
        }
      ]
    },
    {
      "cell_type": "code",
      "source": [
        "df.reset_index(drop=True,inplace=True)"
      ],
      "metadata": {
        "id": "GlnjXnuy4Ss1"
      },
      "execution_count": null,
      "outputs": []
    },
    {
      "cell_type": "markdown",
      "source": [
        "# **FEATURE ENGINEERING**"
      ],
      "metadata": {
        "id": "YrogS-jpIrat"
      }
    },
    {
      "cell_type": "code",
      "source": [
        "y=df['Liver_Problem']\n",
        "x=df.drop(columns='Liver_Problem')"
      ],
      "metadata": {
        "id": "q3vZqTsI4c18"
      },
      "execution_count": null,
      "outputs": []
    },
    {
      "cell_type": "code",
      "source": [
        "def datacols(x):\n",
        "  numgender=x[\"Gender\"].replace({\"Male\":1,\"Female\":0})\n",
        "  numage=pd.get_dummies(x['Age'])\n",
        "  from sklearn.preprocessing import StandardScaler\n",
        "  numVar=x.drop(columns=['Age','Gender'])\n",
        "  ss=StandardScaler()\n",
        "  numVar = pd.DataFrame(ss.fit_transform(numVar), columns=numVar.columns)\n",
        "\n",
        "  return pd.concat([numgender,numage,numVar],axis=1,join=\"inner\")"
      ],
      "metadata": {
        "id": "ecJpYmnj44A6"
      },
      "execution_count": null,
      "outputs": []
    },
    {
      "cell_type": "code",
      "source": [
        "x=datacols(x)"
      ],
      "metadata": {
        "id": "4TR0BPp044EW"
      },
      "execution_count": null,
      "outputs": []
    },
    {
      "cell_type": "markdown",
      "source": [
        "# **PROCESSING THE MODEL**"
      ],
      "metadata": {
        "id": "9BQqWGh0OTOK"
      }
    },
    {
      "cell_type": "code",
      "source": [
        "from sklearn.linear_model import LogisticRegression\n",
        "\n",
        "from sklearn.model_selection import train_test_split, GridSearchCV\n",
        "from imblearn.over_sampling import SMOTE\n",
        "\n",
        "from sklearn.metrics import classification_report,accuracy_score,confusion_matrix"
      ],
      "metadata": {
        "id": "6-9kJ7r46mNp"
      },
      "execution_count": null,
      "outputs": []
    },
    {
      "cell_type": "code",
      "source": [
        "x_train,x_test,y_train,y_test=train_test_split(x,y,test_size=0.33,random_state=42,shuffle=True)"
      ],
      "metadata": {
        "id": "WOiHdg2d6pvQ"
      },
      "execution_count": null,
      "outputs": []
    },
    {
      "cell_type": "markdown",
      "source": [
        "# **LOGISTIC REGRESSION MODEL**"
      ],
      "metadata": {
        "id": "bZ7vgo2cOwux"
      }
    },
    {
      "cell_type": "code",
      "source": [
        "lr=LogisticRegression()"
      ],
      "metadata": {
        "id": "jXbX7GvR7GTA"
      },
      "execution_count": null,
      "outputs": []
    },
    {
      "cell_type": "code",
      "source": [
        "SMT = SMOTE(random_state=42)\n",
        "x_train_SMOTE, y_train_SMOTE = SMT.fit_resample(x_train, y_train)"
      ],
      "metadata": {
        "id": "8yAFFnBi7Ve0"
      },
      "execution_count": null,
      "outputs": []
    },
    {
      "cell_type": "markdown",
      "source": [
        "# **APPLYING GRID SEARCH AND PREDICTING THE MODEL USING LOGISTIC REGRESSION**"
      ],
      "metadata": {
        "id": "wdi7NPqxOgmR"
      }
    },
    {
      "cell_type": "code",
      "source": [
        "params = {'C': [0.001, 0.01, 0.1, 1, 10, 100, 1000], 'max_iter': range(100, 800, 100)}\n",
        "LogReg = GridSearchCV(lr, params)\n",
        "LogReg.fit(x_train, y_train)\n",
        "y_pred = LogReg.predict(x_test)"
      ],
      "metadata": {
        "colab": {
          "base_uri": "https://localhost:8080/"
        },
        "id": "fIG0CcCs8TNt",
        "outputId": "a191c5f4-e1ab-4aad-96ab-fad2c3dfd7b2"
      },
      "execution_count": null,
      "outputs": [
        {
          "output_type": "stream",
          "name": "stderr",
          "text": [
            "/usr/local/lib/python3.7/dist-packages/sklearn/linear_model/_logistic.py:818: ConvergenceWarning:\n",
            "\n",
            "lbfgs failed to converge (status=1):\n",
            "STOP: TOTAL NO. of ITERATIONS REACHED LIMIT.\n",
            "\n",
            "Increase the number of iterations (max_iter) or scale the data as shown in:\n",
            "    https://scikit-learn.org/stable/modules/preprocessing.html\n",
            "Please also refer to the documentation for alternative solver options:\n",
            "    https://scikit-learn.org/stable/modules/linear_model.html#logistic-regression\n",
            "\n",
            "/usr/local/lib/python3.7/dist-packages/sklearn/linear_model/_logistic.py:818: ConvergenceWarning:\n",
            "\n",
            "lbfgs failed to converge (status=1):\n",
            "STOP: TOTAL NO. of ITERATIONS REACHED LIMIT.\n",
            "\n",
            "Increase the number of iterations (max_iter) or scale the data as shown in:\n",
            "    https://scikit-learn.org/stable/modules/preprocessing.html\n",
            "Please also refer to the documentation for alternative solver options:\n",
            "    https://scikit-learn.org/stable/modules/linear_model.html#logistic-regression\n",
            "\n",
            "/usr/local/lib/python3.7/dist-packages/sklearn/linear_model/_logistic.py:818: ConvergenceWarning:\n",
            "\n",
            "lbfgs failed to converge (status=1):\n",
            "STOP: TOTAL NO. of ITERATIONS REACHED LIMIT.\n",
            "\n",
            "Increase the number of iterations (max_iter) or scale the data as shown in:\n",
            "    https://scikit-learn.org/stable/modules/preprocessing.html\n",
            "Please also refer to the documentation for alternative solver options:\n",
            "    https://scikit-learn.org/stable/modules/linear_model.html#logistic-regression\n",
            "\n",
            "/usr/local/lib/python3.7/dist-packages/sklearn/linear_model/_logistic.py:818: ConvergenceWarning:\n",
            "\n",
            "lbfgs failed to converge (status=1):\n",
            "STOP: TOTAL NO. of ITERATIONS REACHED LIMIT.\n",
            "\n",
            "Increase the number of iterations (max_iter) or scale the data as shown in:\n",
            "    https://scikit-learn.org/stable/modules/preprocessing.html\n",
            "Please also refer to the documentation for alternative solver options:\n",
            "    https://scikit-learn.org/stable/modules/linear_model.html#logistic-regression\n",
            "\n",
            "/usr/local/lib/python3.7/dist-packages/sklearn/linear_model/_logistic.py:818: ConvergenceWarning:\n",
            "\n",
            "lbfgs failed to converge (status=1):\n",
            "STOP: TOTAL NO. of ITERATIONS REACHED LIMIT.\n",
            "\n",
            "Increase the number of iterations (max_iter) or scale the data as shown in:\n",
            "    https://scikit-learn.org/stable/modules/preprocessing.html\n",
            "Please also refer to the documentation for alternative solver options:\n",
            "    https://scikit-learn.org/stable/modules/linear_model.html#logistic-regression\n",
            "\n"
          ]
        }
      ]
    },
    {
      "cell_type": "markdown",
      "source": [
        "# **ACCURACY AND CLASSIFICATION REPORT OF THE MODEL USING LOGISTIC REGESSION**"
      ],
      "metadata": {
        "id": "EGCwwti3O6Fk"
      }
    },
    {
      "cell_type": "code",
      "source": [
        "print(classification_report(y_test, y_pred))"
      ],
      "metadata": {
        "colab": {
          "base_uri": "https://localhost:8080/"
        },
        "id": "gpr0mFT38uDe",
        "outputId": "6ef54cf0-8239-43e7-9ef1-968cd62f29ee"
      },
      "execution_count": null,
      "outputs": [
        {
          "output_type": "stream",
          "name": "stdout",
          "text": [
            "              precision    recall  f1-score   support\n",
            "\n",
            "           1       0.71      0.92      0.80       112\n",
            "           2       0.53      0.19      0.28        52\n",
            "\n",
            "    accuracy                           0.69       164\n",
            "   macro avg       0.62      0.56      0.54       164\n",
            "weighted avg       0.65      0.69      0.64       164\n",
            "\n"
          ]
        }
      ]
    },
    {
      "cell_type": "markdown",
      "source": [
        "THE ACCURACY OF THE MODEL IS 69% "
      ],
      "metadata": {
        "id": "RO-HeTImPY4H"
      }
    },
    {
      "cell_type": "code",
      "source": [
        "print(accuracy_score(y_test,y_pred))"
      ],
      "metadata": {
        "colab": {
          "base_uri": "https://localhost:8080/"
        },
        "id": "k8gz_NCC83Dp",
        "outputId": "2e0152cb-025d-4acc-c76c-5a4475395e80"
      },
      "execution_count": null,
      "outputs": [
        {
          "output_type": "stream",
          "name": "stdout",
          "text": [
            "0.6890243902439024\n"
          ]
        }
      ]
    },
    {
      "cell_type": "code",
      "source": [
        "LogReg.best_params_"
      ],
      "metadata": {
        "colab": {
          "base_uri": "https://localhost:8080/"
        },
        "id": "W9Pf5aMS9N-w",
        "outputId": "95151713-5648-4ba9-f85b-334501da3360"
      },
      "execution_count": null,
      "outputs": [
        {
          "output_type": "execute_result",
          "data": {
            "text/plain": [
              "{'C': 10, 'max_iter': 100}"
            ]
          },
          "metadata": {},
          "execution_count": 31
        }
      ]
    },
    {
      "cell_type": "markdown",
      "source": [
        "# **DECISION TREE CLASSIFICATION**"
      ],
      "metadata": {
        "id": "LH4_nU6TPhby"
      }
    },
    {
      "cell_type": "code",
      "source": [
        "from sklearn.tree import DecisionTreeClassifier\n",
        "dtc=DecisionTreeClassifier()\n",
        "dtc.fit(x_train,y_train)\n",
        "y_pred=dtc.predict(x_test)"
      ],
      "metadata": {
        "id": "Q_2uUVwU9WCU"
      },
      "execution_count": null,
      "outputs": []
    },
    {
      "cell_type": "code",
      "source": [
        "print(classification_report(y_test, y_pred))"
      ],
      "metadata": {
        "colab": {
          "base_uri": "https://localhost:8080/"
        },
        "id": "spJfGZv9-Y85",
        "outputId": "acc9b169-c3ad-458a-d8c5-98c8151f56d7"
      },
      "execution_count": null,
      "outputs": [
        {
          "output_type": "stream",
          "name": "stdout",
          "text": [
            "              precision    recall  f1-score   support\n",
            "\n",
            "           1       0.74      0.77      0.75       112\n",
            "           2       0.45      0.40      0.42        52\n",
            "\n",
            "    accuracy                           0.65       164\n",
            "   macro avg       0.59      0.59      0.59       164\n",
            "weighted avg       0.64      0.65      0.65       164\n",
            "\n"
          ]
        }
      ]
    },
    {
      "cell_type": "markdown",
      "source": [
        "ACCURACY OF THE MODEL IS 59%"
      ],
      "metadata": {
        "id": "c-uaZSUWPpou"
      }
    },
    {
      "cell_type": "code",
      "source": [
        "print(accuracy_score(y_test,y_pred))"
      ],
      "metadata": {
        "colab": {
          "base_uri": "https://localhost:8080/"
        },
        "id": "-bO7A_3N-drg",
        "outputId": "63d3a8ac-d3d2-41a9-c2b6-8b13901aaaf3"
      },
      "execution_count": null,
      "outputs": [
        {
          "output_type": "stream",
          "name": "stdout",
          "text": [
            "0.6524390243902439\n"
          ]
        }
      ]
    },
    {
      "cell_type": "code",
      "source": [
        "!pip install graphviz"
      ],
      "metadata": {
        "colab": {
          "base_uri": "https://localhost:8080/"
        },
        "id": "6a5wd-3x-lXx",
        "outputId": "689cafcc-ae21-4886-f977-108ed2195058"
      },
      "execution_count": null,
      "outputs": [
        {
          "output_type": "stream",
          "name": "stdout",
          "text": [
            "Requirement already satisfied: graphviz in /usr/local/lib/python3.7/dist-packages (0.10.1)\n"
          ]
        }
      ]
    },
    {
      "cell_type": "code",
      "source": [
        "from sklearn.tree import export_graphviz\n",
        "import graphviz\n",
        "dot_data= export_graphviz(dtc, out_file=None,\n",
        "feature_names=x_test.columns,\n",
        "class_names=['0', '1'],\n",
        "filled=True, rounded=True,\n",
        "special_characters=True)"
      ],
      "metadata": {
        "id": "QOVnOXv6-rKJ"
      },
      "execution_count": null,
      "outputs": []
    },
    {
      "cell_type": "code",
      "source": [
        "graph1=graphviz.Source(dot_data)"
      ],
      "metadata": {
        "id": "FNvON8Kb-6bI"
      },
      "execution_count": null,
      "outputs": []
    },
    {
      "cell_type": "code",
      "source": [
        "graph1"
      ],
      "metadata": {
        "colab": {
          "base_uri": "https://localhost:8080/"
        },
        "id": "es7Tf4JW-9N0",
        "outputId": "4ea5a906-21fc-41a3-9b19-5df4a7b416fe"
      },
      "execution_count": null,
      "outputs": [
        {
          "output_type": "execute_result",
          "data": {
            "text/plain": [
              "<graphviz.files.Source at 0x7fec36d5b490>"
            ],
            "image/svg+xml": "<?xml version=\"1.0\" encoding=\"UTF-8\" standalone=\"no\"?>\n<!DOCTYPE svg PUBLIC \"-//W3C//DTD SVG 1.1//EN\"\n \"http://www.w3.org/Graphics/SVG/1.1/DTD/svg11.dtd\">\n<!-- Generated by graphviz version 2.40.1 (20161225.0304)\n -->\n<!-- Title: Tree Pages: 1 -->\n<svg width=\"5438pt\" height=\"1623pt\"\n viewBox=\"0.00 0.00 5437.50 1623.00\" xmlns=\"http://www.w3.org/2000/svg\" xmlns:xlink=\"http://www.w3.org/1999/xlink\">\n<g id=\"graph0\" class=\"graph\" transform=\"scale(1 1) rotate(0) translate(4 1619)\">\n<title>Tree</title>\n<polygon fill=\"#ffffff\" stroke=\"transparent\" points=\"-4,4 -4,-1619 5433.5,-1619 5433.5,4 -4,4\"/>\n<!-- 0 -->\n<g id=\"node1\" class=\"node\">\n<title>0</title>\n<path fill=\"#f0b68d\" stroke=\"#000000\" d=\"M4078,-1615C4078,-1615 3884,-1615 3884,-1615 3878,-1615 3872,-1609 3872,-1603 3872,-1603 3872,-1544 3872,-1544 3872,-1538 3878,-1532 3884,-1532 3884,-1532 4078,-1532 4078,-1532 4084,-1532 4090,-1538 4090,-1544 4090,-1544 4090,-1603 4090,-1603 4090,-1609 4084,-1615 4078,-1615\"/>\n<text text-anchor=\"start\" x=\"3880\" y=\"-1599.8\" font-family=\"Helvetica,sans-Serif\" font-size=\"14.00\" fill=\"#000000\">Alkaline_Phosphotase ≤ &#45;0.333</text>\n<text text-anchor=\"start\" x=\"3943\" y=\"-1584.8\" font-family=\"Helvetica,sans-Serif\" font-size=\"14.00\" fill=\"#000000\">gini = 0.418</text>\n<text text-anchor=\"start\" x=\"3933\" y=\"-1569.8\" font-family=\"Helvetica,sans-Serif\" font-size=\"14.00\" fill=\"#000000\">samples = 330</text>\n<text text-anchor=\"start\" x=\"3927\" y=\"-1554.8\" font-family=\"Helvetica,sans-Serif\" font-size=\"14.00\" fill=\"#000000\">value = [232, 98]</text>\n<text text-anchor=\"start\" x=\"3952\" y=\"-1539.8\" font-family=\"Helvetica,sans-Serif\" font-size=\"14.00\" fill=\"#000000\">class = 0</text>\n</g>\n<!-- 1 -->\n<g id=\"node2\" class=\"node\">\n<title>1</title>\n<path fill=\"#fae6d8\" stroke=\"#000000\" d=\"M3490.5,-1496C3490.5,-1496 3351.5,-1496 3351.5,-1496 3345.5,-1496 3339.5,-1490 3339.5,-1484 3339.5,-1484 3339.5,-1425 3339.5,-1425 3339.5,-1419 3345.5,-1413 3351.5,-1413 3351.5,-1413 3490.5,-1413 3490.5,-1413 3496.5,-1413 3502.5,-1419 3502.5,-1425 3502.5,-1425 3502.5,-1484 3502.5,-1484 3502.5,-1490 3496.5,-1496 3490.5,-1496\"/>\n<text text-anchor=\"start\" x=\"3347.5\" y=\"-1480.8\" font-family=\"Helvetica,sans-Serif\" font-size=\"14.00\" fill=\"#000000\">Total_Bilirubin ≤ &#45;0.197</text>\n<text text-anchor=\"start\" x=\"3383\" y=\"-1465.8\" font-family=\"Helvetica,sans-Serif\" font-size=\"14.00\" fill=\"#000000\">gini = 0.494</text>\n<text text-anchor=\"start\" x=\"3373\" y=\"-1450.8\" font-family=\"Helvetica,sans-Serif\" font-size=\"14.00\" fill=\"#000000\">samples = 173</text>\n<text text-anchor=\"start\" x=\"3371\" y=\"-1435.8\" font-family=\"Helvetica,sans-Serif\" font-size=\"14.00\" fill=\"#000000\">value = [96, 77]</text>\n<text text-anchor=\"start\" x=\"3392\" y=\"-1420.8\" font-family=\"Helvetica,sans-Serif\" font-size=\"14.00\" fill=\"#000000\">class = 0</text>\n</g>\n<!-- 0&#45;&gt;1 -->\n<g id=\"edge1\" class=\"edge\">\n<title>0&#45;&gt;1</title>\n<path fill=\"none\" stroke=\"#000000\" d=\"M3871.697,-1550.2731C3767.0679,-1528.0394 3611.0165,-1494.8785 3512.6966,-1473.9855\"/>\n<polygon fill=\"#000000\" stroke=\"#000000\" points=\"3513.2844,-1470.5324 3502.7753,-1471.8773 3511.8294,-1477.3795 3513.2844,-1470.5324\"/>\n<text text-anchor=\"middle\" x=\"3516.3924\" y=\"-1489.1433\" font-family=\"Helvetica,sans-Serif\" font-size=\"14.00\" fill=\"#000000\">True</text>\n</g>\n<!-- 104 -->\n<g id=\"node105\" class=\"node\">\n<title>104</title>\n<path fill=\"#e99458\" stroke=\"#000000\" d=\"M4287,-1496C4287,-1496 4141,-1496 4141,-1496 4135,-1496 4129,-1490 4129,-1484 4129,-1484 4129,-1425 4129,-1425 4129,-1419 4135,-1413 4141,-1413 4141,-1413 4287,-1413 4287,-1413 4293,-1413 4299,-1419 4299,-1425 4299,-1425 4299,-1484 4299,-1484 4299,-1490 4293,-1496 4287,-1496\"/>\n<text text-anchor=\"start\" x=\"4137\" y=\"-1480.8\" font-family=\"Helvetica,sans-Serif\" font-size=\"14.00\" fill=\"#000000\">Direct_Bilirubin ≤ &#45;0.357</text>\n<text text-anchor=\"start\" x=\"4176\" y=\"-1465.8\" font-family=\"Helvetica,sans-Serif\" font-size=\"14.00\" fill=\"#000000\">gini = 0.232</text>\n<text text-anchor=\"start\" x=\"4166\" y=\"-1450.8\" font-family=\"Helvetica,sans-Serif\" font-size=\"14.00\" fill=\"#000000\">samples = 157</text>\n<text text-anchor=\"start\" x=\"4160\" y=\"-1435.8\" font-family=\"Helvetica,sans-Serif\" font-size=\"14.00\" fill=\"#000000\">value = [136, 21]</text>\n<text text-anchor=\"start\" x=\"4185\" y=\"-1420.8\" font-family=\"Helvetica,sans-Serif\" font-size=\"14.00\" fill=\"#000000\">class = 0</text>\n</g>\n<!-- 0&#45;&gt;104 -->\n<g id=\"edge104\" class=\"edge\">\n<title>0&#45;&gt;104</title>\n<path fill=\"none\" stroke=\"#000000\" d=\"M4062.4921,-1531.8796C4082.1799,-1521.8244 4103.3381,-1511.0183 4123.4148,-1500.7645\"/>\n<polygon fill=\"#000000\" stroke=\"#000000\" points=\"4125.2402,-1503.7624 4132.5539,-1496.0969 4122.0562,-1497.5284 4125.2402,-1503.7624\"/>\n<text text-anchor=\"middle\" x=\"4124.8512\" y=\"-1516.1807\" font-family=\"Helvetica,sans-Serif\" font-size=\"14.00\" fill=\"#000000\">False</text>\n</g>\n<!-- 2 -->\n<g id=\"node3\" class=\"node\">\n<title>2</title>\n<path fill=\"#ffffff\" stroke=\"#000000\" d=\"M3002,-1377C3002,-1377 2856,-1377 2856,-1377 2850,-1377 2844,-1371 2844,-1365 2844,-1365 2844,-1306 2844,-1306 2844,-1300 2850,-1294 2856,-1294 2856,-1294 3002,-1294 3002,-1294 3008,-1294 3014,-1300 3014,-1306 3014,-1306 3014,-1365 3014,-1365 3014,-1371 3008,-1377 3002,-1377\"/>\n<text text-anchor=\"start\" x=\"2852\" y=\"-1361.8\" font-family=\"Helvetica,sans-Serif\" font-size=\"14.00\" fill=\"#000000\">Direct_Bilirubin ≤ &#45;0.257</text>\n<text text-anchor=\"start\" x=\"2899.5\" y=\"-1346.8\" font-family=\"Helvetica,sans-Serif\" font-size=\"14.00\" fill=\"#000000\">gini = 0.5</text>\n<text text-anchor=\"start\" x=\"2881\" y=\"-1331.8\" font-family=\"Helvetica,sans-Serif\" font-size=\"14.00\" fill=\"#000000\">samples = 140</text>\n<text text-anchor=\"start\" x=\"2879\" y=\"-1316.8\" font-family=\"Helvetica,sans-Serif\" font-size=\"14.00\" fill=\"#000000\">value = [70, 70]</text>\n<text text-anchor=\"start\" x=\"2900\" y=\"-1301.8\" font-family=\"Helvetica,sans-Serif\" font-size=\"14.00\" fill=\"#000000\">class = 0</text>\n</g>\n<!-- 1&#45;&gt;2 -->\n<g id=\"edge2\" class=\"edge\">\n<title>1&#45;&gt;2</title>\n<path fill=\"none\" stroke=\"#000000\" d=\"M3339.4802,-1434.7828C3252.7921,-1413.8156 3115.8129,-1380.6844 3024.2238,-1358.5318\"/>\n<polygon fill=\"#000000\" stroke=\"#000000\" points=\"3024.94,-1355.1042 3014.3975,-1356.1551 3023.2944,-1361.908 3024.94,-1355.1042\"/>\n</g>\n<!-- 91 -->\n<g id=\"node92\" class=\"node\">\n<title>91</title>\n<path fill=\"#eca36e\" stroke=\"#000000\" d=\"M3491.5,-1377C3491.5,-1377 3350.5,-1377 3350.5,-1377 3344.5,-1377 3338.5,-1371 3338.5,-1365 3338.5,-1365 3338.5,-1306 3338.5,-1306 3338.5,-1300 3344.5,-1294 3350.5,-1294 3350.5,-1294 3491.5,-1294 3491.5,-1294 3497.5,-1294 3503.5,-1300 3503.5,-1306 3503.5,-1306 3503.5,-1365 3503.5,-1365 3503.5,-1371 3497.5,-1377 3491.5,-1377\"/>\n<text text-anchor=\"start\" x=\"3346.5\" y=\"-1361.8\" font-family=\"Helvetica,sans-Serif\" font-size=\"14.00\" fill=\"#000000\">Total_Protiens ≤ &#45;0.358</text>\n<text text-anchor=\"start\" x=\"3383\" y=\"-1346.8\" font-family=\"Helvetica,sans-Serif\" font-size=\"14.00\" fill=\"#000000\">gini = 0.334</text>\n<text text-anchor=\"start\" x=\"3377\" y=\"-1331.8\" font-family=\"Helvetica,sans-Serif\" font-size=\"14.00\" fill=\"#000000\">samples = 33</text>\n<text text-anchor=\"start\" x=\"3375.5\" y=\"-1316.8\" font-family=\"Helvetica,sans-Serif\" font-size=\"14.00\" fill=\"#000000\">value = [26, 7]</text>\n<text text-anchor=\"start\" x=\"3392\" y=\"-1301.8\" font-family=\"Helvetica,sans-Serif\" font-size=\"14.00\" fill=\"#000000\">class = 0</text>\n</g>\n<!-- 1&#45;&gt;91 -->\n<g id=\"edge91\" class=\"edge\">\n<title>1&#45;&gt;91</title>\n<path fill=\"none\" stroke=\"#000000\" d=\"M3421,-1412.8796C3421,-1404.6838 3421,-1395.9891 3421,-1387.5013\"/>\n<polygon fill=\"#000000\" stroke=\"#000000\" points=\"3424.5001,-1387.298 3421,-1377.2981 3417.5001,-1387.2981 3424.5001,-1387.298\"/>\n</g>\n<!-- 3 -->\n<g id=\"node4\" class=\"node\">\n<title>3</title>\n<path fill=\"#fcf2eb\" stroke=\"#000000\" d=\"M2700.5,-1258C2700.5,-1258 2485.5,-1258 2485.5,-1258 2479.5,-1258 2473.5,-1252 2473.5,-1246 2473.5,-1246 2473.5,-1187 2473.5,-1187 2473.5,-1181 2479.5,-1175 2485.5,-1175 2485.5,-1175 2700.5,-1175 2700.5,-1175 2706.5,-1175 2712.5,-1181 2712.5,-1187 2712.5,-1187 2712.5,-1246 2712.5,-1246 2712.5,-1252 2706.5,-1258 2700.5,-1258\"/>\n<text text-anchor=\"start\" x=\"2481.5\" y=\"-1242.8\" font-family=\"Helvetica,sans-Serif\" font-size=\"14.00\" fill=\"#000000\">Alamine_Aminotransferase ≤ &#45;0.24</text>\n<text text-anchor=\"start\" x=\"2555\" y=\"-1227.8\" font-family=\"Helvetica,sans-Serif\" font-size=\"14.00\" fill=\"#000000\">gini = 0.499</text>\n<text text-anchor=\"start\" x=\"2545\" y=\"-1212.8\" font-family=\"Helvetica,sans-Serif\" font-size=\"14.00\" fill=\"#000000\">samples = 131</text>\n<text text-anchor=\"start\" x=\"2543\" y=\"-1197.8\" font-family=\"Helvetica,sans-Serif\" font-size=\"14.00\" fill=\"#000000\">value = [69, 62]</text>\n<text text-anchor=\"start\" x=\"2564\" y=\"-1182.8\" font-family=\"Helvetica,sans-Serif\" font-size=\"14.00\" fill=\"#000000\">class = 0</text>\n</g>\n<!-- 2&#45;&gt;3 -->\n<g id=\"edge3\" class=\"edge\">\n<title>2&#45;&gt;3</title>\n<path fill=\"none\" stroke=\"#000000\" d=\"M2843.7787,-1305.3174C2806.2615,-1292.0301 2761.4017,-1276.1423 2720.0632,-1261.5015\"/>\n<polygon fill=\"#000000\" stroke=\"#000000\" points=\"2721.067,-1258.1441 2710.4723,-1258.1048 2718.73,-1264.7425 2721.067,-1258.1441\"/>\n</g>\n<!-- 86 -->\n<g id=\"node87\" class=\"node\">\n<title>86</title>\n<path fill=\"#52a9e8\" stroke=\"#000000\" d=\"M2999.5,-1258C2999.5,-1258 2858.5,-1258 2858.5,-1258 2852.5,-1258 2846.5,-1252 2846.5,-1246 2846.5,-1246 2846.5,-1187 2846.5,-1187 2846.5,-1181 2852.5,-1175 2858.5,-1175 2858.5,-1175 2999.5,-1175 2999.5,-1175 3005.5,-1175 3011.5,-1181 3011.5,-1187 3011.5,-1187 3011.5,-1246 3011.5,-1246 3011.5,-1252 3005.5,-1258 2999.5,-1258\"/>\n<text text-anchor=\"start\" x=\"2854.5\" y=\"-1242.8\" font-family=\"Helvetica,sans-Serif\" font-size=\"14.00\" fill=\"#000000\">Total_Protiens ≤ &#45;0.955</text>\n<text text-anchor=\"start\" x=\"2891\" y=\"-1227.8\" font-family=\"Helvetica,sans-Serif\" font-size=\"14.00\" fill=\"#000000\">gini = 0.198</text>\n<text text-anchor=\"start\" x=\"2889.5\" y=\"-1212.8\" font-family=\"Helvetica,sans-Serif\" font-size=\"14.00\" fill=\"#000000\">samples = 9</text>\n<text text-anchor=\"start\" x=\"2887.5\" y=\"-1197.8\" font-family=\"Helvetica,sans-Serif\" font-size=\"14.00\" fill=\"#000000\">value = [1, 8]</text>\n<text text-anchor=\"start\" x=\"2900\" y=\"-1182.8\" font-family=\"Helvetica,sans-Serif\" font-size=\"14.00\" fill=\"#000000\">class = 1</text>\n</g>\n<!-- 2&#45;&gt;86 -->\n<g id=\"edge86\" class=\"edge\">\n<title>2&#45;&gt;86</title>\n<path fill=\"none\" stroke=\"#000000\" d=\"M2929,-1293.8796C2929,-1285.6838 2929,-1276.9891 2929,-1268.5013\"/>\n<polygon fill=\"#000000\" stroke=\"#000000\" points=\"2932.5001,-1268.298 2929,-1258.2981 2925.5001,-1268.2981 2932.5001,-1268.298\"/>\n</g>\n<!-- 4 -->\n<g id=\"node5\" class=\"node\">\n<title>4</title>\n<path fill=\"#e9f4fc\" stroke=\"#000000\" d=\"M1757.5,-1139C1757.5,-1139 1618.5,-1139 1618.5,-1139 1612.5,-1139 1606.5,-1133 1606.5,-1127 1606.5,-1127 1606.5,-1068 1606.5,-1068 1606.5,-1062 1612.5,-1056 1618.5,-1056 1618.5,-1056 1757.5,-1056 1757.5,-1056 1763.5,-1056 1769.5,-1062 1769.5,-1068 1769.5,-1068 1769.5,-1127 1769.5,-1127 1769.5,-1133 1763.5,-1139 1757.5,-1139\"/>\n<text text-anchor=\"start\" x=\"1614.5\" y=\"-1123.8\" font-family=\"Helvetica,sans-Serif\" font-size=\"14.00\" fill=\"#000000\">Total_Bilirubin ≤ &#45;0.426</text>\n<text text-anchor=\"start\" x=\"1650\" y=\"-1108.8\" font-family=\"Helvetica,sans-Serif\" font-size=\"14.00\" fill=\"#000000\">gini = 0.498</text>\n<text text-anchor=\"start\" x=\"1640\" y=\"-1093.8\" font-family=\"Helvetica,sans-Serif\" font-size=\"14.00\" fill=\"#000000\">samples = 102</text>\n<text text-anchor=\"start\" x=\"1638\" y=\"-1078.8\" font-family=\"Helvetica,sans-Serif\" font-size=\"14.00\" fill=\"#000000\">value = [48, 54]</text>\n<text text-anchor=\"start\" x=\"1659\" y=\"-1063.8\" font-family=\"Helvetica,sans-Serif\" font-size=\"14.00\" fill=\"#000000\">class = 1</text>\n</g>\n<!-- 3&#45;&gt;4 -->\n<g id=\"edge4\" class=\"edge\">\n<title>3&#45;&gt;4</title>\n<path fill=\"none\" stroke=\"#000000\" d=\"M2473.2901,-1200.7591C2290.1308,-1176.6752 1944.2942,-1131.2006 1779.6257,-1109.548\"/>\n<polygon fill=\"#000000\" stroke=\"#000000\" points=\"1779.895,-1106.0534 1769.524,-1108.2197 1778.9824,-1112.9936 1779.895,-1106.0534\"/>\n</g>\n<!-- 61 -->\n<g id=\"node62\" class=\"node\">\n<title>61</title>\n<path fill=\"#efb184\" stroke=\"#000000\" d=\"M2709.5,-1139C2709.5,-1139 2476.5,-1139 2476.5,-1139 2470.5,-1139 2464.5,-1133 2464.5,-1127 2464.5,-1127 2464.5,-1068 2464.5,-1068 2464.5,-1062 2470.5,-1056 2476.5,-1056 2476.5,-1056 2709.5,-1056 2709.5,-1056 2715.5,-1056 2721.5,-1062 2721.5,-1068 2721.5,-1068 2721.5,-1127 2721.5,-1127 2721.5,-1133 2715.5,-1139 2709.5,-1139\"/>\n<text text-anchor=\"start\" x=\"2472.5\" y=\"-1123.8\" font-family=\"Helvetica,sans-Serif\" font-size=\"14.00\" fill=\"#000000\">Aspartate_Aminotransferase ≤ &#45;0.405</text>\n<text text-anchor=\"start\" x=\"2563.5\" y=\"-1108.8\" font-family=\"Helvetica,sans-Serif\" font-size=\"14.00\" fill=\"#000000\">gini = 0.4</text>\n<text text-anchor=\"start\" x=\"2549\" y=\"-1093.8\" font-family=\"Helvetica,sans-Serif\" font-size=\"14.00\" fill=\"#000000\">samples = 29</text>\n<text text-anchor=\"start\" x=\"2547.5\" y=\"-1078.8\" font-family=\"Helvetica,sans-Serif\" font-size=\"14.00\" fill=\"#000000\">value = [21, 8]</text>\n<text text-anchor=\"start\" x=\"2564\" y=\"-1063.8\" font-family=\"Helvetica,sans-Serif\" font-size=\"14.00\" fill=\"#000000\">class = 0</text>\n</g>\n<!-- 3&#45;&gt;61 -->\n<g id=\"edge61\" class=\"edge\">\n<title>3&#45;&gt;61</title>\n<path fill=\"none\" stroke=\"#000000\" d=\"M2593,-1174.8796C2593,-1166.6838 2593,-1157.9891 2593,-1149.5013\"/>\n<polygon fill=\"#000000\" stroke=\"#000000\" points=\"2596.5001,-1149.298 2593,-1139.2981 2589.5001,-1149.2981 2596.5001,-1149.298\"/>\n</g>\n<!-- 5 -->\n<g id=\"node6\" class=\"node\">\n<title>5</title>\n<path fill=\"#9ccef2\" stroke=\"#000000\" d=\"M1100,-1020C1100,-1020 954,-1020 954,-1020 948,-1020 942,-1014 942,-1008 942,-1008 942,-949 942,-949 942,-943 948,-937 954,-937 954,-937 1100,-937 1100,-937 1106,-937 1112,-943 1112,-949 1112,-949 1112,-1008 1112,-1008 1112,-1014 1106,-1020 1100,-1020\"/>\n<text text-anchor=\"start\" x=\"950\" y=\"-1004.8\" font-family=\"Helvetica,sans-Serif\" font-size=\"14.00\" fill=\"#000000\">Direct_Bilirubin ≤ &#45;0.457</text>\n<text text-anchor=\"start\" x=\"989\" y=\"-989.8\" font-family=\"Helvetica,sans-Serif\" font-size=\"14.00\" fill=\"#000000\">gini = 0.444</text>\n<text text-anchor=\"start\" x=\"983\" y=\"-974.8\" font-family=\"Helvetica,sans-Serif\" font-size=\"14.00\" fill=\"#000000\">samples = 42</text>\n<text text-anchor=\"start\" x=\"977\" y=\"-959.8\" font-family=\"Helvetica,sans-Serif\" font-size=\"14.00\" fill=\"#000000\">value = [14, 28]</text>\n<text text-anchor=\"start\" x=\"998\" y=\"-944.8\" font-family=\"Helvetica,sans-Serif\" font-size=\"14.00\" fill=\"#000000\">class = 1</text>\n</g>\n<!-- 4&#45;&gt;5 -->\n<g id=\"edge5\" class=\"edge\">\n<title>4&#45;&gt;5</title>\n<path fill=\"none\" stroke=\"#000000\" d=\"M1606.2855,-1082.7889C1483.5795,-1060.6981 1252.2751,-1019.0563 1122.1438,-995.6288\"/>\n<polygon fill=\"#000000\" stroke=\"#000000\" points=\"1122.6448,-992.1628 1112.1829,-993.8355 1121.4045,-999.052 1122.6448,-992.1628\"/>\n</g>\n<!-- 28 -->\n<g id=\"node29\" class=\"node\">\n<title>28</title>\n<path fill=\"#f9e1d0\" stroke=\"#000000\" d=\"M1734,-1020C1734,-1020 1642,-1020 1642,-1020 1636,-1020 1630,-1014 1630,-1008 1630,-1008 1630,-949 1630,-949 1630,-943 1636,-937 1642,-937 1642,-937 1734,-937 1734,-937 1740,-937 1746,-943 1746,-949 1746,-949 1746,-1008 1746,-1008 1746,-1014 1740,-1020 1734,-1020\"/>\n<text text-anchor=\"start\" x=\"1645.5\" y=\"-1004.8\" font-family=\"Helvetica,sans-Serif\" font-size=\"14.00\" fill=\"#000000\">Gender ≤ 0.5</text>\n<text text-anchor=\"start\" x=\"1650\" y=\"-989.8\" font-family=\"Helvetica,sans-Serif\" font-size=\"14.00\" fill=\"#000000\">gini = 0.491</text>\n<text text-anchor=\"start\" x=\"1644\" y=\"-974.8\" font-family=\"Helvetica,sans-Serif\" font-size=\"14.00\" fill=\"#000000\">samples = 60</text>\n<text text-anchor=\"start\" x=\"1638\" y=\"-959.8\" font-family=\"Helvetica,sans-Serif\" font-size=\"14.00\" fill=\"#000000\">value = [34, 26]</text>\n<text text-anchor=\"start\" x=\"1659\" y=\"-944.8\" font-family=\"Helvetica,sans-Serif\" font-size=\"14.00\" fill=\"#000000\">class = 0</text>\n</g>\n<!-- 4&#45;&gt;28 -->\n<g id=\"edge28\" class=\"edge\">\n<title>4&#45;&gt;28</title>\n<path fill=\"none\" stroke=\"#000000\" d=\"M1688,-1055.8796C1688,-1047.6838 1688,-1038.9891 1688,-1030.5013\"/>\n<polygon fill=\"#000000\" stroke=\"#000000\" points=\"1691.5001,-1030.298 1688,-1020.2981 1684.5001,-1030.2981 1691.5001,-1030.298\"/>\n</g>\n<!-- 6 -->\n<g id=\"node7\" class=\"node\">\n<title>6</title>\n<path fill=\"#fcefe6\" stroke=\"#000000\" d=\"M627.5,-901C627.5,-901 488.5,-901 488.5,-901 482.5,-901 476.5,-895 476.5,-889 476.5,-889 476.5,-830 476.5,-830 476.5,-824 482.5,-818 488.5,-818 488.5,-818 627.5,-818 627.5,-818 633.5,-818 639.5,-824 639.5,-830 639.5,-830 639.5,-889 639.5,-889 639.5,-895 633.5,-901 627.5,-901\"/>\n<text text-anchor=\"start\" x=\"484.5\" y=\"-885.8\" font-family=\"Helvetica,sans-Serif\" font-size=\"14.00\" fill=\"#000000\">Total_Bilirubin ≤ &#45;0.452</text>\n<text text-anchor=\"start\" x=\"520\" y=\"-870.8\" font-family=\"Helvetica,sans-Serif\" font-size=\"14.00\" fill=\"#000000\">gini = 0.498</text>\n<text text-anchor=\"start\" x=\"514\" y=\"-855.8\" font-family=\"Helvetica,sans-Serif\" font-size=\"14.00\" fill=\"#000000\">samples = 15</text>\n<text text-anchor=\"start\" x=\"516.5\" y=\"-840.8\" font-family=\"Helvetica,sans-Serif\" font-size=\"14.00\" fill=\"#000000\">value = [8, 7]</text>\n<text text-anchor=\"start\" x=\"529\" y=\"-825.8\" font-family=\"Helvetica,sans-Serif\" font-size=\"14.00\" fill=\"#000000\">class = 0</text>\n</g>\n<!-- 5&#45;&gt;6 -->\n<g id=\"edge6\" class=\"edge\">\n<title>5&#45;&gt;6</title>\n<path fill=\"none\" stroke=\"#000000\" d=\"M941.7957,-956.881C859.2351,-935.9328 734.4091,-904.2605 649.7116,-882.7701\"/>\n<polygon fill=\"#000000\" stroke=\"#000000\" points=\"650.3986,-879.3336 639.8449,-880.2666 648.677,-886.1186 650.3986,-879.3336\"/>\n</g>\n<!-- 15 -->\n<g id=\"node16\" class=\"node\">\n<title>15</title>\n<path fill=\"#72b9ec\" stroke=\"#000000\" d=\"M1095.5,-901C1095.5,-901 958.5,-901 958.5,-901 952.5,-901 946.5,-895 946.5,-889 946.5,-889 946.5,-830 946.5,-830 946.5,-824 952.5,-818 958.5,-818 958.5,-818 1095.5,-818 1095.5,-818 1101.5,-818 1107.5,-824 1107.5,-830 1107.5,-830 1107.5,-889 1107.5,-889 1107.5,-895 1101.5,-901 1095.5,-901\"/>\n<text text-anchor=\"start\" x=\"954.5\" y=\"-885.8\" font-family=\"Helvetica,sans-Serif\" font-size=\"14.00\" fill=\"#000000\">Total_Protiens ≤ 1.478</text>\n<text text-anchor=\"start\" x=\"989\" y=\"-870.8\" font-family=\"Helvetica,sans-Serif\" font-size=\"14.00\" fill=\"#000000\">gini = 0.346</text>\n<text text-anchor=\"start\" x=\"983\" y=\"-855.8\" font-family=\"Helvetica,sans-Serif\" font-size=\"14.00\" fill=\"#000000\">samples = 27</text>\n<text text-anchor=\"start\" x=\"981.5\" y=\"-840.8\" font-family=\"Helvetica,sans-Serif\" font-size=\"14.00\" fill=\"#000000\">value = [6, 21]</text>\n<text text-anchor=\"start\" x=\"998\" y=\"-825.8\" font-family=\"Helvetica,sans-Serif\" font-size=\"14.00\" fill=\"#000000\">class = 1</text>\n</g>\n<!-- 5&#45;&gt;15 -->\n<g id=\"edge15\" class=\"edge\">\n<title>5&#45;&gt;15</title>\n<path fill=\"none\" stroke=\"#000000\" d=\"M1027,-936.8796C1027,-928.6838 1027,-919.9891 1027,-911.5013\"/>\n<polygon fill=\"#000000\" stroke=\"#000000\" points=\"1030.5001,-911.298 1027,-901.2981 1023.5001,-911.2981 1030.5001,-911.298\"/>\n</g>\n<!-- 7 -->\n<g id=\"node8\" class=\"node\">\n<title>7</title>\n<path fill=\"#7bbeee\" stroke=\"#000000\" d=\"M419,-782C419,-782 195,-782 195,-782 189,-782 183,-776 183,-770 183,-770 183,-711 183,-711 183,-705 189,-699 195,-699 195,-699 419,-699 419,-699 425,-699 431,-705 431,-711 431,-711 431,-770 431,-770 431,-776 425,-782 419,-782\"/>\n<text text-anchor=\"start\" x=\"191\" y=\"-766.8\" font-family=\"Helvetica,sans-Serif\" font-size=\"14.00\" fill=\"#000000\">Alamine_Aminotransferase ≤ &#45;0.354</text>\n<text text-anchor=\"start\" x=\"269\" y=\"-751.8\" font-family=\"Helvetica,sans-Serif\" font-size=\"14.00\" fill=\"#000000\">gini = 0.375</text>\n<text text-anchor=\"start\" x=\"267.5\" y=\"-736.8\" font-family=\"Helvetica,sans-Serif\" font-size=\"14.00\" fill=\"#000000\">samples = 8</text>\n<text text-anchor=\"start\" x=\"265.5\" y=\"-721.8\" font-family=\"Helvetica,sans-Serif\" font-size=\"14.00\" fill=\"#000000\">value = [2, 6]</text>\n<text text-anchor=\"start\" x=\"278\" y=\"-706.8\" font-family=\"Helvetica,sans-Serif\" font-size=\"14.00\" fill=\"#000000\">class = 1</text>\n</g>\n<!-- 6&#45;&gt;7 -->\n<g id=\"edge7\" class=\"edge\">\n<title>6&#45;&gt;7</title>\n<path fill=\"none\" stroke=\"#000000\" d=\"M476.1605,-820.6996C453.0731,-809.7538 427.7337,-797.7403 403.8557,-786.4196\"/>\n<polygon fill=\"#000000\" stroke=\"#000000\" points=\"405.3188,-783.2399 394.7835,-782.1185 402.32,-789.5651 405.3188,-783.2399\"/>\n</g>\n<!-- 12 -->\n<g id=\"node13\" class=\"node\">\n<title>12</title>\n<path fill=\"#e9965a\" stroke=\"#000000\" d=\"M655,-782C655,-782 461,-782 461,-782 455,-782 449,-776 449,-770 449,-770 449,-711 449,-711 449,-705 455,-699 461,-699 461,-699 655,-699 655,-699 661,-699 667,-705 667,-711 667,-711 667,-770 667,-770 667,-776 661,-782 655,-782\"/>\n<text text-anchor=\"start\" x=\"457\" y=\"-766.8\" font-family=\"Helvetica,sans-Serif\" font-size=\"14.00\" fill=\"#000000\">Alkaline_Phosphotase ≤ &#45;0.595</text>\n<text text-anchor=\"start\" x=\"520\" y=\"-751.8\" font-family=\"Helvetica,sans-Serif\" font-size=\"14.00\" fill=\"#000000\">gini = 0.245</text>\n<text text-anchor=\"start\" x=\"518.5\" y=\"-736.8\" font-family=\"Helvetica,sans-Serif\" font-size=\"14.00\" fill=\"#000000\">samples = 7</text>\n<text text-anchor=\"start\" x=\"516.5\" y=\"-721.8\" font-family=\"Helvetica,sans-Serif\" font-size=\"14.00\" fill=\"#000000\">value = [6, 1]</text>\n<text text-anchor=\"start\" x=\"529\" y=\"-706.8\" font-family=\"Helvetica,sans-Serif\" font-size=\"14.00\" fill=\"#000000\">class = 0</text>\n</g>\n<!-- 6&#45;&gt;12 -->\n<g id=\"edge12\" class=\"edge\">\n<title>6&#45;&gt;12</title>\n<path fill=\"none\" stroke=\"#000000\" d=\"M558,-817.8796C558,-809.6838 558,-800.9891 558,-792.5013\"/>\n<polygon fill=\"#000000\" stroke=\"#000000\" points=\"561.5001,-792.298 558,-782.2981 554.5001,-792.2981 561.5001,-792.298\"/>\n</g>\n<!-- 8 -->\n<g id=\"node9\" class=\"node\">\n<title>8</title>\n<path fill=\"#f2c09c\" stroke=\"#000000\" d=\"M236,-663C236,-663 12,-663 12,-663 6,-663 0,-657 0,-651 0,-651 0,-592 0,-592 0,-586 6,-580 12,-580 12,-580 236,-580 236,-580 242,-580 248,-586 248,-592 248,-592 248,-651 248,-651 248,-657 242,-663 236,-663\"/>\n<text text-anchor=\"start\" x=\"8\" y=\"-647.8\" font-family=\"Helvetica,sans-Serif\" font-size=\"14.00\" fill=\"#000000\">Alamine_Aminotransferase ≤ &#45;0.384</text>\n<text text-anchor=\"start\" x=\"86\" y=\"-632.8\" font-family=\"Helvetica,sans-Serif\" font-size=\"14.00\" fill=\"#000000\">gini = 0.444</text>\n<text text-anchor=\"start\" x=\"84.5\" y=\"-617.8\" font-family=\"Helvetica,sans-Serif\" font-size=\"14.00\" fill=\"#000000\">samples = 3</text>\n<text text-anchor=\"start\" x=\"82.5\" y=\"-602.8\" font-family=\"Helvetica,sans-Serif\" font-size=\"14.00\" fill=\"#000000\">value = [2, 1]</text>\n<text text-anchor=\"start\" x=\"95\" y=\"-587.8\" font-family=\"Helvetica,sans-Serif\" font-size=\"14.00\" fill=\"#000000\">class = 0</text>\n</g>\n<!-- 7&#45;&gt;8 -->\n<g id=\"edge8\" class=\"edge\">\n<title>7&#45;&gt;8</title>\n<path fill=\"none\" stroke=\"#000000\" d=\"M242.9955,-698.8796C227.9505,-689.0962 211.8121,-678.6019 196.4267,-668.5971\"/>\n<polygon fill=\"#000000\" stroke=\"#000000\" points=\"198.2598,-665.6143 187.9684,-663.0969 194.4437,-671.4827 198.2598,-665.6143\"/>\n</g>\n<!-- 11 -->\n<g id=\"node12\" class=\"node\">\n<title>11</title>\n<path fill=\"#399de5\" stroke=\"#000000\" d=\"M353.5,-655.5C353.5,-655.5 278.5,-655.5 278.5,-655.5 272.5,-655.5 266.5,-649.5 266.5,-643.5 266.5,-643.5 266.5,-599.5 266.5,-599.5 266.5,-593.5 272.5,-587.5 278.5,-587.5 278.5,-587.5 353.5,-587.5 353.5,-587.5 359.5,-587.5 365.5,-593.5 365.5,-599.5 365.5,-599.5 365.5,-643.5 365.5,-643.5 365.5,-649.5 359.5,-655.5 353.5,-655.5\"/>\n<text text-anchor=\"start\" x=\"286.5\" y=\"-640.3\" font-family=\"Helvetica,sans-Serif\" font-size=\"14.00\" fill=\"#000000\">gini = 0.0</text>\n<text text-anchor=\"start\" x=\"276.5\" y=\"-625.3\" font-family=\"Helvetica,sans-Serif\" font-size=\"14.00\" fill=\"#000000\">samples = 5</text>\n<text text-anchor=\"start\" x=\"274.5\" y=\"-610.3\" font-family=\"Helvetica,sans-Serif\" font-size=\"14.00\" fill=\"#000000\">value = [0, 5]</text>\n<text text-anchor=\"start\" x=\"287\" y=\"-595.3\" font-family=\"Helvetica,sans-Serif\" font-size=\"14.00\" fill=\"#000000\">class = 1</text>\n</g>\n<!-- 7&#45;&gt;11 -->\n<g id=\"edge11\" class=\"edge\">\n<title>7&#45;&gt;11</title>\n<path fill=\"none\" stroke=\"#000000\" d=\"M310.1478,-698.8796C310.9545,-688.2134 311.8251,-676.7021 312.6419,-665.9015\"/>\n<polygon fill=\"#000000\" stroke=\"#000000\" points=\"316.1405,-666.0504 313.4048,-655.8149 309.1605,-665.5225 316.1405,-666.0504\"/>\n</g>\n<!-- 9 -->\n<g id=\"node10\" class=\"node\">\n<title>9</title>\n<path fill=\"#399de5\" stroke=\"#000000\" d=\"M103.5,-536.5C103.5,-536.5 28.5,-536.5 28.5,-536.5 22.5,-536.5 16.5,-530.5 16.5,-524.5 16.5,-524.5 16.5,-480.5 16.5,-480.5 16.5,-474.5 22.5,-468.5 28.5,-468.5 28.5,-468.5 103.5,-468.5 103.5,-468.5 109.5,-468.5 115.5,-474.5 115.5,-480.5 115.5,-480.5 115.5,-524.5 115.5,-524.5 115.5,-530.5 109.5,-536.5 103.5,-536.5\"/>\n<text text-anchor=\"start\" x=\"36.5\" y=\"-521.3\" font-family=\"Helvetica,sans-Serif\" font-size=\"14.00\" fill=\"#000000\">gini = 0.0</text>\n<text text-anchor=\"start\" x=\"26.5\" y=\"-506.3\" font-family=\"Helvetica,sans-Serif\" font-size=\"14.00\" fill=\"#000000\">samples = 1</text>\n<text text-anchor=\"start\" x=\"24.5\" y=\"-491.3\" font-family=\"Helvetica,sans-Serif\" font-size=\"14.00\" fill=\"#000000\">value = [0, 1]</text>\n<text text-anchor=\"start\" x=\"37\" y=\"-476.3\" font-family=\"Helvetica,sans-Serif\" font-size=\"14.00\" fill=\"#000000\">class = 1</text>\n</g>\n<!-- 8&#45;&gt;9 -->\n<g id=\"edge9\" class=\"edge\">\n<title>8&#45;&gt;9</title>\n<path fill=\"none\" stroke=\"#000000\" d=\"M103.7144,-579.8796C98.355,-568.8835 92.5578,-556.9893 87.1537,-545.9015\"/>\n<polygon fill=\"#000000\" stroke=\"#000000\" points=\"90.2524,-544.2706 82.7249,-536.8149 83.96,-547.3375 90.2524,-544.2706\"/>\n</g>\n<!-- 10 -->\n<g id=\"node11\" class=\"node\">\n<title>10</title>\n<path fill=\"#e58139\" stroke=\"#000000\" d=\"M220.5,-536.5C220.5,-536.5 145.5,-536.5 145.5,-536.5 139.5,-536.5 133.5,-530.5 133.5,-524.5 133.5,-524.5 133.5,-480.5 133.5,-480.5 133.5,-474.5 139.5,-468.5 145.5,-468.5 145.5,-468.5 220.5,-468.5 220.5,-468.5 226.5,-468.5 232.5,-474.5 232.5,-480.5 232.5,-480.5 232.5,-524.5 232.5,-524.5 232.5,-530.5 226.5,-536.5 220.5,-536.5\"/>\n<text text-anchor=\"start\" x=\"153.5\" y=\"-521.3\" font-family=\"Helvetica,sans-Serif\" font-size=\"14.00\" fill=\"#000000\">gini = 0.0</text>\n<text text-anchor=\"start\" x=\"143.5\" y=\"-506.3\" font-family=\"Helvetica,sans-Serif\" font-size=\"14.00\" fill=\"#000000\">samples = 2</text>\n<text text-anchor=\"start\" x=\"141.5\" y=\"-491.3\" font-family=\"Helvetica,sans-Serif\" font-size=\"14.00\" fill=\"#000000\">value = [2, 0]</text>\n<text text-anchor=\"start\" x=\"154\" y=\"-476.3\" font-family=\"Helvetica,sans-Serif\" font-size=\"14.00\" fill=\"#000000\">class = 0</text>\n</g>\n<!-- 8&#45;&gt;10 -->\n<g id=\"edge10\" class=\"edge\">\n<title>8&#45;&gt;10</title>\n<path fill=\"none\" stroke=\"#000000\" d=\"M144.6353,-579.8796C150.0872,-568.8835 155.9843,-556.9893 161.4816,-545.9015\"/>\n<polygon fill=\"#000000\" stroke=\"#000000\" points=\"164.6804,-547.3289 165.9867,-536.8149 158.4089,-544.2195 164.6804,-547.3289\"/>\n</g>\n<!-- 13 -->\n<g id=\"node14\" class=\"node\">\n<title>13</title>\n<path fill=\"#399de5\" stroke=\"#000000\" d=\"M478.5,-655.5C478.5,-655.5 403.5,-655.5 403.5,-655.5 397.5,-655.5 391.5,-649.5 391.5,-643.5 391.5,-643.5 391.5,-599.5 391.5,-599.5 391.5,-593.5 397.5,-587.5 403.5,-587.5 403.5,-587.5 478.5,-587.5 478.5,-587.5 484.5,-587.5 490.5,-593.5 490.5,-599.5 490.5,-599.5 490.5,-643.5 490.5,-643.5 490.5,-649.5 484.5,-655.5 478.5,-655.5\"/>\n<text text-anchor=\"start\" x=\"411.5\" y=\"-640.3\" font-family=\"Helvetica,sans-Serif\" font-size=\"14.00\" fill=\"#000000\">gini = 0.0</text>\n<text text-anchor=\"start\" x=\"401.5\" y=\"-625.3\" font-family=\"Helvetica,sans-Serif\" font-size=\"14.00\" fill=\"#000000\">samples = 1</text>\n<text text-anchor=\"start\" x=\"399.5\" y=\"-610.3\" font-family=\"Helvetica,sans-Serif\" font-size=\"14.00\" fill=\"#000000\">value = [0, 1]</text>\n<text text-anchor=\"start\" x=\"412\" y=\"-595.3\" font-family=\"Helvetica,sans-Serif\" font-size=\"14.00\" fill=\"#000000\">class = 1</text>\n</g>\n<!-- 12&#45;&gt;13 -->\n<g id=\"edge13\" class=\"edge\">\n<title>12&#45;&gt;13</title>\n<path fill=\"none\" stroke=\"#000000\" d=\"M517.0791,-698.8796C505.7272,-687.3337 493.4018,-674.7976 482.043,-663.2446\"/>\n<polygon fill=\"#000000\" stroke=\"#000000\" points=\"484.2449,-660.4919 474.7382,-655.8149 479.2534,-665.3995 484.2449,-660.4919\"/>\n</g>\n<!-- 14 -->\n<g id=\"node15\" class=\"node\">\n<title>14</title>\n<path fill=\"#e58139\" stroke=\"#000000\" d=\"M595.5,-655.5C595.5,-655.5 520.5,-655.5 520.5,-655.5 514.5,-655.5 508.5,-649.5 508.5,-643.5 508.5,-643.5 508.5,-599.5 508.5,-599.5 508.5,-593.5 514.5,-587.5 520.5,-587.5 520.5,-587.5 595.5,-587.5 595.5,-587.5 601.5,-587.5 607.5,-593.5 607.5,-599.5 607.5,-599.5 607.5,-643.5 607.5,-643.5 607.5,-649.5 601.5,-655.5 595.5,-655.5\"/>\n<text text-anchor=\"start\" x=\"528.5\" y=\"-640.3\" font-family=\"Helvetica,sans-Serif\" font-size=\"14.00\" fill=\"#000000\">gini = 0.0</text>\n<text text-anchor=\"start\" x=\"518.5\" y=\"-625.3\" font-family=\"Helvetica,sans-Serif\" font-size=\"14.00\" fill=\"#000000\">samples = 6</text>\n<text text-anchor=\"start\" x=\"516.5\" y=\"-610.3\" font-family=\"Helvetica,sans-Serif\" font-size=\"14.00\" fill=\"#000000\">value = [6, 0]</text>\n<text text-anchor=\"start\" x=\"529\" y=\"-595.3\" font-family=\"Helvetica,sans-Serif\" font-size=\"14.00\" fill=\"#000000\">class = 0</text>\n</g>\n<!-- 12&#45;&gt;14 -->\n<g id=\"edge14\" class=\"edge\">\n<title>12&#45;&gt;14</title>\n<path fill=\"none\" stroke=\"#000000\" d=\"M558,-698.8796C558,-688.2134 558,-676.7021 558,-665.9015\"/>\n<polygon fill=\"#000000\" stroke=\"#000000\" points=\"561.5001,-665.8149 558,-655.8149 554.5001,-665.815 561.5001,-665.8149\"/>\n</g>\n<!-- 16 -->\n<g id=\"node17\" class=\"node\">\n<title>16</title>\n<path fill=\"#61b1ea\" stroke=\"#000000\" d=\"M1045.5,-782C1045.5,-782 812.5,-782 812.5,-782 806.5,-782 800.5,-776 800.5,-770 800.5,-770 800.5,-711 800.5,-711 800.5,-705 806.5,-699 812.5,-699 812.5,-699 1045.5,-699 1045.5,-699 1051.5,-699 1057.5,-705 1057.5,-711 1057.5,-711 1057.5,-770 1057.5,-770 1057.5,-776 1051.5,-782 1045.5,-782\"/>\n<text text-anchor=\"start\" x=\"808.5\" y=\"-766.8\" font-family=\"Helvetica,sans-Serif\" font-size=\"14.00\" fill=\"#000000\">Aspartate_Aminotransferase ≤ &#45;0.428</text>\n<text text-anchor=\"start\" x=\"891\" y=\"-751.8\" font-family=\"Helvetica,sans-Serif\" font-size=\"14.00\" fill=\"#000000\">gini = 0.278</text>\n<text text-anchor=\"start\" x=\"885\" y=\"-736.8\" font-family=\"Helvetica,sans-Serif\" font-size=\"14.00\" fill=\"#000000\">samples = 24</text>\n<text text-anchor=\"start\" x=\"883.5\" y=\"-721.8\" font-family=\"Helvetica,sans-Serif\" font-size=\"14.00\" fill=\"#000000\">value = [4, 20]</text>\n<text text-anchor=\"start\" x=\"900\" y=\"-706.8\" font-family=\"Helvetica,sans-Serif\" font-size=\"14.00\" fill=\"#000000\">class = 1</text>\n</g>\n<!-- 15&#45;&gt;16 -->\n<g id=\"edge16\" class=\"edge\">\n<title>15&#45;&gt;16</title>\n<path fill=\"none\" stroke=\"#000000\" d=\"M992.7244,-817.8796C985.3816,-808.9633 977.5524,-799.4565 969.9854,-790.268\"/>\n<polygon fill=\"#000000\" stroke=\"#000000\" points=\"972.4808,-787.7924 963.4219,-782.2981 967.0773,-792.2424 972.4808,-787.7924\"/>\n</g>\n<!-- 25 -->\n<g id=\"node26\" class=\"node\">\n<title>25</title>\n<path fill=\"#f2c09c\" stroke=\"#000000\" d=\"M1162.5,-782C1162.5,-782 1087.5,-782 1087.5,-782 1081.5,-782 1075.5,-776 1075.5,-770 1075.5,-770 1075.5,-711 1075.5,-711 1075.5,-705 1081.5,-699 1087.5,-699 1087.5,-699 1162.5,-699 1162.5,-699 1168.5,-699 1174.5,-705 1174.5,-711 1174.5,-711 1174.5,-770 1174.5,-770 1174.5,-776 1168.5,-782 1162.5,-782\"/>\n<text text-anchor=\"start\" x=\"1090.5\" y=\"-766.8\" font-family=\"Helvetica,sans-Serif\" font-size=\"14.00\" fill=\"#000000\">Adult ≤ 0.5</text>\n<text text-anchor=\"start\" x=\"1087\" y=\"-751.8\" font-family=\"Helvetica,sans-Serif\" font-size=\"14.00\" fill=\"#000000\">gini = 0.444</text>\n<text text-anchor=\"start\" x=\"1085.5\" y=\"-736.8\" font-family=\"Helvetica,sans-Serif\" font-size=\"14.00\" fill=\"#000000\">samples = 3</text>\n<text text-anchor=\"start\" x=\"1083.5\" y=\"-721.8\" font-family=\"Helvetica,sans-Serif\" font-size=\"14.00\" fill=\"#000000\">value = [2, 1]</text>\n<text text-anchor=\"start\" x=\"1096\" y=\"-706.8\" font-family=\"Helvetica,sans-Serif\" font-size=\"14.00\" fill=\"#000000\">class = 0</text>\n</g>\n<!-- 15&#45;&gt;25 -->\n<g id=\"edge25\" class=\"edge\">\n<title>15&#45;&gt;25</title>\n<path fill=\"none\" stroke=\"#000000\" d=\"M1061.2756,-817.8796C1068.6184,-808.9633 1076.4476,-799.4565 1084.0146,-790.268\"/>\n<polygon fill=\"#000000\" stroke=\"#000000\" points=\"1086.9227,-792.2424 1090.5781,-782.2981 1081.5192,-787.7924 1086.9227,-792.2424\"/>\n</g>\n<!-- 17 -->\n<g id=\"node18\" class=\"node\">\n<title>17</title>\n<path fill=\"#ffffff\" stroke=\"#000000\" d=\"M776.5,-663C776.5,-663 637.5,-663 637.5,-663 631.5,-663 625.5,-657 625.5,-651 625.5,-651 625.5,-592 625.5,-592 625.5,-586 631.5,-580 637.5,-580 637.5,-580 776.5,-580 776.5,-580 782.5,-580 788.5,-586 788.5,-592 788.5,-592 788.5,-651 788.5,-651 788.5,-657 782.5,-663 776.5,-663\"/>\n<text text-anchor=\"start\" x=\"633.5\" y=\"-647.8\" font-family=\"Helvetica,sans-Serif\" font-size=\"14.00\" fill=\"#000000\">Total_Bilirubin ≤ &#45;0.452</text>\n<text text-anchor=\"start\" x=\"677.5\" y=\"-632.8\" font-family=\"Helvetica,sans-Serif\" font-size=\"14.00\" fill=\"#000000\">gini = 0.5</text>\n<text text-anchor=\"start\" x=\"667.5\" y=\"-617.8\" font-family=\"Helvetica,sans-Serif\" font-size=\"14.00\" fill=\"#000000\">samples = 6</text>\n<text text-anchor=\"start\" x=\"665.5\" y=\"-602.8\" font-family=\"Helvetica,sans-Serif\" font-size=\"14.00\" fill=\"#000000\">value = [3, 3]</text>\n<text text-anchor=\"start\" x=\"678\" y=\"-587.8\" font-family=\"Helvetica,sans-Serif\" font-size=\"14.00\" fill=\"#000000\">class = 0</text>\n</g>\n<!-- 16&#45;&gt;17 -->\n<g id=\"edge17\" class=\"edge\">\n<title>16&#45;&gt;17</title>\n<path fill=\"none\" stroke=\"#000000\" d=\"M851.3552,-698.8796C832.6814,-688.8697 812.6191,-678.1156 793.5672,-667.9031\"/>\n<polygon fill=\"#000000\" stroke=\"#000000\" points=\"795.0682,-664.7366 784.601,-663.0969 791.7611,-670.9062 795.0682,-664.7366\"/>\n</g>\n<!-- 22 -->\n<g id=\"node23\" class=\"node\">\n<title>22</title>\n<path fill=\"#45a3e7\" stroke=\"#000000\" d=\"M1043,-663C1043,-663 819,-663 819,-663 813,-663 807,-657 807,-651 807,-651 807,-592 807,-592 807,-586 813,-580 819,-580 819,-580 1043,-580 1043,-580 1049,-580 1055,-586 1055,-592 1055,-592 1055,-651 1055,-651 1055,-657 1049,-663 1043,-663\"/>\n<text text-anchor=\"start\" x=\"815\" y=\"-647.8\" font-family=\"Helvetica,sans-Serif\" font-size=\"14.00\" fill=\"#000000\">Alamine_Aminotransferase ≤ &#45;0.378</text>\n<text text-anchor=\"start\" x=\"893\" y=\"-632.8\" font-family=\"Helvetica,sans-Serif\" font-size=\"14.00\" fill=\"#000000\">gini = 0.105</text>\n<text text-anchor=\"start\" x=\"887\" y=\"-617.8\" font-family=\"Helvetica,sans-Serif\" font-size=\"14.00\" fill=\"#000000\">samples = 18</text>\n<text text-anchor=\"start\" x=\"885.5\" y=\"-602.8\" font-family=\"Helvetica,sans-Serif\" font-size=\"14.00\" fill=\"#000000\">value = [1, 17]</text>\n<text text-anchor=\"start\" x=\"902\" y=\"-587.8\" font-family=\"Helvetica,sans-Serif\" font-size=\"14.00\" fill=\"#000000\">class = 1</text>\n</g>\n<!-- 16&#45;&gt;22 -->\n<g id=\"edge22\" class=\"edge\">\n<title>16&#45;&gt;22</title>\n<path fill=\"none\" stroke=\"#000000\" d=\"M929.6995,-698.8796C929.8372,-690.6838 929.9834,-681.9891 930.126,-673.5013\"/>\n<polygon fill=\"#000000\" stroke=\"#000000\" points=\"933.6289,-673.3555 930.2975,-663.2981 926.6299,-673.2378 933.6289,-673.3555\"/>\n</g>\n<!-- 18 -->\n<g id=\"node19\" class=\"node\">\n<title>18</title>\n<path fill=\"#399de5\" stroke=\"#000000\" d=\"M572.5,-536.5C572.5,-536.5 497.5,-536.5 497.5,-536.5 491.5,-536.5 485.5,-530.5 485.5,-524.5 485.5,-524.5 485.5,-480.5 485.5,-480.5 485.5,-474.5 491.5,-468.5 497.5,-468.5 497.5,-468.5 572.5,-468.5 572.5,-468.5 578.5,-468.5 584.5,-474.5 584.5,-480.5 584.5,-480.5 584.5,-524.5 584.5,-524.5 584.5,-530.5 578.5,-536.5 572.5,-536.5\"/>\n<text text-anchor=\"start\" x=\"505.5\" y=\"-521.3\" font-family=\"Helvetica,sans-Serif\" font-size=\"14.00\" fill=\"#000000\">gini = 0.0</text>\n<text text-anchor=\"start\" x=\"495.5\" y=\"-506.3\" font-family=\"Helvetica,sans-Serif\" font-size=\"14.00\" fill=\"#000000\">samples = 2</text>\n<text text-anchor=\"start\" x=\"493.5\" y=\"-491.3\" font-family=\"Helvetica,sans-Serif\" font-size=\"14.00\" fill=\"#000000\">value = [0, 2]</text>\n<text text-anchor=\"start\" x=\"506\" y=\"-476.3\" font-family=\"Helvetica,sans-Serif\" font-size=\"14.00\" fill=\"#000000\">class = 1</text>\n</g>\n<!-- 17&#45;&gt;18 -->\n<g id=\"edge18\" class=\"edge\">\n<title>17&#45;&gt;18</title>\n<path fill=\"none\" stroke=\"#000000\" d=\"M645.2843,-579.9393C628.2851,-568.3844 609.8807,-555.7747 593,-544 592.2447,-543.4732 591.4843,-542.9419 590.7198,-542.407\"/>\n<polygon fill=\"#000000\" stroke=\"#000000\" points=\"592.6061,-539.4546 582.4129,-536.565 588.5793,-545.1805 592.6061,-539.4546\"/>\n</g>\n<!-- 19 -->\n<g id=\"node20\" class=\"node\">\n<title>19</title>\n<path fill=\"#eeab7b\" stroke=\"#000000\" d=\"M821.5,-544C821.5,-544 614.5,-544 614.5,-544 608.5,-544 602.5,-538 602.5,-532 602.5,-532 602.5,-473 602.5,-473 602.5,-467 608.5,-461 614.5,-461 614.5,-461 821.5,-461 821.5,-461 827.5,-461 833.5,-467 833.5,-473 833.5,-473 833.5,-532 833.5,-532 833.5,-538 827.5,-544 821.5,-544\"/>\n<text text-anchor=\"start\" x=\"610.5\" y=\"-528.8\" font-family=\"Helvetica,sans-Serif\" font-size=\"14.00\" fill=\"#000000\">Alamine_Aminotransferase ≤ &#45;0.3</text>\n<text text-anchor=\"start\" x=\"680\" y=\"-513.8\" font-family=\"Helvetica,sans-Serif\" font-size=\"14.00\" fill=\"#000000\">gini = 0.375</text>\n<text text-anchor=\"start\" x=\"678.5\" y=\"-498.8\" font-family=\"Helvetica,sans-Serif\" font-size=\"14.00\" fill=\"#000000\">samples = 4</text>\n<text text-anchor=\"start\" x=\"676.5\" y=\"-483.8\" font-family=\"Helvetica,sans-Serif\" font-size=\"14.00\" fill=\"#000000\">value = [3, 1]</text>\n<text text-anchor=\"start\" x=\"689\" y=\"-468.8\" font-family=\"Helvetica,sans-Serif\" font-size=\"14.00\" fill=\"#000000\">class = 0</text>\n</g>\n<!-- 17&#45;&gt;19 -->\n<g id=\"edge19\" class=\"edge\">\n<title>17&#45;&gt;19</title>\n<path fill=\"none\" stroke=\"#000000\" d=\"M710.8473,-579.8796C711.6049,-571.6838 712.4086,-562.9891 713.1932,-554.5013\"/>\n<polygon fill=\"#000000\" stroke=\"#000000\" points=\"716.7009,-554.5778 714.1363,-544.2981 709.7306,-553.9334 716.7009,-554.5778\"/>\n</g>\n<!-- 20 -->\n<g id=\"node21\" class=\"node\">\n<title>20</title>\n<path fill=\"#e58139\" stroke=\"#000000\" d=\"M697.5,-417.5C697.5,-417.5 622.5,-417.5 622.5,-417.5 616.5,-417.5 610.5,-411.5 610.5,-405.5 610.5,-405.5 610.5,-361.5 610.5,-361.5 610.5,-355.5 616.5,-349.5 622.5,-349.5 622.5,-349.5 697.5,-349.5 697.5,-349.5 703.5,-349.5 709.5,-355.5 709.5,-361.5 709.5,-361.5 709.5,-405.5 709.5,-405.5 709.5,-411.5 703.5,-417.5 697.5,-417.5\"/>\n<text text-anchor=\"start\" x=\"630.5\" y=\"-402.3\" font-family=\"Helvetica,sans-Serif\" font-size=\"14.00\" fill=\"#000000\">gini = 0.0</text>\n<text text-anchor=\"start\" x=\"620.5\" y=\"-387.3\" font-family=\"Helvetica,sans-Serif\" font-size=\"14.00\" fill=\"#000000\">samples = 3</text>\n<text text-anchor=\"start\" x=\"618.5\" y=\"-372.3\" font-family=\"Helvetica,sans-Serif\" font-size=\"14.00\" fill=\"#000000\">value = [3, 0]</text>\n<text text-anchor=\"start\" x=\"631\" y=\"-357.3\" font-family=\"Helvetica,sans-Serif\" font-size=\"14.00\" fill=\"#000000\">class = 0</text>\n</g>\n<!-- 19&#45;&gt;20 -->\n<g id=\"edge20\" class=\"edge\">\n<title>19&#45;&gt;20</title>\n<path fill=\"none\" stroke=\"#000000\" d=\"M697.7144,-460.8796C692.355,-449.8835 686.5578,-437.9893 681.1537,-426.9015\"/>\n<polygon fill=\"#000000\" stroke=\"#000000\" points=\"684.2524,-425.2706 676.7249,-417.8149 677.96,-428.3375 684.2524,-425.2706\"/>\n</g>\n<!-- 21 -->\n<g id=\"node22\" class=\"node\">\n<title>21</title>\n<path fill=\"#399de5\" stroke=\"#000000\" d=\"M814.5,-417.5C814.5,-417.5 739.5,-417.5 739.5,-417.5 733.5,-417.5 727.5,-411.5 727.5,-405.5 727.5,-405.5 727.5,-361.5 727.5,-361.5 727.5,-355.5 733.5,-349.5 739.5,-349.5 739.5,-349.5 814.5,-349.5 814.5,-349.5 820.5,-349.5 826.5,-355.5 826.5,-361.5 826.5,-361.5 826.5,-405.5 826.5,-405.5 826.5,-411.5 820.5,-417.5 814.5,-417.5\"/>\n<text text-anchor=\"start\" x=\"747.5\" y=\"-402.3\" font-family=\"Helvetica,sans-Serif\" font-size=\"14.00\" fill=\"#000000\">gini = 0.0</text>\n<text text-anchor=\"start\" x=\"737.5\" y=\"-387.3\" font-family=\"Helvetica,sans-Serif\" font-size=\"14.00\" fill=\"#000000\">samples = 1</text>\n<text text-anchor=\"start\" x=\"735.5\" y=\"-372.3\" font-family=\"Helvetica,sans-Serif\" font-size=\"14.00\" fill=\"#000000\">value = [0, 1]</text>\n<text text-anchor=\"start\" x=\"748\" y=\"-357.3\" font-family=\"Helvetica,sans-Serif\" font-size=\"14.00\" fill=\"#000000\">class = 1</text>\n</g>\n<!-- 19&#45;&gt;21 -->\n<g id=\"edge21\" class=\"edge\">\n<title>19&#45;&gt;21</title>\n<path fill=\"none\" stroke=\"#000000\" d=\"M738.6353,-460.8796C744.0872,-449.8835 749.9843,-437.9893 755.4816,-426.9015\"/>\n<polygon fill=\"#000000\" stroke=\"#000000\" points=\"758.6804,-428.3289 759.9867,-417.8149 752.4089,-425.2195 758.6804,-428.3289\"/>\n</g>\n<!-- 23 -->\n<g id=\"node24\" class=\"node\">\n<title>23</title>\n<path fill=\"#e58139\" stroke=\"#000000\" d=\"M958.5,-536.5C958.5,-536.5 883.5,-536.5 883.5,-536.5 877.5,-536.5 871.5,-530.5 871.5,-524.5 871.5,-524.5 871.5,-480.5 871.5,-480.5 871.5,-474.5 877.5,-468.5 883.5,-468.5 883.5,-468.5 958.5,-468.5 958.5,-468.5 964.5,-468.5 970.5,-474.5 970.5,-480.5 970.5,-480.5 970.5,-524.5 970.5,-524.5 970.5,-530.5 964.5,-536.5 958.5,-536.5\"/>\n<text text-anchor=\"start\" x=\"891.5\" y=\"-521.3\" font-family=\"Helvetica,sans-Serif\" font-size=\"14.00\" fill=\"#000000\">gini = 0.0</text>\n<text text-anchor=\"start\" x=\"881.5\" y=\"-506.3\" font-family=\"Helvetica,sans-Serif\" font-size=\"14.00\" fill=\"#000000\">samples = 1</text>\n<text text-anchor=\"start\" x=\"879.5\" y=\"-491.3\" font-family=\"Helvetica,sans-Serif\" font-size=\"14.00\" fill=\"#000000\">value = [1, 0]</text>\n<text text-anchor=\"start\" x=\"892\" y=\"-476.3\" font-family=\"Helvetica,sans-Serif\" font-size=\"14.00\" fill=\"#000000\">class = 0</text>\n</g>\n<!-- 22&#45;&gt;23 -->\n<g id=\"edge23\" class=\"edge\">\n<title>22&#45;&gt;23</title>\n<path fill=\"none\" stroke=\"#000000\" d=\"M927.5025,-579.8796C926.6062,-569.2134 925.6388,-557.7021 924.7312,-546.9015\"/>\n<polygon fill=\"#000000\" stroke=\"#000000\" points=\"928.2088,-546.4867 923.8836,-536.8149 921.2334,-547.0729 928.2088,-546.4867\"/>\n</g>\n<!-- 24 -->\n<g id=\"node25\" class=\"node\">\n<title>24</title>\n<path fill=\"#399de5\" stroke=\"#000000\" d=\"M1083.5,-536.5C1083.5,-536.5 1000.5,-536.5 1000.5,-536.5 994.5,-536.5 988.5,-530.5 988.5,-524.5 988.5,-524.5 988.5,-480.5 988.5,-480.5 988.5,-474.5 994.5,-468.5 1000.5,-468.5 1000.5,-468.5 1083.5,-468.5 1083.5,-468.5 1089.5,-468.5 1095.5,-474.5 1095.5,-480.5 1095.5,-480.5 1095.5,-524.5 1095.5,-524.5 1095.5,-530.5 1089.5,-536.5 1083.5,-536.5\"/>\n<text text-anchor=\"start\" x=\"1012.5\" y=\"-521.3\" font-family=\"Helvetica,sans-Serif\" font-size=\"14.00\" fill=\"#000000\">gini = 0.0</text>\n<text text-anchor=\"start\" x=\"998\" y=\"-506.3\" font-family=\"Helvetica,sans-Serif\" font-size=\"14.00\" fill=\"#000000\">samples = 17</text>\n<text text-anchor=\"start\" x=\"996.5\" y=\"-491.3\" font-family=\"Helvetica,sans-Serif\" font-size=\"14.00\" fill=\"#000000\">value = [0, 17]</text>\n<text text-anchor=\"start\" x=\"1013\" y=\"-476.3\" font-family=\"Helvetica,sans-Serif\" font-size=\"14.00\" fill=\"#000000\">class = 1</text>\n</g>\n<!-- 22&#45;&gt;24 -->\n<g id=\"edge24\" class=\"edge\">\n<title>22&#45;&gt;24</title>\n<path fill=\"none\" stroke=\"#000000\" d=\"M969.8224,-579.8796C980.5921,-568.3337 992.2854,-555.7976 1003.0617,-544.2446\"/>\n<polygon fill=\"#000000\" stroke=\"#000000\" points=\"1005.7303,-546.5149 1009.992,-536.8149 1000.6115,-541.7402 1005.7303,-546.5149\"/>\n</g>\n<!-- 26 -->\n<g id=\"node27\" class=\"node\">\n<title>26</title>\n<path fill=\"#399de5\" stroke=\"#000000\" d=\"M1160.5,-655.5C1160.5,-655.5 1085.5,-655.5 1085.5,-655.5 1079.5,-655.5 1073.5,-649.5 1073.5,-643.5 1073.5,-643.5 1073.5,-599.5 1073.5,-599.5 1073.5,-593.5 1079.5,-587.5 1085.5,-587.5 1085.5,-587.5 1160.5,-587.5 1160.5,-587.5 1166.5,-587.5 1172.5,-593.5 1172.5,-599.5 1172.5,-599.5 1172.5,-643.5 1172.5,-643.5 1172.5,-649.5 1166.5,-655.5 1160.5,-655.5\"/>\n<text text-anchor=\"start\" x=\"1093.5\" y=\"-640.3\" font-family=\"Helvetica,sans-Serif\" font-size=\"14.00\" fill=\"#000000\">gini = 0.0</text>\n<text text-anchor=\"start\" x=\"1083.5\" y=\"-625.3\" font-family=\"Helvetica,sans-Serif\" font-size=\"14.00\" fill=\"#000000\">samples = 1</text>\n<text text-anchor=\"start\" x=\"1081.5\" y=\"-610.3\" font-family=\"Helvetica,sans-Serif\" font-size=\"14.00\" fill=\"#000000\">value = [0, 1]</text>\n<text text-anchor=\"start\" x=\"1094\" y=\"-595.3\" font-family=\"Helvetica,sans-Serif\" font-size=\"14.00\" fill=\"#000000\">class = 1</text>\n</g>\n<!-- 25&#45;&gt;26 -->\n<g id=\"edge26\" class=\"edge\">\n<title>25&#45;&gt;26</title>\n<path fill=\"none\" stroke=\"#000000\" d=\"M1124.3005,-698.8796C1124.1212,-688.2134 1123.9278,-676.7021 1123.7462,-665.9015\"/>\n<polygon fill=\"#000000\" stroke=\"#000000\" points=\"1127.2444,-665.7547 1123.5767,-655.8149 1120.2454,-665.8724 1127.2444,-665.7547\"/>\n</g>\n<!-- 27 -->\n<g id=\"node28\" class=\"node\">\n<title>27</title>\n<path fill=\"#e58139\" stroke=\"#000000\" d=\"M1277.5,-655.5C1277.5,-655.5 1202.5,-655.5 1202.5,-655.5 1196.5,-655.5 1190.5,-649.5 1190.5,-643.5 1190.5,-643.5 1190.5,-599.5 1190.5,-599.5 1190.5,-593.5 1196.5,-587.5 1202.5,-587.5 1202.5,-587.5 1277.5,-587.5 1277.5,-587.5 1283.5,-587.5 1289.5,-593.5 1289.5,-599.5 1289.5,-599.5 1289.5,-643.5 1289.5,-643.5 1289.5,-649.5 1283.5,-655.5 1277.5,-655.5\"/>\n<text text-anchor=\"start\" x=\"1210.5\" y=\"-640.3\" font-family=\"Helvetica,sans-Serif\" font-size=\"14.00\" fill=\"#000000\">gini = 0.0</text>\n<text text-anchor=\"start\" x=\"1200.5\" y=\"-625.3\" font-family=\"Helvetica,sans-Serif\" font-size=\"14.00\" fill=\"#000000\">samples = 2</text>\n<text text-anchor=\"start\" x=\"1198.5\" y=\"-610.3\" font-family=\"Helvetica,sans-Serif\" font-size=\"14.00\" fill=\"#000000\">value = [2, 0]</text>\n<text text-anchor=\"start\" x=\"1211\" y=\"-595.3\" font-family=\"Helvetica,sans-Serif\" font-size=\"14.00\" fill=\"#000000\">class = 0</text>\n</g>\n<!-- 25&#45;&gt;27 -->\n<g id=\"edge27\" class=\"edge\">\n<title>25&#45;&gt;27</title>\n<path fill=\"none\" stroke=\"#000000\" d=\"M1165.2214,-698.8796C1176.3792,-687.3337 1188.4939,-674.7976 1199.6586,-663.2446\"/>\n<polygon fill=\"#000000\" stroke=\"#000000\" points=\"1202.4061,-665.4381 1206.8385,-655.8149 1197.3725,-660.5736 1202.4061,-665.4381\"/>\n</g>\n<!-- 29 -->\n<g id=\"node30\" class=\"node\">\n<title>29</title>\n<path fill=\"#eda877\" stroke=\"#000000\" d=\"M1601.5,-901C1601.5,-901 1504.5,-901 1504.5,-901 1498.5,-901 1492.5,-895 1492.5,-889 1492.5,-889 1492.5,-830 1492.5,-830 1492.5,-824 1498.5,-818 1504.5,-818 1504.5,-818 1601.5,-818 1601.5,-818 1607.5,-818 1613.5,-824 1613.5,-830 1613.5,-830 1613.5,-889 1613.5,-889 1613.5,-895 1607.5,-901 1601.5,-901\"/>\n<text text-anchor=\"start\" x=\"1500.5\" y=\"-885.8\" font-family=\"Helvetica,sans-Serif\" font-size=\"14.00\" fill=\"#000000\">Albumin ≤ 0.476</text>\n<text text-anchor=\"start\" x=\"1515\" y=\"-870.8\" font-family=\"Helvetica,sans-Serif\" font-size=\"14.00\" fill=\"#000000\">gini = 0.363</text>\n<text text-anchor=\"start\" x=\"1509\" y=\"-855.8\" font-family=\"Helvetica,sans-Serif\" font-size=\"14.00\" fill=\"#000000\">samples = 21</text>\n<text text-anchor=\"start\" x=\"1507.5\" y=\"-840.8\" font-family=\"Helvetica,sans-Serif\" font-size=\"14.00\" fill=\"#000000\">value = [16, 5]</text>\n<text text-anchor=\"start\" x=\"1524\" y=\"-825.8\" font-family=\"Helvetica,sans-Serif\" font-size=\"14.00\" fill=\"#000000\">class = 0</text>\n</g>\n<!-- 28&#45;&gt;29 -->\n<g id=\"edge29\" class=\"edge\">\n<title>28&#45;&gt;29</title>\n<path fill=\"none\" stroke=\"#000000\" d=\"M1640.7836,-936.8796C1630.2598,-927.6031 1619.0109,-917.6874 1608.1979,-908.1559\"/>\n<polygon fill=\"#000000\" stroke=\"#000000\" points=\"1610.234,-905.2851 1600.418,-901.2981 1605.6052,-910.5362 1610.234,-905.2851\"/>\n</g>\n<!-- 40 -->\n<g id=\"node41\" class=\"node\">\n<title>40</title>\n<path fill=\"#e3f1fb\" stroke=\"#000000\" d=\"M1939.5,-901C1939.5,-901 1706.5,-901 1706.5,-901 1700.5,-901 1694.5,-895 1694.5,-889 1694.5,-889 1694.5,-830 1694.5,-830 1694.5,-824 1700.5,-818 1706.5,-818 1706.5,-818 1939.5,-818 1939.5,-818 1945.5,-818 1951.5,-824 1951.5,-830 1951.5,-830 1951.5,-889 1951.5,-889 1951.5,-895 1945.5,-901 1939.5,-901\"/>\n<text text-anchor=\"start\" x=\"1702.5\" y=\"-885.8\" font-family=\"Helvetica,sans-Serif\" font-size=\"14.00\" fill=\"#000000\">Aspartate_Aminotransferase ≤ &#45;0.383</text>\n<text text-anchor=\"start\" x=\"1785\" y=\"-870.8\" font-family=\"Helvetica,sans-Serif\" font-size=\"14.00\" fill=\"#000000\">gini = 0.497</text>\n<text text-anchor=\"start\" x=\"1779\" y=\"-855.8\" font-family=\"Helvetica,sans-Serif\" font-size=\"14.00\" fill=\"#000000\">samples = 39</text>\n<text text-anchor=\"start\" x=\"1773\" y=\"-840.8\" font-family=\"Helvetica,sans-Serif\" font-size=\"14.00\" fill=\"#000000\">value = [18, 21]</text>\n<text text-anchor=\"start\" x=\"1794\" y=\"-825.8\" font-family=\"Helvetica,sans-Serif\" font-size=\"14.00\" fill=\"#000000\">class = 1</text>\n</g>\n<!-- 28&#45;&gt;40 -->\n<g id=\"edge40\" class=\"edge\">\n<title>28&#45;&gt;40</title>\n<path fill=\"none\" stroke=\"#000000\" d=\"M1735.2164,-936.8796C1745.7402,-927.6031 1756.9891,-917.6874 1767.8021,-908.1559\"/>\n<polygon fill=\"#000000\" stroke=\"#000000\" points=\"1770.3948,-910.5362 1775.582,-901.2981 1765.766,-905.2851 1770.3948,-910.5362\"/>\n</g>\n<!-- 30 -->\n<g id=\"node31\" class=\"node\">\n<title>30</title>\n<path fill=\"#e58139\" stroke=\"#000000\" d=\"M1462.5,-774.5C1462.5,-774.5 1387.5,-774.5 1387.5,-774.5 1381.5,-774.5 1375.5,-768.5 1375.5,-762.5 1375.5,-762.5 1375.5,-718.5 1375.5,-718.5 1375.5,-712.5 1381.5,-706.5 1387.5,-706.5 1387.5,-706.5 1462.5,-706.5 1462.5,-706.5 1468.5,-706.5 1474.5,-712.5 1474.5,-718.5 1474.5,-718.5 1474.5,-762.5 1474.5,-762.5 1474.5,-768.5 1468.5,-774.5 1462.5,-774.5\"/>\n<text text-anchor=\"start\" x=\"1395.5\" y=\"-759.3\" font-family=\"Helvetica,sans-Serif\" font-size=\"14.00\" fill=\"#000000\">gini = 0.0</text>\n<text text-anchor=\"start\" x=\"1385.5\" y=\"-744.3\" font-family=\"Helvetica,sans-Serif\" font-size=\"14.00\" fill=\"#000000\">samples = 9</text>\n<text text-anchor=\"start\" x=\"1383.5\" y=\"-729.3\" font-family=\"Helvetica,sans-Serif\" font-size=\"14.00\" fill=\"#000000\">value = [9, 0]</text>\n<text text-anchor=\"start\" x=\"1396\" y=\"-714.3\" font-family=\"Helvetica,sans-Serif\" font-size=\"14.00\" fill=\"#000000\">class = 0</text>\n</g>\n<!-- 29&#45;&gt;30 -->\n<g id=\"edge30\" class=\"edge\">\n<title>29&#45;&gt;30</title>\n<path fill=\"none\" stroke=\"#000000\" d=\"M1508.2318,-817.8796C1495.6944,-806.2237 1482.0716,-793.5587 1469.547,-781.9148\"/>\n<polygon fill=\"#000000\" stroke=\"#000000\" points=\"1471.6172,-779.0605 1461.9102,-774.8149 1466.8509,-784.1872 1471.6172,-779.0605\"/>\n</g>\n<!-- 31 -->\n<g id=\"node32\" class=\"node\">\n<title>31</title>\n<path fill=\"#f8dbc6\" stroke=\"#000000\" d=\"M1601.5,-782C1601.5,-782 1504.5,-782 1504.5,-782 1498.5,-782 1492.5,-776 1492.5,-770 1492.5,-770 1492.5,-711 1492.5,-711 1492.5,-705 1498.5,-699 1504.5,-699 1504.5,-699 1601.5,-699 1601.5,-699 1607.5,-699 1613.5,-705 1613.5,-711 1613.5,-711 1613.5,-770 1613.5,-770 1613.5,-776 1607.5,-782 1601.5,-782\"/>\n<text text-anchor=\"start\" x=\"1500.5\" y=\"-766.8\" font-family=\"Helvetica,sans-Serif\" font-size=\"14.00\" fill=\"#000000\">Albumin ≤ 0.664</text>\n<text text-anchor=\"start\" x=\"1515\" y=\"-751.8\" font-family=\"Helvetica,sans-Serif\" font-size=\"14.00\" fill=\"#000000\">gini = 0.486</text>\n<text text-anchor=\"start\" x=\"1509\" y=\"-736.8\" font-family=\"Helvetica,sans-Serif\" font-size=\"14.00\" fill=\"#000000\">samples = 12</text>\n<text text-anchor=\"start\" x=\"1511.5\" y=\"-721.8\" font-family=\"Helvetica,sans-Serif\" font-size=\"14.00\" fill=\"#000000\">value = [7, 5]</text>\n<text text-anchor=\"start\" x=\"1524\" y=\"-706.8\" font-family=\"Helvetica,sans-Serif\" font-size=\"14.00\" fill=\"#000000\">class = 0</text>\n</g>\n<!-- 29&#45;&gt;31 -->\n<g id=\"edge31\" class=\"edge\">\n<title>29&#45;&gt;31</title>\n<path fill=\"none\" stroke=\"#000000\" d=\"M1553,-817.8796C1553,-809.6838 1553,-800.9891 1553,-792.5013\"/>\n<polygon fill=\"#000000\" stroke=\"#000000\" points=\"1556.5001,-792.298 1553,-782.2981 1549.5001,-792.2981 1556.5001,-792.298\"/>\n</g>\n<!-- 32 -->\n<g id=\"node33\" class=\"node\">\n<title>32</title>\n<path fill=\"#399de5\" stroke=\"#000000\" d=\"M1394.5,-655.5C1394.5,-655.5 1319.5,-655.5 1319.5,-655.5 1313.5,-655.5 1307.5,-649.5 1307.5,-643.5 1307.5,-643.5 1307.5,-599.5 1307.5,-599.5 1307.5,-593.5 1313.5,-587.5 1319.5,-587.5 1319.5,-587.5 1394.5,-587.5 1394.5,-587.5 1400.5,-587.5 1406.5,-593.5 1406.5,-599.5 1406.5,-599.5 1406.5,-643.5 1406.5,-643.5 1406.5,-649.5 1400.5,-655.5 1394.5,-655.5\"/>\n<text text-anchor=\"start\" x=\"1327.5\" y=\"-640.3\" font-family=\"Helvetica,sans-Serif\" font-size=\"14.00\" fill=\"#000000\">gini = 0.0</text>\n<text text-anchor=\"start\" x=\"1317.5\" y=\"-625.3\" font-family=\"Helvetica,sans-Serif\" font-size=\"14.00\" fill=\"#000000\">samples = 2</text>\n<text text-anchor=\"start\" x=\"1315.5\" y=\"-610.3\" font-family=\"Helvetica,sans-Serif\" font-size=\"14.00\" fill=\"#000000\">value = [0, 2]</text>\n<text text-anchor=\"start\" x=\"1328\" y=\"-595.3\" font-family=\"Helvetica,sans-Serif\" font-size=\"14.00\" fill=\"#000000\">class = 1</text>\n</g>\n<!-- 31&#45;&gt;32 -->\n<g id=\"edge32\" class=\"edge\">\n<title>31&#45;&gt;32</title>\n<path fill=\"none\" stroke=\"#000000\" d=\"M1492.3976,-704.3295C1489.2274,-702.5132 1486.0808,-700.7274 1483,-699 1453.1725,-682.2756 1444.0817,-680.9899 1415,-663 1414.0523,-662.4138 1413.0996,-661.8175 1412.1433,-661.2125\"/>\n<polygon fill=\"#000000\" stroke=\"#000000\" points=\"1413.773,-658.0971 1403.4831,-655.5734 1409.9533,-663.9631 1413.773,-658.0971\"/>\n</g>\n<!-- 33 -->\n<g id=\"node34\" class=\"node\">\n<title>33</title>\n<path fill=\"#f0b78e\" stroke=\"#000000\" d=\"M1669.5,-663C1669.5,-663 1436.5,-663 1436.5,-663 1430.5,-663 1424.5,-657 1424.5,-651 1424.5,-651 1424.5,-592 1424.5,-592 1424.5,-586 1430.5,-580 1436.5,-580 1436.5,-580 1669.5,-580 1669.5,-580 1675.5,-580 1681.5,-586 1681.5,-592 1681.5,-592 1681.5,-651 1681.5,-651 1681.5,-657 1675.5,-663 1669.5,-663\"/>\n<text text-anchor=\"start\" x=\"1432.5\" y=\"-647.8\" font-family=\"Helvetica,sans-Serif\" font-size=\"14.00\" fill=\"#000000\">Albumin_and_Globulin_Ratio ≤ 0.983</text>\n<text text-anchor=\"start\" x=\"1519.5\" y=\"-632.8\" font-family=\"Helvetica,sans-Serif\" font-size=\"14.00\" fill=\"#000000\">gini = 0.42</text>\n<text text-anchor=\"start\" x=\"1509\" y=\"-617.8\" font-family=\"Helvetica,sans-Serif\" font-size=\"14.00\" fill=\"#000000\">samples = 10</text>\n<text text-anchor=\"start\" x=\"1511.5\" y=\"-602.8\" font-family=\"Helvetica,sans-Serif\" font-size=\"14.00\" fill=\"#000000\">value = [7, 3]</text>\n<text text-anchor=\"start\" x=\"1524\" y=\"-587.8\" font-family=\"Helvetica,sans-Serif\" font-size=\"14.00\" fill=\"#000000\">class = 0</text>\n</g>\n<!-- 31&#45;&gt;33 -->\n<g id=\"edge33\" class=\"edge\">\n<title>31&#45;&gt;33</title>\n<path fill=\"none\" stroke=\"#000000\" d=\"M1553,-698.8796C1553,-690.6838 1553,-681.9891 1553,-673.5013\"/>\n<polygon fill=\"#000000\" stroke=\"#000000\" points=\"1556.5001,-673.298 1553,-663.2981 1549.5001,-673.2981 1556.5001,-673.298\"/>\n</g>\n<!-- 34 -->\n<g id=\"node35\" class=\"node\">\n<title>34</title>\n<path fill=\"#e9965a\" stroke=\"#000000\" d=\"M1467,-544C1467,-544 1243,-544 1243,-544 1237,-544 1231,-538 1231,-532 1231,-532 1231,-473 1231,-473 1231,-467 1237,-461 1243,-461 1243,-461 1467,-461 1467,-461 1473,-461 1479,-467 1479,-473 1479,-473 1479,-532 1479,-532 1479,-538 1473,-544 1467,-544\"/>\n<text text-anchor=\"start\" x=\"1239\" y=\"-528.8\" font-family=\"Helvetica,sans-Serif\" font-size=\"14.00\" fill=\"#000000\">Alamine_Aminotransferase ≤ &#45;0.276</text>\n<text text-anchor=\"start\" x=\"1317\" y=\"-513.8\" font-family=\"Helvetica,sans-Serif\" font-size=\"14.00\" fill=\"#000000\">gini = 0.245</text>\n<text text-anchor=\"start\" x=\"1315.5\" y=\"-498.8\" font-family=\"Helvetica,sans-Serif\" font-size=\"14.00\" fill=\"#000000\">samples = 7</text>\n<text text-anchor=\"start\" x=\"1313.5\" y=\"-483.8\" font-family=\"Helvetica,sans-Serif\" font-size=\"14.00\" fill=\"#000000\">value = [6, 1]</text>\n<text text-anchor=\"start\" x=\"1326\" y=\"-468.8\" font-family=\"Helvetica,sans-Serif\" font-size=\"14.00\" fill=\"#000000\">class = 0</text>\n</g>\n<!-- 33&#45;&gt;34 -->\n<g id=\"edge34\" class=\"edge\">\n<title>33&#45;&gt;34</title>\n<path fill=\"none\" stroke=\"#000000\" d=\"M1483.7492,-579.8796C1467.3203,-570.0056 1449.6864,-559.4075 1432.9011,-549.3193\"/>\n<polygon fill=\"#000000\" stroke=\"#000000\" points=\"1434.5858,-546.2484 1424.2117,-544.0969 1430.9798,-552.2482 1434.5858,-546.2484\"/>\n</g>\n<!-- 37 -->\n<g id=\"node38\" class=\"node\">\n<title>37</title>\n<path fill=\"#9ccef2\" stroke=\"#000000\" d=\"M1590.5,-544C1590.5,-544 1515.5,-544 1515.5,-544 1509.5,-544 1503.5,-538 1503.5,-532 1503.5,-532 1503.5,-473 1503.5,-473 1503.5,-467 1509.5,-461 1515.5,-461 1515.5,-461 1590.5,-461 1590.5,-461 1596.5,-461 1602.5,-467 1602.5,-473 1602.5,-473 1602.5,-532 1602.5,-532 1602.5,-538 1596.5,-544 1590.5,-544\"/>\n<text text-anchor=\"start\" x=\"1524\" y=\"-528.8\" font-family=\"Helvetica,sans-Serif\" font-size=\"14.00\" fill=\"#000000\">Old ≤ 0.5</text>\n<text text-anchor=\"start\" x=\"1515\" y=\"-513.8\" font-family=\"Helvetica,sans-Serif\" font-size=\"14.00\" fill=\"#000000\">gini = 0.444</text>\n<text text-anchor=\"start\" x=\"1513.5\" y=\"-498.8\" font-family=\"Helvetica,sans-Serif\" font-size=\"14.00\" fill=\"#000000\">samples = 3</text>\n<text text-anchor=\"start\" x=\"1511.5\" y=\"-483.8\" font-family=\"Helvetica,sans-Serif\" font-size=\"14.00\" fill=\"#000000\">value = [1, 2]</text>\n<text text-anchor=\"start\" x=\"1524\" y=\"-468.8\" font-family=\"Helvetica,sans-Serif\" font-size=\"14.00\" fill=\"#000000\">class = 1</text>\n</g>\n<!-- 33&#45;&gt;37 -->\n<g id=\"edge37\" class=\"edge\">\n<title>33&#45;&gt;37</title>\n<path fill=\"none\" stroke=\"#000000\" d=\"M1553,-579.8796C1553,-571.6838 1553,-562.9891 1553,-554.5013\"/>\n<polygon fill=\"#000000\" stroke=\"#000000\" points=\"1556.5001,-554.298 1553,-544.2981 1549.5001,-554.2981 1556.5001,-554.298\"/>\n</g>\n<!-- 35 -->\n<g id=\"node36\" class=\"node\">\n<title>35</title>\n<path fill=\"#e58139\" stroke=\"#000000\" d=\"M1275.5,-417.5C1275.5,-417.5 1200.5,-417.5 1200.5,-417.5 1194.5,-417.5 1188.5,-411.5 1188.5,-405.5 1188.5,-405.5 1188.5,-361.5 1188.5,-361.5 1188.5,-355.5 1194.5,-349.5 1200.5,-349.5 1200.5,-349.5 1275.5,-349.5 1275.5,-349.5 1281.5,-349.5 1287.5,-355.5 1287.5,-361.5 1287.5,-361.5 1287.5,-405.5 1287.5,-405.5 1287.5,-411.5 1281.5,-417.5 1275.5,-417.5\"/>\n<text text-anchor=\"start\" x=\"1208.5\" y=\"-402.3\" font-family=\"Helvetica,sans-Serif\" font-size=\"14.00\" fill=\"#000000\">gini = 0.0</text>\n<text text-anchor=\"start\" x=\"1198.5\" y=\"-387.3\" font-family=\"Helvetica,sans-Serif\" font-size=\"14.00\" fill=\"#000000\">samples = 6</text>\n<text text-anchor=\"start\" x=\"1196.5\" y=\"-372.3\" font-family=\"Helvetica,sans-Serif\" font-size=\"14.00\" fill=\"#000000\">value = [6, 0]</text>\n<text text-anchor=\"start\" x=\"1209\" y=\"-357.3\" font-family=\"Helvetica,sans-Serif\" font-size=\"14.00\" fill=\"#000000\">class = 0</text>\n</g>\n<!-- 34&#45;&gt;35 -->\n<g id=\"edge35\" class=\"edge\">\n<title>34&#45;&gt;35</title>\n<path fill=\"none\" stroke=\"#000000\" d=\"M1314.0791,-460.8796C1302.7272,-449.3337 1290.4018,-436.7976 1279.043,-425.2446\"/>\n<polygon fill=\"#000000\" stroke=\"#000000\" points=\"1281.2449,-422.4919 1271.7382,-417.8149 1276.2534,-427.3995 1281.2449,-422.4919\"/>\n</g>\n<!-- 36 -->\n<g id=\"node37\" class=\"node\">\n<title>36</title>\n<path fill=\"#399de5\" stroke=\"#000000\" d=\"M1392.5,-417.5C1392.5,-417.5 1317.5,-417.5 1317.5,-417.5 1311.5,-417.5 1305.5,-411.5 1305.5,-405.5 1305.5,-405.5 1305.5,-361.5 1305.5,-361.5 1305.5,-355.5 1311.5,-349.5 1317.5,-349.5 1317.5,-349.5 1392.5,-349.5 1392.5,-349.5 1398.5,-349.5 1404.5,-355.5 1404.5,-361.5 1404.5,-361.5 1404.5,-405.5 1404.5,-405.5 1404.5,-411.5 1398.5,-417.5 1392.5,-417.5\"/>\n<text text-anchor=\"start\" x=\"1325.5\" y=\"-402.3\" font-family=\"Helvetica,sans-Serif\" font-size=\"14.00\" fill=\"#000000\">gini = 0.0</text>\n<text text-anchor=\"start\" x=\"1315.5\" y=\"-387.3\" font-family=\"Helvetica,sans-Serif\" font-size=\"14.00\" fill=\"#000000\">samples = 1</text>\n<text text-anchor=\"start\" x=\"1313.5\" y=\"-372.3\" font-family=\"Helvetica,sans-Serif\" font-size=\"14.00\" fill=\"#000000\">value = [0, 1]</text>\n<text text-anchor=\"start\" x=\"1326\" y=\"-357.3\" font-family=\"Helvetica,sans-Serif\" font-size=\"14.00\" fill=\"#000000\">class = 1</text>\n</g>\n<!-- 34&#45;&gt;36 -->\n<g id=\"edge36\" class=\"edge\">\n<title>34&#45;&gt;36</title>\n<path fill=\"none\" stroke=\"#000000\" d=\"M1355,-460.8796C1355,-450.2134 1355,-438.7021 1355,-427.9015\"/>\n<polygon fill=\"#000000\" stroke=\"#000000\" points=\"1358.5001,-427.8149 1355,-417.8149 1351.5001,-427.815 1358.5001,-427.8149\"/>\n</g>\n<!-- 38 -->\n<g id=\"node39\" class=\"node\">\n<title>38</title>\n<path fill=\"#399de5\" stroke=\"#000000\" d=\"M1509.5,-417.5C1509.5,-417.5 1434.5,-417.5 1434.5,-417.5 1428.5,-417.5 1422.5,-411.5 1422.5,-405.5 1422.5,-405.5 1422.5,-361.5 1422.5,-361.5 1422.5,-355.5 1428.5,-349.5 1434.5,-349.5 1434.5,-349.5 1509.5,-349.5 1509.5,-349.5 1515.5,-349.5 1521.5,-355.5 1521.5,-361.5 1521.5,-361.5 1521.5,-405.5 1521.5,-405.5 1521.5,-411.5 1515.5,-417.5 1509.5,-417.5\"/>\n<text text-anchor=\"start\" x=\"1442.5\" y=\"-402.3\" font-family=\"Helvetica,sans-Serif\" font-size=\"14.00\" fill=\"#000000\">gini = 0.0</text>\n<text text-anchor=\"start\" x=\"1432.5\" y=\"-387.3\" font-family=\"Helvetica,sans-Serif\" font-size=\"14.00\" fill=\"#000000\">samples = 2</text>\n<text text-anchor=\"start\" x=\"1430.5\" y=\"-372.3\" font-family=\"Helvetica,sans-Serif\" font-size=\"14.00\" fill=\"#000000\">value = [0, 2]</text>\n<text text-anchor=\"start\" x=\"1443\" y=\"-357.3\" font-family=\"Helvetica,sans-Serif\" font-size=\"14.00\" fill=\"#000000\">class = 1</text>\n</g>\n<!-- 37&#45;&gt;38 -->\n<g id=\"edge38\" class=\"edge\">\n<title>37&#45;&gt;38</title>\n<path fill=\"none\" stroke=\"#000000\" d=\"M1524.6701,-460.8796C1517.0357,-449.6636 1508.7652,-437.5131 1501.0901,-426.2372\"/>\n<polygon fill=\"#000000\" stroke=\"#000000\" points=\"1503.8775,-424.1122 1495.3572,-417.8149 1498.0908,-428.0511 1503.8775,-424.1122\"/>\n</g>\n<!-- 39 -->\n<g id=\"node40\" class=\"node\">\n<title>39</title>\n<path fill=\"#e58139\" stroke=\"#000000\" d=\"M1626.5,-417.5C1626.5,-417.5 1551.5,-417.5 1551.5,-417.5 1545.5,-417.5 1539.5,-411.5 1539.5,-405.5 1539.5,-405.5 1539.5,-361.5 1539.5,-361.5 1539.5,-355.5 1545.5,-349.5 1551.5,-349.5 1551.5,-349.5 1626.5,-349.5 1626.5,-349.5 1632.5,-349.5 1638.5,-355.5 1638.5,-361.5 1638.5,-361.5 1638.5,-405.5 1638.5,-405.5 1638.5,-411.5 1632.5,-417.5 1626.5,-417.5\"/>\n<text text-anchor=\"start\" x=\"1559.5\" y=\"-402.3\" font-family=\"Helvetica,sans-Serif\" font-size=\"14.00\" fill=\"#000000\">gini = 0.0</text>\n<text text-anchor=\"start\" x=\"1549.5\" y=\"-387.3\" font-family=\"Helvetica,sans-Serif\" font-size=\"14.00\" fill=\"#000000\">samples = 1</text>\n<text text-anchor=\"start\" x=\"1547.5\" y=\"-372.3\" font-family=\"Helvetica,sans-Serif\" font-size=\"14.00\" fill=\"#000000\">value = [1, 0]</text>\n<text text-anchor=\"start\" x=\"1560\" y=\"-357.3\" font-family=\"Helvetica,sans-Serif\" font-size=\"14.00\" fill=\"#000000\">class = 0</text>\n</g>\n<!-- 37&#45;&gt;39 -->\n<g id=\"edge39\" class=\"edge\">\n<title>37&#45;&gt;39</title>\n<path fill=\"none\" stroke=\"#000000\" d=\"M1565.5911,-460.8796C1568.8511,-450.1034 1572.372,-438.4647 1575.6686,-427.5677\"/>\n<polygon fill=\"#000000\" stroke=\"#000000\" points=\"1579.0734,-428.4 1578.619,-417.8149 1572.3733,-426.373 1579.0734,-428.4\"/>\n</g>\n<!-- 41 -->\n<g id=\"node42\" class=\"node\">\n<title>41</title>\n<path fill=\"#76bbed\" stroke=\"#000000\" d=\"M1939.5,-782C1939.5,-782 1706.5,-782 1706.5,-782 1700.5,-782 1694.5,-776 1694.5,-770 1694.5,-770 1694.5,-711 1694.5,-711 1694.5,-705 1700.5,-699 1706.5,-699 1706.5,-699 1939.5,-699 1939.5,-699 1945.5,-699 1951.5,-705 1951.5,-711 1951.5,-711 1951.5,-770 1951.5,-770 1951.5,-776 1945.5,-782 1939.5,-782\"/>\n<text text-anchor=\"start\" x=\"1702.5\" y=\"-766.8\" font-family=\"Helvetica,sans-Serif\" font-size=\"14.00\" fill=\"#000000\">Albumin_and_Globulin_Ratio ≤ 1.478</text>\n<text text-anchor=\"start\" x=\"1789.5\" y=\"-751.8\" font-family=\"Helvetica,sans-Serif\" font-size=\"14.00\" fill=\"#000000\">gini = 0.36</text>\n<text text-anchor=\"start\" x=\"1779\" y=\"-736.8\" font-family=\"Helvetica,sans-Serif\" font-size=\"14.00\" fill=\"#000000\">samples = 17</text>\n<text text-anchor=\"start\" x=\"1777.5\" y=\"-721.8\" font-family=\"Helvetica,sans-Serif\" font-size=\"14.00\" fill=\"#000000\">value = [4, 13]</text>\n<text text-anchor=\"start\" x=\"1794\" y=\"-706.8\" font-family=\"Helvetica,sans-Serif\" font-size=\"14.00\" fill=\"#000000\">class = 1</text>\n</g>\n<!-- 40&#45;&gt;41 -->\n<g id=\"edge41\" class=\"edge\">\n<title>40&#45;&gt;41</title>\n<path fill=\"none\" stroke=\"#000000\" d=\"M1823,-817.8796C1823,-809.6838 1823,-800.9891 1823,-792.5013\"/>\n<polygon fill=\"#000000\" stroke=\"#000000\" points=\"1826.5001,-792.298 1823,-782.2981 1819.5001,-792.2981 1826.5001,-792.298\"/>\n</g>\n<!-- 50 -->\n<g id=\"node51\" class=\"node\">\n<title>50</title>\n<path fill=\"#f4c9aa\" stroke=\"#000000\" d=\"M2125.5,-782C2125.5,-782 2042.5,-782 2042.5,-782 2036.5,-782 2030.5,-776 2030.5,-770 2030.5,-770 2030.5,-711 2030.5,-711 2030.5,-705 2036.5,-699 2042.5,-699 2042.5,-699 2125.5,-699 2125.5,-699 2131.5,-699 2137.5,-705 2137.5,-711 2137.5,-711 2137.5,-770 2137.5,-770 2137.5,-776 2131.5,-782 2125.5,-782\"/>\n<text text-anchor=\"start\" x=\"2055\" y=\"-766.8\" font-family=\"Helvetica,sans-Serif\" font-size=\"14.00\" fill=\"#000000\">Old ≤ 0.5</text>\n<text text-anchor=\"start\" x=\"2046\" y=\"-751.8\" font-family=\"Helvetica,sans-Serif\" font-size=\"14.00\" fill=\"#000000\">gini = 0.463</text>\n<text text-anchor=\"start\" x=\"2040\" y=\"-736.8\" font-family=\"Helvetica,sans-Serif\" font-size=\"14.00\" fill=\"#000000\">samples = 22</text>\n<text text-anchor=\"start\" x=\"2038.5\" y=\"-721.8\" font-family=\"Helvetica,sans-Serif\" font-size=\"14.00\" fill=\"#000000\">value = [14, 8]</text>\n<text text-anchor=\"start\" x=\"2055\" y=\"-706.8\" font-family=\"Helvetica,sans-Serif\" font-size=\"14.00\" fill=\"#000000\">class = 0</text>\n</g>\n<!-- 40&#45;&gt;50 -->\n<g id=\"edge50\" class=\"edge\">\n<title>40&#45;&gt;50</title>\n<path fill=\"none\" stroke=\"#000000\" d=\"M1914.2851,-817.8796C1949.6069,-801.775 1989.154,-783.744 2021.1812,-769.1415\"/>\n<polygon fill=\"#000000\" stroke=\"#000000\" points=\"2022.7877,-772.2558 2030.4346,-764.9226 2019.8837,-765.8865 2022.7877,-772.2558\"/>\n</g>\n<!-- 42 -->\n<g id=\"node43\" class=\"node\">\n<title>42</title>\n<path fill=\"#57ace9\" stroke=\"#000000\" d=\"M1812.5,-663C1812.5,-663 1711.5,-663 1711.5,-663 1705.5,-663 1699.5,-657 1699.5,-651 1699.5,-651 1699.5,-592 1699.5,-592 1699.5,-586 1705.5,-580 1711.5,-580 1711.5,-580 1812.5,-580 1812.5,-580 1818.5,-580 1824.5,-586 1824.5,-592 1824.5,-592 1824.5,-651 1824.5,-651 1824.5,-657 1818.5,-663 1812.5,-663\"/>\n<text text-anchor=\"start\" x=\"1707.5\" y=\"-647.8\" font-family=\"Helvetica,sans-Serif\" font-size=\"14.00\" fill=\"#000000\">Albumin ≤ &#45;0.461</text>\n<text text-anchor=\"start\" x=\"1724\" y=\"-632.8\" font-family=\"Helvetica,sans-Serif\" font-size=\"14.00\" fill=\"#000000\">gini = 0.231</text>\n<text text-anchor=\"start\" x=\"1718\" y=\"-617.8\" font-family=\"Helvetica,sans-Serif\" font-size=\"14.00\" fill=\"#000000\">samples = 15</text>\n<text text-anchor=\"start\" x=\"1716.5\" y=\"-602.8\" font-family=\"Helvetica,sans-Serif\" font-size=\"14.00\" fill=\"#000000\">value = [2, 13]</text>\n<text text-anchor=\"start\" x=\"1733\" y=\"-587.8\" font-family=\"Helvetica,sans-Serif\" font-size=\"14.00\" fill=\"#000000\">class = 1</text>\n</g>\n<!-- 41&#45;&gt;42 -->\n<g id=\"edge42\" class=\"edge\">\n<title>41&#45;&gt;42</title>\n<path fill=\"none\" stroke=\"#000000\" d=\"M1801.6652,-698.8796C1797.2793,-690.3236 1792.6147,-681.2238 1788.083,-672.3833\"/>\n<polygon fill=\"#000000\" stroke=\"#000000\" points=\"1791.1022,-670.6004 1783.4259,-663.2981 1784.873,-673.7936 1791.1022,-670.6004\"/>\n</g>\n<!-- 49 -->\n<g id=\"node50\" class=\"node\">\n<title>49</title>\n<path fill=\"#e58139\" stroke=\"#000000\" d=\"M1929.5,-655.5C1929.5,-655.5 1854.5,-655.5 1854.5,-655.5 1848.5,-655.5 1842.5,-649.5 1842.5,-643.5 1842.5,-643.5 1842.5,-599.5 1842.5,-599.5 1842.5,-593.5 1848.5,-587.5 1854.5,-587.5 1854.5,-587.5 1929.5,-587.5 1929.5,-587.5 1935.5,-587.5 1941.5,-593.5 1941.5,-599.5 1941.5,-599.5 1941.5,-643.5 1941.5,-643.5 1941.5,-649.5 1935.5,-655.5 1929.5,-655.5\"/>\n<text text-anchor=\"start\" x=\"1862.5\" y=\"-640.3\" font-family=\"Helvetica,sans-Serif\" font-size=\"14.00\" fill=\"#000000\">gini = 0.0</text>\n<text text-anchor=\"start\" x=\"1852.5\" y=\"-625.3\" font-family=\"Helvetica,sans-Serif\" font-size=\"14.00\" fill=\"#000000\">samples = 2</text>\n<text text-anchor=\"start\" x=\"1850.5\" y=\"-610.3\" font-family=\"Helvetica,sans-Serif\" font-size=\"14.00\" fill=\"#000000\">value = [2, 0]</text>\n<text text-anchor=\"start\" x=\"1863\" y=\"-595.3\" font-family=\"Helvetica,sans-Serif\" font-size=\"14.00\" fill=\"#000000\">class = 0</text>\n</g>\n<!-- 41&#45;&gt;49 -->\n<g id=\"edge49\" class=\"edge\">\n<title>41&#45;&gt;49</title>\n<path fill=\"none\" stroke=\"#000000\" d=\"M1847.1329,-698.8796C1853.5725,-687.7735 1860.5434,-675.7513 1867.0271,-664.5691\"/>\n<polygon fill=\"#000000\" stroke=\"#000000\" points=\"1870.1148,-666.2215 1872.1031,-655.8149 1864.0591,-662.7102 1870.1148,-666.2215\"/>\n</g>\n<!-- 43 -->\n<g id=\"node44\" class=\"node\">\n<title>43</title>\n<path fill=\"#e58139\" stroke=\"#000000\" d=\"M1713.5,-536.5C1713.5,-536.5 1638.5,-536.5 1638.5,-536.5 1632.5,-536.5 1626.5,-530.5 1626.5,-524.5 1626.5,-524.5 1626.5,-480.5 1626.5,-480.5 1626.5,-474.5 1632.5,-468.5 1638.5,-468.5 1638.5,-468.5 1713.5,-468.5 1713.5,-468.5 1719.5,-468.5 1725.5,-474.5 1725.5,-480.5 1725.5,-480.5 1725.5,-524.5 1725.5,-524.5 1725.5,-530.5 1719.5,-536.5 1713.5,-536.5\"/>\n<text text-anchor=\"start\" x=\"1646.5\" y=\"-521.3\" font-family=\"Helvetica,sans-Serif\" font-size=\"14.00\" fill=\"#000000\">gini = 0.0</text>\n<text text-anchor=\"start\" x=\"1636.5\" y=\"-506.3\" font-family=\"Helvetica,sans-Serif\" font-size=\"14.00\" fill=\"#000000\">samples = 1</text>\n<text text-anchor=\"start\" x=\"1634.5\" y=\"-491.3\" font-family=\"Helvetica,sans-Serif\" font-size=\"14.00\" fill=\"#000000\">value = [1, 0]</text>\n<text text-anchor=\"start\" x=\"1647\" y=\"-476.3\" font-family=\"Helvetica,sans-Serif\" font-size=\"14.00\" fill=\"#000000\">class = 0</text>\n</g>\n<!-- 42&#45;&gt;43 -->\n<g id=\"edge43\" class=\"edge\">\n<title>42&#45;&gt;43</title>\n<path fill=\"none\" stroke=\"#000000\" d=\"M1731.9214,-579.8796C1723.8157,-568.6636 1715.0347,-556.5131 1706.8857,-545.2372\"/>\n<polygon fill=\"#000000\" stroke=\"#000000\" points=\"1709.4932,-542.8698 1700.799,-536.8149 1703.8197,-546.9701 1709.4932,-542.8698\"/>\n</g>\n<!-- 44 -->\n<g id=\"node45\" class=\"node\">\n<title>44</title>\n<path fill=\"#48a5e7\" stroke=\"#000000\" d=\"M1884,-544C1884,-544 1756,-544 1756,-544 1750,-544 1744,-538 1744,-532 1744,-532 1744,-473 1744,-473 1744,-467 1750,-461 1756,-461 1756,-461 1884,-461 1884,-461 1890,-461 1896,-467 1896,-473 1896,-473 1896,-532 1896,-532 1896,-538 1890,-544 1884,-544\"/>\n<text text-anchor=\"start\" x=\"1752\" y=\"-528.8\" font-family=\"Helvetica,sans-Serif\" font-size=\"14.00\" fill=\"#000000\">Total_Protiens ≤ 0.33</text>\n<text text-anchor=\"start\" x=\"1782\" y=\"-513.8\" font-family=\"Helvetica,sans-Serif\" font-size=\"14.00\" fill=\"#000000\">gini = 0.133</text>\n<text text-anchor=\"start\" x=\"1776\" y=\"-498.8\" font-family=\"Helvetica,sans-Serif\" font-size=\"14.00\" fill=\"#000000\">samples = 14</text>\n<text text-anchor=\"start\" x=\"1774.5\" y=\"-483.8\" font-family=\"Helvetica,sans-Serif\" font-size=\"14.00\" fill=\"#000000\">value = [1, 13]</text>\n<text text-anchor=\"start\" x=\"1791\" y=\"-468.8\" font-family=\"Helvetica,sans-Serif\" font-size=\"14.00\" fill=\"#000000\">class = 1</text>\n</g>\n<!-- 42&#45;&gt;44 -->\n<g id=\"edge44\" class=\"edge\">\n<title>42&#45;&gt;44</title>\n<path fill=\"none\" stroke=\"#000000\" d=\"M1782.2856,-579.8796C1786.4557,-571.3236 1790.8909,-562.2238 1795.1997,-553.3833\"/>\n<polygon fill=\"#000000\" stroke=\"#000000\" points=\"1798.3927,-554.8207 1799.6278,-544.2981 1792.1003,-551.7538 1798.3927,-554.8207\"/>\n</g>\n<!-- 45 -->\n<g id=\"node46\" class=\"node\">\n<title>45</title>\n<path fill=\"#399de5\" stroke=\"#000000\" d=\"M1751.5,-417.5C1751.5,-417.5 1668.5,-417.5 1668.5,-417.5 1662.5,-417.5 1656.5,-411.5 1656.5,-405.5 1656.5,-405.5 1656.5,-361.5 1656.5,-361.5 1656.5,-355.5 1662.5,-349.5 1668.5,-349.5 1668.5,-349.5 1751.5,-349.5 1751.5,-349.5 1757.5,-349.5 1763.5,-355.5 1763.5,-361.5 1763.5,-361.5 1763.5,-405.5 1763.5,-405.5 1763.5,-411.5 1757.5,-417.5 1751.5,-417.5\"/>\n<text text-anchor=\"start\" x=\"1680.5\" y=\"-402.3\" font-family=\"Helvetica,sans-Serif\" font-size=\"14.00\" fill=\"#000000\">gini = 0.0</text>\n<text text-anchor=\"start\" x=\"1666\" y=\"-387.3\" font-family=\"Helvetica,sans-Serif\" font-size=\"14.00\" fill=\"#000000\">samples = 11</text>\n<text text-anchor=\"start\" x=\"1664.5\" y=\"-372.3\" font-family=\"Helvetica,sans-Serif\" font-size=\"14.00\" fill=\"#000000\">value = [0, 11]</text>\n<text text-anchor=\"start\" x=\"1681\" y=\"-357.3\" font-family=\"Helvetica,sans-Serif\" font-size=\"14.00\" fill=\"#000000\">class = 1</text>\n</g>\n<!-- 44&#45;&gt;45 -->\n<g id=\"edge45\" class=\"edge\">\n<title>44&#45;&gt;45</title>\n<path fill=\"none\" stroke=\"#000000\" d=\"M1781.5273,-460.8796C1770.8547,-449.3337 1759.2667,-436.7976 1748.5875,-425.2446\"/>\n<polygon fill=\"#000000\" stroke=\"#000000\" points=\"1751.0778,-422.7825 1741.7197,-417.8149 1745.9375,-427.534 1751.0778,-422.7825\"/>\n</g>\n<!-- 46 -->\n<g id=\"node47\" class=\"node\">\n<title>46</title>\n<path fill=\"#9ccef2\" stroke=\"#000000\" d=\"M1930.5,-425C1930.5,-425 1793.5,-425 1793.5,-425 1787.5,-425 1781.5,-419 1781.5,-413 1781.5,-413 1781.5,-354 1781.5,-354 1781.5,-348 1787.5,-342 1793.5,-342 1793.5,-342 1930.5,-342 1930.5,-342 1936.5,-342 1942.5,-348 1942.5,-354 1942.5,-354 1942.5,-413 1942.5,-413 1942.5,-419 1936.5,-425 1930.5,-425\"/>\n<text text-anchor=\"start\" x=\"1789.5\" y=\"-409.8\" font-family=\"Helvetica,sans-Serif\" font-size=\"14.00\" fill=\"#000000\">Total_Protiens ≤ 0.651</text>\n<text text-anchor=\"start\" x=\"1824\" y=\"-394.8\" font-family=\"Helvetica,sans-Serif\" font-size=\"14.00\" fill=\"#000000\">gini = 0.444</text>\n<text text-anchor=\"start\" x=\"1822.5\" y=\"-379.8\" font-family=\"Helvetica,sans-Serif\" font-size=\"14.00\" fill=\"#000000\">samples = 3</text>\n<text text-anchor=\"start\" x=\"1820.5\" y=\"-364.8\" font-family=\"Helvetica,sans-Serif\" font-size=\"14.00\" fill=\"#000000\">value = [1, 2]</text>\n<text text-anchor=\"start\" x=\"1833\" y=\"-349.8\" font-family=\"Helvetica,sans-Serif\" font-size=\"14.00\" fill=\"#000000\">class = 1</text>\n</g>\n<!-- 44&#45;&gt;46 -->\n<g id=\"edge46\" class=\"edge\">\n<title>44&#45;&gt;46</title>\n<path fill=\"none\" stroke=\"#000000\" d=\"M1834.6896,-460.8796C1837.6458,-452.5037 1840.7859,-443.6067 1843.844,-434.942\"/>\n<polygon fill=\"#000000\" stroke=\"#000000\" points=\"1847.2199,-435.8929 1847.2477,-425.2981 1840.619,-433.5631 1847.2199,-435.8929\"/>\n</g>\n<!-- 47 -->\n<g id=\"node48\" class=\"node\">\n<title>47</title>\n<path fill=\"#e58139\" stroke=\"#000000\" d=\"M1841.5,-298.5C1841.5,-298.5 1766.5,-298.5 1766.5,-298.5 1760.5,-298.5 1754.5,-292.5 1754.5,-286.5 1754.5,-286.5 1754.5,-242.5 1754.5,-242.5 1754.5,-236.5 1760.5,-230.5 1766.5,-230.5 1766.5,-230.5 1841.5,-230.5 1841.5,-230.5 1847.5,-230.5 1853.5,-236.5 1853.5,-242.5 1853.5,-242.5 1853.5,-286.5 1853.5,-286.5 1853.5,-292.5 1847.5,-298.5 1841.5,-298.5\"/>\n<text text-anchor=\"start\" x=\"1774.5\" y=\"-283.3\" font-family=\"Helvetica,sans-Serif\" font-size=\"14.00\" fill=\"#000000\">gini = 0.0</text>\n<text text-anchor=\"start\" x=\"1764.5\" y=\"-268.3\" font-family=\"Helvetica,sans-Serif\" font-size=\"14.00\" fill=\"#000000\">samples = 1</text>\n<text text-anchor=\"start\" x=\"1762.5\" y=\"-253.3\" font-family=\"Helvetica,sans-Serif\" font-size=\"14.00\" fill=\"#000000\">value = [1, 0]</text>\n<text text-anchor=\"start\" x=\"1775\" y=\"-238.3\" font-family=\"Helvetica,sans-Serif\" font-size=\"14.00\" fill=\"#000000\">class = 0</text>\n</g>\n<!-- 46&#45;&gt;47 -->\n<g id=\"edge47\" class=\"edge\">\n<title>46&#45;&gt;47</title>\n<path fill=\"none\" stroke=\"#000000\" d=\"M1841.7144,-341.8796C1836.355,-330.8835 1830.5578,-318.9893 1825.1537,-307.9015\"/>\n<polygon fill=\"#000000\" stroke=\"#000000\" points=\"1828.2524,-306.2706 1820.7249,-298.8149 1821.96,-309.3375 1828.2524,-306.2706\"/>\n</g>\n<!-- 48 -->\n<g id=\"node49\" class=\"node\">\n<title>48</title>\n<path fill=\"#399de5\" stroke=\"#000000\" d=\"M1958.5,-298.5C1958.5,-298.5 1883.5,-298.5 1883.5,-298.5 1877.5,-298.5 1871.5,-292.5 1871.5,-286.5 1871.5,-286.5 1871.5,-242.5 1871.5,-242.5 1871.5,-236.5 1877.5,-230.5 1883.5,-230.5 1883.5,-230.5 1958.5,-230.5 1958.5,-230.5 1964.5,-230.5 1970.5,-236.5 1970.5,-242.5 1970.5,-242.5 1970.5,-286.5 1970.5,-286.5 1970.5,-292.5 1964.5,-298.5 1958.5,-298.5\"/>\n<text text-anchor=\"start\" x=\"1891.5\" y=\"-283.3\" font-family=\"Helvetica,sans-Serif\" font-size=\"14.00\" fill=\"#000000\">gini = 0.0</text>\n<text text-anchor=\"start\" x=\"1881.5\" y=\"-268.3\" font-family=\"Helvetica,sans-Serif\" font-size=\"14.00\" fill=\"#000000\">samples = 2</text>\n<text text-anchor=\"start\" x=\"1879.5\" y=\"-253.3\" font-family=\"Helvetica,sans-Serif\" font-size=\"14.00\" fill=\"#000000\">value = [0, 2]</text>\n<text text-anchor=\"start\" x=\"1892\" y=\"-238.3\" font-family=\"Helvetica,sans-Serif\" font-size=\"14.00\" fill=\"#000000\">class = 1</text>\n</g>\n<!-- 46&#45;&gt;48 -->\n<g id=\"edge48\" class=\"edge\">\n<title>46&#45;&gt;48</title>\n<path fill=\"none\" stroke=\"#000000\" d=\"M1882.6353,-341.8796C1888.0872,-330.8835 1893.9843,-318.9893 1899.4816,-307.9015\"/>\n<polygon fill=\"#000000\" stroke=\"#000000\" points=\"1902.6804,-309.3289 1903.9867,-298.8149 1896.4089,-306.2195 1902.6804,-309.3289\"/>\n</g>\n<!-- 51 -->\n<g id=\"node52\" class=\"node\">\n<title>51</title>\n<path fill=\"#aad5f4\" stroke=\"#000000\" d=\"M2196,-663C2196,-663 1972,-663 1972,-663 1966,-663 1960,-657 1960,-651 1960,-651 1960,-592 1960,-592 1960,-586 1966,-580 1972,-580 1972,-580 2196,-580 2196,-580 2202,-580 2208,-586 2208,-592 2208,-592 2208,-651 2208,-651 2208,-657 2202,-663 2196,-663\"/>\n<text text-anchor=\"start\" x=\"1968\" y=\"-647.8\" font-family=\"Helvetica,sans-Serif\" font-size=\"14.00\" fill=\"#000000\">Alamine_Aminotransferase ≤ &#45;0.291</text>\n<text text-anchor=\"start\" x=\"2046\" y=\"-632.8\" font-family=\"Helvetica,sans-Serif\" font-size=\"14.00\" fill=\"#000000\">gini = 0.463</text>\n<text text-anchor=\"start\" x=\"2040\" y=\"-617.8\" font-family=\"Helvetica,sans-Serif\" font-size=\"14.00\" fill=\"#000000\">samples = 11</text>\n<text text-anchor=\"start\" x=\"2042.5\" y=\"-602.8\" font-family=\"Helvetica,sans-Serif\" font-size=\"14.00\" fill=\"#000000\">value = [4, 7]</text>\n<text text-anchor=\"start\" x=\"2055\" y=\"-587.8\" font-family=\"Helvetica,sans-Serif\" font-size=\"14.00\" fill=\"#000000\">class = 1</text>\n</g>\n<!-- 50&#45;&gt;51 -->\n<g id=\"edge51\" class=\"edge\">\n<title>50&#45;&gt;51</title>\n<path fill=\"none\" stroke=\"#000000\" d=\"M2084,-698.8796C2084,-690.6838 2084,-681.9891 2084,-673.5013\"/>\n<polygon fill=\"#000000\" stroke=\"#000000\" points=\"2087.5001,-673.298 2084,-663.2981 2080.5001,-673.2981 2087.5001,-673.298\"/>\n</g>\n<!-- 56 -->\n<g id=\"node57\" class=\"node\">\n<title>56</title>\n<path fill=\"#e88e4d\" stroke=\"#000000\" d=\"M2432,-663C2432,-663 2238,-663 2238,-663 2232,-663 2226,-657 2226,-651 2226,-651 2226,-592 2226,-592 2226,-586 2232,-580 2238,-580 2238,-580 2432,-580 2432,-580 2438,-580 2444,-586 2444,-592 2444,-592 2444,-651 2444,-651 2444,-657 2438,-663 2432,-663\"/>\n<text text-anchor=\"start\" x=\"2234\" y=\"-647.8\" font-family=\"Helvetica,sans-Serif\" font-size=\"14.00\" fill=\"#000000\">Alkaline_Phosphotase ≤ &#45;0.406</text>\n<text text-anchor=\"start\" x=\"2297\" y=\"-632.8\" font-family=\"Helvetica,sans-Serif\" font-size=\"14.00\" fill=\"#000000\">gini = 0.165</text>\n<text text-anchor=\"start\" x=\"2291\" y=\"-617.8\" font-family=\"Helvetica,sans-Serif\" font-size=\"14.00\" fill=\"#000000\">samples = 11</text>\n<text text-anchor=\"start\" x=\"2289.5\" y=\"-602.8\" font-family=\"Helvetica,sans-Serif\" font-size=\"14.00\" fill=\"#000000\">value = [10, 1]</text>\n<text text-anchor=\"start\" x=\"2306\" y=\"-587.8\" font-family=\"Helvetica,sans-Serif\" font-size=\"14.00\" fill=\"#000000\">class = 0</text>\n</g>\n<!-- 50&#45;&gt;56 -->\n<g id=\"edge56\" class=\"edge\">\n<title>50&#45;&gt;56</title>\n<path fill=\"none\" stroke=\"#000000\" d=\"M2137.5379,-715.1175C2166.7466,-701.2695 2203.81,-683.6976 2237.9178,-667.527\"/>\n<polygon fill=\"#000000\" stroke=\"#000000\" points=\"2239.4465,-670.6757 2246.9831,-663.2292 2236.4477,-664.3506 2239.4465,-670.6757\"/>\n</g>\n<!-- 52 -->\n<g id=\"node53\" class=\"node\">\n<title>52</title>\n<path fill=\"#eca06a\" stroke=\"#000000\" d=\"M2083,-544C2083,-544 1937,-544 1937,-544 1931,-544 1925,-538 1925,-532 1925,-532 1925,-473 1925,-473 1925,-467 1931,-461 1937,-461 1937,-461 2083,-461 2083,-461 2089,-461 2095,-467 2095,-473 2095,-473 2095,-532 2095,-532 2095,-538 2089,-544 2083,-544\"/>\n<text text-anchor=\"start\" x=\"1933\" y=\"-528.8\" font-family=\"Helvetica,sans-Serif\" font-size=\"14.00\" fill=\"#000000\">Direct_Bilirubin ≤ &#45;0.332</text>\n<text text-anchor=\"start\" x=\"1976.5\" y=\"-513.8\" font-family=\"Helvetica,sans-Serif\" font-size=\"14.00\" fill=\"#000000\">gini = 0.32</text>\n<text text-anchor=\"start\" x=\"1970.5\" y=\"-498.8\" font-family=\"Helvetica,sans-Serif\" font-size=\"14.00\" fill=\"#000000\">samples = 5</text>\n<text text-anchor=\"start\" x=\"1968.5\" y=\"-483.8\" font-family=\"Helvetica,sans-Serif\" font-size=\"14.00\" fill=\"#000000\">value = [4, 1]</text>\n<text text-anchor=\"start\" x=\"1981\" y=\"-468.8\" font-family=\"Helvetica,sans-Serif\" font-size=\"14.00\" fill=\"#000000\">class = 0</text>\n</g>\n<!-- 51&#45;&gt;52 -->\n<g id=\"edge52\" class=\"edge\">\n<title>51&#45;&gt;52</title>\n<path fill=\"none\" stroke=\"#000000\" d=\"M2058.1184,-579.8796C2052.6858,-571.1434 2046.9008,-561.8404 2041.2947,-552.8253\"/>\n<polygon fill=\"#000000\" stroke=\"#000000\" points=\"2044.2451,-550.9418 2035.9921,-544.2981 2038.3007,-554.6383 2044.2451,-550.9418\"/>\n</g>\n<!-- 55 -->\n<g id=\"node56\" class=\"node\">\n<title>55</title>\n<path fill=\"#399de5\" stroke=\"#000000\" d=\"M2200.5,-536.5C2200.5,-536.5 2125.5,-536.5 2125.5,-536.5 2119.5,-536.5 2113.5,-530.5 2113.5,-524.5 2113.5,-524.5 2113.5,-480.5 2113.5,-480.5 2113.5,-474.5 2119.5,-468.5 2125.5,-468.5 2125.5,-468.5 2200.5,-468.5 2200.5,-468.5 2206.5,-468.5 2212.5,-474.5 2212.5,-480.5 2212.5,-480.5 2212.5,-524.5 2212.5,-524.5 2212.5,-530.5 2206.5,-536.5 2200.5,-536.5\"/>\n<text text-anchor=\"start\" x=\"2133.5\" y=\"-521.3\" font-family=\"Helvetica,sans-Serif\" font-size=\"14.00\" fill=\"#000000\">gini = 0.0</text>\n<text text-anchor=\"start\" x=\"2123.5\" y=\"-506.3\" font-family=\"Helvetica,sans-Serif\" font-size=\"14.00\" fill=\"#000000\">samples = 6</text>\n<text text-anchor=\"start\" x=\"2121.5\" y=\"-491.3\" font-family=\"Helvetica,sans-Serif\" font-size=\"14.00\" fill=\"#000000\">value = [0, 6]</text>\n<text text-anchor=\"start\" x=\"2134\" y=\"-476.3\" font-family=\"Helvetica,sans-Serif\" font-size=\"14.00\" fill=\"#000000\">class = 1</text>\n</g>\n<!-- 51&#45;&gt;55 -->\n<g id=\"edge55\" class=\"edge\">\n<title>51&#45;&gt;55</title>\n<path fill=\"none\" stroke=\"#000000\" d=\"M2111.6304,-579.8796C2119.0763,-568.6636 2127.1425,-556.5131 2134.6282,-545.2372\"/>\n<polygon fill=\"#000000\" stroke=\"#000000\" points=\"2137.6046,-547.082 2140.2195,-536.8149 2131.7727,-543.2104 2137.6046,-547.082\"/>\n</g>\n<!-- 53 -->\n<g id=\"node54\" class=\"node\">\n<title>53</title>\n<path fill=\"#e58139\" stroke=\"#000000\" d=\"M2047.5,-417.5C2047.5,-417.5 1972.5,-417.5 1972.5,-417.5 1966.5,-417.5 1960.5,-411.5 1960.5,-405.5 1960.5,-405.5 1960.5,-361.5 1960.5,-361.5 1960.5,-355.5 1966.5,-349.5 1972.5,-349.5 1972.5,-349.5 2047.5,-349.5 2047.5,-349.5 2053.5,-349.5 2059.5,-355.5 2059.5,-361.5 2059.5,-361.5 2059.5,-405.5 2059.5,-405.5 2059.5,-411.5 2053.5,-417.5 2047.5,-417.5\"/>\n<text text-anchor=\"start\" x=\"1980.5\" y=\"-402.3\" font-family=\"Helvetica,sans-Serif\" font-size=\"14.00\" fill=\"#000000\">gini = 0.0</text>\n<text text-anchor=\"start\" x=\"1970.5\" y=\"-387.3\" font-family=\"Helvetica,sans-Serif\" font-size=\"14.00\" fill=\"#000000\">samples = 4</text>\n<text text-anchor=\"start\" x=\"1968.5\" y=\"-372.3\" font-family=\"Helvetica,sans-Serif\" font-size=\"14.00\" fill=\"#000000\">value = [4, 0]</text>\n<text text-anchor=\"start\" x=\"1981\" y=\"-357.3\" font-family=\"Helvetica,sans-Serif\" font-size=\"14.00\" fill=\"#000000\">class = 0</text>\n</g>\n<!-- 52&#45;&gt;53 -->\n<g id=\"edge53\" class=\"edge\">\n<title>52&#45;&gt;53</title>\n<path fill=\"none\" stroke=\"#000000\" d=\"M2010,-460.8796C2010,-450.2134 2010,-438.7021 2010,-427.9015\"/>\n<polygon fill=\"#000000\" stroke=\"#000000\" points=\"2013.5001,-427.8149 2010,-417.8149 2006.5001,-427.815 2013.5001,-427.8149\"/>\n</g>\n<!-- 54 -->\n<g id=\"node55\" class=\"node\">\n<title>54</title>\n<path fill=\"#399de5\" stroke=\"#000000\" d=\"M2164.5,-417.5C2164.5,-417.5 2089.5,-417.5 2089.5,-417.5 2083.5,-417.5 2077.5,-411.5 2077.5,-405.5 2077.5,-405.5 2077.5,-361.5 2077.5,-361.5 2077.5,-355.5 2083.5,-349.5 2089.5,-349.5 2089.5,-349.5 2164.5,-349.5 2164.5,-349.5 2170.5,-349.5 2176.5,-355.5 2176.5,-361.5 2176.5,-361.5 2176.5,-405.5 2176.5,-405.5 2176.5,-411.5 2170.5,-417.5 2164.5,-417.5\"/>\n<text text-anchor=\"start\" x=\"2097.5\" y=\"-402.3\" font-family=\"Helvetica,sans-Serif\" font-size=\"14.00\" fill=\"#000000\">gini = 0.0</text>\n<text text-anchor=\"start\" x=\"2087.5\" y=\"-387.3\" font-family=\"Helvetica,sans-Serif\" font-size=\"14.00\" fill=\"#000000\">samples = 1</text>\n<text text-anchor=\"start\" x=\"2085.5\" y=\"-372.3\" font-family=\"Helvetica,sans-Serif\" font-size=\"14.00\" fill=\"#000000\">value = [0, 1]</text>\n<text text-anchor=\"start\" x=\"2098\" y=\"-357.3\" font-family=\"Helvetica,sans-Serif\" font-size=\"14.00\" fill=\"#000000\">class = 1</text>\n</g>\n<!-- 52&#45;&gt;54 -->\n<g id=\"edge54\" class=\"edge\">\n<title>52&#45;&gt;54</title>\n<path fill=\"none\" stroke=\"#000000\" d=\"M2050.9209,-460.8796C2062.2728,-449.3337 2074.5982,-436.7976 2085.957,-425.2446\"/>\n<polygon fill=\"#000000\" stroke=\"#000000\" points=\"2088.7466,-427.3995 2093.2618,-417.8149 2083.7551,-422.4919 2088.7466,-427.3995\"/>\n</g>\n<!-- 57 -->\n<g id=\"node58\" class=\"node\">\n<title>57</title>\n<path fill=\"#e58139\" stroke=\"#000000\" d=\"M2317.5,-536.5C2317.5,-536.5 2242.5,-536.5 2242.5,-536.5 2236.5,-536.5 2230.5,-530.5 2230.5,-524.5 2230.5,-524.5 2230.5,-480.5 2230.5,-480.5 2230.5,-474.5 2236.5,-468.5 2242.5,-468.5 2242.5,-468.5 2317.5,-468.5 2317.5,-468.5 2323.5,-468.5 2329.5,-474.5 2329.5,-480.5 2329.5,-480.5 2329.5,-524.5 2329.5,-524.5 2329.5,-530.5 2323.5,-536.5 2317.5,-536.5\"/>\n<text text-anchor=\"start\" x=\"2250.5\" y=\"-521.3\" font-family=\"Helvetica,sans-Serif\" font-size=\"14.00\" fill=\"#000000\">gini = 0.0</text>\n<text text-anchor=\"start\" x=\"2240.5\" y=\"-506.3\" font-family=\"Helvetica,sans-Serif\" font-size=\"14.00\" fill=\"#000000\">samples = 9</text>\n<text text-anchor=\"start\" x=\"2238.5\" y=\"-491.3\" font-family=\"Helvetica,sans-Serif\" font-size=\"14.00\" fill=\"#000000\">value = [9, 0]</text>\n<text text-anchor=\"start\" x=\"2251\" y=\"-476.3\" font-family=\"Helvetica,sans-Serif\" font-size=\"14.00\" fill=\"#000000\">class = 0</text>\n</g>\n<!-- 56&#45;&gt;57 -->\n<g id=\"edge57\" class=\"edge\">\n<title>56&#45;&gt;57</title>\n<path fill=\"none\" stroke=\"#000000\" d=\"M2315.7637,-579.8796C2310.6814,-568.8835 2305.1841,-556.9893 2300.0595,-545.9015\"/>\n<polygon fill=\"#000000\" stroke=\"#000000\" points=\"2303.2324,-544.4239 2295.8598,-536.8149 2296.8782,-547.3607 2303.2324,-544.4239\"/>\n</g>\n<!-- 58 -->\n<g id=\"node59\" class=\"node\">\n<title>58</title>\n<path fill=\"#ffffff\" stroke=\"#000000\" d=\"M2554,-544C2554,-544 2360,-544 2360,-544 2354,-544 2348,-538 2348,-532 2348,-532 2348,-473 2348,-473 2348,-467 2354,-461 2360,-461 2360,-461 2554,-461 2554,-461 2560,-461 2566,-467 2566,-473 2566,-473 2566,-532 2566,-532 2566,-538 2560,-544 2554,-544\"/>\n<text text-anchor=\"start\" x=\"2356\" y=\"-528.8\" font-family=\"Helvetica,sans-Serif\" font-size=\"14.00\" fill=\"#000000\">Alkaline_Phosphotase ≤ &#45;0.382</text>\n<text text-anchor=\"start\" x=\"2427.5\" y=\"-513.8\" font-family=\"Helvetica,sans-Serif\" font-size=\"14.00\" fill=\"#000000\">gini = 0.5</text>\n<text text-anchor=\"start\" x=\"2417.5\" y=\"-498.8\" font-family=\"Helvetica,sans-Serif\" font-size=\"14.00\" fill=\"#000000\">samples = 2</text>\n<text text-anchor=\"start\" x=\"2415.5\" y=\"-483.8\" font-family=\"Helvetica,sans-Serif\" font-size=\"14.00\" fill=\"#000000\">value = [1, 1]</text>\n<text text-anchor=\"start\" x=\"2428\" y=\"-468.8\" font-family=\"Helvetica,sans-Serif\" font-size=\"14.00\" fill=\"#000000\">class = 0</text>\n</g>\n<!-- 56&#45;&gt;58 -->\n<g id=\"edge58\" class=\"edge\">\n<title>56&#45;&gt;58</title>\n<path fill=\"none\" stroke=\"#000000\" d=\"M2377.6697,-579.8796C2387.0877,-570.6931 2397.1484,-560.8798 2406.8328,-551.4336\"/>\n<polygon fill=\"#000000\" stroke=\"#000000\" points=\"2409.4335,-553.7861 2414.1482,-544.2981 2404.5457,-548.7751 2409.4335,-553.7861\"/>\n</g>\n<!-- 59 -->\n<g id=\"node60\" class=\"node\">\n<title>59</title>\n<path fill=\"#399de5\" stroke=\"#000000\" d=\"M2422.5,-417.5C2422.5,-417.5 2347.5,-417.5 2347.5,-417.5 2341.5,-417.5 2335.5,-411.5 2335.5,-405.5 2335.5,-405.5 2335.5,-361.5 2335.5,-361.5 2335.5,-355.5 2341.5,-349.5 2347.5,-349.5 2347.5,-349.5 2422.5,-349.5 2422.5,-349.5 2428.5,-349.5 2434.5,-355.5 2434.5,-361.5 2434.5,-361.5 2434.5,-405.5 2434.5,-405.5 2434.5,-411.5 2428.5,-417.5 2422.5,-417.5\"/>\n<text text-anchor=\"start\" x=\"2355.5\" y=\"-402.3\" font-family=\"Helvetica,sans-Serif\" font-size=\"14.00\" fill=\"#000000\">gini = 0.0</text>\n<text text-anchor=\"start\" x=\"2345.5\" y=\"-387.3\" font-family=\"Helvetica,sans-Serif\" font-size=\"14.00\" fill=\"#000000\">samples = 1</text>\n<text text-anchor=\"start\" x=\"2343.5\" y=\"-372.3\" font-family=\"Helvetica,sans-Serif\" font-size=\"14.00\" fill=\"#000000\">value = [0, 1]</text>\n<text text-anchor=\"start\" x=\"2356\" y=\"-357.3\" font-family=\"Helvetica,sans-Serif\" font-size=\"14.00\" fill=\"#000000\">class = 1</text>\n</g>\n<!-- 58&#45;&gt;59 -->\n<g id=\"edge59\" class=\"edge\">\n<title>58&#45;&gt;59</title>\n<path fill=\"none\" stroke=\"#000000\" d=\"M2431.8179,-460.8796C2425.0983,-449.7735 2417.8243,-437.7513 2411.0586,-426.5691\"/>\n<polygon fill=\"#000000\" stroke=\"#000000\" points=\"2413.9332,-424.5589 2405.762,-417.8149 2407.9441,-428.1826 2413.9332,-424.5589\"/>\n</g>\n<!-- 60 -->\n<g id=\"node61\" class=\"node\">\n<title>60</title>\n<path fill=\"#e58139\" stroke=\"#000000\" d=\"M2539.5,-417.5C2539.5,-417.5 2464.5,-417.5 2464.5,-417.5 2458.5,-417.5 2452.5,-411.5 2452.5,-405.5 2452.5,-405.5 2452.5,-361.5 2452.5,-361.5 2452.5,-355.5 2458.5,-349.5 2464.5,-349.5 2464.5,-349.5 2539.5,-349.5 2539.5,-349.5 2545.5,-349.5 2551.5,-355.5 2551.5,-361.5 2551.5,-361.5 2551.5,-405.5 2551.5,-405.5 2551.5,-411.5 2545.5,-417.5 2539.5,-417.5\"/>\n<text text-anchor=\"start\" x=\"2472.5\" y=\"-402.3\" font-family=\"Helvetica,sans-Serif\" font-size=\"14.00\" fill=\"#000000\">gini = 0.0</text>\n<text text-anchor=\"start\" x=\"2462.5\" y=\"-387.3\" font-family=\"Helvetica,sans-Serif\" font-size=\"14.00\" fill=\"#000000\">samples = 1</text>\n<text text-anchor=\"start\" x=\"2460.5\" y=\"-372.3\" font-family=\"Helvetica,sans-Serif\" font-size=\"14.00\" fill=\"#000000\">value = [1, 0]</text>\n<text text-anchor=\"start\" x=\"2473\" y=\"-357.3\" font-family=\"Helvetica,sans-Serif\" font-size=\"14.00\" fill=\"#000000\">class = 0</text>\n</g>\n<!-- 58&#45;&gt;60 -->\n<g id=\"edge60\" class=\"edge\">\n<title>58&#45;&gt;60</title>\n<path fill=\"none\" stroke=\"#000000\" d=\"M2472.7388,-460.8796C2476.8554,-449.9935 2481.3049,-438.227 2485.4618,-427.2344\"/>\n<polygon fill=\"#000000\" stroke=\"#000000\" points=\"2488.7604,-428.4065 2489.0238,-417.8149 2482.2129,-425.9305 2488.7604,-428.4065\"/>\n</g>\n<!-- 62 -->\n<g id=\"node63\" class=\"node\">\n<title>62</title>\n<path fill=\"#399de5\" stroke=\"#000000\" d=\"M2596.5,-1012.5C2596.5,-1012.5 2521.5,-1012.5 2521.5,-1012.5 2515.5,-1012.5 2509.5,-1006.5 2509.5,-1000.5 2509.5,-1000.5 2509.5,-956.5 2509.5,-956.5 2509.5,-950.5 2515.5,-944.5 2521.5,-944.5 2521.5,-944.5 2596.5,-944.5 2596.5,-944.5 2602.5,-944.5 2608.5,-950.5 2608.5,-956.5 2608.5,-956.5 2608.5,-1000.5 2608.5,-1000.5 2608.5,-1006.5 2602.5,-1012.5 2596.5,-1012.5\"/>\n<text text-anchor=\"start\" x=\"2529.5\" y=\"-997.3\" font-family=\"Helvetica,sans-Serif\" font-size=\"14.00\" fill=\"#000000\">gini = 0.0</text>\n<text text-anchor=\"start\" x=\"2519.5\" y=\"-982.3\" font-family=\"Helvetica,sans-Serif\" font-size=\"14.00\" fill=\"#000000\">samples = 1</text>\n<text text-anchor=\"start\" x=\"2517.5\" y=\"-967.3\" font-family=\"Helvetica,sans-Serif\" font-size=\"14.00\" fill=\"#000000\">value = [0, 1]</text>\n<text text-anchor=\"start\" x=\"2530\" y=\"-952.3\" font-family=\"Helvetica,sans-Serif\" font-size=\"14.00\" fill=\"#000000\">class = 1</text>\n</g>\n<!-- 61&#45;&gt;62 -->\n<g id=\"edge62\" class=\"edge\">\n<title>61&#45;&gt;62</title>\n<path fill=\"none\" stroke=\"#000000\" d=\"M2581.1084,-1055.8796C2578.0295,-1045.1034 2574.7042,-1033.4647 2571.5908,-1022.5677\"/>\n<polygon fill=\"#000000\" stroke=\"#000000\" points=\"2574.9169,-1021.4686 2568.8043,-1012.8149 2568.1862,-1023.3917 2574.9169,-1021.4686\"/>\n</g>\n<!-- 63 -->\n<g id=\"node64\" class=\"node\">\n<title>63</title>\n<path fill=\"#eeab7b\" stroke=\"#000000\" d=\"M2775.5,-1020C2775.5,-1020 2638.5,-1020 2638.5,-1020 2632.5,-1020 2626.5,-1014 2626.5,-1008 2626.5,-1008 2626.5,-949 2626.5,-949 2626.5,-943 2632.5,-937 2638.5,-937 2638.5,-937 2775.5,-937 2775.5,-937 2781.5,-937 2787.5,-943 2787.5,-949 2787.5,-949 2787.5,-1008 2787.5,-1008 2787.5,-1014 2781.5,-1020 2775.5,-1020\"/>\n<text text-anchor=\"start\" x=\"2634.5\" y=\"-1004.8\" font-family=\"Helvetica,sans-Serif\" font-size=\"14.00\" fill=\"#000000\">Total_Protiens ≤ 1.569</text>\n<text text-anchor=\"start\" x=\"2669\" y=\"-989.8\" font-family=\"Helvetica,sans-Serif\" font-size=\"14.00\" fill=\"#000000\">gini = 0.375</text>\n<text text-anchor=\"start\" x=\"2663\" y=\"-974.8\" font-family=\"Helvetica,sans-Serif\" font-size=\"14.00\" fill=\"#000000\">samples = 28</text>\n<text text-anchor=\"start\" x=\"2661.5\" y=\"-959.8\" font-family=\"Helvetica,sans-Serif\" font-size=\"14.00\" fill=\"#000000\">value = [21, 7]</text>\n<text text-anchor=\"start\" x=\"2678\" y=\"-944.8\" font-family=\"Helvetica,sans-Serif\" font-size=\"14.00\" fill=\"#000000\">class = 0</text>\n</g>\n<!-- 61&#45;&gt;63 -->\n<g id=\"edge63\" class=\"edge\">\n<title>61&#45;&gt;63</title>\n<path fill=\"none\" stroke=\"#000000\" d=\"M2632.8717,-1055.8796C2641.5858,-1046.7832 2650.8888,-1037.0722 2659.8562,-1027.7116\"/>\n<polygon fill=\"#000000\" stroke=\"#000000\" points=\"2662.5678,-1029.9405 2666.9581,-1020.2981 2657.513,-1025.098 2662.5678,-1029.9405\"/>\n</g>\n<!-- 64 -->\n<g id=\"node65\" class=\"node\">\n<title>64</title>\n<path fill=\"#eca572\" stroke=\"#000000\" d=\"M2819.5,-901C2819.5,-901 2594.5,-901 2594.5,-901 2588.5,-901 2582.5,-895 2582.5,-889 2582.5,-889 2582.5,-830 2582.5,-830 2582.5,-824 2588.5,-818 2594.5,-818 2594.5,-818 2819.5,-818 2819.5,-818 2825.5,-818 2831.5,-824 2831.5,-830 2831.5,-830 2831.5,-889 2831.5,-889 2831.5,-895 2825.5,-901 2819.5,-901\"/>\n<text text-anchor=\"start\" x=\"2590.5\" y=\"-885.8\" font-family=\"Helvetica,sans-Serif\" font-size=\"14.00\" fill=\"#000000\">Albumin_and_Globulin_Ratio ≤ 2.52</text>\n<text text-anchor=\"start\" x=\"2669\" y=\"-870.8\" font-family=\"Helvetica,sans-Serif\" font-size=\"14.00\" fill=\"#000000\">gini = 0.346</text>\n<text text-anchor=\"start\" x=\"2663\" y=\"-855.8\" font-family=\"Helvetica,sans-Serif\" font-size=\"14.00\" fill=\"#000000\">samples = 27</text>\n<text text-anchor=\"start\" x=\"2661.5\" y=\"-840.8\" font-family=\"Helvetica,sans-Serif\" font-size=\"14.00\" fill=\"#000000\">value = [21, 6]</text>\n<text text-anchor=\"start\" x=\"2678\" y=\"-825.8\" font-family=\"Helvetica,sans-Serif\" font-size=\"14.00\" fill=\"#000000\">class = 0</text>\n</g>\n<!-- 63&#45;&gt;64 -->\n<g id=\"edge64\" class=\"edge\">\n<title>63&#45;&gt;64</title>\n<path fill=\"none\" stroke=\"#000000\" d=\"M2707,-936.8796C2707,-928.6838 2707,-919.9891 2707,-911.5013\"/>\n<polygon fill=\"#000000\" stroke=\"#000000\" points=\"2710.5001,-911.298 2707,-901.2981 2703.5001,-911.2981 2710.5001,-911.298\"/>\n</g>\n<!-- 85 -->\n<g id=\"node86\" class=\"node\">\n<title>85</title>\n<path fill=\"#399de5\" stroke=\"#000000\" d=\"M2936.5,-893.5C2936.5,-893.5 2861.5,-893.5 2861.5,-893.5 2855.5,-893.5 2849.5,-887.5 2849.5,-881.5 2849.5,-881.5 2849.5,-837.5 2849.5,-837.5 2849.5,-831.5 2855.5,-825.5 2861.5,-825.5 2861.5,-825.5 2936.5,-825.5 2936.5,-825.5 2942.5,-825.5 2948.5,-831.5 2948.5,-837.5 2948.5,-837.5 2948.5,-881.5 2948.5,-881.5 2948.5,-887.5 2942.5,-893.5 2936.5,-893.5\"/>\n<text text-anchor=\"start\" x=\"2869.5\" y=\"-878.3\" font-family=\"Helvetica,sans-Serif\" font-size=\"14.00\" fill=\"#000000\">gini = 0.0</text>\n<text text-anchor=\"start\" x=\"2859.5\" y=\"-863.3\" font-family=\"Helvetica,sans-Serif\" font-size=\"14.00\" fill=\"#000000\">samples = 1</text>\n<text text-anchor=\"start\" x=\"2857.5\" y=\"-848.3\" font-family=\"Helvetica,sans-Serif\" font-size=\"14.00\" fill=\"#000000\">value = [0, 1]</text>\n<text text-anchor=\"start\" x=\"2870\" y=\"-833.3\" font-family=\"Helvetica,sans-Serif\" font-size=\"14.00\" fill=\"#000000\">class = 1</text>\n</g>\n<!-- 63&#45;&gt;85 -->\n<g id=\"edge85\" class=\"edge\">\n<title>63&#45;&gt;85</title>\n<path fill=\"none\" stroke=\"#000000\" d=\"M2780.8489,-936.9695C2800.2892,-925.6299 2821.1042,-913.1196 2840,-901 2840.9224,-900.4084 2841.8506,-899.8088 2842.7832,-899.2023\"/>\n<polygon fill=\"#000000\" stroke=\"#000000\" points=\"2844.8488,-902.0324 2851.2556,-893.5943 2840.985,-896.1953 2844.8488,-902.0324\"/>\n</g>\n<!-- 65 -->\n<g id=\"node66\" class=\"node\">\n<title>65</title>\n<path fill=\"#eb9f68\" stroke=\"#000000\" d=\"M2757.5,-782C2757.5,-782 2656.5,-782 2656.5,-782 2650.5,-782 2644.5,-776 2644.5,-770 2644.5,-770 2644.5,-711 2644.5,-711 2644.5,-705 2650.5,-699 2656.5,-699 2656.5,-699 2757.5,-699 2757.5,-699 2763.5,-699 2769.5,-705 2769.5,-711 2769.5,-711 2769.5,-770 2769.5,-770 2769.5,-776 2763.5,-782 2757.5,-782\"/>\n<text text-anchor=\"start\" x=\"2652.5\" y=\"-766.8\" font-family=\"Helvetica,sans-Serif\" font-size=\"14.00\" fill=\"#000000\">Albumin ≤ &#45;0.648</text>\n<text text-anchor=\"start\" x=\"2669\" y=\"-751.8\" font-family=\"Helvetica,sans-Serif\" font-size=\"14.00\" fill=\"#000000\">gini = 0.311</text>\n<text text-anchor=\"start\" x=\"2663\" y=\"-736.8\" font-family=\"Helvetica,sans-Serif\" font-size=\"14.00\" fill=\"#000000\">samples = 26</text>\n<text text-anchor=\"start\" x=\"2661.5\" y=\"-721.8\" font-family=\"Helvetica,sans-Serif\" font-size=\"14.00\" fill=\"#000000\">value = [21, 5]</text>\n<text text-anchor=\"start\" x=\"2678\" y=\"-706.8\" font-family=\"Helvetica,sans-Serif\" font-size=\"14.00\" fill=\"#000000\">class = 0</text>\n</g>\n<!-- 64&#45;&gt;65 -->\n<g id=\"edge65\" class=\"edge\">\n<title>64&#45;&gt;65</title>\n<path fill=\"none\" stroke=\"#000000\" d=\"M2707,-817.8796C2707,-809.6838 2707,-800.9891 2707,-792.5013\"/>\n<polygon fill=\"#000000\" stroke=\"#000000\" points=\"2710.5001,-792.298 2707,-782.2981 2703.5001,-792.2981 2710.5001,-792.298\"/>\n</g>\n<!-- 84 -->\n<g id=\"node85\" class=\"node\">\n<title>84</title>\n<path fill=\"#399de5\" stroke=\"#000000\" d=\"M2874.5,-774.5C2874.5,-774.5 2799.5,-774.5 2799.5,-774.5 2793.5,-774.5 2787.5,-768.5 2787.5,-762.5 2787.5,-762.5 2787.5,-718.5 2787.5,-718.5 2787.5,-712.5 2793.5,-706.5 2799.5,-706.5 2799.5,-706.5 2874.5,-706.5 2874.5,-706.5 2880.5,-706.5 2886.5,-712.5 2886.5,-718.5 2886.5,-718.5 2886.5,-762.5 2886.5,-762.5 2886.5,-768.5 2880.5,-774.5 2874.5,-774.5\"/>\n<text text-anchor=\"start\" x=\"2807.5\" y=\"-759.3\" font-family=\"Helvetica,sans-Serif\" font-size=\"14.00\" fill=\"#000000\">gini = 0.0</text>\n<text text-anchor=\"start\" x=\"2797.5\" y=\"-744.3\" font-family=\"Helvetica,sans-Serif\" font-size=\"14.00\" fill=\"#000000\">samples = 1</text>\n<text text-anchor=\"start\" x=\"2795.5\" y=\"-729.3\" font-family=\"Helvetica,sans-Serif\" font-size=\"14.00\" fill=\"#000000\">value = [0, 1]</text>\n<text text-anchor=\"start\" x=\"2808\" y=\"-714.3\" font-family=\"Helvetica,sans-Serif\" font-size=\"14.00\" fill=\"#000000\">class = 1</text>\n</g>\n<!-- 64&#45;&gt;84 -->\n<g id=\"edge84\" class=\"edge\">\n<title>64&#45;&gt;84</title>\n<path fill=\"none\" stroke=\"#000000\" d=\"M2752.4677,-817.8796C2765.3211,-806.1138 2779.2979,-793.3197 2792.1166,-781.5855\"/>\n<polygon fill=\"#000000\" stroke=\"#000000\" points=\"2794.5001,-784.1488 2799.5131,-774.8149 2789.7736,-778.9854 2794.5001,-784.1488\"/>\n</g>\n<!-- 66 -->\n<g id=\"node67\" class=\"node\">\n<title>66</title>\n<path fill=\"#ffffff\" stroke=\"#000000\" d=\"M2757.5,-663C2757.5,-663 2656.5,-663 2656.5,-663 2650.5,-663 2644.5,-657 2644.5,-651 2644.5,-651 2644.5,-592 2644.5,-592 2644.5,-586 2650.5,-580 2656.5,-580 2656.5,-580 2757.5,-580 2757.5,-580 2763.5,-580 2769.5,-586 2769.5,-592 2769.5,-592 2769.5,-651 2769.5,-651 2769.5,-657 2763.5,-663 2757.5,-663\"/>\n<text text-anchor=\"start\" x=\"2652.5\" y=\"-647.8\" font-family=\"Helvetica,sans-Serif\" font-size=\"14.00\" fill=\"#000000\">Albumin ≤ &#45;1.148</text>\n<text text-anchor=\"start\" x=\"2677.5\" y=\"-632.8\" font-family=\"Helvetica,sans-Serif\" font-size=\"14.00\" fill=\"#000000\">gini = 0.5</text>\n<text text-anchor=\"start\" x=\"2667.5\" y=\"-617.8\" font-family=\"Helvetica,sans-Serif\" font-size=\"14.00\" fill=\"#000000\">samples = 4</text>\n<text text-anchor=\"start\" x=\"2665.5\" y=\"-602.8\" font-family=\"Helvetica,sans-Serif\" font-size=\"14.00\" fill=\"#000000\">value = [2, 2]</text>\n<text text-anchor=\"start\" x=\"2678\" y=\"-587.8\" font-family=\"Helvetica,sans-Serif\" font-size=\"14.00\" fill=\"#000000\">class = 0</text>\n</g>\n<!-- 65&#45;&gt;66 -->\n<g id=\"edge66\" class=\"edge\">\n<title>65&#45;&gt;66</title>\n<path fill=\"none\" stroke=\"#000000\" d=\"M2707,-698.8796C2707,-690.6838 2707,-681.9891 2707,-673.5013\"/>\n<polygon fill=\"#000000\" stroke=\"#000000\" points=\"2710.5001,-673.298 2707,-663.2981 2703.5001,-673.2981 2710.5001,-673.298\"/>\n</g>\n<!-- 71 -->\n<g id=\"node72\" class=\"node\">\n<title>71</title>\n<path fill=\"#e99558\" stroke=\"#000000\" d=\"M3082.5,-663C3082.5,-663 2977.5,-663 2977.5,-663 2971.5,-663 2965.5,-657 2965.5,-651 2965.5,-651 2965.5,-592 2965.5,-592 2965.5,-586 2971.5,-580 2977.5,-580 2977.5,-580 3082.5,-580 3082.5,-580 3088.5,-580 3094.5,-586 3094.5,-592 3094.5,-592 3094.5,-651 3094.5,-651 3094.5,-657 3088.5,-663 3082.5,-663\"/>\n<text text-anchor=\"start\" x=\"2973.5\" y=\"-647.8\" font-family=\"Helvetica,sans-Serif\" font-size=\"14.00\" fill=\"#000000\">Young Adult ≤ 0.5</text>\n<text text-anchor=\"start\" x=\"2992\" y=\"-632.8\" font-family=\"Helvetica,sans-Serif\" font-size=\"14.00\" fill=\"#000000\">gini = 0.236</text>\n<text text-anchor=\"start\" x=\"2986\" y=\"-617.8\" font-family=\"Helvetica,sans-Serif\" font-size=\"14.00\" fill=\"#000000\">samples = 22</text>\n<text text-anchor=\"start\" x=\"2984.5\" y=\"-602.8\" font-family=\"Helvetica,sans-Serif\" font-size=\"14.00\" fill=\"#000000\">value = [19, 3]</text>\n<text text-anchor=\"start\" x=\"3001\" y=\"-587.8\" font-family=\"Helvetica,sans-Serif\" font-size=\"14.00\" fill=\"#000000\">class = 0</text>\n</g>\n<!-- 65&#45;&gt;71 -->\n<g id=\"edge71\" class=\"edge\">\n<title>65&#45;&gt;71</title>\n<path fill=\"none\" stroke=\"#000000\" d=\"M2769.7047,-702.8387C2772.4818,-701.4919 2775.2546,-700.2052 2778,-699 2835.7596,-673.6445 2904.3611,-653.1288 2955.3928,-639.5901\"/>\n<polygon fill=\"#000000\" stroke=\"#000000\" points=\"2956.5721,-642.8993 2965.3565,-636.976 2954.7956,-636.1284 2956.5721,-642.8993\"/>\n</g>\n<!-- 67 -->\n<g id=\"node68\" class=\"node\">\n<title>67</title>\n<path fill=\"#e58139\" stroke=\"#000000\" d=\"M2671.5,-536.5C2671.5,-536.5 2596.5,-536.5 2596.5,-536.5 2590.5,-536.5 2584.5,-530.5 2584.5,-524.5 2584.5,-524.5 2584.5,-480.5 2584.5,-480.5 2584.5,-474.5 2590.5,-468.5 2596.5,-468.5 2596.5,-468.5 2671.5,-468.5 2671.5,-468.5 2677.5,-468.5 2683.5,-474.5 2683.5,-480.5 2683.5,-480.5 2683.5,-524.5 2683.5,-524.5 2683.5,-530.5 2677.5,-536.5 2671.5,-536.5\"/>\n<text text-anchor=\"start\" x=\"2604.5\" y=\"-521.3\" font-family=\"Helvetica,sans-Serif\" font-size=\"14.00\" fill=\"#000000\">gini = 0.0</text>\n<text text-anchor=\"start\" x=\"2594.5\" y=\"-506.3\" font-family=\"Helvetica,sans-Serif\" font-size=\"14.00\" fill=\"#000000\">samples = 1</text>\n<text text-anchor=\"start\" x=\"2592.5\" y=\"-491.3\" font-family=\"Helvetica,sans-Serif\" font-size=\"14.00\" fill=\"#000000\">value = [1, 0]</text>\n<text text-anchor=\"start\" x=\"2605\" y=\"-476.3\" font-family=\"Helvetica,sans-Serif\" font-size=\"14.00\" fill=\"#000000\">class = 0</text>\n</g>\n<!-- 66&#45;&gt;67 -->\n<g id=\"edge67\" class=\"edge\">\n<title>66&#45;&gt;67</title>\n<path fill=\"none\" stroke=\"#000000\" d=\"M2681.4681,-579.8796C2674.6552,-568.7735 2667.2802,-556.7513 2660.4206,-545.5691\"/>\n<polygon fill=\"#000000\" stroke=\"#000000\" points=\"2663.2628,-543.5087 2655.0503,-536.8149 2657.296,-547.1691 2663.2628,-543.5087\"/>\n</g>\n<!-- 68 -->\n<g id=\"node69\" class=\"node\">\n<title>68</title>\n<path fill=\"#9ccef2\" stroke=\"#000000\" d=\"M2846.5,-544C2846.5,-544 2713.5,-544 2713.5,-544 2707.5,-544 2701.5,-538 2701.5,-532 2701.5,-532 2701.5,-473 2701.5,-473 2701.5,-467 2707.5,-461 2713.5,-461 2713.5,-461 2846.5,-461 2846.5,-461 2852.5,-461 2858.5,-467 2858.5,-473 2858.5,-473 2858.5,-532 2858.5,-532 2858.5,-538 2852.5,-544 2846.5,-544\"/>\n<text text-anchor=\"start\" x=\"2709.5\" y=\"-528.8\" font-family=\"Helvetica,sans-Serif\" font-size=\"14.00\" fill=\"#000000\">Total_Protiens ≤ &#45;1.69</text>\n<text text-anchor=\"start\" x=\"2742\" y=\"-513.8\" font-family=\"Helvetica,sans-Serif\" font-size=\"14.00\" fill=\"#000000\">gini = 0.444</text>\n<text text-anchor=\"start\" x=\"2740.5\" y=\"-498.8\" font-family=\"Helvetica,sans-Serif\" font-size=\"14.00\" fill=\"#000000\">samples = 3</text>\n<text text-anchor=\"start\" x=\"2738.5\" y=\"-483.8\" font-family=\"Helvetica,sans-Serif\" font-size=\"14.00\" fill=\"#000000\">value = [1, 2]</text>\n<text text-anchor=\"start\" x=\"2751\" y=\"-468.8\" font-family=\"Helvetica,sans-Serif\" font-size=\"14.00\" fill=\"#000000\">class = 1</text>\n</g>\n<!-- 66&#45;&gt;68 -->\n<g id=\"edge68\" class=\"edge\">\n<title>66&#45;&gt;68</title>\n<path fill=\"none\" stroke=\"#000000\" d=\"M2732.5319,-579.8796C2737.891,-571.1434 2743.5979,-561.8404 2749.1282,-552.8253\"/>\n<polygon fill=\"#000000\" stroke=\"#000000\" points=\"2752.1135,-554.6522 2754.3592,-544.2981 2746.1467,-550.9919 2752.1135,-554.6522\"/>\n</g>\n<!-- 69 -->\n<g id=\"node70\" class=\"node\">\n<title>69</title>\n<path fill=\"#e58139\" stroke=\"#000000\" d=\"M2700.5,-417.5C2700.5,-417.5 2625.5,-417.5 2625.5,-417.5 2619.5,-417.5 2613.5,-411.5 2613.5,-405.5 2613.5,-405.5 2613.5,-361.5 2613.5,-361.5 2613.5,-355.5 2619.5,-349.5 2625.5,-349.5 2625.5,-349.5 2700.5,-349.5 2700.5,-349.5 2706.5,-349.5 2712.5,-355.5 2712.5,-361.5 2712.5,-361.5 2712.5,-405.5 2712.5,-405.5 2712.5,-411.5 2706.5,-417.5 2700.5,-417.5\"/>\n<text text-anchor=\"start\" x=\"2633.5\" y=\"-402.3\" font-family=\"Helvetica,sans-Serif\" font-size=\"14.00\" fill=\"#000000\">gini = 0.0</text>\n<text text-anchor=\"start\" x=\"2623.5\" y=\"-387.3\" font-family=\"Helvetica,sans-Serif\" font-size=\"14.00\" fill=\"#000000\">samples = 1</text>\n<text text-anchor=\"start\" x=\"2621.5\" y=\"-372.3\" font-family=\"Helvetica,sans-Serif\" font-size=\"14.00\" fill=\"#000000\">value = [1, 0]</text>\n<text text-anchor=\"start\" x=\"2634\" y=\"-357.3\" font-family=\"Helvetica,sans-Serif\" font-size=\"14.00\" fill=\"#000000\">class = 0</text>\n</g>\n<!-- 68&#45;&gt;69 -->\n<g id=\"edge69\" class=\"edge\">\n<title>68&#45;&gt;69</title>\n<path fill=\"none\" stroke=\"#000000\" d=\"M2739.0791,-460.8796C2727.7272,-449.3337 2715.4018,-436.7976 2704.043,-425.2446\"/>\n<polygon fill=\"#000000\" stroke=\"#000000\" points=\"2706.2449,-422.4919 2696.7382,-417.8149 2701.2534,-427.3995 2706.2449,-422.4919\"/>\n</g>\n<!-- 70 -->\n<g id=\"node71\" class=\"node\">\n<title>70</title>\n<path fill=\"#399de5\" stroke=\"#000000\" d=\"M2817.5,-417.5C2817.5,-417.5 2742.5,-417.5 2742.5,-417.5 2736.5,-417.5 2730.5,-411.5 2730.5,-405.5 2730.5,-405.5 2730.5,-361.5 2730.5,-361.5 2730.5,-355.5 2736.5,-349.5 2742.5,-349.5 2742.5,-349.5 2817.5,-349.5 2817.5,-349.5 2823.5,-349.5 2829.5,-355.5 2829.5,-361.5 2829.5,-361.5 2829.5,-405.5 2829.5,-405.5 2829.5,-411.5 2823.5,-417.5 2817.5,-417.5\"/>\n<text text-anchor=\"start\" x=\"2750.5\" y=\"-402.3\" font-family=\"Helvetica,sans-Serif\" font-size=\"14.00\" fill=\"#000000\">gini = 0.0</text>\n<text text-anchor=\"start\" x=\"2740.5\" y=\"-387.3\" font-family=\"Helvetica,sans-Serif\" font-size=\"14.00\" fill=\"#000000\">samples = 2</text>\n<text text-anchor=\"start\" x=\"2738.5\" y=\"-372.3\" font-family=\"Helvetica,sans-Serif\" font-size=\"14.00\" fill=\"#000000\">value = [0, 2]</text>\n<text text-anchor=\"start\" x=\"2751\" y=\"-357.3\" font-family=\"Helvetica,sans-Serif\" font-size=\"14.00\" fill=\"#000000\">class = 1</text>\n</g>\n<!-- 68&#45;&gt;70 -->\n<g id=\"edge70\" class=\"edge\">\n<title>68&#45;&gt;70</title>\n<path fill=\"none\" stroke=\"#000000\" d=\"M2780,-460.8796C2780,-450.2134 2780,-438.7021 2780,-427.9015\"/>\n<polygon fill=\"#000000\" stroke=\"#000000\" points=\"2783.5001,-427.8149 2780,-417.8149 2776.5001,-427.815 2783.5001,-427.8149\"/>\n</g>\n<!-- 72 -->\n<g id=\"node73\" class=\"node\">\n<title>72</title>\n<path fill=\"#e88f4f\" stroke=\"#000000\" d=\"M3099.5,-544C3099.5,-544 2960.5,-544 2960.5,-544 2954.5,-544 2948.5,-538 2948.5,-532 2948.5,-532 2948.5,-473 2948.5,-473 2948.5,-467 2954.5,-461 2960.5,-461 2960.5,-461 3099.5,-461 3099.5,-461 3105.5,-461 3111.5,-467 3111.5,-473 3111.5,-473 3111.5,-532 3111.5,-532 3111.5,-538 3105.5,-544 3099.5,-544\"/>\n<text text-anchor=\"start\" x=\"2956.5\" y=\"-528.8\" font-family=\"Helvetica,sans-Serif\" font-size=\"14.00\" fill=\"#000000\">Total_Bilirubin ≤ &#45;0.375</text>\n<text text-anchor=\"start\" x=\"2996.5\" y=\"-513.8\" font-family=\"Helvetica,sans-Serif\" font-size=\"14.00\" fill=\"#000000\">gini = 0.18</text>\n<text text-anchor=\"start\" x=\"2986\" y=\"-498.8\" font-family=\"Helvetica,sans-Serif\" font-size=\"14.00\" fill=\"#000000\">samples = 20</text>\n<text text-anchor=\"start\" x=\"2984.5\" y=\"-483.8\" font-family=\"Helvetica,sans-Serif\" font-size=\"14.00\" fill=\"#000000\">value = [18, 2]</text>\n<text text-anchor=\"start\" x=\"3001\" y=\"-468.8\" font-family=\"Helvetica,sans-Serif\" font-size=\"14.00\" fill=\"#000000\">class = 0</text>\n</g>\n<!-- 71&#45;&gt;72 -->\n<g id=\"edge72\" class=\"edge\">\n<title>71&#45;&gt;72</title>\n<path fill=\"none\" stroke=\"#000000\" d=\"M3030,-579.8796C3030,-571.6838 3030,-562.9891 3030,-554.5013\"/>\n<polygon fill=\"#000000\" stroke=\"#000000\" points=\"3033.5001,-554.298 3030,-544.2981 3026.5001,-554.2981 3033.5001,-554.298\"/>\n</g>\n<!-- 81 -->\n<g id=\"node82\" class=\"node\">\n<title>81</title>\n<path fill=\"#ffffff\" stroke=\"#000000\" d=\"M3365.5,-544C3365.5,-544 3228.5,-544 3228.5,-544 3222.5,-544 3216.5,-538 3216.5,-532 3216.5,-532 3216.5,-473 3216.5,-473 3216.5,-467 3222.5,-461 3228.5,-461 3228.5,-461 3365.5,-461 3365.5,-461 3371.5,-461 3377.5,-467 3377.5,-473 3377.5,-473 3377.5,-532 3377.5,-532 3377.5,-538 3371.5,-544 3365.5,-544\"/>\n<text text-anchor=\"start\" x=\"3224.5\" y=\"-528.8\" font-family=\"Helvetica,sans-Serif\" font-size=\"14.00\" fill=\"#000000\">Total_Protiens ≤ 1.156</text>\n<text text-anchor=\"start\" x=\"3267.5\" y=\"-513.8\" font-family=\"Helvetica,sans-Serif\" font-size=\"14.00\" fill=\"#000000\">gini = 0.5</text>\n<text text-anchor=\"start\" x=\"3257.5\" y=\"-498.8\" font-family=\"Helvetica,sans-Serif\" font-size=\"14.00\" fill=\"#000000\">samples = 2</text>\n<text text-anchor=\"start\" x=\"3255.5\" y=\"-483.8\" font-family=\"Helvetica,sans-Serif\" font-size=\"14.00\" fill=\"#000000\">value = [1, 1]</text>\n<text text-anchor=\"start\" x=\"3268\" y=\"-468.8\" font-family=\"Helvetica,sans-Serif\" font-size=\"14.00\" fill=\"#000000\">class = 0</text>\n</g>\n<!-- 71&#45;&gt;81 -->\n<g id=\"edge81\" class=\"edge\">\n<title>71&#45;&gt;81</title>\n<path fill=\"none\" stroke=\"#000000\" d=\"M3094.6333,-592.6934C3128.353,-577.6648 3170.1447,-559.0385 3206.979,-542.6217\"/>\n<polygon fill=\"#000000\" stroke=\"#000000\" points=\"3208.5199,-545.7669 3216.229,-538.4991 3205.6702,-539.3732 3208.5199,-545.7669\"/>\n</g>\n<!-- 73 -->\n<g id=\"node74\" class=\"node\">\n<title>73</title>\n<path fill=\"#e58139\" stroke=\"#000000\" d=\"M2942.5,-417.5C2942.5,-417.5 2859.5,-417.5 2859.5,-417.5 2853.5,-417.5 2847.5,-411.5 2847.5,-405.5 2847.5,-405.5 2847.5,-361.5 2847.5,-361.5 2847.5,-355.5 2853.5,-349.5 2859.5,-349.5 2859.5,-349.5 2942.5,-349.5 2942.5,-349.5 2948.5,-349.5 2954.5,-355.5 2954.5,-361.5 2954.5,-361.5 2954.5,-405.5 2954.5,-405.5 2954.5,-411.5 2948.5,-417.5 2942.5,-417.5\"/>\n<text text-anchor=\"start\" x=\"2871.5\" y=\"-402.3\" font-family=\"Helvetica,sans-Serif\" font-size=\"14.00\" fill=\"#000000\">gini = 0.0</text>\n<text text-anchor=\"start\" x=\"2857\" y=\"-387.3\" font-family=\"Helvetica,sans-Serif\" font-size=\"14.00\" fill=\"#000000\">samples = 11</text>\n<text text-anchor=\"start\" x=\"2855.5\" y=\"-372.3\" font-family=\"Helvetica,sans-Serif\" font-size=\"14.00\" fill=\"#000000\">value = [11, 0]</text>\n<text text-anchor=\"start\" x=\"2872\" y=\"-357.3\" font-family=\"Helvetica,sans-Serif\" font-size=\"14.00\" fill=\"#000000\">class = 0</text>\n</g>\n<!-- 72&#45;&gt;73 -->\n<g id=\"edge73\" class=\"edge\">\n<title>72&#45;&gt;73</title>\n<path fill=\"none\" stroke=\"#000000\" d=\"M2984.8821,-460.8796C2972.2467,-449.2237 2958.5174,-436.5587 2945.895,-424.9148\"/>\n<polygon fill=\"#000000\" stroke=\"#000000\" points=\"2947.922,-422.0228 2938.1985,-417.8149 2943.1756,-427.168 2947.922,-422.0228\"/>\n</g>\n<!-- 74 -->\n<g id=\"node75\" class=\"node\">\n<title>74</title>\n<path fill=\"#eca572\" stroke=\"#000000\" d=\"M3217.5,-425C3217.5,-425 2984.5,-425 2984.5,-425 2978.5,-425 2972.5,-419 2972.5,-413 2972.5,-413 2972.5,-354 2972.5,-354 2972.5,-348 2978.5,-342 2984.5,-342 2984.5,-342 3217.5,-342 3217.5,-342 3223.5,-342 3229.5,-348 3229.5,-354 3229.5,-354 3229.5,-413 3229.5,-413 3229.5,-419 3223.5,-425 3217.5,-425\"/>\n<text text-anchor=\"start\" x=\"2980.5\" y=\"-409.8\" font-family=\"Helvetica,sans-Serif\" font-size=\"14.00\" fill=\"#000000\">Aspartate_Aminotransferase ≤ &#45;0.296</text>\n<text text-anchor=\"start\" x=\"3063\" y=\"-394.8\" font-family=\"Helvetica,sans-Serif\" font-size=\"14.00\" fill=\"#000000\">gini = 0.346</text>\n<text text-anchor=\"start\" x=\"3061.5\" y=\"-379.8\" font-family=\"Helvetica,sans-Serif\" font-size=\"14.00\" fill=\"#000000\">samples = 9</text>\n<text text-anchor=\"start\" x=\"3059.5\" y=\"-364.8\" font-family=\"Helvetica,sans-Serif\" font-size=\"14.00\" fill=\"#000000\">value = [7, 2]</text>\n<text text-anchor=\"start\" x=\"3072\" y=\"-349.8\" font-family=\"Helvetica,sans-Serif\" font-size=\"14.00\" fill=\"#000000\">class = 0</text>\n</g>\n<!-- 72&#45;&gt;74 -->\n<g id=\"edge74\" class=\"edge\">\n<title>72&#45;&gt;74</title>\n<path fill=\"none\" stroke=\"#000000\" d=\"M3054.8324,-460.8796C3059.9909,-452.2335 3065.4808,-443.0322 3070.8076,-434.1042\"/>\n<polygon fill=\"#000000\" stroke=\"#000000\" points=\"3073.9436,-435.679 3076.0617,-425.2981 3067.9322,-432.0924 3073.9436,-435.679\"/>\n</g>\n<!-- 75 -->\n<g id=\"node76\" class=\"node\">\n<title>75</title>\n<path fill=\"#399de5\" stroke=\"#000000\" d=\"M3061.5,-298.5C3061.5,-298.5 2986.5,-298.5 2986.5,-298.5 2980.5,-298.5 2974.5,-292.5 2974.5,-286.5 2974.5,-286.5 2974.5,-242.5 2974.5,-242.5 2974.5,-236.5 2980.5,-230.5 2986.5,-230.5 2986.5,-230.5 3061.5,-230.5 3061.5,-230.5 3067.5,-230.5 3073.5,-236.5 3073.5,-242.5 3073.5,-242.5 3073.5,-286.5 3073.5,-286.5 3073.5,-292.5 3067.5,-298.5 3061.5,-298.5\"/>\n<text text-anchor=\"start\" x=\"2994.5\" y=\"-283.3\" font-family=\"Helvetica,sans-Serif\" font-size=\"14.00\" fill=\"#000000\">gini = 0.0</text>\n<text text-anchor=\"start\" x=\"2984.5\" y=\"-268.3\" font-family=\"Helvetica,sans-Serif\" font-size=\"14.00\" fill=\"#000000\">samples = 1</text>\n<text text-anchor=\"start\" x=\"2982.5\" y=\"-253.3\" font-family=\"Helvetica,sans-Serif\" font-size=\"14.00\" fill=\"#000000\">value = [0, 1]</text>\n<text text-anchor=\"start\" x=\"2995\" y=\"-238.3\" font-family=\"Helvetica,sans-Serif\" font-size=\"14.00\" fill=\"#000000\">class = 1</text>\n</g>\n<!-- 74&#45;&gt;75 -->\n<g id=\"edge75\" class=\"edge\">\n<title>74&#45;&gt;75</title>\n<path fill=\"none\" stroke=\"#000000\" d=\"M3074.0691,-341.8796C3066.8117,-330.6636 3058.9497,-318.5131 3051.6535,-307.2372\"/>\n<polygon fill=\"#000000\" stroke=\"#000000\" points=\"3054.5748,-305.3093 3046.2038,-298.8149 3048.6978,-309.112 3054.5748,-305.3093\"/>\n</g>\n<!-- 76 -->\n<g id=\"node77\" class=\"node\">\n<title>76</title>\n<path fill=\"#e99355\" stroke=\"#000000\" d=\"M3250,-306C3250,-306 3104,-306 3104,-306 3098,-306 3092,-300 3092,-294 3092,-294 3092,-235 3092,-235 3092,-229 3098,-223 3104,-223 3104,-223 3250,-223 3250,-223 3256,-223 3262,-229 3262,-235 3262,-235 3262,-294 3262,-294 3262,-300 3256,-306 3250,-306\"/>\n<text text-anchor=\"start\" x=\"3100\" y=\"-290.8\" font-family=\"Helvetica,sans-Serif\" font-size=\"14.00\" fill=\"#000000\">Direct_Bilirubin ≤ &#45;0.357</text>\n<text text-anchor=\"start\" x=\"3139\" y=\"-275.8\" font-family=\"Helvetica,sans-Serif\" font-size=\"14.00\" fill=\"#000000\">gini = 0.219</text>\n<text text-anchor=\"start\" x=\"3137.5\" y=\"-260.8\" font-family=\"Helvetica,sans-Serif\" font-size=\"14.00\" fill=\"#000000\">samples = 8</text>\n<text text-anchor=\"start\" x=\"3135.5\" y=\"-245.8\" font-family=\"Helvetica,sans-Serif\" font-size=\"14.00\" fill=\"#000000\">value = [7, 1]</text>\n<text text-anchor=\"start\" x=\"3148\" y=\"-230.8\" font-family=\"Helvetica,sans-Serif\" font-size=\"14.00\" fill=\"#000000\">class = 0</text>\n</g>\n<!-- 74&#45;&gt;76 -->\n<g id=\"edge76\" class=\"edge\">\n<title>74&#45;&gt;76</title>\n<path fill=\"none\" stroke=\"#000000\" d=\"M3127.5811,-341.8796C3133.1605,-333.1434 3139.1019,-323.8404 3144.8595,-314.8253\"/>\n<polygon fill=\"#000000\" stroke=\"#000000\" points=\"3147.8726,-316.6098 3150.3054,-306.2981 3141.9731,-312.8421 3147.8726,-316.6098\"/>\n</g>\n<!-- 77 -->\n<g id=\"node78\" class=\"node\">\n<title>77</title>\n<path fill=\"#f2c09c\" stroke=\"#000000\" d=\"M3194.5,-187C3194.5,-187 2965.5,-187 2965.5,-187 2959.5,-187 2953.5,-181 2953.5,-175 2953.5,-175 2953.5,-116 2953.5,-116 2953.5,-110 2959.5,-104 2965.5,-104 2965.5,-104 3194.5,-104 3194.5,-104 3200.5,-104 3206.5,-110 3206.5,-116 3206.5,-116 3206.5,-175 3206.5,-175 3206.5,-181 3200.5,-187 3194.5,-187\"/>\n<text text-anchor=\"start\" x=\"2961.5\" y=\"-171.8\" font-family=\"Helvetica,sans-Serif\" font-size=\"14.00\" fill=\"#000000\">Aspartate_Aminotransferase ≤ 0.081</text>\n<text text-anchor=\"start\" x=\"3042\" y=\"-156.8\" font-family=\"Helvetica,sans-Serif\" font-size=\"14.00\" fill=\"#000000\">gini = 0.444</text>\n<text text-anchor=\"start\" x=\"3040.5\" y=\"-141.8\" font-family=\"Helvetica,sans-Serif\" font-size=\"14.00\" fill=\"#000000\">samples = 3</text>\n<text text-anchor=\"start\" x=\"3038.5\" y=\"-126.8\" font-family=\"Helvetica,sans-Serif\" font-size=\"14.00\" fill=\"#000000\">value = [2, 1]</text>\n<text text-anchor=\"start\" x=\"3051\" y=\"-111.8\" font-family=\"Helvetica,sans-Serif\" font-size=\"14.00\" fill=\"#000000\">class = 0</text>\n</g>\n<!-- 76&#45;&gt;77 -->\n<g id=\"edge77\" class=\"edge\">\n<title>76&#45;&gt;77</title>\n<path fill=\"none\" stroke=\"#000000\" d=\"M3143.0741,-222.8796C3135.8062,-213.9633 3128.057,-204.4565 3120.5672,-195.268\"/>\n<polygon fill=\"#000000\" stroke=\"#000000\" points=\"3123.1018,-192.8379 3114.0707,-187.2981 3117.676,-197.2606 3123.1018,-192.8379\"/>\n</g>\n<!-- 80 -->\n<g id=\"node81\" class=\"node\">\n<title>80</title>\n<path fill=\"#e58139\" stroke=\"#000000\" d=\"M3311.5,-179.5C3311.5,-179.5 3236.5,-179.5 3236.5,-179.5 3230.5,-179.5 3224.5,-173.5 3224.5,-167.5 3224.5,-167.5 3224.5,-123.5 3224.5,-123.5 3224.5,-117.5 3230.5,-111.5 3236.5,-111.5 3236.5,-111.5 3311.5,-111.5 3311.5,-111.5 3317.5,-111.5 3323.5,-117.5 3323.5,-123.5 3323.5,-123.5 3323.5,-167.5 3323.5,-167.5 3323.5,-173.5 3317.5,-179.5 3311.5,-179.5\"/>\n<text text-anchor=\"start\" x=\"3244.5\" y=\"-164.3\" font-family=\"Helvetica,sans-Serif\" font-size=\"14.00\" fill=\"#000000\">gini = 0.0</text>\n<text text-anchor=\"start\" x=\"3234.5\" y=\"-149.3\" font-family=\"Helvetica,sans-Serif\" font-size=\"14.00\" fill=\"#000000\">samples = 5</text>\n<text text-anchor=\"start\" x=\"3232.5\" y=\"-134.3\" font-family=\"Helvetica,sans-Serif\" font-size=\"14.00\" fill=\"#000000\">value = [5, 0]</text>\n<text text-anchor=\"start\" x=\"3245\" y=\"-119.3\" font-family=\"Helvetica,sans-Serif\" font-size=\"14.00\" fill=\"#000000\">class = 0</text>\n</g>\n<!-- 76&#45;&gt;80 -->\n<g id=\"edge80\" class=\"edge\">\n<title>76&#45;&gt;80</title>\n<path fill=\"none\" stroke=\"#000000\" d=\"M3210.9259,-222.8796C3220.2476,-211.4436 3230.3612,-199.0363 3239.7036,-187.575\"/>\n<polygon fill=\"#000000\" stroke=\"#000000\" points=\"3242.4237,-189.7775 3246.029,-179.8149 3236.9979,-185.3548 3242.4237,-189.7775\"/>\n</g>\n<!-- 78 -->\n<g id=\"node79\" class=\"node\">\n<title>78</title>\n<path fill=\"#399de5\" stroke=\"#000000\" d=\"M3059.5,-68C3059.5,-68 2984.5,-68 2984.5,-68 2978.5,-68 2972.5,-62 2972.5,-56 2972.5,-56 2972.5,-12 2972.5,-12 2972.5,-6 2978.5,0 2984.5,0 2984.5,0 3059.5,0 3059.5,0 3065.5,0 3071.5,-6 3071.5,-12 3071.5,-12 3071.5,-56 3071.5,-56 3071.5,-62 3065.5,-68 3059.5,-68\"/>\n<text text-anchor=\"start\" x=\"2992.5\" y=\"-52.8\" font-family=\"Helvetica,sans-Serif\" font-size=\"14.00\" fill=\"#000000\">gini = 0.0</text>\n<text text-anchor=\"start\" x=\"2982.5\" y=\"-37.8\" font-family=\"Helvetica,sans-Serif\" font-size=\"14.00\" fill=\"#000000\">samples = 1</text>\n<text text-anchor=\"start\" x=\"2980.5\" y=\"-22.8\" font-family=\"Helvetica,sans-Serif\" font-size=\"14.00\" fill=\"#000000\">value = [0, 1]</text>\n<text text-anchor=\"start\" x=\"2993\" y=\"-7.8\" font-family=\"Helvetica,sans-Serif\" font-size=\"14.00\" fill=\"#000000\">class = 1</text>\n</g>\n<!-- 77&#45;&gt;78 -->\n<g id=\"edge78\" class=\"edge\">\n<title>77&#45;&gt;78</title>\n<path fill=\"none\" stroke=\"#000000\" d=\"M3058.4029,-103.9815C3053.8612,-95.2504 3049.0598,-86.0202 3044.4863,-77.2281\"/>\n<polygon fill=\"#000000\" stroke=\"#000000\" points=\"3047.5431,-75.52 3039.8233,-68.2637 3041.3331,-78.7504 3047.5431,-75.52\"/>\n</g>\n<!-- 79 -->\n<g id=\"node80\" class=\"node\">\n<title>79</title>\n<path fill=\"#e58139\" stroke=\"#000000\" d=\"M3176.5,-68C3176.5,-68 3101.5,-68 3101.5,-68 3095.5,-68 3089.5,-62 3089.5,-56 3089.5,-56 3089.5,-12 3089.5,-12 3089.5,-6 3095.5,0 3101.5,0 3101.5,0 3176.5,0 3176.5,0 3182.5,0 3188.5,-6 3188.5,-12 3188.5,-12 3188.5,-56 3188.5,-56 3188.5,-62 3182.5,-68 3176.5,-68\"/>\n<text text-anchor=\"start\" x=\"3109.5\" y=\"-52.8\" font-family=\"Helvetica,sans-Serif\" font-size=\"14.00\" fill=\"#000000\">gini = 0.0</text>\n<text text-anchor=\"start\" x=\"3099.5\" y=\"-37.8\" font-family=\"Helvetica,sans-Serif\" font-size=\"14.00\" fill=\"#000000\">samples = 2</text>\n<text text-anchor=\"start\" x=\"3097.5\" y=\"-22.8\" font-family=\"Helvetica,sans-Serif\" font-size=\"14.00\" fill=\"#000000\">value = [2, 0]</text>\n<text text-anchor=\"start\" x=\"3110\" y=\"-7.8\" font-family=\"Helvetica,sans-Serif\" font-size=\"14.00\" fill=\"#000000\">class = 0</text>\n</g>\n<!-- 77&#45;&gt;79 -->\n<g id=\"edge79\" class=\"edge\">\n<title>77&#45;&gt;79</title>\n<path fill=\"none\" stroke=\"#000000\" d=\"M3101.9694,-103.9815C3106.5895,-95.2504 3111.4736,-86.0202 3116.126,-77.2281\"/>\n<polygon fill=\"#000000\" stroke=\"#000000\" points=\"3119.2859,-78.7395 3120.8694,-68.2637 3113.0987,-75.4655 3119.2859,-78.7395\"/>\n</g>\n<!-- 82 -->\n<g id=\"node83\" class=\"node\">\n<title>82</title>\n<path fill=\"#399de5\" stroke=\"#000000\" d=\"M3334.5,-417.5C3334.5,-417.5 3259.5,-417.5 3259.5,-417.5 3253.5,-417.5 3247.5,-411.5 3247.5,-405.5 3247.5,-405.5 3247.5,-361.5 3247.5,-361.5 3247.5,-355.5 3253.5,-349.5 3259.5,-349.5 3259.5,-349.5 3334.5,-349.5 3334.5,-349.5 3340.5,-349.5 3346.5,-355.5 3346.5,-361.5 3346.5,-361.5 3346.5,-405.5 3346.5,-405.5 3346.5,-411.5 3340.5,-417.5 3334.5,-417.5\"/>\n<text text-anchor=\"start\" x=\"3267.5\" y=\"-402.3\" font-family=\"Helvetica,sans-Serif\" font-size=\"14.00\" fill=\"#000000\">gini = 0.0</text>\n<text text-anchor=\"start\" x=\"3257.5\" y=\"-387.3\" font-family=\"Helvetica,sans-Serif\" font-size=\"14.00\" fill=\"#000000\">samples = 1</text>\n<text text-anchor=\"start\" x=\"3255.5\" y=\"-372.3\" font-family=\"Helvetica,sans-Serif\" font-size=\"14.00\" fill=\"#000000\">value = [0, 1]</text>\n<text text-anchor=\"start\" x=\"3268\" y=\"-357.3\" font-family=\"Helvetica,sans-Serif\" font-size=\"14.00\" fill=\"#000000\">class = 1</text>\n</g>\n<!-- 81&#45;&gt;82 -->\n<g id=\"edge82\" class=\"edge\">\n<title>81&#45;&gt;82</title>\n<path fill=\"none\" stroke=\"#000000\" d=\"M3297,-460.8796C3297,-450.2134 3297,-438.7021 3297,-427.9015\"/>\n<polygon fill=\"#000000\" stroke=\"#000000\" points=\"3300.5001,-427.8149 3297,-417.8149 3293.5001,-427.815 3300.5001,-427.8149\"/>\n</g>\n<!-- 83 -->\n<g id=\"node84\" class=\"node\">\n<title>83</title>\n<path fill=\"#e58139\" stroke=\"#000000\" d=\"M3451.5,-417.5C3451.5,-417.5 3376.5,-417.5 3376.5,-417.5 3370.5,-417.5 3364.5,-411.5 3364.5,-405.5 3364.5,-405.5 3364.5,-361.5 3364.5,-361.5 3364.5,-355.5 3370.5,-349.5 3376.5,-349.5 3376.5,-349.5 3451.5,-349.5 3451.5,-349.5 3457.5,-349.5 3463.5,-355.5 3463.5,-361.5 3463.5,-361.5 3463.5,-405.5 3463.5,-405.5 3463.5,-411.5 3457.5,-417.5 3451.5,-417.5\"/>\n<text text-anchor=\"start\" x=\"3384.5\" y=\"-402.3\" font-family=\"Helvetica,sans-Serif\" font-size=\"14.00\" fill=\"#000000\">gini = 0.0</text>\n<text text-anchor=\"start\" x=\"3374.5\" y=\"-387.3\" font-family=\"Helvetica,sans-Serif\" font-size=\"14.00\" fill=\"#000000\">samples = 1</text>\n<text text-anchor=\"start\" x=\"3372.5\" y=\"-372.3\" font-family=\"Helvetica,sans-Serif\" font-size=\"14.00\" fill=\"#000000\">value = [1, 0]</text>\n<text text-anchor=\"start\" x=\"3385\" y=\"-357.3\" font-family=\"Helvetica,sans-Serif\" font-size=\"14.00\" fill=\"#000000\">class = 0</text>\n</g>\n<!-- 81&#45;&gt;83 -->\n<g id=\"edge83\" class=\"edge\">\n<title>81&#45;&gt;83</title>\n<path fill=\"none\" stroke=\"#000000\" d=\"M3337.9209,-460.8796C3349.2728,-449.3337 3361.5982,-436.7976 3372.957,-425.2446\"/>\n<polygon fill=\"#000000\" stroke=\"#000000\" points=\"3375.7466,-427.3995 3380.2618,-417.8149 3370.7551,-422.4919 3375.7466,-427.3995\"/>\n</g>\n<!-- 87 -->\n<g id=\"node88\" class=\"node\">\n<title>87</title>\n<path fill=\"#ffffff\" stroke=\"#000000\" d=\"M2924.5,-1139C2924.5,-1139 2785.5,-1139 2785.5,-1139 2779.5,-1139 2773.5,-1133 2773.5,-1127 2773.5,-1127 2773.5,-1068 2773.5,-1068 2773.5,-1062 2779.5,-1056 2785.5,-1056 2785.5,-1056 2924.5,-1056 2924.5,-1056 2930.5,-1056 2936.5,-1062 2936.5,-1068 2936.5,-1068 2936.5,-1127 2936.5,-1127 2936.5,-1133 2930.5,-1139 2924.5,-1139\"/>\n<text text-anchor=\"start\" x=\"2781.5\" y=\"-1123.8\" font-family=\"Helvetica,sans-Serif\" font-size=\"14.00\" fill=\"#000000\">Total_Bilirubin ≤ &#45;0.235</text>\n<text text-anchor=\"start\" x=\"2825.5\" y=\"-1108.8\" font-family=\"Helvetica,sans-Serif\" font-size=\"14.00\" fill=\"#000000\">gini = 0.5</text>\n<text text-anchor=\"start\" x=\"2815.5\" y=\"-1093.8\" font-family=\"Helvetica,sans-Serif\" font-size=\"14.00\" fill=\"#000000\">samples = 2</text>\n<text text-anchor=\"start\" x=\"2813.5\" y=\"-1078.8\" font-family=\"Helvetica,sans-Serif\" font-size=\"14.00\" fill=\"#000000\">value = [1, 1]</text>\n<text text-anchor=\"start\" x=\"2826\" y=\"-1063.8\" font-family=\"Helvetica,sans-Serif\" font-size=\"14.00\" fill=\"#000000\">class = 0</text>\n</g>\n<!-- 86&#45;&gt;87 -->\n<g id=\"edge87\" class=\"edge\">\n<title>86&#45;&gt;87</title>\n<path fill=\"none\" stroke=\"#000000\" d=\"M2903.1184,-1174.8796C2897.6858,-1166.1434 2891.9008,-1156.8404 2886.2947,-1147.8253\"/>\n<polygon fill=\"#000000\" stroke=\"#000000\" points=\"2889.2451,-1145.9418 2880.9921,-1139.2981 2883.3007,-1149.6383 2889.2451,-1145.9418\"/>\n</g>\n<!-- 90 -->\n<g id=\"node91\" class=\"node\">\n<title>90</title>\n<path fill=\"#399de5\" stroke=\"#000000\" d=\"M3041.5,-1131.5C3041.5,-1131.5 2966.5,-1131.5 2966.5,-1131.5 2960.5,-1131.5 2954.5,-1125.5 2954.5,-1119.5 2954.5,-1119.5 2954.5,-1075.5 2954.5,-1075.5 2954.5,-1069.5 2960.5,-1063.5 2966.5,-1063.5 2966.5,-1063.5 3041.5,-1063.5 3041.5,-1063.5 3047.5,-1063.5 3053.5,-1069.5 3053.5,-1075.5 3053.5,-1075.5 3053.5,-1119.5 3053.5,-1119.5 3053.5,-1125.5 3047.5,-1131.5 3041.5,-1131.5\"/>\n<text text-anchor=\"start\" x=\"2974.5\" y=\"-1116.3\" font-family=\"Helvetica,sans-Serif\" font-size=\"14.00\" fill=\"#000000\">gini = 0.0</text>\n<text text-anchor=\"start\" x=\"2964.5\" y=\"-1101.3\" font-family=\"Helvetica,sans-Serif\" font-size=\"14.00\" fill=\"#000000\">samples = 7</text>\n<text text-anchor=\"start\" x=\"2962.5\" y=\"-1086.3\" font-family=\"Helvetica,sans-Serif\" font-size=\"14.00\" fill=\"#000000\">value = [0, 7]</text>\n<text text-anchor=\"start\" x=\"2975\" y=\"-1071.3\" font-family=\"Helvetica,sans-Serif\" font-size=\"14.00\" fill=\"#000000\">class = 1</text>\n</g>\n<!-- 86&#45;&gt;90 -->\n<g id=\"edge90\" class=\"edge\">\n<title>86&#45;&gt;90</title>\n<path fill=\"none\" stroke=\"#000000\" d=\"M2955.2314,-1174.8796C2962.231,-1163.7735 2969.808,-1151.7513 2976.8556,-1140.5691\"/>\n<polygon fill=\"#000000\" stroke=\"#000000\" points=\"2980.002,-1142.1411 2982.3729,-1131.8149 2974.08,-1138.4087 2980.002,-1142.1411\"/>\n</g>\n<!-- 88 -->\n<g id=\"node89\" class=\"node\">\n<title>88</title>\n<path fill=\"#399de5\" stroke=\"#000000\" d=\"M2892.5,-1012.5C2892.5,-1012.5 2817.5,-1012.5 2817.5,-1012.5 2811.5,-1012.5 2805.5,-1006.5 2805.5,-1000.5 2805.5,-1000.5 2805.5,-956.5 2805.5,-956.5 2805.5,-950.5 2811.5,-944.5 2817.5,-944.5 2817.5,-944.5 2892.5,-944.5 2892.5,-944.5 2898.5,-944.5 2904.5,-950.5 2904.5,-956.5 2904.5,-956.5 2904.5,-1000.5 2904.5,-1000.5 2904.5,-1006.5 2898.5,-1012.5 2892.5,-1012.5\"/>\n<text text-anchor=\"start\" x=\"2825.5\" y=\"-997.3\" font-family=\"Helvetica,sans-Serif\" font-size=\"14.00\" fill=\"#000000\">gini = 0.0</text>\n<text text-anchor=\"start\" x=\"2815.5\" y=\"-982.3\" font-family=\"Helvetica,sans-Serif\" font-size=\"14.00\" fill=\"#000000\">samples = 1</text>\n<text text-anchor=\"start\" x=\"2813.5\" y=\"-967.3\" font-family=\"Helvetica,sans-Serif\" font-size=\"14.00\" fill=\"#000000\">value = [0, 1]</text>\n<text text-anchor=\"start\" x=\"2826\" y=\"-952.3\" font-family=\"Helvetica,sans-Serif\" font-size=\"14.00\" fill=\"#000000\">class = 1</text>\n</g>\n<!-- 87&#45;&gt;88 -->\n<g id=\"edge88\" class=\"edge\">\n<title>87&#45;&gt;88</title>\n<path fill=\"none\" stroke=\"#000000\" d=\"M2855,-1055.8796C2855,-1045.2134 2855,-1033.7021 2855,-1022.9015\"/>\n<polygon fill=\"#000000\" stroke=\"#000000\" points=\"2858.5001,-1022.8149 2855,-1012.8149 2851.5001,-1022.815 2858.5001,-1022.8149\"/>\n</g>\n<!-- 89 -->\n<g id=\"node90\" class=\"node\">\n<title>89</title>\n<path fill=\"#e58139\" stroke=\"#000000\" d=\"M3009.5,-1012.5C3009.5,-1012.5 2934.5,-1012.5 2934.5,-1012.5 2928.5,-1012.5 2922.5,-1006.5 2922.5,-1000.5 2922.5,-1000.5 2922.5,-956.5 2922.5,-956.5 2922.5,-950.5 2928.5,-944.5 2934.5,-944.5 2934.5,-944.5 3009.5,-944.5 3009.5,-944.5 3015.5,-944.5 3021.5,-950.5 3021.5,-956.5 3021.5,-956.5 3021.5,-1000.5 3021.5,-1000.5 3021.5,-1006.5 3015.5,-1012.5 3009.5,-1012.5\"/>\n<text text-anchor=\"start\" x=\"2942.5\" y=\"-997.3\" font-family=\"Helvetica,sans-Serif\" font-size=\"14.00\" fill=\"#000000\">gini = 0.0</text>\n<text text-anchor=\"start\" x=\"2932.5\" y=\"-982.3\" font-family=\"Helvetica,sans-Serif\" font-size=\"14.00\" fill=\"#000000\">samples = 1</text>\n<text text-anchor=\"start\" x=\"2930.5\" y=\"-967.3\" font-family=\"Helvetica,sans-Serif\" font-size=\"14.00\" fill=\"#000000\">value = [1, 0]</text>\n<text text-anchor=\"start\" x=\"2943\" y=\"-952.3\" font-family=\"Helvetica,sans-Serif\" font-size=\"14.00\" fill=\"#000000\">class = 0</text>\n</g>\n<!-- 87&#45;&gt;89 -->\n<g id=\"edge89\" class=\"edge\">\n<title>87&#45;&gt;89</title>\n<path fill=\"none\" stroke=\"#000000\" d=\"M2895.9209,-1055.8796C2907.2728,-1044.3337 2919.5982,-1031.7976 2930.957,-1020.2446\"/>\n<polygon fill=\"#000000\" stroke=\"#000000\" points=\"2933.7466,-1022.3995 2938.2618,-1012.8149 2928.7551,-1017.4919 2933.7466,-1022.3995\"/>\n</g>\n<!-- 92 -->\n<g id=\"node93\" class=\"node\">\n<title>92</title>\n<path fill=\"#fbede3\" stroke=\"#000000\" d=\"M3396.5,-1258C3396.5,-1258 3179.5,-1258 3179.5,-1258 3173.5,-1258 3167.5,-1252 3167.5,-1246 3167.5,-1246 3167.5,-1187 3167.5,-1187 3167.5,-1181 3173.5,-1175 3179.5,-1175 3179.5,-1175 3396.5,-1175 3396.5,-1175 3402.5,-1175 3408.5,-1181 3408.5,-1187 3408.5,-1187 3408.5,-1246 3408.5,-1246 3408.5,-1252 3402.5,-1258 3396.5,-1258\"/>\n<text text-anchor=\"start\" x=\"3175.5\" y=\"-1242.8\" font-family=\"Helvetica,sans-Serif\" font-size=\"14.00\" fill=\"#000000\">Albumin_and_Globulin_Ratio ≤ 0.3</text>\n<text text-anchor=\"start\" x=\"3250\" y=\"-1227.8\" font-family=\"Helvetica,sans-Serif\" font-size=\"14.00\" fill=\"#000000\">gini = 0.497</text>\n<text text-anchor=\"start\" x=\"3244\" y=\"-1212.8\" font-family=\"Helvetica,sans-Serif\" font-size=\"14.00\" fill=\"#000000\">samples = 13</text>\n<text text-anchor=\"start\" x=\"3246.5\" y=\"-1197.8\" font-family=\"Helvetica,sans-Serif\" font-size=\"14.00\" fill=\"#000000\">value = [7, 6]</text>\n<text text-anchor=\"start\" x=\"3259\" y=\"-1182.8\" font-family=\"Helvetica,sans-Serif\" font-size=\"14.00\" fill=\"#000000\">class = 0</text>\n</g>\n<!-- 91&#45;&gt;92 -->\n<g id=\"edge92\" class=\"edge\">\n<title>91&#45;&gt;92</title>\n<path fill=\"none\" stroke=\"#000000\" d=\"M3374.4831,-1293.8796C3364.1152,-1284.6031 3353.0329,-1274.6874 3342.3801,-1265.1559\"/>\n<polygon fill=\"#000000\" stroke=\"#000000\" points=\"3344.5017,-1262.3577 3334.7155,-1258.2981 3339.8341,-1267.5744 3344.5017,-1262.3577\"/>\n</g>\n<!-- 101 -->\n<g id=\"node102\" class=\"node\">\n<title>101</title>\n<path fill=\"#e68843\" stroke=\"#000000\" d=\"M3671.5,-1258C3671.5,-1258 3438.5,-1258 3438.5,-1258 3432.5,-1258 3426.5,-1252 3426.5,-1246 3426.5,-1246 3426.5,-1187 3426.5,-1187 3426.5,-1181 3432.5,-1175 3438.5,-1175 3438.5,-1175 3671.5,-1175 3671.5,-1175 3677.5,-1175 3683.5,-1181 3683.5,-1187 3683.5,-1187 3683.5,-1246 3683.5,-1246 3683.5,-1252 3677.5,-1258 3671.5,-1258\"/>\n<text text-anchor=\"start\" x=\"3434.5\" y=\"-1242.8\" font-family=\"Helvetica,sans-Serif\" font-size=\"14.00\" fill=\"#000000\">Aspartate_Aminotransferase ≤ &#45;0.416</text>\n<text text-anchor=\"start\" x=\"3517\" y=\"-1227.8\" font-family=\"Helvetica,sans-Serif\" font-size=\"14.00\" fill=\"#000000\">gini = 0.095</text>\n<text text-anchor=\"start\" x=\"3511\" y=\"-1212.8\" font-family=\"Helvetica,sans-Serif\" font-size=\"14.00\" fill=\"#000000\">samples = 20</text>\n<text text-anchor=\"start\" x=\"3509.5\" y=\"-1197.8\" font-family=\"Helvetica,sans-Serif\" font-size=\"14.00\" fill=\"#000000\">value = [19, 1]</text>\n<text text-anchor=\"start\" x=\"3526\" y=\"-1182.8\" font-family=\"Helvetica,sans-Serif\" font-size=\"14.00\" fill=\"#000000\">class = 0</text>\n</g>\n<!-- 91&#45;&gt;101 -->\n<g id=\"edge101\" class=\"edge\">\n<title>91&#45;&gt;101</title>\n<path fill=\"none\" stroke=\"#000000\" d=\"M3467.8667,-1293.8796C3478.3125,-1284.6031 3489.4781,-1274.6874 3500.211,-1265.1559\"/>\n<polygon fill=\"#000000\" stroke=\"#000000\" points=\"3502.7801,-1267.5553 3507.9333,-1258.2981 3498.132,-1262.3213 3502.7801,-1267.5553\"/>\n</g>\n<!-- 93 -->\n<g id=\"node94\" class=\"node\">\n<title>93</title>\n<path fill=\"#f0b78e\" stroke=\"#000000\" d=\"M3298.5,-1139C3298.5,-1139 3083.5,-1139 3083.5,-1139 3077.5,-1139 3071.5,-1133 3071.5,-1127 3071.5,-1127 3071.5,-1068 3071.5,-1068 3071.5,-1062 3077.5,-1056 3083.5,-1056 3083.5,-1056 3298.5,-1056 3298.5,-1056 3304.5,-1056 3310.5,-1062 3310.5,-1068 3310.5,-1068 3310.5,-1127 3310.5,-1127 3310.5,-1133 3304.5,-1139 3298.5,-1139\"/>\n<text text-anchor=\"start\" x=\"3079.5\" y=\"-1123.8\" font-family=\"Helvetica,sans-Serif\" font-size=\"14.00\" fill=\"#000000\">Alamine_Aminotransferase ≤ &#45;0.24</text>\n<text text-anchor=\"start\" x=\"3157.5\" y=\"-1108.8\" font-family=\"Helvetica,sans-Serif\" font-size=\"14.00\" fill=\"#000000\">gini = 0.42</text>\n<text text-anchor=\"start\" x=\"3147\" y=\"-1093.8\" font-family=\"Helvetica,sans-Serif\" font-size=\"14.00\" fill=\"#000000\">samples = 10</text>\n<text text-anchor=\"start\" x=\"3149.5\" y=\"-1078.8\" font-family=\"Helvetica,sans-Serif\" font-size=\"14.00\" fill=\"#000000\">value = [7, 3]</text>\n<text text-anchor=\"start\" x=\"3162\" y=\"-1063.8\" font-family=\"Helvetica,sans-Serif\" font-size=\"14.00\" fill=\"#000000\">class = 0</text>\n</g>\n<!-- 92&#45;&gt;93 -->\n<g id=\"edge93\" class=\"edge\">\n<title>92&#45;&gt;93</title>\n<path fill=\"none\" stroke=\"#000000\" d=\"M3254.0741,-1174.8796C3246.8062,-1165.9633 3239.057,-1156.4565 3231.5672,-1147.268\"/>\n<polygon fill=\"#000000\" stroke=\"#000000\" points=\"3234.1018,-1144.8379 3225.0707,-1139.2981 3228.676,-1149.2606 3234.1018,-1144.8379\"/>\n</g>\n<!-- 100 -->\n<g id=\"node101\" class=\"node\">\n<title>100</title>\n<path fill=\"#399de5\" stroke=\"#000000\" d=\"M3415.5,-1131.5C3415.5,-1131.5 3340.5,-1131.5 3340.5,-1131.5 3334.5,-1131.5 3328.5,-1125.5 3328.5,-1119.5 3328.5,-1119.5 3328.5,-1075.5 3328.5,-1075.5 3328.5,-1069.5 3334.5,-1063.5 3340.5,-1063.5 3340.5,-1063.5 3415.5,-1063.5 3415.5,-1063.5 3421.5,-1063.5 3427.5,-1069.5 3427.5,-1075.5 3427.5,-1075.5 3427.5,-1119.5 3427.5,-1119.5 3427.5,-1125.5 3421.5,-1131.5 3415.5,-1131.5\"/>\n<text text-anchor=\"start\" x=\"3348.5\" y=\"-1116.3\" font-family=\"Helvetica,sans-Serif\" font-size=\"14.00\" fill=\"#000000\">gini = 0.0</text>\n<text text-anchor=\"start\" x=\"3338.5\" y=\"-1101.3\" font-family=\"Helvetica,sans-Serif\" font-size=\"14.00\" fill=\"#000000\">samples = 3</text>\n<text text-anchor=\"start\" x=\"3336.5\" y=\"-1086.3\" font-family=\"Helvetica,sans-Serif\" font-size=\"14.00\" fill=\"#000000\">value = [0, 3]</text>\n<text text-anchor=\"start\" x=\"3349\" y=\"-1071.3\" font-family=\"Helvetica,sans-Serif\" font-size=\"14.00\" fill=\"#000000\">class = 1</text>\n</g>\n<!-- 92&#45;&gt;100 -->\n<g id=\"edge100\" class=\"edge\">\n<title>92&#45;&gt;100</title>\n<path fill=\"none\" stroke=\"#000000\" d=\"M3319.4776,-1174.8796C3328.0435,-1163.5536 3337.33,-1151.2748 3345.9283,-1139.9058\"/>\n<polygon fill=\"#000000\" stroke=\"#000000\" points=\"3348.8069,-1141.902 3352.0475,-1131.8149 3343.2238,-1137.6795 3348.8069,-1141.902\"/>\n</g>\n<!-- 94 -->\n<g id=\"node95\" class=\"node\">\n<title>94</title>\n<path fill=\"#bddef6\" stroke=\"#000000\" d=\"M3226.5,-1020C3226.5,-1020 3085.5,-1020 3085.5,-1020 3079.5,-1020 3073.5,-1014 3073.5,-1008 3073.5,-1008 3073.5,-949 3073.5,-949 3073.5,-943 3079.5,-937 3085.5,-937 3085.5,-937 3226.5,-937 3226.5,-937 3232.5,-937 3238.5,-943 3238.5,-949 3238.5,-949 3238.5,-1008 3238.5,-1008 3238.5,-1014 3232.5,-1020 3226.5,-1020\"/>\n<text text-anchor=\"start\" x=\"3081.5\" y=\"-1004.8\" font-family=\"Helvetica,sans-Serif\" font-size=\"14.00\" fill=\"#000000\">Direct_Bilirubin ≤ 0.367</text>\n<text text-anchor=\"start\" x=\"3122.5\" y=\"-989.8\" font-family=\"Helvetica,sans-Serif\" font-size=\"14.00\" fill=\"#000000\">gini = 0.48</text>\n<text text-anchor=\"start\" x=\"3116.5\" y=\"-974.8\" font-family=\"Helvetica,sans-Serif\" font-size=\"14.00\" fill=\"#000000\">samples = 5</text>\n<text text-anchor=\"start\" x=\"3114.5\" y=\"-959.8\" font-family=\"Helvetica,sans-Serif\" font-size=\"14.00\" fill=\"#000000\">value = [2, 3]</text>\n<text text-anchor=\"start\" x=\"3127\" y=\"-944.8\" font-family=\"Helvetica,sans-Serif\" font-size=\"14.00\" fill=\"#000000\">class = 1</text>\n</g>\n<!-- 93&#45;&gt;94 -->\n<g id=\"edge94\" class=\"edge\">\n<title>93&#45;&gt;94</title>\n<path fill=\"none\" stroke=\"#000000\" d=\"M3178.7587,-1055.8796C3176.2952,-1047.5037 3173.6784,-1038.6067 3171.13,-1029.942\"/>\n<polygon fill=\"#000000\" stroke=\"#000000\" points=\"3174.4731,-1028.9041 3168.2936,-1020.2981 3167.7575,-1030.8793 3174.4731,-1028.9041\"/>\n</g>\n<!-- 99 -->\n<g id=\"node100\" class=\"node\">\n<title>99</title>\n<path fill=\"#e58139\" stroke=\"#000000\" d=\"M3343.5,-1012.5C3343.5,-1012.5 3268.5,-1012.5 3268.5,-1012.5 3262.5,-1012.5 3256.5,-1006.5 3256.5,-1000.5 3256.5,-1000.5 3256.5,-956.5 3256.5,-956.5 3256.5,-950.5 3262.5,-944.5 3268.5,-944.5 3268.5,-944.5 3343.5,-944.5 3343.5,-944.5 3349.5,-944.5 3355.5,-950.5 3355.5,-956.5 3355.5,-956.5 3355.5,-1000.5 3355.5,-1000.5 3355.5,-1006.5 3349.5,-1012.5 3343.5,-1012.5\"/>\n<text text-anchor=\"start\" x=\"3276.5\" y=\"-997.3\" font-family=\"Helvetica,sans-Serif\" font-size=\"14.00\" fill=\"#000000\">gini = 0.0</text>\n<text text-anchor=\"start\" x=\"3266.5\" y=\"-982.3\" font-family=\"Helvetica,sans-Serif\" font-size=\"14.00\" fill=\"#000000\">samples = 5</text>\n<text text-anchor=\"start\" x=\"3264.5\" y=\"-967.3\" font-family=\"Helvetica,sans-Serif\" font-size=\"14.00\" fill=\"#000000\">value = [5, 0]</text>\n<text text-anchor=\"start\" x=\"3277\" y=\"-952.3\" font-family=\"Helvetica,sans-Serif\" font-size=\"14.00\" fill=\"#000000\">class = 0</text>\n</g>\n<!-- 93&#45;&gt;99 -->\n<g id=\"edge99\" class=\"edge\">\n<title>93&#45;&gt;99</title>\n<path fill=\"none\" stroke=\"#000000\" d=\"M3231.2214,-1055.8796C3242.3792,-1044.3337 3254.4939,-1031.7976 3265.6586,-1020.2446\"/>\n<polygon fill=\"#000000\" stroke=\"#000000\" points=\"3268.4061,-1022.4381 3272.8385,-1012.8149 3263.3725,-1017.5736 3268.4061,-1022.4381\"/>\n</g>\n<!-- 95 -->\n<g id=\"node96\" class=\"node\">\n<title>95</title>\n<path fill=\"#f2c09c\" stroke=\"#000000\" d=\"M3134,-901C3134,-901 2988,-901 2988,-901 2982,-901 2976,-895 2976,-889 2976,-889 2976,-830 2976,-830 2976,-824 2982,-818 2988,-818 2988,-818 3134,-818 3134,-818 3140,-818 3146,-824 3146,-830 3146,-830 3146,-889 3146,-889 3146,-895 3140,-901 3134,-901\"/>\n<text text-anchor=\"start\" x=\"2984\" y=\"-885.8\" font-family=\"Helvetica,sans-Serif\" font-size=\"14.00\" fill=\"#000000\">Direct_Bilirubin ≤ &#45;0.057</text>\n<text text-anchor=\"start\" x=\"3023\" y=\"-870.8\" font-family=\"Helvetica,sans-Serif\" font-size=\"14.00\" fill=\"#000000\">gini = 0.444</text>\n<text text-anchor=\"start\" x=\"3021.5\" y=\"-855.8\" font-family=\"Helvetica,sans-Serif\" font-size=\"14.00\" fill=\"#000000\">samples = 3</text>\n<text text-anchor=\"start\" x=\"3019.5\" y=\"-840.8\" font-family=\"Helvetica,sans-Serif\" font-size=\"14.00\" fill=\"#000000\">value = [2, 1]</text>\n<text text-anchor=\"start\" x=\"3032\" y=\"-825.8\" font-family=\"Helvetica,sans-Serif\" font-size=\"14.00\" fill=\"#000000\">class = 0</text>\n</g>\n<!-- 94&#45;&gt;95 -->\n<g id=\"edge95\" class=\"edge\">\n<title>94&#45;&gt;95</title>\n<path fill=\"none\" stroke=\"#000000\" d=\"M3122.7736,-936.8796C3115.6556,-927.9633 3108.0661,-918.4565 3100.7308,-909.268\"/>\n<polygon fill=\"#000000\" stroke=\"#000000\" points=\"3103.3425,-906.9295 3094.3682,-901.2981 3097.8719,-911.2968 3103.3425,-906.9295\"/>\n</g>\n<!-- 98 -->\n<g id=\"node99\" class=\"node\">\n<title>98</title>\n<path fill=\"#399de5\" stroke=\"#000000\" d=\"M3251.5,-893.5C3251.5,-893.5 3176.5,-893.5 3176.5,-893.5 3170.5,-893.5 3164.5,-887.5 3164.5,-881.5 3164.5,-881.5 3164.5,-837.5 3164.5,-837.5 3164.5,-831.5 3170.5,-825.5 3176.5,-825.5 3176.5,-825.5 3251.5,-825.5 3251.5,-825.5 3257.5,-825.5 3263.5,-831.5 3263.5,-837.5 3263.5,-837.5 3263.5,-881.5 3263.5,-881.5 3263.5,-887.5 3257.5,-893.5 3251.5,-893.5\"/>\n<text text-anchor=\"start\" x=\"3184.5\" y=\"-878.3\" font-family=\"Helvetica,sans-Serif\" font-size=\"14.00\" fill=\"#000000\">gini = 0.0</text>\n<text text-anchor=\"start\" x=\"3174.5\" y=\"-863.3\" font-family=\"Helvetica,sans-Serif\" font-size=\"14.00\" fill=\"#000000\">samples = 2</text>\n<text text-anchor=\"start\" x=\"3172.5\" y=\"-848.3\" font-family=\"Helvetica,sans-Serif\" font-size=\"14.00\" fill=\"#000000\">value = [0, 2]</text>\n<text text-anchor=\"start\" x=\"3185\" y=\"-833.3\" font-family=\"Helvetica,sans-Serif\" font-size=\"14.00\" fill=\"#000000\">class = 1</text>\n</g>\n<!-- 94&#45;&gt;98 -->\n<g id=\"edge98\" class=\"edge\">\n<title>94&#45;&gt;98</title>\n<path fill=\"none\" stroke=\"#000000\" d=\"M3176.2856,-936.8796C3181.645,-925.8835 3187.4422,-913.9893 3192.8463,-902.9015\"/>\n<polygon fill=\"#000000\" stroke=\"#000000\" points=\"3196.04,-904.3375 3197.2751,-893.8149 3189.7476,-901.2706 3196.04,-904.3375\"/>\n</g>\n<!-- 96 -->\n<g id=\"node97\" class=\"node\">\n<title>96</title>\n<path fill=\"#399de5\" stroke=\"#000000\" d=\"M3044.5,-774.5C3044.5,-774.5 2969.5,-774.5 2969.5,-774.5 2963.5,-774.5 2957.5,-768.5 2957.5,-762.5 2957.5,-762.5 2957.5,-718.5 2957.5,-718.5 2957.5,-712.5 2963.5,-706.5 2969.5,-706.5 2969.5,-706.5 3044.5,-706.5 3044.5,-706.5 3050.5,-706.5 3056.5,-712.5 3056.5,-718.5 3056.5,-718.5 3056.5,-762.5 3056.5,-762.5 3056.5,-768.5 3050.5,-774.5 3044.5,-774.5\"/>\n<text text-anchor=\"start\" x=\"2977.5\" y=\"-759.3\" font-family=\"Helvetica,sans-Serif\" font-size=\"14.00\" fill=\"#000000\">gini = 0.0</text>\n<text text-anchor=\"start\" x=\"2967.5\" y=\"-744.3\" font-family=\"Helvetica,sans-Serif\" font-size=\"14.00\" fill=\"#000000\">samples = 1</text>\n<text text-anchor=\"start\" x=\"2965.5\" y=\"-729.3\" font-family=\"Helvetica,sans-Serif\" font-size=\"14.00\" fill=\"#000000\">value = [0, 1]</text>\n<text text-anchor=\"start\" x=\"2978\" y=\"-714.3\" font-family=\"Helvetica,sans-Serif\" font-size=\"14.00\" fill=\"#000000\">class = 1</text>\n</g>\n<!-- 95&#45;&gt;96 -->\n<g id=\"edge96\" class=\"edge\">\n<title>95&#45;&gt;96</title>\n<path fill=\"none\" stroke=\"#000000\" d=\"M3042.1134,-817.8796C3037.1735,-806.9935 3031.8341,-795.227 3026.8459,-784.2344\"/>\n<polygon fill=\"#000000\" stroke=\"#000000\" points=\"3029.891,-782.4749 3022.5715,-774.8149 3023.5166,-785.3675 3029.891,-782.4749\"/>\n</g>\n<!-- 97 -->\n<g id=\"node98\" class=\"node\">\n<title>97</title>\n<path fill=\"#e58139\" stroke=\"#000000\" d=\"M3161.5,-774.5C3161.5,-774.5 3086.5,-774.5 3086.5,-774.5 3080.5,-774.5 3074.5,-768.5 3074.5,-762.5 3074.5,-762.5 3074.5,-718.5 3074.5,-718.5 3074.5,-712.5 3080.5,-706.5 3086.5,-706.5 3086.5,-706.5 3161.5,-706.5 3161.5,-706.5 3167.5,-706.5 3173.5,-712.5 3173.5,-718.5 3173.5,-718.5 3173.5,-762.5 3173.5,-762.5 3173.5,-768.5 3167.5,-774.5 3161.5,-774.5\"/>\n<text text-anchor=\"start\" x=\"3094.5\" y=\"-759.3\" font-family=\"Helvetica,sans-Serif\" font-size=\"14.00\" fill=\"#000000\">gini = 0.0</text>\n<text text-anchor=\"start\" x=\"3084.5\" y=\"-744.3\" font-family=\"Helvetica,sans-Serif\" font-size=\"14.00\" fill=\"#000000\">samples = 2</text>\n<text text-anchor=\"start\" x=\"3082.5\" y=\"-729.3\" font-family=\"Helvetica,sans-Serif\" font-size=\"14.00\" fill=\"#000000\">value = [2, 0]</text>\n<text text-anchor=\"start\" x=\"3095\" y=\"-714.3\" font-family=\"Helvetica,sans-Serif\" font-size=\"14.00\" fill=\"#000000\">class = 0</text>\n</g>\n<!-- 95&#45;&gt;97 -->\n<g id=\"edge97\" class=\"edge\">\n<title>95&#45;&gt;97</title>\n<path fill=\"none\" stroke=\"#000000\" d=\"M3083.0343,-817.8796C3088.8558,-806.8835 3095.1527,-794.9893 3101.0227,-783.9015\"/>\n<polygon fill=\"#000000\" stroke=\"#000000\" points=\"3104.2476,-785.2905 3105.8333,-774.8149 3098.0611,-782.0152 3104.2476,-785.2905\"/>\n</g>\n<!-- 102 -->\n<g id=\"node103\" class=\"node\">\n<title>102</title>\n<path fill=\"#399de5\" stroke=\"#000000\" d=\"M3532.5,-1131.5C3532.5,-1131.5 3457.5,-1131.5 3457.5,-1131.5 3451.5,-1131.5 3445.5,-1125.5 3445.5,-1119.5 3445.5,-1119.5 3445.5,-1075.5 3445.5,-1075.5 3445.5,-1069.5 3451.5,-1063.5 3457.5,-1063.5 3457.5,-1063.5 3532.5,-1063.5 3532.5,-1063.5 3538.5,-1063.5 3544.5,-1069.5 3544.5,-1075.5 3544.5,-1075.5 3544.5,-1119.5 3544.5,-1119.5 3544.5,-1125.5 3538.5,-1131.5 3532.5,-1131.5\"/>\n<text text-anchor=\"start\" x=\"3465.5\" y=\"-1116.3\" font-family=\"Helvetica,sans-Serif\" font-size=\"14.00\" fill=\"#000000\">gini = 0.0</text>\n<text text-anchor=\"start\" x=\"3455.5\" y=\"-1101.3\" font-family=\"Helvetica,sans-Serif\" font-size=\"14.00\" fill=\"#000000\">samples = 1</text>\n<text text-anchor=\"start\" x=\"3453.5\" y=\"-1086.3\" font-family=\"Helvetica,sans-Serif\" font-size=\"14.00\" fill=\"#000000\">value = [0, 1]</text>\n<text text-anchor=\"start\" x=\"3466\" y=\"-1071.3\" font-family=\"Helvetica,sans-Serif\" font-size=\"14.00\" fill=\"#000000\">class = 1</text>\n</g>\n<!-- 101&#45;&gt;102 -->\n<g id=\"edge102\" class=\"edge\">\n<title>101&#45;&gt;102</title>\n<path fill=\"none\" stroke=\"#000000\" d=\"M3534.0149,-1174.8796C3528.4707,-1163.8835 3522.4736,-1151.9893 3516.8831,-1140.9015\"/>\n<polygon fill=\"#000000\" stroke=\"#000000\" points=\"3519.9291,-1139.1684 3512.3016,-1131.8149 3513.6786,-1142.3199 3519.9291,-1139.1684\"/>\n</g>\n<!-- 103 -->\n<g id=\"node104\" class=\"node\">\n<title>103</title>\n<path fill=\"#e58139\" stroke=\"#000000\" d=\"M3657.5,-1131.5C3657.5,-1131.5 3574.5,-1131.5 3574.5,-1131.5 3568.5,-1131.5 3562.5,-1125.5 3562.5,-1119.5 3562.5,-1119.5 3562.5,-1075.5 3562.5,-1075.5 3562.5,-1069.5 3568.5,-1063.5 3574.5,-1063.5 3574.5,-1063.5 3657.5,-1063.5 3657.5,-1063.5 3663.5,-1063.5 3669.5,-1069.5 3669.5,-1075.5 3669.5,-1075.5 3669.5,-1119.5 3669.5,-1119.5 3669.5,-1125.5 3663.5,-1131.5 3657.5,-1131.5\"/>\n<text text-anchor=\"start\" x=\"3586.5\" y=\"-1116.3\" font-family=\"Helvetica,sans-Serif\" font-size=\"14.00\" fill=\"#000000\">gini = 0.0</text>\n<text text-anchor=\"start\" x=\"3572\" y=\"-1101.3\" font-family=\"Helvetica,sans-Serif\" font-size=\"14.00\" fill=\"#000000\">samples = 19</text>\n<text text-anchor=\"start\" x=\"3570.5\" y=\"-1086.3\" font-family=\"Helvetica,sans-Serif\" font-size=\"14.00\" fill=\"#000000\">value = [19, 0]</text>\n<text text-anchor=\"start\" x=\"3587\" y=\"-1071.3\" font-family=\"Helvetica,sans-Serif\" font-size=\"14.00\" fill=\"#000000\">class = 0</text>\n</g>\n<!-- 101&#45;&gt;103 -->\n<g id=\"edge103\" class=\"edge\">\n<title>101&#45;&gt;103</title>\n<path fill=\"none\" stroke=\"#000000\" d=\"M3576.3348,-1174.8796C3581.9715,-1163.8835 3588.0685,-1151.9893 3593.7522,-1140.9015\"/>\n<polygon fill=\"#000000\" stroke=\"#000000\" points=\"3596.9629,-1142.3105 3598.41,-1131.8149 3590.7337,-1139.1173 3596.9629,-1142.3105\"/>\n</g>\n<!-- 105 -->\n<g id=\"node106\" class=\"node\">\n<title>105</title>\n<path fill=\"#edaa7a\" stroke=\"#000000\" d=\"M4262.5,-1377C4262.5,-1377 4165.5,-1377 4165.5,-1377 4159.5,-1377 4153.5,-1371 4153.5,-1365 4153.5,-1365 4153.5,-1306 4153.5,-1306 4153.5,-1300 4159.5,-1294 4165.5,-1294 4165.5,-1294 4262.5,-1294 4262.5,-1294 4268.5,-1294 4274.5,-1300 4274.5,-1306 4274.5,-1306 4274.5,-1365 4274.5,-1365 4274.5,-1371 4268.5,-1377 4262.5,-1377\"/>\n<text text-anchor=\"start\" x=\"4161.5\" y=\"-1361.8\" font-family=\"Helvetica,sans-Serif\" font-size=\"14.00\" fill=\"#000000\">Albumin ≤ 0.726</text>\n<text text-anchor=\"start\" x=\"4176\" y=\"-1346.8\" font-family=\"Helvetica,sans-Serif\" font-size=\"14.00\" fill=\"#000000\">gini = 0.371</text>\n<text text-anchor=\"start\" x=\"4170\" y=\"-1331.8\" font-family=\"Helvetica,sans-Serif\" font-size=\"14.00\" fill=\"#000000\">samples = 61</text>\n<text text-anchor=\"start\" x=\"4164\" y=\"-1316.8\" font-family=\"Helvetica,sans-Serif\" font-size=\"14.00\" fill=\"#000000\">value = [46, 15]</text>\n<text text-anchor=\"start\" x=\"4185\" y=\"-1301.8\" font-family=\"Helvetica,sans-Serif\" font-size=\"14.00\" fill=\"#000000\">class = 0</text>\n</g>\n<!-- 104&#45;&gt;105 -->\n<g id=\"edge105\" class=\"edge\">\n<title>104&#45;&gt;105</title>\n<path fill=\"none\" stroke=\"#000000\" d=\"M4214,-1412.8796C4214,-1404.6838 4214,-1395.9891 4214,-1387.5013\"/>\n<polygon fill=\"#000000\" stroke=\"#000000\" points=\"4217.5001,-1387.298 4214,-1377.2981 4210.5001,-1387.2981 4217.5001,-1387.298\"/>\n</g>\n<!-- 136 -->\n<g id=\"node137\" class=\"node\">\n<title>136</title>\n<path fill=\"#e78946\" stroke=\"#000000\" d=\"M4986.5,-1377C4986.5,-1377 4845.5,-1377 4845.5,-1377 4839.5,-1377 4833.5,-1371 4833.5,-1365 4833.5,-1365 4833.5,-1306 4833.5,-1306 4833.5,-1300 4839.5,-1294 4845.5,-1294 4845.5,-1294 4986.5,-1294 4986.5,-1294 4992.5,-1294 4998.5,-1300 4998.5,-1306 4998.5,-1306 4998.5,-1365 4998.5,-1365 4998.5,-1371 4992.5,-1377 4986.5,-1377\"/>\n<text text-anchor=\"start\" x=\"4841.5\" y=\"-1361.8\" font-family=\"Helvetica,sans-Serif\" font-size=\"14.00\" fill=\"#000000\">Total_Protiens ≤ &#45;0.267</text>\n<text text-anchor=\"start\" x=\"4878\" y=\"-1346.8\" font-family=\"Helvetica,sans-Serif\" font-size=\"14.00\" fill=\"#000000\">gini = 0.117</text>\n<text text-anchor=\"start\" x=\"4872\" y=\"-1331.8\" font-family=\"Helvetica,sans-Serif\" font-size=\"14.00\" fill=\"#000000\">samples = 96</text>\n<text text-anchor=\"start\" x=\"4870.5\" y=\"-1316.8\" font-family=\"Helvetica,sans-Serif\" font-size=\"14.00\" fill=\"#000000\">value = [90, 6]</text>\n<text text-anchor=\"start\" x=\"4887\" y=\"-1301.8\" font-family=\"Helvetica,sans-Serif\" font-size=\"14.00\" fill=\"#000000\">class = 0</text>\n</g>\n<!-- 104&#45;&gt;136 -->\n<g id=\"edge136\" class=\"edge\">\n<title>104&#45;&gt;136</title>\n<path fill=\"none\" stroke=\"#000000\" d=\"M4299.0271,-1440.0866C4431.5048,-1417.6295 4686.1625,-1374.4611 4823.2309,-1351.2258\"/>\n<polygon fill=\"#000000\" stroke=\"#000000\" points=\"4824.0222,-1354.6417 4833.2966,-1349.5195 4822.8523,-1347.7401 4824.0222,-1354.6417\"/>\n</g>\n<!-- 106 -->\n<g id=\"node107\" class=\"node\">\n<title>106</title>\n<path fill=\"#ea9a61\" stroke=\"#000000\" d=\"M4128.5,-1258C4128.5,-1258 4027.5,-1258 4027.5,-1258 4021.5,-1258 4015.5,-1252 4015.5,-1246 4015.5,-1246 4015.5,-1187 4015.5,-1187 4015.5,-1181 4021.5,-1175 4027.5,-1175 4027.5,-1175 4128.5,-1175 4128.5,-1175 4134.5,-1175 4140.5,-1181 4140.5,-1187 4140.5,-1187 4140.5,-1246 4140.5,-1246 4140.5,-1252 4134.5,-1258 4128.5,-1258\"/>\n<text text-anchor=\"start\" x=\"4023.5\" y=\"-1242.8\" font-family=\"Helvetica,sans-Serif\" font-size=\"14.00\" fill=\"#000000\">Albumin ≤ &#45;1.336</text>\n<text text-anchor=\"start\" x=\"4040\" y=\"-1227.8\" font-family=\"Helvetica,sans-Serif\" font-size=\"14.00\" fill=\"#000000\">gini = 0.278</text>\n<text text-anchor=\"start\" x=\"4034\" y=\"-1212.8\" font-family=\"Helvetica,sans-Serif\" font-size=\"14.00\" fill=\"#000000\">samples = 42</text>\n<text text-anchor=\"start\" x=\"4032.5\" y=\"-1197.8\" font-family=\"Helvetica,sans-Serif\" font-size=\"14.00\" fill=\"#000000\">value = [35, 7]</text>\n<text text-anchor=\"start\" x=\"4049\" y=\"-1182.8\" font-family=\"Helvetica,sans-Serif\" font-size=\"14.00\" fill=\"#000000\">class = 0</text>\n</g>\n<!-- 105&#45;&gt;106 -->\n<g id=\"edge106\" class=\"edge\">\n<title>105&#45;&gt;106</title>\n<path fill=\"none\" stroke=\"#000000\" d=\"M4166.4338,-1293.8796C4155.8321,-1284.6031 4144.4998,-1274.6874 4133.6067,-1265.1559\"/>\n<polygon fill=\"#000000\" stroke=\"#000000\" points=\"4135.5998,-1262.2491 4125.7692,-1258.2981 4130.9902,-1267.5172 4135.5998,-1262.2491\"/>\n</g>\n<!-- 125 -->\n<g id=\"node126\" class=\"node\">\n<title>125</title>\n<path fill=\"#f8ddc9\" stroke=\"#000000\" d=\"M4465.5,-1258C4465.5,-1258 4232.5,-1258 4232.5,-1258 4226.5,-1258 4220.5,-1252 4220.5,-1246 4220.5,-1246 4220.5,-1187 4220.5,-1187 4220.5,-1181 4226.5,-1175 4232.5,-1175 4232.5,-1175 4465.5,-1175 4465.5,-1175 4471.5,-1175 4477.5,-1181 4477.5,-1187 4477.5,-1187 4477.5,-1246 4477.5,-1246 4477.5,-1252 4471.5,-1258 4465.5,-1258\"/>\n<text text-anchor=\"start\" x=\"4228.5\" y=\"-1242.8\" font-family=\"Helvetica,sans-Serif\" font-size=\"14.00\" fill=\"#000000\">Aspartate_Aminotransferase ≤ &#45;0.346</text>\n<text text-anchor=\"start\" x=\"4311\" y=\"-1227.8\" font-family=\"Helvetica,sans-Serif\" font-size=\"14.00\" fill=\"#000000\">gini = 0.488</text>\n<text text-anchor=\"start\" x=\"4305\" y=\"-1212.8\" font-family=\"Helvetica,sans-Serif\" font-size=\"14.00\" fill=\"#000000\">samples = 19</text>\n<text text-anchor=\"start\" x=\"4303.5\" y=\"-1197.8\" font-family=\"Helvetica,sans-Serif\" font-size=\"14.00\" fill=\"#000000\">value = [11, 8]</text>\n<text text-anchor=\"start\" x=\"4320\" y=\"-1182.8\" font-family=\"Helvetica,sans-Serif\" font-size=\"14.00\" fill=\"#000000\">class = 0</text>\n</g>\n<!-- 105&#45;&gt;125 -->\n<g id=\"edge125\" class=\"edge\">\n<title>105&#45;&gt;125</title>\n<path fill=\"none\" stroke=\"#000000\" d=\"M4261.2164,-1293.8796C4271.7402,-1284.6031 4282.9891,-1274.6874 4293.8021,-1265.1559\"/>\n<polygon fill=\"#000000\" stroke=\"#000000\" points=\"4296.3948,-1267.5362 4301.582,-1258.2981 4291.766,-1262.2851 4296.3948,-1267.5362\"/>\n</g>\n<!-- 107 -->\n<g id=\"node108\" class=\"node\">\n<title>107</title>\n<path fill=\"#9ccef2\" stroke=\"#000000\" d=\"M3924,-1139C3924,-1139 3700,-1139 3700,-1139 3694,-1139 3688,-1133 3688,-1127 3688,-1127 3688,-1068 3688,-1068 3688,-1062 3694,-1056 3700,-1056 3700,-1056 3924,-1056 3924,-1056 3930,-1056 3936,-1062 3936,-1068 3936,-1068 3936,-1127 3936,-1127 3936,-1133 3930,-1139 3924,-1139\"/>\n<text text-anchor=\"start\" x=\"3696\" y=\"-1123.8\" font-family=\"Helvetica,sans-Serif\" font-size=\"14.00\" fill=\"#000000\">Alamine_Aminotransferase ≤ &#45;0.219</text>\n<text text-anchor=\"start\" x=\"3774\" y=\"-1108.8\" font-family=\"Helvetica,sans-Serif\" font-size=\"14.00\" fill=\"#000000\">gini = 0.444</text>\n<text text-anchor=\"start\" x=\"3772.5\" y=\"-1093.8\" font-family=\"Helvetica,sans-Serif\" font-size=\"14.00\" fill=\"#000000\">samples = 3</text>\n<text text-anchor=\"start\" x=\"3770.5\" y=\"-1078.8\" font-family=\"Helvetica,sans-Serif\" font-size=\"14.00\" fill=\"#000000\">value = [1, 2]</text>\n<text text-anchor=\"start\" x=\"3783\" y=\"-1063.8\" font-family=\"Helvetica,sans-Serif\" font-size=\"14.00\" fill=\"#000000\">class = 1</text>\n</g>\n<!-- 106&#45;&gt;107 -->\n<g id=\"edge107\" class=\"edge\">\n<title>106&#45;&gt;107</title>\n<path fill=\"none\" stroke=\"#000000\" d=\"M4015.2985,-1188.4493C3985.1835,-1174.9768 3948.3204,-1158.4855 3914.2938,-1143.263\"/>\n<polygon fill=\"#000000\" stroke=\"#000000\" points=\"3915.3372,-1139.8956 3904.7797,-1139.0067 3912.4786,-1146.2853 3915.3372,-1139.8956\"/>\n</g>\n<!-- 110 -->\n<g id=\"node111\" class=\"node\">\n<title>110</title>\n<path fill=\"#e99456\" stroke=\"#000000\" d=\"M4190,-1139C4190,-1139 3966,-1139 3966,-1139 3960,-1139 3954,-1133 3954,-1127 3954,-1127 3954,-1068 3954,-1068 3954,-1062 3960,-1056 3966,-1056 3966,-1056 4190,-1056 4190,-1056 4196,-1056 4202,-1062 4202,-1068 4202,-1068 4202,-1127 4202,-1127 4202,-1133 4196,-1139 4190,-1139\"/>\n<text text-anchor=\"start\" x=\"3962\" y=\"-1123.8\" font-family=\"Helvetica,sans-Serif\" font-size=\"14.00\" fill=\"#000000\">Alamine_Aminotransferase ≤ &#45;0.372</text>\n<text text-anchor=\"start\" x=\"4040\" y=\"-1108.8\" font-family=\"Helvetica,sans-Serif\" font-size=\"14.00\" fill=\"#000000\">gini = 0.224</text>\n<text text-anchor=\"start\" x=\"4034\" y=\"-1093.8\" font-family=\"Helvetica,sans-Serif\" font-size=\"14.00\" fill=\"#000000\">samples = 39</text>\n<text text-anchor=\"start\" x=\"4032.5\" y=\"-1078.8\" font-family=\"Helvetica,sans-Serif\" font-size=\"14.00\" fill=\"#000000\">value = [34, 5]</text>\n<text text-anchor=\"start\" x=\"4049\" y=\"-1063.8\" font-family=\"Helvetica,sans-Serif\" font-size=\"14.00\" fill=\"#000000\">class = 0</text>\n</g>\n<!-- 106&#45;&gt;110 -->\n<g id=\"edge110\" class=\"edge\">\n<title>106&#45;&gt;110</title>\n<path fill=\"none\" stroke=\"#000000\" d=\"M4078,-1174.8796C4078,-1166.6838 4078,-1157.9891 4078,-1149.5013\"/>\n<polygon fill=\"#000000\" stroke=\"#000000\" points=\"4081.5001,-1149.298 4078,-1139.2981 4074.5001,-1149.2981 4081.5001,-1149.298\"/>\n</g>\n<!-- 108 -->\n<g id=\"node109\" class=\"node\">\n<title>108</title>\n<path fill=\"#399de5\" stroke=\"#000000\" d=\"M3732.5,-1012.5C3732.5,-1012.5 3657.5,-1012.5 3657.5,-1012.5 3651.5,-1012.5 3645.5,-1006.5 3645.5,-1000.5 3645.5,-1000.5 3645.5,-956.5 3645.5,-956.5 3645.5,-950.5 3651.5,-944.5 3657.5,-944.5 3657.5,-944.5 3732.5,-944.5 3732.5,-944.5 3738.5,-944.5 3744.5,-950.5 3744.5,-956.5 3744.5,-956.5 3744.5,-1000.5 3744.5,-1000.5 3744.5,-1006.5 3738.5,-1012.5 3732.5,-1012.5\"/>\n<text text-anchor=\"start\" x=\"3665.5\" y=\"-997.3\" font-family=\"Helvetica,sans-Serif\" font-size=\"14.00\" fill=\"#000000\">gini = 0.0</text>\n<text text-anchor=\"start\" x=\"3655.5\" y=\"-982.3\" font-family=\"Helvetica,sans-Serif\" font-size=\"14.00\" fill=\"#000000\">samples = 2</text>\n<text text-anchor=\"start\" x=\"3653.5\" y=\"-967.3\" font-family=\"Helvetica,sans-Serif\" font-size=\"14.00\" fill=\"#000000\">value = [0, 2]</text>\n<text text-anchor=\"start\" x=\"3666\" y=\"-952.3\" font-family=\"Helvetica,sans-Serif\" font-size=\"14.00\" fill=\"#000000\">class = 1</text>\n</g>\n<!-- 107&#45;&gt;108 -->\n<g id=\"edge108\" class=\"edge\">\n<title>107&#45;&gt;108</title>\n<path fill=\"none\" stroke=\"#000000\" d=\"M3771.0791,-1055.8796C3759.7272,-1044.3337 3747.4018,-1031.7976 3736.043,-1020.2446\"/>\n<polygon fill=\"#000000\" stroke=\"#000000\" points=\"3738.2449,-1017.4919 3728.7382,-1012.8149 3733.2534,-1022.3995 3738.2449,-1017.4919\"/>\n</g>\n<!-- 109 -->\n<g id=\"node110\" class=\"node\">\n<title>109</title>\n<path fill=\"#e58139\" stroke=\"#000000\" d=\"M3849.5,-1012.5C3849.5,-1012.5 3774.5,-1012.5 3774.5,-1012.5 3768.5,-1012.5 3762.5,-1006.5 3762.5,-1000.5 3762.5,-1000.5 3762.5,-956.5 3762.5,-956.5 3762.5,-950.5 3768.5,-944.5 3774.5,-944.5 3774.5,-944.5 3849.5,-944.5 3849.5,-944.5 3855.5,-944.5 3861.5,-950.5 3861.5,-956.5 3861.5,-956.5 3861.5,-1000.5 3861.5,-1000.5 3861.5,-1006.5 3855.5,-1012.5 3849.5,-1012.5\"/>\n<text text-anchor=\"start\" x=\"3782.5\" y=\"-997.3\" font-family=\"Helvetica,sans-Serif\" font-size=\"14.00\" fill=\"#000000\">gini = 0.0</text>\n<text text-anchor=\"start\" x=\"3772.5\" y=\"-982.3\" font-family=\"Helvetica,sans-Serif\" font-size=\"14.00\" fill=\"#000000\">samples = 1</text>\n<text text-anchor=\"start\" x=\"3770.5\" y=\"-967.3\" font-family=\"Helvetica,sans-Serif\" font-size=\"14.00\" fill=\"#000000\">value = [1, 0]</text>\n<text text-anchor=\"start\" x=\"3783\" y=\"-952.3\" font-family=\"Helvetica,sans-Serif\" font-size=\"14.00\" fill=\"#000000\">class = 0</text>\n</g>\n<!-- 107&#45;&gt;109 -->\n<g id=\"edge109\" class=\"edge\">\n<title>107&#45;&gt;109</title>\n<path fill=\"none\" stroke=\"#000000\" d=\"M3812,-1055.8796C3812,-1045.2134 3812,-1033.7021 3812,-1022.9015\"/>\n<polygon fill=\"#000000\" stroke=\"#000000\" points=\"3815.5001,-1022.8149 3812,-1012.8149 3808.5001,-1022.815 3815.5001,-1022.8149\"/>\n</g>\n<!-- 111 -->\n<g id=\"node112\" class=\"node\">\n<title>111</title>\n<path fill=\"#399de5\" stroke=\"#000000\" d=\"M3966.5,-1012.5C3966.5,-1012.5 3891.5,-1012.5 3891.5,-1012.5 3885.5,-1012.5 3879.5,-1006.5 3879.5,-1000.5 3879.5,-1000.5 3879.5,-956.5 3879.5,-956.5 3879.5,-950.5 3885.5,-944.5 3891.5,-944.5 3891.5,-944.5 3966.5,-944.5 3966.5,-944.5 3972.5,-944.5 3978.5,-950.5 3978.5,-956.5 3978.5,-956.5 3978.5,-1000.5 3978.5,-1000.5 3978.5,-1006.5 3972.5,-1012.5 3966.5,-1012.5\"/>\n<text text-anchor=\"start\" x=\"3899.5\" y=\"-997.3\" font-family=\"Helvetica,sans-Serif\" font-size=\"14.00\" fill=\"#000000\">gini = 0.0</text>\n<text text-anchor=\"start\" x=\"3889.5\" y=\"-982.3\" font-family=\"Helvetica,sans-Serif\" font-size=\"14.00\" fill=\"#000000\">samples = 1</text>\n<text text-anchor=\"start\" x=\"3887.5\" y=\"-967.3\" font-family=\"Helvetica,sans-Serif\" font-size=\"14.00\" fill=\"#000000\">value = [0, 1]</text>\n<text text-anchor=\"start\" x=\"3900\" y=\"-952.3\" font-family=\"Helvetica,sans-Serif\" font-size=\"14.00\" fill=\"#000000\">class = 1</text>\n</g>\n<!-- 110&#45;&gt;111 -->\n<g id=\"edge111\" class=\"edge\">\n<title>110&#45;&gt;111</title>\n<path fill=\"none\" stroke=\"#000000\" d=\"M4025.887,-1055.8796C4011.0174,-1044.0038 3994.836,-1031.0804 3980.0317,-1019.2568\"/>\n<polygon fill=\"#000000\" stroke=\"#000000\" points=\"3981.9638,-1016.3207 3971.9658,-1012.8149 3977.5954,-1021.7904 3981.9638,-1016.3207\"/>\n</g>\n<!-- 112 -->\n<g id=\"node113\" class=\"node\">\n<title>112</title>\n<path fill=\"#e89050\" stroke=\"#000000\" d=\"M4247,-1020C4247,-1020 4009,-1020 4009,-1020 4003,-1020 3997,-1014 3997,-1008 3997,-1008 3997,-949 3997,-949 3997,-943 4003,-937 4009,-937 4009,-937 4247,-937 4247,-937 4253,-937 4259,-943 4259,-949 4259,-949 4259,-1008 4259,-1008 4259,-1014 4253,-1020 4247,-1020\"/>\n<text text-anchor=\"start\" x=\"4005\" y=\"-1004.8\" font-family=\"Helvetica,sans-Serif\" font-size=\"14.00\" fill=\"#000000\">Albumin_and_Globulin_Ratio ≤ &#45;0.109</text>\n<text text-anchor=\"start\" x=\"4090\" y=\"-989.8\" font-family=\"Helvetica,sans-Serif\" font-size=\"14.00\" fill=\"#000000\">gini = 0.188</text>\n<text text-anchor=\"start\" x=\"4084\" y=\"-974.8\" font-family=\"Helvetica,sans-Serif\" font-size=\"14.00\" fill=\"#000000\">samples = 38</text>\n<text text-anchor=\"start\" x=\"4082.5\" y=\"-959.8\" font-family=\"Helvetica,sans-Serif\" font-size=\"14.00\" fill=\"#000000\">value = [34, 4]</text>\n<text text-anchor=\"start\" x=\"4099\" y=\"-944.8\" font-family=\"Helvetica,sans-Serif\" font-size=\"14.00\" fill=\"#000000\">class = 0</text>\n</g>\n<!-- 110&#45;&gt;112 -->\n<g id=\"edge112\" class=\"edge\">\n<title>110&#45;&gt;112</title>\n<path fill=\"none\" stroke=\"#000000\" d=\"M4095.4876,-1055.8796C4099.0447,-1047.4136 4102.8255,-1038.4153 4106.5031,-1029.6626\"/>\n<polygon fill=\"#000000\" stroke=\"#000000\" points=\"4109.7908,-1030.8731 4110.4378,-1020.2981 4103.3373,-1028.1616 4109.7908,-1030.8731\"/>\n</g>\n<!-- 113 -->\n<g id=\"node114\" class=\"node\">\n<title>113</title>\n<path fill=\"#ea9a61\" stroke=\"#000000\" d=\"M4146,-901C4146,-901 3908,-901 3908,-901 3902,-901 3896,-895 3896,-889 3896,-889 3896,-830 3896,-830 3896,-824 3902,-818 3908,-818 3908,-818 4146,-818 4146,-818 4152,-818 4158,-824 4158,-830 4158,-830 4158,-889 4158,-889 4158,-895 4152,-901 4146,-901\"/>\n<text text-anchor=\"start\" x=\"3904\" y=\"-885.8\" font-family=\"Helvetica,sans-Serif\" font-size=\"14.00\" fill=\"#000000\">Albumin_and_Globulin_Ratio ≤ &#45;0.247</text>\n<text text-anchor=\"start\" x=\"3989\" y=\"-870.8\" font-family=\"Helvetica,sans-Serif\" font-size=\"14.00\" fill=\"#000000\">gini = 0.278</text>\n<text text-anchor=\"start\" x=\"3983\" y=\"-855.8\" font-family=\"Helvetica,sans-Serif\" font-size=\"14.00\" fill=\"#000000\">samples = 24</text>\n<text text-anchor=\"start\" x=\"3981.5\" y=\"-840.8\" font-family=\"Helvetica,sans-Serif\" font-size=\"14.00\" fill=\"#000000\">value = [20, 4]</text>\n<text text-anchor=\"start\" x=\"3998\" y=\"-825.8\" font-family=\"Helvetica,sans-Serif\" font-size=\"14.00\" fill=\"#000000\">class = 0</text>\n</g>\n<!-- 112&#45;&gt;113 -->\n<g id=\"edge113\" class=\"edge\">\n<title>112&#45;&gt;113</title>\n<path fill=\"none\" stroke=\"#000000\" d=\"M4092.6751,-936.8796C4085.0311,-927.8733 4076.8757,-918.2644 4069.0039,-908.9897\"/>\n<polygon fill=\"#000000\" stroke=\"#000000\" points=\"4071.6151,-906.6574 4062.4757,-901.2981 4066.2782,-911.1871 4071.6151,-906.6574\"/>\n</g>\n<!-- 124 -->\n<g id=\"node125\" class=\"node\">\n<title>124</title>\n<path fill=\"#e58139\" stroke=\"#000000\" d=\"M4271.5,-893.5C4271.5,-893.5 4188.5,-893.5 4188.5,-893.5 4182.5,-893.5 4176.5,-887.5 4176.5,-881.5 4176.5,-881.5 4176.5,-837.5 4176.5,-837.5 4176.5,-831.5 4182.5,-825.5 4188.5,-825.5 4188.5,-825.5 4271.5,-825.5 4271.5,-825.5 4277.5,-825.5 4283.5,-831.5 4283.5,-837.5 4283.5,-837.5 4283.5,-881.5 4283.5,-881.5 4283.5,-887.5 4277.5,-893.5 4271.5,-893.5\"/>\n<text text-anchor=\"start\" x=\"4200.5\" y=\"-878.3\" font-family=\"Helvetica,sans-Serif\" font-size=\"14.00\" fill=\"#000000\">gini = 0.0</text>\n<text text-anchor=\"start\" x=\"4186\" y=\"-863.3\" font-family=\"Helvetica,sans-Serif\" font-size=\"14.00\" fill=\"#000000\">samples = 14</text>\n<text text-anchor=\"start\" x=\"4184.5\" y=\"-848.3\" font-family=\"Helvetica,sans-Serif\" font-size=\"14.00\" fill=\"#000000\">value = [14, 0]</text>\n<text text-anchor=\"start\" x=\"4201\" y=\"-833.3\" font-family=\"Helvetica,sans-Serif\" font-size=\"14.00\" fill=\"#000000\">class = 0</text>\n</g>\n<!-- 112&#45;&gt;124 -->\n<g id=\"edge124\" class=\"edge\">\n<title>112&#45;&gt;124</title>\n<path fill=\"none\" stroke=\"#000000\" d=\"M4163.6747,-936.8796C4173.4769,-925.4436 4184.1118,-913.0363 4193.9357,-901.575\"/>\n<polygon fill=\"#000000\" stroke=\"#000000\" points=\"4196.7367,-903.6853 4200.5872,-893.8149 4191.4218,-899.1297 4196.7367,-903.6853\"/>\n</g>\n<!-- 114 -->\n<g id=\"node115\" class=\"node\">\n<title>114</title>\n<path fill=\"#e78945\" stroke=\"#000000\" d=\"M4027,-782C4027,-782 3803,-782 3803,-782 3797,-782 3791,-776 3791,-770 3791,-770 3791,-711 3791,-711 3791,-705 3797,-699 3803,-699 3803,-699 4027,-699 4027,-699 4033,-699 4039,-705 4039,-711 4039,-711 4039,-770 4039,-770 4039,-776 4033,-782 4027,-782\"/>\n<text text-anchor=\"start\" x=\"3799\" y=\"-766.8\" font-family=\"Helvetica,sans-Serif\" font-size=\"14.00\" fill=\"#000000\">Alamine_Aminotransferase ≤ &#45;0.345</text>\n<text text-anchor=\"start\" x=\"3877\" y=\"-751.8\" font-family=\"Helvetica,sans-Serif\" font-size=\"14.00\" fill=\"#000000\">gini = 0.111</text>\n<text text-anchor=\"start\" x=\"3871\" y=\"-736.8\" font-family=\"Helvetica,sans-Serif\" font-size=\"14.00\" fill=\"#000000\">samples = 17</text>\n<text text-anchor=\"start\" x=\"3869.5\" y=\"-721.8\" font-family=\"Helvetica,sans-Serif\" font-size=\"14.00\" fill=\"#000000\">value = [16, 1]</text>\n<text text-anchor=\"start\" x=\"3886\" y=\"-706.8\" font-family=\"Helvetica,sans-Serif\" font-size=\"14.00\" fill=\"#000000\">class = 0</text>\n</g>\n<!-- 113&#45;&gt;114 -->\n<g id=\"edge114\" class=\"edge\">\n<title>113&#45;&gt;114</title>\n<path fill=\"none\" stroke=\"#000000\" d=\"M3987.8278,-817.8796C3979.2665,-808.7832 3970.1268,-799.0722 3961.3168,-789.7116\"/>\n<polygon fill=\"#000000\" stroke=\"#000000\" points=\"3963.7417,-787.1813 3954.3394,-782.2981 3958.6443,-791.9789 3963.7417,-787.1813\"/>\n</g>\n<!-- 119 -->\n<g id=\"node120\" class=\"node\">\n<title>119</title>\n<path fill=\"#f8e0ce\" stroke=\"#000000\" d=\"M4208.5,-782C4208.5,-782 4069.5,-782 4069.5,-782 4063.5,-782 4057.5,-776 4057.5,-770 4057.5,-770 4057.5,-711 4057.5,-711 4057.5,-705 4063.5,-699 4069.5,-699 4069.5,-699 4208.5,-699 4208.5,-699 4214.5,-699 4220.5,-705 4220.5,-711 4220.5,-711 4220.5,-770 4220.5,-770 4220.5,-776 4214.5,-782 4208.5,-782\"/>\n<text text-anchor=\"start\" x=\"4065.5\" y=\"-766.8\" font-family=\"Helvetica,sans-Serif\" font-size=\"14.00\" fill=\"#000000\">Total_Bilirubin ≤ &#45;0.439</text>\n<text text-anchor=\"start\" x=\"4105.5\" y=\"-751.8\" font-family=\"Helvetica,sans-Serif\" font-size=\"14.00\" fill=\"#000000\">gini = 0.49</text>\n<text text-anchor=\"start\" x=\"4099.5\" y=\"-736.8\" font-family=\"Helvetica,sans-Serif\" font-size=\"14.00\" fill=\"#000000\">samples = 7</text>\n<text text-anchor=\"start\" x=\"4097.5\" y=\"-721.8\" font-family=\"Helvetica,sans-Serif\" font-size=\"14.00\" fill=\"#000000\">value = [4, 3]</text>\n<text text-anchor=\"start\" x=\"4110\" y=\"-706.8\" font-family=\"Helvetica,sans-Serif\" font-size=\"14.00\" fill=\"#000000\">class = 0</text>\n</g>\n<!-- 113&#45;&gt;119 -->\n<g id=\"edge119\" class=\"edge\">\n<title>113&#45;&gt;119</title>\n<path fill=\"none\" stroke=\"#000000\" d=\"M4066.1722,-817.8796C4074.7335,-808.7832 4083.8732,-799.0722 4092.6832,-789.7116\"/>\n<polygon fill=\"#000000\" stroke=\"#000000\" points=\"4095.3557,-791.9789 4099.6606,-782.2981 4090.2583,-787.1813 4095.3557,-791.9789\"/>\n</g>\n<!-- 115 -->\n<g id=\"node116\" class=\"node\">\n<title>115</title>\n<path fill=\"#ffffff\" stroke=\"#000000\" d=\"M3857,-663C3857,-663 3627,-663 3627,-663 3621,-663 3615,-657 3615,-651 3615,-651 3615,-592 3615,-592 3615,-586 3621,-580 3627,-580 3627,-580 3857,-580 3857,-580 3863,-580 3869,-586 3869,-592 3869,-592 3869,-651 3869,-651 3869,-657 3863,-663 3857,-663\"/>\n<text text-anchor=\"start\" x=\"3623\" y=\"-647.8\" font-family=\"Helvetica,sans-Serif\" font-size=\"14.00\" fill=\"#000000\">Albumin_and_Globulin_Ratio ≤ &#45;0.64</text>\n<text text-anchor=\"start\" x=\"3712.5\" y=\"-632.8\" font-family=\"Helvetica,sans-Serif\" font-size=\"14.00\" fill=\"#000000\">gini = 0.5</text>\n<text text-anchor=\"start\" x=\"3702.5\" y=\"-617.8\" font-family=\"Helvetica,sans-Serif\" font-size=\"14.00\" fill=\"#000000\">samples = 2</text>\n<text text-anchor=\"start\" x=\"3700.5\" y=\"-602.8\" font-family=\"Helvetica,sans-Serif\" font-size=\"14.00\" fill=\"#000000\">value = [1, 1]</text>\n<text text-anchor=\"start\" x=\"3713\" y=\"-587.8\" font-family=\"Helvetica,sans-Serif\" font-size=\"14.00\" fill=\"#000000\">class = 0</text>\n</g>\n<!-- 114&#45;&gt;115 -->\n<g id=\"edge115\" class=\"edge\">\n<title>114&#45;&gt;115</title>\n<path fill=\"none\" stroke=\"#000000\" d=\"M3854.493,-698.8796C3840.4018,-689.1868 3825.2961,-678.7961 3810.8731,-668.8752\"/>\n<polygon fill=\"#000000\" stroke=\"#000000\" points=\"3812.6955,-665.8806 3802.4728,-663.0969 3808.7283,-671.6479 3812.6955,-665.8806\"/>\n</g>\n<!-- 118 -->\n<g id=\"node119\" class=\"node\">\n<title>118</title>\n<path fill=\"#e58139\" stroke=\"#000000\" d=\"M3982.5,-655.5C3982.5,-655.5 3899.5,-655.5 3899.5,-655.5 3893.5,-655.5 3887.5,-649.5 3887.5,-643.5 3887.5,-643.5 3887.5,-599.5 3887.5,-599.5 3887.5,-593.5 3893.5,-587.5 3899.5,-587.5 3899.5,-587.5 3982.5,-587.5 3982.5,-587.5 3988.5,-587.5 3994.5,-593.5 3994.5,-599.5 3994.5,-599.5 3994.5,-643.5 3994.5,-643.5 3994.5,-649.5 3988.5,-655.5 3982.5,-655.5\"/>\n<text text-anchor=\"start\" x=\"3911.5\" y=\"-640.3\" font-family=\"Helvetica,sans-Serif\" font-size=\"14.00\" fill=\"#000000\">gini = 0.0</text>\n<text text-anchor=\"start\" x=\"3897\" y=\"-625.3\" font-family=\"Helvetica,sans-Serif\" font-size=\"14.00\" fill=\"#000000\">samples = 15</text>\n<text text-anchor=\"start\" x=\"3895.5\" y=\"-610.3\" font-family=\"Helvetica,sans-Serif\" font-size=\"14.00\" fill=\"#000000\">value = [15, 0]</text>\n<text text-anchor=\"start\" x=\"3912\" y=\"-595.3\" font-family=\"Helvetica,sans-Serif\" font-size=\"14.00\" fill=\"#000000\">class = 0</text>\n</g>\n<!-- 114&#45;&gt;118 -->\n<g id=\"edge118\" class=\"edge\">\n<title>114&#45;&gt;118</title>\n<path fill=\"none\" stroke=\"#000000\" d=\"M3924.0935,-698.8796C3926.424,-688.2134 3928.939,-676.7021 3931.2988,-665.9015\"/>\n<polygon fill=\"#000000\" stroke=\"#000000\" points=\"3934.7874,-666.3316 3933.5026,-655.8149 3927.9487,-664.8374 3934.7874,-666.3316\"/>\n</g>\n<!-- 116 -->\n<g id=\"node117\" class=\"node\">\n<title>116</title>\n<path fill=\"#399de5\" stroke=\"#000000\" d=\"M3721.5,-536.5C3721.5,-536.5 3646.5,-536.5 3646.5,-536.5 3640.5,-536.5 3634.5,-530.5 3634.5,-524.5 3634.5,-524.5 3634.5,-480.5 3634.5,-480.5 3634.5,-474.5 3640.5,-468.5 3646.5,-468.5 3646.5,-468.5 3721.5,-468.5 3721.5,-468.5 3727.5,-468.5 3733.5,-474.5 3733.5,-480.5 3733.5,-480.5 3733.5,-524.5 3733.5,-524.5 3733.5,-530.5 3727.5,-536.5 3721.5,-536.5\"/>\n<text text-anchor=\"start\" x=\"3654.5\" y=\"-521.3\" font-family=\"Helvetica,sans-Serif\" font-size=\"14.00\" fill=\"#000000\">gini = 0.0</text>\n<text text-anchor=\"start\" x=\"3644.5\" y=\"-506.3\" font-family=\"Helvetica,sans-Serif\" font-size=\"14.00\" fill=\"#000000\">samples = 1</text>\n<text text-anchor=\"start\" x=\"3642.5\" y=\"-491.3\" font-family=\"Helvetica,sans-Serif\" font-size=\"14.00\" fill=\"#000000\">value = [0, 1]</text>\n<text text-anchor=\"start\" x=\"3655\" y=\"-476.3\" font-family=\"Helvetica,sans-Serif\" font-size=\"14.00\" fill=\"#000000\">class = 1</text>\n</g>\n<!-- 115&#45;&gt;116 -->\n<g id=\"edge116\" class=\"edge\">\n<title>115&#45;&gt;116</title>\n<path fill=\"none\" stroke=\"#000000\" d=\"M3721.7144,-579.8796C3716.355,-568.8835 3710.5578,-556.9893 3705.1537,-545.9015\"/>\n<polygon fill=\"#000000\" stroke=\"#000000\" points=\"3708.2524,-544.2706 3700.7249,-536.8149 3701.96,-547.3375 3708.2524,-544.2706\"/>\n</g>\n<!-- 117 -->\n<g id=\"node118\" class=\"node\">\n<title>117</title>\n<path fill=\"#e58139\" stroke=\"#000000\" d=\"M3838.5,-536.5C3838.5,-536.5 3763.5,-536.5 3763.5,-536.5 3757.5,-536.5 3751.5,-530.5 3751.5,-524.5 3751.5,-524.5 3751.5,-480.5 3751.5,-480.5 3751.5,-474.5 3757.5,-468.5 3763.5,-468.5 3763.5,-468.5 3838.5,-468.5 3838.5,-468.5 3844.5,-468.5 3850.5,-474.5 3850.5,-480.5 3850.5,-480.5 3850.5,-524.5 3850.5,-524.5 3850.5,-530.5 3844.5,-536.5 3838.5,-536.5\"/>\n<text text-anchor=\"start\" x=\"3771.5\" y=\"-521.3\" font-family=\"Helvetica,sans-Serif\" font-size=\"14.00\" fill=\"#000000\">gini = 0.0</text>\n<text text-anchor=\"start\" x=\"3761.5\" y=\"-506.3\" font-family=\"Helvetica,sans-Serif\" font-size=\"14.00\" fill=\"#000000\">samples = 1</text>\n<text text-anchor=\"start\" x=\"3759.5\" y=\"-491.3\" font-family=\"Helvetica,sans-Serif\" font-size=\"14.00\" fill=\"#000000\">value = [1, 0]</text>\n<text text-anchor=\"start\" x=\"3772\" y=\"-476.3\" font-family=\"Helvetica,sans-Serif\" font-size=\"14.00\" fill=\"#000000\">class = 0</text>\n</g>\n<!-- 115&#45;&gt;117 -->\n<g id=\"edge117\" class=\"edge\">\n<title>115&#45;&gt;117</title>\n<path fill=\"none\" stroke=\"#000000\" d=\"M3762.6353,-579.8796C3768.0872,-568.8835 3773.9843,-556.9893 3779.4816,-545.9015\"/>\n<polygon fill=\"#000000\" stroke=\"#000000\" points=\"3782.6804,-547.3289 3783.9867,-536.8149 3776.4089,-544.2195 3782.6804,-547.3289\"/>\n</g>\n<!-- 120 -->\n<g id=\"node121\" class=\"node\">\n<title>120</title>\n<path fill=\"#e58139\" stroke=\"#000000\" d=\"M4150.5,-655.5C4150.5,-655.5 4075.5,-655.5 4075.5,-655.5 4069.5,-655.5 4063.5,-649.5 4063.5,-643.5 4063.5,-643.5 4063.5,-599.5 4063.5,-599.5 4063.5,-593.5 4069.5,-587.5 4075.5,-587.5 4075.5,-587.5 4150.5,-587.5 4150.5,-587.5 4156.5,-587.5 4162.5,-593.5 4162.5,-599.5 4162.5,-599.5 4162.5,-643.5 4162.5,-643.5 4162.5,-649.5 4156.5,-655.5 4150.5,-655.5\"/>\n<text text-anchor=\"start\" x=\"4083.5\" y=\"-640.3\" font-family=\"Helvetica,sans-Serif\" font-size=\"14.00\" fill=\"#000000\">gini = 0.0</text>\n<text text-anchor=\"start\" x=\"4073.5\" y=\"-625.3\" font-family=\"Helvetica,sans-Serif\" font-size=\"14.00\" fill=\"#000000\">samples = 3</text>\n<text text-anchor=\"start\" x=\"4071.5\" y=\"-610.3\" font-family=\"Helvetica,sans-Serif\" font-size=\"14.00\" fill=\"#000000\">value = [3, 0]</text>\n<text text-anchor=\"start\" x=\"4084\" y=\"-595.3\" font-family=\"Helvetica,sans-Serif\" font-size=\"14.00\" fill=\"#000000\">class = 0</text>\n</g>\n<!-- 119&#45;&gt;120 -->\n<g id=\"edge120\" class=\"edge\">\n<title>119&#45;&gt;120</title>\n<path fill=\"none\" stroke=\"#000000\" d=\"M4129.9065,-698.8796C4127.576,-688.2134 4125.061,-676.7021 4122.7012,-665.9015\"/>\n<polygon fill=\"#000000\" stroke=\"#000000\" points=\"4126.0513,-664.8374 4120.4974,-655.8149 4119.2126,-666.3316 4126.0513,-664.8374\"/>\n</g>\n<!-- 121 -->\n<g id=\"node122\" class=\"node\">\n<title>121</title>\n<path fill=\"#7bbeee\" stroke=\"#000000\" d=\"M4383,-663C4383,-663 4193,-663 4193,-663 4187,-663 4181,-657 4181,-651 4181,-651 4181,-592 4181,-592 4181,-586 4187,-580 4193,-580 4193,-580 4383,-580 4383,-580 4389,-580 4395,-586 4395,-592 4395,-592 4395,-651 4395,-651 4395,-657 4389,-663 4383,-663\"/>\n<text text-anchor=\"start\" x=\"4189\" y=\"-647.8\" font-family=\"Helvetica,sans-Serif\" font-size=\"14.00\" fill=\"#000000\">Alkaline_Phosphotase ≤ 1.947</text>\n<text text-anchor=\"start\" x=\"4250\" y=\"-632.8\" font-family=\"Helvetica,sans-Serif\" font-size=\"14.00\" fill=\"#000000\">gini = 0.375</text>\n<text text-anchor=\"start\" x=\"4248.5\" y=\"-617.8\" font-family=\"Helvetica,sans-Serif\" font-size=\"14.00\" fill=\"#000000\">samples = 4</text>\n<text text-anchor=\"start\" x=\"4246.5\" y=\"-602.8\" font-family=\"Helvetica,sans-Serif\" font-size=\"14.00\" fill=\"#000000\">value = [1, 3]</text>\n<text text-anchor=\"start\" x=\"4259\" y=\"-587.8\" font-family=\"Helvetica,sans-Serif\" font-size=\"14.00\" fill=\"#000000\">class = 1</text>\n</g>\n<!-- 119&#45;&gt;121 -->\n<g id=\"edge121\" class=\"edge\">\n<title>119&#45;&gt;121</title>\n<path fill=\"none\" stroke=\"#000000\" d=\"M4191.113,-698.8796C4203.0225,-689.368 4215.7734,-679.1843 4227.9844,-669.432\"/>\n<polygon fill=\"#000000\" stroke=\"#000000\" points=\"4230.2868,-672.0724 4235.9165,-663.0969 4225.9184,-666.6027 4230.2868,-672.0724\"/>\n</g>\n<!-- 122 -->\n<g id=\"node123\" class=\"node\">\n<title>122</title>\n<path fill=\"#399de5\" stroke=\"#000000\" d=\"M4266.5,-536.5C4266.5,-536.5 4191.5,-536.5 4191.5,-536.5 4185.5,-536.5 4179.5,-530.5 4179.5,-524.5 4179.5,-524.5 4179.5,-480.5 4179.5,-480.5 4179.5,-474.5 4185.5,-468.5 4191.5,-468.5 4191.5,-468.5 4266.5,-468.5 4266.5,-468.5 4272.5,-468.5 4278.5,-474.5 4278.5,-480.5 4278.5,-480.5 4278.5,-524.5 4278.5,-524.5 4278.5,-530.5 4272.5,-536.5 4266.5,-536.5\"/>\n<text text-anchor=\"start\" x=\"4199.5\" y=\"-521.3\" font-family=\"Helvetica,sans-Serif\" font-size=\"14.00\" fill=\"#000000\">gini = 0.0</text>\n<text text-anchor=\"start\" x=\"4189.5\" y=\"-506.3\" font-family=\"Helvetica,sans-Serif\" font-size=\"14.00\" fill=\"#000000\">samples = 3</text>\n<text text-anchor=\"start\" x=\"4187.5\" y=\"-491.3\" font-family=\"Helvetica,sans-Serif\" font-size=\"14.00\" fill=\"#000000\">value = [0, 3]</text>\n<text text-anchor=\"start\" x=\"4200\" y=\"-476.3\" font-family=\"Helvetica,sans-Serif\" font-size=\"14.00\" fill=\"#000000\">class = 1</text>\n</g>\n<!-- 121&#45;&gt;122 -->\n<g id=\"edge122\" class=\"edge\">\n<title>121&#45;&gt;122</title>\n<path fill=\"none\" stroke=\"#000000\" d=\"M4267.3647,-579.8796C4261.9128,-568.8835 4256.0157,-556.9893 4250.5184,-545.9015\"/>\n<polygon fill=\"#000000\" stroke=\"#000000\" points=\"4253.5911,-544.2195 4246.0133,-536.8149 4247.3196,-547.3289 4253.5911,-544.2195\"/>\n</g>\n<!-- 123 -->\n<g id=\"node124\" class=\"node\">\n<title>123</title>\n<path fill=\"#e58139\" stroke=\"#000000\" d=\"M4383.5,-536.5C4383.5,-536.5 4308.5,-536.5 4308.5,-536.5 4302.5,-536.5 4296.5,-530.5 4296.5,-524.5 4296.5,-524.5 4296.5,-480.5 4296.5,-480.5 4296.5,-474.5 4302.5,-468.5 4308.5,-468.5 4308.5,-468.5 4383.5,-468.5 4383.5,-468.5 4389.5,-468.5 4395.5,-474.5 4395.5,-480.5 4395.5,-480.5 4395.5,-524.5 4395.5,-524.5 4395.5,-530.5 4389.5,-536.5 4383.5,-536.5\"/>\n<text text-anchor=\"start\" x=\"4316.5\" y=\"-521.3\" font-family=\"Helvetica,sans-Serif\" font-size=\"14.00\" fill=\"#000000\">gini = 0.0</text>\n<text text-anchor=\"start\" x=\"4306.5\" y=\"-506.3\" font-family=\"Helvetica,sans-Serif\" font-size=\"14.00\" fill=\"#000000\">samples = 1</text>\n<text text-anchor=\"start\" x=\"4304.5\" y=\"-491.3\" font-family=\"Helvetica,sans-Serif\" font-size=\"14.00\" fill=\"#000000\">value = [1, 0]</text>\n<text text-anchor=\"start\" x=\"4317\" y=\"-476.3\" font-family=\"Helvetica,sans-Serif\" font-size=\"14.00\" fill=\"#000000\">class = 0</text>\n</g>\n<!-- 121&#45;&gt;123 -->\n<g id=\"edge123\" class=\"edge\">\n<title>121&#45;&gt;123</title>\n<path fill=\"none\" stroke=\"#000000\" d=\"M4308.2856,-579.8796C4313.645,-568.8835 4319.4422,-556.9893 4324.8463,-545.9015\"/>\n<polygon fill=\"#000000\" stroke=\"#000000\" points=\"4328.04,-547.3375 4329.2751,-536.8149 4321.7476,-544.2706 4328.04,-547.3375\"/>\n</g>\n<!-- 126 -->\n<g id=\"node127\" class=\"node\">\n<title>126</title>\n<path fill=\"#e99355\" stroke=\"#000000\" d=\"M4465.5,-1139C4465.5,-1139 4232.5,-1139 4232.5,-1139 4226.5,-1139 4220.5,-1133 4220.5,-1127 4220.5,-1127 4220.5,-1068 4220.5,-1068 4220.5,-1062 4226.5,-1056 4232.5,-1056 4232.5,-1056 4465.5,-1056 4465.5,-1056 4471.5,-1056 4477.5,-1062 4477.5,-1068 4477.5,-1068 4477.5,-1127 4477.5,-1127 4477.5,-1133 4471.5,-1139 4465.5,-1139\"/>\n<text text-anchor=\"start\" x=\"4228.5\" y=\"-1123.8\" font-family=\"Helvetica,sans-Serif\" font-size=\"14.00\" fill=\"#000000\">Aspartate_Aminotransferase ≤ &#45;0.433</text>\n<text text-anchor=\"start\" x=\"4311\" y=\"-1108.8\" font-family=\"Helvetica,sans-Serif\" font-size=\"14.00\" fill=\"#000000\">gini = 0.219</text>\n<text text-anchor=\"start\" x=\"4309.5\" y=\"-1093.8\" font-family=\"Helvetica,sans-Serif\" font-size=\"14.00\" fill=\"#000000\">samples = 8</text>\n<text text-anchor=\"start\" x=\"4307.5\" y=\"-1078.8\" font-family=\"Helvetica,sans-Serif\" font-size=\"14.00\" fill=\"#000000\">value = [7, 1]</text>\n<text text-anchor=\"start\" x=\"4320\" y=\"-1063.8\" font-family=\"Helvetica,sans-Serif\" font-size=\"14.00\" fill=\"#000000\">class = 0</text>\n</g>\n<!-- 125&#45;&gt;126 -->\n<g id=\"edge126\" class=\"edge\">\n<title>125&#45;&gt;126</title>\n<path fill=\"none\" stroke=\"#000000\" d=\"M4349,-1174.8796C4349,-1166.6838 4349,-1157.9891 4349,-1149.5013\"/>\n<polygon fill=\"#000000\" stroke=\"#000000\" points=\"4352.5001,-1149.298 4349,-1139.2981 4345.5001,-1149.2981 4352.5001,-1149.298\"/>\n</g>\n<!-- 129 -->\n<g id=\"node130\" class=\"node\">\n<title>129</title>\n<path fill=\"#aad5f4\" stroke=\"#000000\" d=\"M4702,-1139C4702,-1139 4508,-1139 4508,-1139 4502,-1139 4496,-1133 4496,-1127 4496,-1127 4496,-1068 4496,-1068 4496,-1062 4502,-1056 4508,-1056 4508,-1056 4702,-1056 4702,-1056 4708,-1056 4714,-1062 4714,-1068 4714,-1068 4714,-1127 4714,-1127 4714,-1133 4708,-1139 4702,-1139\"/>\n<text text-anchor=\"start\" x=\"4504\" y=\"-1123.8\" font-family=\"Helvetica,sans-Serif\" font-size=\"14.00\" fill=\"#000000\">Alkaline_Phosphotase ≤ &#45;0.224</text>\n<text text-anchor=\"start\" x=\"4567\" y=\"-1108.8\" font-family=\"Helvetica,sans-Serif\" font-size=\"14.00\" fill=\"#000000\">gini = 0.463</text>\n<text text-anchor=\"start\" x=\"4561\" y=\"-1093.8\" font-family=\"Helvetica,sans-Serif\" font-size=\"14.00\" fill=\"#000000\">samples = 11</text>\n<text text-anchor=\"start\" x=\"4563.5\" y=\"-1078.8\" font-family=\"Helvetica,sans-Serif\" font-size=\"14.00\" fill=\"#000000\">value = [4, 7]</text>\n<text text-anchor=\"start\" x=\"4576\" y=\"-1063.8\" font-family=\"Helvetica,sans-Serif\" font-size=\"14.00\" fill=\"#000000\">class = 1</text>\n</g>\n<!-- 125&#45;&gt;129 -->\n<g id=\"edge129\" class=\"edge\">\n<title>125&#45;&gt;129</title>\n<path fill=\"none\" stroke=\"#000000\" d=\"M4438.5364,-1174.8796C4460.4599,-1164.6886 4484.043,-1153.7261 4506.3665,-1143.3492\"/>\n<polygon fill=\"#000000\" stroke=\"#000000\" points=\"4507.9214,-1146.4861 4515.5142,-1139.0969 4504.9706,-1140.1384 4507.9214,-1146.4861\"/>\n</g>\n<!-- 127 -->\n<g id=\"node128\" class=\"node\">\n<title>127</title>\n<path fill=\"#399de5\" stroke=\"#000000\" d=\"M4364.5,-1012.5C4364.5,-1012.5 4289.5,-1012.5 4289.5,-1012.5 4283.5,-1012.5 4277.5,-1006.5 4277.5,-1000.5 4277.5,-1000.5 4277.5,-956.5 4277.5,-956.5 4277.5,-950.5 4283.5,-944.5 4289.5,-944.5 4289.5,-944.5 4364.5,-944.5 4364.5,-944.5 4370.5,-944.5 4376.5,-950.5 4376.5,-956.5 4376.5,-956.5 4376.5,-1000.5 4376.5,-1000.5 4376.5,-1006.5 4370.5,-1012.5 4364.5,-1012.5\"/>\n<text text-anchor=\"start\" x=\"4297.5\" y=\"-997.3\" font-family=\"Helvetica,sans-Serif\" font-size=\"14.00\" fill=\"#000000\">gini = 0.0</text>\n<text text-anchor=\"start\" x=\"4287.5\" y=\"-982.3\" font-family=\"Helvetica,sans-Serif\" font-size=\"14.00\" fill=\"#000000\">samples = 1</text>\n<text text-anchor=\"start\" x=\"4285.5\" y=\"-967.3\" font-family=\"Helvetica,sans-Serif\" font-size=\"14.00\" fill=\"#000000\">value = [0, 1]</text>\n<text text-anchor=\"start\" x=\"4298\" y=\"-952.3\" font-family=\"Helvetica,sans-Serif\" font-size=\"14.00\" fill=\"#000000\">class = 1</text>\n</g>\n<!-- 126&#45;&gt;127 -->\n<g id=\"edge127\" class=\"edge\">\n<title>126&#45;&gt;127</title>\n<path fill=\"none\" stroke=\"#000000\" d=\"M4341.3055,-1055.8796C4339.3336,-1045.2134 4337.2054,-1033.7021 4335.2087,-1022.9015\"/>\n<polygon fill=\"#000000\" stroke=\"#000000\" points=\"4338.6036,-1022.012 4333.3439,-1012.8149 4331.7203,-1023.2846 4338.6036,-1022.012\"/>\n</g>\n<!-- 128 -->\n<g id=\"node129\" class=\"node\">\n<title>128</title>\n<path fill=\"#e58139\" stroke=\"#000000\" d=\"M4481.5,-1012.5C4481.5,-1012.5 4406.5,-1012.5 4406.5,-1012.5 4400.5,-1012.5 4394.5,-1006.5 4394.5,-1000.5 4394.5,-1000.5 4394.5,-956.5 4394.5,-956.5 4394.5,-950.5 4400.5,-944.5 4406.5,-944.5 4406.5,-944.5 4481.5,-944.5 4481.5,-944.5 4487.5,-944.5 4493.5,-950.5 4493.5,-956.5 4493.5,-956.5 4493.5,-1000.5 4493.5,-1000.5 4493.5,-1006.5 4487.5,-1012.5 4481.5,-1012.5\"/>\n<text text-anchor=\"start\" x=\"4414.5\" y=\"-997.3\" font-family=\"Helvetica,sans-Serif\" font-size=\"14.00\" fill=\"#000000\">gini = 0.0</text>\n<text text-anchor=\"start\" x=\"4404.5\" y=\"-982.3\" font-family=\"Helvetica,sans-Serif\" font-size=\"14.00\" fill=\"#000000\">samples = 7</text>\n<text text-anchor=\"start\" x=\"4402.5\" y=\"-967.3\" font-family=\"Helvetica,sans-Serif\" font-size=\"14.00\" fill=\"#000000\">value = [7, 0]</text>\n<text text-anchor=\"start\" x=\"4415\" y=\"-952.3\" font-family=\"Helvetica,sans-Serif\" font-size=\"14.00\" fill=\"#000000\">class = 0</text>\n</g>\n<!-- 126&#45;&gt;128 -->\n<g id=\"edge128\" class=\"edge\">\n<title>126&#45;&gt;128</title>\n<path fill=\"none\" stroke=\"#000000\" d=\"M4382.2264,-1055.8796C4391.2681,-1044.5536 4401.0705,-1032.2748 4410.1466,-1020.9058\"/>\n<polygon fill=\"#000000\" stroke=\"#000000\" points=\"4413.102,-1022.8137 4416.6057,-1012.8149 4407.6315,-1018.4464 4413.102,-1022.8137\"/>\n</g>\n<!-- 130 -->\n<g id=\"node131\" class=\"node\">\n<title>130</title>\n<path fill=\"#e58139\" stroke=\"#000000\" d=\"M4598.5,-1012.5C4598.5,-1012.5 4523.5,-1012.5 4523.5,-1012.5 4517.5,-1012.5 4511.5,-1006.5 4511.5,-1000.5 4511.5,-1000.5 4511.5,-956.5 4511.5,-956.5 4511.5,-950.5 4517.5,-944.5 4523.5,-944.5 4523.5,-944.5 4598.5,-944.5 4598.5,-944.5 4604.5,-944.5 4610.5,-950.5 4610.5,-956.5 4610.5,-956.5 4610.5,-1000.5 4610.5,-1000.5 4610.5,-1006.5 4604.5,-1012.5 4598.5,-1012.5\"/>\n<text text-anchor=\"start\" x=\"4531.5\" y=\"-997.3\" font-family=\"Helvetica,sans-Serif\" font-size=\"14.00\" fill=\"#000000\">gini = 0.0</text>\n<text text-anchor=\"start\" x=\"4521.5\" y=\"-982.3\" font-family=\"Helvetica,sans-Serif\" font-size=\"14.00\" fill=\"#000000\">samples = 2</text>\n<text text-anchor=\"start\" x=\"4519.5\" y=\"-967.3\" font-family=\"Helvetica,sans-Serif\" font-size=\"14.00\" fill=\"#000000\">value = [2, 0]</text>\n<text text-anchor=\"start\" x=\"4532\" y=\"-952.3\" font-family=\"Helvetica,sans-Serif\" font-size=\"14.00\" fill=\"#000000\">class = 0</text>\n</g>\n<!-- 129&#45;&gt;130 -->\n<g id=\"edge130\" class=\"edge\">\n<title>129&#45;&gt;130</title>\n<path fill=\"none\" stroke=\"#000000\" d=\"M4589.6109,-1055.8796C4585.5858,-1044.9935 4581.2352,-1033.227 4577.1707,-1022.2344\"/>\n<polygon fill=\"#000000\" stroke=\"#000000\" points=\"4580.4387,-1020.9805 4573.6879,-1012.8149 4573.8732,-1023.4082 4580.4387,-1020.9805\"/>\n</g>\n<!-- 131 -->\n<g id=\"node132\" class=\"node\">\n<title>131</title>\n<path fill=\"#72b9ec\" stroke=\"#000000\" d=\"M4777.5,-1020C4777.5,-1020 4640.5,-1020 4640.5,-1020 4634.5,-1020 4628.5,-1014 4628.5,-1008 4628.5,-1008 4628.5,-949 4628.5,-949 4628.5,-943 4634.5,-937 4640.5,-937 4640.5,-937 4777.5,-937 4777.5,-937 4783.5,-937 4789.5,-943 4789.5,-949 4789.5,-949 4789.5,-1008 4789.5,-1008 4789.5,-1014 4783.5,-1020 4777.5,-1020\"/>\n<text text-anchor=\"start\" x=\"4636.5\" y=\"-1004.8\" font-family=\"Helvetica,sans-Serif\" font-size=\"14.00\" fill=\"#000000\">Total_Protiens ≤ 1.386</text>\n<text text-anchor=\"start\" x=\"4671\" y=\"-989.8\" font-family=\"Helvetica,sans-Serif\" font-size=\"14.00\" fill=\"#000000\">gini = 0.346</text>\n<text text-anchor=\"start\" x=\"4669.5\" y=\"-974.8\" font-family=\"Helvetica,sans-Serif\" font-size=\"14.00\" fill=\"#000000\">samples = 9</text>\n<text text-anchor=\"start\" x=\"4667.5\" y=\"-959.8\" font-family=\"Helvetica,sans-Serif\" font-size=\"14.00\" fill=\"#000000\">value = [2, 7]</text>\n<text text-anchor=\"start\" x=\"4680\" y=\"-944.8\" font-family=\"Helvetica,sans-Serif\" font-size=\"14.00\" fill=\"#000000\">class = 1</text>\n</g>\n<!-- 129&#45;&gt;131 -->\n<g id=\"edge131\" class=\"edge\">\n<title>129&#45;&gt;131</title>\n<path fill=\"none\" stroke=\"#000000\" d=\"M4641.3742,-1055.8796C4649.2452,-1046.8733 4657.6429,-1037.2644 4665.7485,-1027.9897\"/>\n<polygon fill=\"#000000\" stroke=\"#000000\" points=\"4668.5254,-1030.131 4672.4706,-1020.2981 4663.2546,-1025.5246 4668.5254,-1030.131\"/>\n</g>\n<!-- 132 -->\n<g id=\"node133\" class=\"node\">\n<title>132</title>\n<path fill=\"#399de5\" stroke=\"#000000\" d=\"M4709.5,-893.5C4709.5,-893.5 4634.5,-893.5 4634.5,-893.5 4628.5,-893.5 4622.5,-887.5 4622.5,-881.5 4622.5,-881.5 4622.5,-837.5 4622.5,-837.5 4622.5,-831.5 4628.5,-825.5 4634.5,-825.5 4634.5,-825.5 4709.5,-825.5 4709.5,-825.5 4715.5,-825.5 4721.5,-831.5 4721.5,-837.5 4721.5,-837.5 4721.5,-881.5 4721.5,-881.5 4721.5,-887.5 4715.5,-893.5 4709.5,-893.5\"/>\n<text text-anchor=\"start\" x=\"4642.5\" y=\"-878.3\" font-family=\"Helvetica,sans-Serif\" font-size=\"14.00\" fill=\"#000000\">gini = 0.0</text>\n<text text-anchor=\"start\" x=\"4632.5\" y=\"-863.3\" font-family=\"Helvetica,sans-Serif\" font-size=\"14.00\" fill=\"#000000\">samples = 6</text>\n<text text-anchor=\"start\" x=\"4630.5\" y=\"-848.3\" font-family=\"Helvetica,sans-Serif\" font-size=\"14.00\" fill=\"#000000\">value = [0, 6]</text>\n<text text-anchor=\"start\" x=\"4643\" y=\"-833.3\" font-family=\"Helvetica,sans-Serif\" font-size=\"14.00\" fill=\"#000000\">class = 1</text>\n</g>\n<!-- 131&#45;&gt;132 -->\n<g id=\"edge132\" class=\"edge\">\n<title>131&#45;&gt;132</title>\n<path fill=\"none\" stroke=\"#000000\" d=\"M4696.0592,-936.8796C4692.7086,-926.1034 4689.0899,-914.4647 4685.7017,-903.5677\"/>\n<polygon fill=\"#000000\" stroke=\"#000000\" points=\"4688.9806,-902.3248 4682.6693,-893.8149 4682.2963,-904.4032 4688.9806,-902.3248\"/>\n</g>\n<!-- 133 -->\n<g id=\"node134\" class=\"node\">\n<title>133</title>\n<path fill=\"#f2c09c\" stroke=\"#000000\" d=\"M4828,-901C4828,-901 4752,-901 4752,-901 4746,-901 4740,-895 4740,-889 4740,-889 4740,-830 4740,-830 4740,-824 4746,-818 4752,-818 4752,-818 4828,-818 4828,-818 4834,-818 4840,-824 4840,-830 4840,-830 4840,-889 4840,-889 4840,-895 4834,-901 4828,-901\"/>\n<text text-anchor=\"start\" x=\"4748\" y=\"-885.8\" font-family=\"Helvetica,sans-Serif\" font-size=\"14.00\" fill=\"#000000\">Toddler ≤ 0.5</text>\n<text text-anchor=\"start\" x=\"4752\" y=\"-870.8\" font-family=\"Helvetica,sans-Serif\" font-size=\"14.00\" fill=\"#000000\">gini = 0.444</text>\n<text text-anchor=\"start\" x=\"4750.5\" y=\"-855.8\" font-family=\"Helvetica,sans-Serif\" font-size=\"14.00\" fill=\"#000000\">samples = 3</text>\n<text text-anchor=\"start\" x=\"4748.5\" y=\"-840.8\" font-family=\"Helvetica,sans-Serif\" font-size=\"14.00\" fill=\"#000000\">value = [2, 1]</text>\n<text text-anchor=\"start\" x=\"4761\" y=\"-825.8\" font-family=\"Helvetica,sans-Serif\" font-size=\"14.00\" fill=\"#000000\">class = 0</text>\n</g>\n<!-- 131&#45;&gt;133 -->\n<g id=\"edge133\" class=\"edge\">\n<title>131&#45;&gt;133</title>\n<path fill=\"none\" stroke=\"#000000\" d=\"M4737.3299,-936.8796C4743.2763,-928.1434 4749.6086,-918.8404 4755.745,-909.8253\"/>\n<polygon fill=\"#000000\" stroke=\"#000000\" points=\"4758.8156,-911.5342 4761.5492,-901.2981 4753.0289,-907.5953 4758.8156,-911.5342\"/>\n</g>\n<!-- 134 -->\n<g id=\"node135\" class=\"node\">\n<title>134</title>\n<path fill=\"#e58139\" stroke=\"#000000\" d=\"M4748.5,-774.5C4748.5,-774.5 4673.5,-774.5 4673.5,-774.5 4667.5,-774.5 4661.5,-768.5 4661.5,-762.5 4661.5,-762.5 4661.5,-718.5 4661.5,-718.5 4661.5,-712.5 4667.5,-706.5 4673.5,-706.5 4673.5,-706.5 4748.5,-706.5 4748.5,-706.5 4754.5,-706.5 4760.5,-712.5 4760.5,-718.5 4760.5,-718.5 4760.5,-762.5 4760.5,-762.5 4760.5,-768.5 4754.5,-774.5 4748.5,-774.5\"/>\n<text text-anchor=\"start\" x=\"4681.5\" y=\"-759.3\" font-family=\"Helvetica,sans-Serif\" font-size=\"14.00\" fill=\"#000000\">gini = 0.0</text>\n<text text-anchor=\"start\" x=\"4671.5\" y=\"-744.3\" font-family=\"Helvetica,sans-Serif\" font-size=\"14.00\" fill=\"#000000\">samples = 2</text>\n<text text-anchor=\"start\" x=\"4669.5\" y=\"-729.3\" font-family=\"Helvetica,sans-Serif\" font-size=\"14.00\" fill=\"#000000\">value = [2, 0]</text>\n<text text-anchor=\"start\" x=\"4682\" y=\"-714.3\" font-family=\"Helvetica,sans-Serif\" font-size=\"14.00\" fill=\"#000000\">class = 0</text>\n</g>\n<!-- 133&#45;&gt;134 -->\n<g id=\"edge134\" class=\"edge\">\n<title>133&#45;&gt;134</title>\n<path fill=\"none\" stroke=\"#000000\" d=\"M4762.3696,-817.8796C4754.9237,-806.6636 4746.8575,-794.5131 4739.3718,-783.2372\"/>\n<polygon fill=\"#000000\" stroke=\"#000000\" points=\"4742.2273,-781.2104 4733.7805,-774.8149 4736.3954,-785.082 4742.2273,-781.2104\"/>\n</g>\n<!-- 135 -->\n<g id=\"node136\" class=\"node\">\n<title>135</title>\n<path fill=\"#399de5\" stroke=\"#000000\" d=\"M4865.5,-774.5C4865.5,-774.5 4790.5,-774.5 4790.5,-774.5 4784.5,-774.5 4778.5,-768.5 4778.5,-762.5 4778.5,-762.5 4778.5,-718.5 4778.5,-718.5 4778.5,-712.5 4784.5,-706.5 4790.5,-706.5 4790.5,-706.5 4865.5,-706.5 4865.5,-706.5 4871.5,-706.5 4877.5,-712.5 4877.5,-718.5 4877.5,-718.5 4877.5,-762.5 4877.5,-762.5 4877.5,-768.5 4871.5,-774.5 4865.5,-774.5\"/>\n<text text-anchor=\"start\" x=\"4798.5\" y=\"-759.3\" font-family=\"Helvetica,sans-Serif\" font-size=\"14.00\" fill=\"#000000\">gini = 0.0</text>\n<text text-anchor=\"start\" x=\"4788.5\" y=\"-744.3\" font-family=\"Helvetica,sans-Serif\" font-size=\"14.00\" fill=\"#000000\">samples = 1</text>\n<text text-anchor=\"start\" x=\"4786.5\" y=\"-729.3\" font-family=\"Helvetica,sans-Serif\" font-size=\"14.00\" fill=\"#000000\">value = [0, 1]</text>\n<text text-anchor=\"start\" x=\"4799\" y=\"-714.3\" font-family=\"Helvetica,sans-Serif\" font-size=\"14.00\" fill=\"#000000\">class = 1</text>\n</g>\n<!-- 133&#45;&gt;135 -->\n<g id=\"edge135\" class=\"edge\">\n<title>133&#45;&gt;135</title>\n<path fill=\"none\" stroke=\"#000000\" d=\"M4803.2906,-817.8796C4806.7317,-807.1034 4810.4483,-795.4647 4813.9279,-784.5677\"/>\n<polygon fill=\"#000000\" stroke=\"#000000\" points=\"4817.3344,-785.4057 4817.0423,-774.8149 4810.6661,-783.2763 4817.3344,-785.4057\"/>\n</g>\n<!-- 137 -->\n<g id=\"node138\" class=\"node\">\n<title>137</title>\n<path fill=\"#e99254\" stroke=\"#000000\" d=\"M5011,-1258C5011,-1258 4821,-1258 4821,-1258 4815,-1258 4809,-1252 4809,-1246 4809,-1246 4809,-1187 4809,-1187 4809,-1181 4815,-1175 4821,-1175 4821,-1175 5011,-1175 5011,-1175 5017,-1175 5023,-1181 5023,-1187 5023,-1187 5023,-1246 5023,-1246 5023,-1252 5017,-1258 5011,-1258\"/>\n<text text-anchor=\"start\" x=\"4817\" y=\"-1242.8\" font-family=\"Helvetica,sans-Serif\" font-size=\"14.00\" fill=\"#000000\">Alkaline_Phosphotase ≤ 4.711</text>\n<text text-anchor=\"start\" x=\"4882.5\" y=\"-1227.8\" font-family=\"Helvetica,sans-Serif\" font-size=\"14.00\" fill=\"#000000\">gini = 0.21</text>\n<text text-anchor=\"start\" x=\"4872\" y=\"-1212.8\" font-family=\"Helvetica,sans-Serif\" font-size=\"14.00\" fill=\"#000000\">samples = 42</text>\n<text text-anchor=\"start\" x=\"4870.5\" y=\"-1197.8\" font-family=\"Helvetica,sans-Serif\" font-size=\"14.00\" fill=\"#000000\">value = [37, 5]</text>\n<text text-anchor=\"start\" x=\"4887\" y=\"-1182.8\" font-family=\"Helvetica,sans-Serif\" font-size=\"14.00\" fill=\"#000000\">class = 0</text>\n</g>\n<!-- 136&#45;&gt;137 -->\n<g id=\"edge137\" class=\"edge\">\n<title>136&#45;&gt;137</title>\n<path fill=\"none\" stroke=\"#000000\" d=\"M4916,-1293.8796C4916,-1285.6838 4916,-1276.9891 4916,-1268.5013\"/>\n<polygon fill=\"#000000\" stroke=\"#000000\" points=\"4919.5001,-1268.298 4916,-1258.2981 4912.5001,-1268.2981 4919.5001,-1268.298\"/>\n</g>\n<!-- 154 -->\n<g id=\"node155\" class=\"node\">\n<title>154</title>\n<path fill=\"#e5833d\" stroke=\"#000000\" d=\"M5182.5,-1258C5182.5,-1258 5085.5,-1258 5085.5,-1258 5079.5,-1258 5073.5,-1252 5073.5,-1246 5073.5,-1246 5073.5,-1187 5073.5,-1187 5073.5,-1181 5079.5,-1175 5085.5,-1175 5085.5,-1175 5182.5,-1175 5182.5,-1175 5188.5,-1175 5194.5,-1181 5194.5,-1187 5194.5,-1187 5194.5,-1246 5194.5,-1246 5194.5,-1252 5188.5,-1258 5182.5,-1258\"/>\n<text text-anchor=\"start\" x=\"5081.5\" y=\"-1242.8\" font-family=\"Helvetica,sans-Serif\" font-size=\"14.00\" fill=\"#000000\">Albumin ≤ 1.101</text>\n<text text-anchor=\"start\" x=\"5096\" y=\"-1227.8\" font-family=\"Helvetica,sans-Serif\" font-size=\"14.00\" fill=\"#000000\">gini = 0.036</text>\n<text text-anchor=\"start\" x=\"5090\" y=\"-1212.8\" font-family=\"Helvetica,sans-Serif\" font-size=\"14.00\" fill=\"#000000\">samples = 54</text>\n<text text-anchor=\"start\" x=\"5088.5\" y=\"-1197.8\" font-family=\"Helvetica,sans-Serif\" font-size=\"14.00\" fill=\"#000000\">value = [53, 1]</text>\n<text text-anchor=\"start\" x=\"5105\" y=\"-1182.8\" font-family=\"Helvetica,sans-Serif\" font-size=\"14.00\" fill=\"#000000\">class = 0</text>\n</g>\n<!-- 136&#45;&gt;154 -->\n<g id=\"edge154\" class=\"edge\">\n<title>136&#45;&gt;154</title>\n<path fill=\"none\" stroke=\"#000000\" d=\"M4992.2458,-1293.8796C5015.659,-1281.099 5041.2949,-1267.1051 5064.2503,-1254.5744\"/>\n<polygon fill=\"#000000\" stroke=\"#000000\" points=\"5066.1382,-1257.5314 5073.2386,-1249.6679 5062.7842,-1251.3872 5066.1382,-1257.5314\"/>\n</g>\n<!-- 138 -->\n<g id=\"node139\" class=\"node\">\n<title>138</title>\n<path fill=\"#e88f4e\" stroke=\"#000000\" d=\"M4918.5,-1139C4918.5,-1139 4817.5,-1139 4817.5,-1139 4811.5,-1139 4805.5,-1133 4805.5,-1127 4805.5,-1127 4805.5,-1068 4805.5,-1068 4805.5,-1062 4811.5,-1056 4817.5,-1056 4817.5,-1056 4918.5,-1056 4918.5,-1056 4924.5,-1056 4930.5,-1062 4930.5,-1068 4930.5,-1068 4930.5,-1127 4930.5,-1127 4930.5,-1133 4924.5,-1139 4918.5,-1139\"/>\n<text text-anchor=\"start\" x=\"4813.5\" y=\"-1123.8\" font-family=\"Helvetica,sans-Serif\" font-size=\"14.00\" fill=\"#000000\">Albumin ≤ &#45;1.148</text>\n<text text-anchor=\"start\" x=\"4830\" y=\"-1108.8\" font-family=\"Helvetica,sans-Serif\" font-size=\"14.00\" fill=\"#000000\">gini = 0.176</text>\n<text text-anchor=\"start\" x=\"4824\" y=\"-1093.8\" font-family=\"Helvetica,sans-Serif\" font-size=\"14.00\" fill=\"#000000\">samples = 41</text>\n<text text-anchor=\"start\" x=\"4822.5\" y=\"-1078.8\" font-family=\"Helvetica,sans-Serif\" font-size=\"14.00\" fill=\"#000000\">value = [37, 4]</text>\n<text text-anchor=\"start\" x=\"4839\" y=\"-1063.8\" font-family=\"Helvetica,sans-Serif\" font-size=\"14.00\" fill=\"#000000\">class = 0</text>\n</g>\n<!-- 137&#45;&gt;138 -->\n<g id=\"edge138\" class=\"edge\">\n<title>137&#45;&gt;138</title>\n<path fill=\"none\" stroke=\"#000000\" d=\"M4899.2119,-1174.8796C4895.7971,-1166.4136 4892.1675,-1157.4153 4888.637,-1148.6626\"/>\n<polygon fill=\"#000000\" stroke=\"#000000\" points=\"4891.8464,-1147.2628 4884.8597,-1139.2981 4885.3547,-1149.8813 4891.8464,-1147.2628\"/>\n</g>\n<!-- 153 -->\n<g id=\"node154\" class=\"node\">\n<title>153</title>\n<path fill=\"#399de5\" stroke=\"#000000\" d=\"M5035.5,-1131.5C5035.5,-1131.5 4960.5,-1131.5 4960.5,-1131.5 4954.5,-1131.5 4948.5,-1125.5 4948.5,-1119.5 4948.5,-1119.5 4948.5,-1075.5 4948.5,-1075.5 4948.5,-1069.5 4954.5,-1063.5 4960.5,-1063.5 4960.5,-1063.5 5035.5,-1063.5 5035.5,-1063.5 5041.5,-1063.5 5047.5,-1069.5 5047.5,-1075.5 5047.5,-1075.5 5047.5,-1119.5 5047.5,-1119.5 5047.5,-1125.5 5041.5,-1131.5 5035.5,-1131.5\"/>\n<text text-anchor=\"start\" x=\"4968.5\" y=\"-1116.3\" font-family=\"Helvetica,sans-Serif\" font-size=\"14.00\" fill=\"#000000\">gini = 0.0</text>\n<text text-anchor=\"start\" x=\"4958.5\" y=\"-1101.3\" font-family=\"Helvetica,sans-Serif\" font-size=\"14.00\" fill=\"#000000\">samples = 1</text>\n<text text-anchor=\"start\" x=\"4956.5\" y=\"-1086.3\" font-family=\"Helvetica,sans-Serif\" font-size=\"14.00\" fill=\"#000000\">value = [0, 1]</text>\n<text text-anchor=\"start\" x=\"4969\" y=\"-1071.3\" font-family=\"Helvetica,sans-Serif\" font-size=\"14.00\" fill=\"#000000\">class = 1</text>\n</g>\n<!-- 137&#45;&gt;153 -->\n<g id=\"edge153\" class=\"edge\">\n<title>137&#45;&gt;153</title>\n<path fill=\"none\" stroke=\"#000000\" d=\"M4944.6796,-1174.8796C4952.4083,-1163.6636 4960.7809,-1151.5131 4968.5508,-1140.2372\"/>\n<polygon fill=\"#000000\" stroke=\"#000000\" points=\"4971.5623,-1142.0353 4974.3544,-1131.8149 4965.7982,-1138.0634 4971.5623,-1142.0353\"/>\n</g>\n<!-- 139 -->\n<g id=\"node140\" class=\"node\">\n<title>139</title>\n<path fill=\"#e58139\" stroke=\"#000000\" d=\"M4902.5,-1012.5C4902.5,-1012.5 4819.5,-1012.5 4819.5,-1012.5 4813.5,-1012.5 4807.5,-1006.5 4807.5,-1000.5 4807.5,-1000.5 4807.5,-956.5 4807.5,-956.5 4807.5,-950.5 4813.5,-944.5 4819.5,-944.5 4819.5,-944.5 4902.5,-944.5 4902.5,-944.5 4908.5,-944.5 4914.5,-950.5 4914.5,-956.5 4914.5,-956.5 4914.5,-1000.5 4914.5,-1000.5 4914.5,-1006.5 4908.5,-1012.5 4902.5,-1012.5\"/>\n<text text-anchor=\"start\" x=\"4831.5\" y=\"-997.3\" font-family=\"Helvetica,sans-Serif\" font-size=\"14.00\" fill=\"#000000\">gini = 0.0</text>\n<text text-anchor=\"start\" x=\"4817\" y=\"-982.3\" font-family=\"Helvetica,sans-Serif\" font-size=\"14.00\" fill=\"#000000\">samples = 23</text>\n<text text-anchor=\"start\" x=\"4815.5\" y=\"-967.3\" font-family=\"Helvetica,sans-Serif\" font-size=\"14.00\" fill=\"#000000\">value = [23, 0]</text>\n<text text-anchor=\"start\" x=\"4832\" y=\"-952.3\" font-family=\"Helvetica,sans-Serif\" font-size=\"14.00\" fill=\"#000000\">class = 0</text>\n</g>\n<!-- 138&#45;&gt;139 -->\n<g id=\"edge139\" class=\"edge\">\n<title>138&#45;&gt;139</title>\n<path fill=\"none\" stroke=\"#000000\" d=\"M4865.5517,-1055.8796C4864.9243,-1045.2134 4864.2472,-1033.7021 4863.6119,-1022.9015\"/>\n<polygon fill=\"#000000\" stroke=\"#000000\" points=\"4867.0998,-1022.5921 4863.0185,-1012.8149 4860.1119,-1023.0032 4867.0998,-1022.5921\"/>\n</g>\n<!-- 140 -->\n<g id=\"node141\" class=\"node\">\n<title>140</title>\n<path fill=\"#eca572\" stroke=\"#000000\" d=\"M5183,-1020C5183,-1020 4945,-1020 4945,-1020 4939,-1020 4933,-1014 4933,-1008 4933,-1008 4933,-949 4933,-949 4933,-943 4939,-937 4945,-937 4945,-937 5183,-937 5183,-937 5189,-937 5195,-943 5195,-949 5195,-949 5195,-1008 5195,-1008 5195,-1014 5189,-1020 5183,-1020\"/>\n<text text-anchor=\"start\" x=\"4941\" y=\"-1004.8\" font-family=\"Helvetica,sans-Serif\" font-size=\"14.00\" fill=\"#000000\">Albumin_and_Globulin_Ratio ≤ &#45;0.947</text>\n<text text-anchor=\"start\" x=\"5026\" y=\"-989.8\" font-family=\"Helvetica,sans-Serif\" font-size=\"14.00\" fill=\"#000000\">gini = 0.346</text>\n<text text-anchor=\"start\" x=\"5020\" y=\"-974.8\" font-family=\"Helvetica,sans-Serif\" font-size=\"14.00\" fill=\"#000000\">samples = 18</text>\n<text text-anchor=\"start\" x=\"5018.5\" y=\"-959.8\" font-family=\"Helvetica,sans-Serif\" font-size=\"14.00\" fill=\"#000000\">value = [14, 4]</text>\n<text text-anchor=\"start\" x=\"5035\" y=\"-944.8\" font-family=\"Helvetica,sans-Serif\" font-size=\"14.00\" fill=\"#000000\">class = 0</text>\n</g>\n<!-- 138&#45;&gt;140 -->\n<g id=\"edge140\" class=\"edge\">\n<title>138&#45;&gt;140</title>\n<path fill=\"none\" stroke=\"#000000\" d=\"M4930.5545,-1059.5205C4948.4469,-1048.6572 4968.1612,-1036.6879 4986.8198,-1025.3594\"/>\n<polygon fill=\"#000000\" stroke=\"#000000\" points=\"4988.8624,-1028.2139 4995.5938,-1020.0323 4985.2295,-1022.2304 4988.8624,-1028.2139\"/>\n</g>\n<!-- 141 -->\n<g id=\"node142\" class=\"node\">\n<title>141</title>\n<path fill=\"#399de5\" stroke=\"#000000\" d=\"M4988.5,-893.5C4988.5,-893.5 4913.5,-893.5 4913.5,-893.5 4907.5,-893.5 4901.5,-887.5 4901.5,-881.5 4901.5,-881.5 4901.5,-837.5 4901.5,-837.5 4901.5,-831.5 4907.5,-825.5 4913.5,-825.5 4913.5,-825.5 4988.5,-825.5 4988.5,-825.5 4994.5,-825.5 5000.5,-831.5 5000.5,-837.5 5000.5,-837.5 5000.5,-881.5 5000.5,-881.5 5000.5,-887.5 4994.5,-893.5 4988.5,-893.5\"/>\n<text text-anchor=\"start\" x=\"4921.5\" y=\"-878.3\" font-family=\"Helvetica,sans-Serif\" font-size=\"14.00\" fill=\"#000000\">gini = 0.0</text>\n<text text-anchor=\"start\" x=\"4911.5\" y=\"-863.3\" font-family=\"Helvetica,sans-Serif\" font-size=\"14.00\" fill=\"#000000\">samples = 1</text>\n<text text-anchor=\"start\" x=\"4909.5\" y=\"-848.3\" font-family=\"Helvetica,sans-Serif\" font-size=\"14.00\" fill=\"#000000\">value = [0, 1]</text>\n<text text-anchor=\"start\" x=\"4922\" y=\"-833.3\" font-family=\"Helvetica,sans-Serif\" font-size=\"14.00\" fill=\"#000000\">class = 1</text>\n</g>\n<!-- 140&#45;&gt;141 -->\n<g id=\"edge141\" class=\"edge\">\n<title>140&#45;&gt;141</title>\n<path fill=\"none\" stroke=\"#000000\" d=\"M5024.4781,-936.8796C5013.5143,-925.3337 5001.6103,-912.7976 4990.6399,-901.2446\"/>\n<polygon fill=\"#000000\" stroke=\"#000000\" points=\"4993.0087,-898.6564 4983.5848,-893.8149 4987.9327,-903.4766 4993.0087,-898.6564\"/>\n</g>\n<!-- 142 -->\n<g id=\"node143\" class=\"node\">\n<title>142</title>\n<path fill=\"#eb9c63\" stroke=\"#000000\" d=\"M5171.5,-901C5171.5,-901 5030.5,-901 5030.5,-901 5024.5,-901 5018.5,-895 5018.5,-889 5018.5,-889 5018.5,-830 5018.5,-830 5018.5,-824 5024.5,-818 5030.5,-818 5030.5,-818 5171.5,-818 5171.5,-818 5177.5,-818 5183.5,-824 5183.5,-830 5183.5,-830 5183.5,-889 5183.5,-889 5183.5,-895 5177.5,-901 5171.5,-901\"/>\n<text text-anchor=\"start\" x=\"5026.5\" y=\"-885.8\" font-family=\"Helvetica,sans-Serif\" font-size=\"14.00\" fill=\"#000000\">Total_Protiens ≤ &#45;0.358</text>\n<text text-anchor=\"start\" x=\"5063\" y=\"-870.8\" font-family=\"Helvetica,sans-Serif\" font-size=\"14.00\" fill=\"#000000\">gini = 0.291</text>\n<text text-anchor=\"start\" x=\"5057\" y=\"-855.8\" font-family=\"Helvetica,sans-Serif\" font-size=\"14.00\" fill=\"#000000\">samples = 17</text>\n<text text-anchor=\"start\" x=\"5055.5\" y=\"-840.8\" font-family=\"Helvetica,sans-Serif\" font-size=\"14.00\" fill=\"#000000\">value = [14, 3]</text>\n<text text-anchor=\"start\" x=\"5072\" y=\"-825.8\" font-family=\"Helvetica,sans-Serif\" font-size=\"14.00\" fill=\"#000000\">class = 0</text>\n</g>\n<!-- 140&#45;&gt;142 -->\n<g id=\"edge142\" class=\"edge\">\n<title>140&#45;&gt;142</title>\n<path fill=\"none\" stroke=\"#000000\" d=\"M5076.9408,-936.8796C5079.5451,-928.5037 5082.3114,-919.6067 5085.0054,-910.942\"/>\n<polygon fill=\"#000000\" stroke=\"#000000\" points=\"5088.377,-911.8863 5088.004,-901.2981 5081.6927,-909.808 5088.377,-911.8863\"/>\n</g>\n<!-- 143 -->\n<g id=\"node144\" class=\"node\">\n<title>143</title>\n<path fill=\"#e99355\" stroke=\"#000000\" d=\"M5172,-782C5172,-782 4948,-782 4948,-782 4942,-782 4936,-776 4936,-770 4936,-770 4936,-711 4936,-711 4936,-705 4942,-699 4948,-699 4948,-699 5172,-699 5172,-699 5178,-699 5184,-705 5184,-711 5184,-711 5184,-770 5184,-770 5184,-776 5178,-782 5172,-782\"/>\n<text text-anchor=\"start\" x=\"4944\" y=\"-766.8\" font-family=\"Helvetica,sans-Serif\" font-size=\"14.00\" fill=\"#000000\">Alamine_Aminotransferase ≤ &#45;0.225</text>\n<text text-anchor=\"start\" x=\"5022\" y=\"-751.8\" font-family=\"Helvetica,sans-Serif\" font-size=\"14.00\" fill=\"#000000\">gini = 0.219</text>\n<text text-anchor=\"start\" x=\"5016\" y=\"-736.8\" font-family=\"Helvetica,sans-Serif\" font-size=\"14.00\" fill=\"#000000\">samples = 16</text>\n<text text-anchor=\"start\" x=\"5014.5\" y=\"-721.8\" font-family=\"Helvetica,sans-Serif\" font-size=\"14.00\" fill=\"#000000\">value = [14, 2]</text>\n<text text-anchor=\"start\" x=\"5031\" y=\"-706.8\" font-family=\"Helvetica,sans-Serif\" font-size=\"14.00\" fill=\"#000000\">class = 0</text>\n</g>\n<!-- 142&#45;&gt;143 -->\n<g id=\"edge143\" class=\"edge\">\n<title>142&#45;&gt;143</title>\n<path fill=\"none\" stroke=\"#000000\" d=\"M5086.6602,-817.8796C5083.7744,-809.5037 5080.709,-800.6067 5077.7237,-791.942\"/>\n<polygon fill=\"#000000\" stroke=\"#000000\" points=\"5080.9676,-790.6125 5074.401,-782.2981 5074.3494,-792.8928 5080.9676,-790.6125\"/>\n</g>\n<!-- 152 -->\n<g id=\"node153\" class=\"node\">\n<title>152</title>\n<path fill=\"#399de5\" stroke=\"#000000\" d=\"M5289.5,-774.5C5289.5,-774.5 5214.5,-774.5 5214.5,-774.5 5208.5,-774.5 5202.5,-768.5 5202.5,-762.5 5202.5,-762.5 5202.5,-718.5 5202.5,-718.5 5202.5,-712.5 5208.5,-706.5 5214.5,-706.5 5214.5,-706.5 5289.5,-706.5 5289.5,-706.5 5295.5,-706.5 5301.5,-712.5 5301.5,-718.5 5301.5,-718.5 5301.5,-762.5 5301.5,-762.5 5301.5,-768.5 5295.5,-774.5 5289.5,-774.5\"/>\n<text text-anchor=\"start\" x=\"5222.5\" y=\"-759.3\" font-family=\"Helvetica,sans-Serif\" font-size=\"14.00\" fill=\"#000000\">gini = 0.0</text>\n<text text-anchor=\"start\" x=\"5212.5\" y=\"-744.3\" font-family=\"Helvetica,sans-Serif\" font-size=\"14.00\" fill=\"#000000\">samples = 1</text>\n<text text-anchor=\"start\" x=\"5210.5\" y=\"-729.3\" font-family=\"Helvetica,sans-Serif\" font-size=\"14.00\" fill=\"#000000\">value = [0, 1]</text>\n<text text-anchor=\"start\" x=\"5223\" y=\"-714.3\" font-family=\"Helvetica,sans-Serif\" font-size=\"14.00\" fill=\"#000000\">class = 1</text>\n</g>\n<!-- 142&#45;&gt;152 -->\n<g id=\"edge152\" class=\"edge\">\n<title>142&#45;&gt;152</title>\n<path fill=\"none\" stroke=\"#000000\" d=\"M5153.8125,-817.8796C5168.8817,-806.0038 5185.2803,-793.0804 5200.2834,-781.2568\"/>\n<polygon fill=\"#000000\" stroke=\"#000000\" points=\"5202.7698,-783.7536 5208.4575,-774.8149 5198.4369,-778.2557 5202.7698,-783.7536\"/>\n</g>\n<!-- 144 -->\n<g id=\"node145\" class=\"node\">\n<title>144</title>\n<path fill=\"#ffffff\" stroke=\"#000000\" d=\"M5074,-663C5074,-663 4850,-663 4850,-663 4844,-663 4838,-657 4838,-651 4838,-651 4838,-592 4838,-592 4838,-586 4844,-580 4850,-580 4850,-580 5074,-580 5074,-580 5080,-580 5086,-586 5086,-592 5086,-592 5086,-651 5086,-651 5086,-657 5080,-663 5074,-663\"/>\n<text text-anchor=\"start\" x=\"4846\" y=\"-647.8\" font-family=\"Helvetica,sans-Serif\" font-size=\"14.00\" fill=\"#000000\">Alamine_Aminotransferase ≤ &#45;0.306</text>\n<text text-anchor=\"start\" x=\"4932.5\" y=\"-632.8\" font-family=\"Helvetica,sans-Serif\" font-size=\"14.00\" fill=\"#000000\">gini = 0.5</text>\n<text text-anchor=\"start\" x=\"4922.5\" y=\"-617.8\" font-family=\"Helvetica,sans-Serif\" font-size=\"14.00\" fill=\"#000000\">samples = 2</text>\n<text text-anchor=\"start\" x=\"4920.5\" y=\"-602.8\" font-family=\"Helvetica,sans-Serif\" font-size=\"14.00\" fill=\"#000000\">value = [1, 1]</text>\n<text text-anchor=\"start\" x=\"4933\" y=\"-587.8\" font-family=\"Helvetica,sans-Serif\" font-size=\"14.00\" fill=\"#000000\">class = 0</text>\n</g>\n<!-- 143&#45;&gt;144 -->\n<g id=\"edge144\" class=\"edge\">\n<title>143&#45;&gt;144</title>\n<path fill=\"none\" stroke=\"#000000\" d=\"M5025.7244,-698.8796C5018.3816,-689.9633 5010.5524,-680.4565 5002.9854,-671.268\"/>\n<polygon fill=\"#000000\" stroke=\"#000000\" points=\"5005.4808,-668.7924 4996.4219,-663.2981 5000.0773,-673.2424 5005.4808,-668.7924\"/>\n</g>\n<!-- 147 -->\n<g id=\"node148\" class=\"node\">\n<title>147</title>\n<path fill=\"#e78b48\" stroke=\"#000000\" d=\"M5199.5,-663C5199.5,-663 5116.5,-663 5116.5,-663 5110.5,-663 5104.5,-657 5104.5,-651 5104.5,-651 5104.5,-592 5104.5,-592 5104.5,-586 5110.5,-580 5116.5,-580 5116.5,-580 5199.5,-580 5199.5,-580 5205.5,-580 5211.5,-586 5211.5,-592 5211.5,-592 5211.5,-651 5211.5,-651 5211.5,-657 5205.5,-663 5199.5,-663\"/>\n<text text-anchor=\"start\" x=\"5115.5\" y=\"-647.8\" font-family=\"Helvetica,sans-Serif\" font-size=\"14.00\" fill=\"#000000\">Gender ≤ 0.5</text>\n<text text-anchor=\"start\" x=\"5120\" y=\"-632.8\" font-family=\"Helvetica,sans-Serif\" font-size=\"14.00\" fill=\"#000000\">gini = 0.133</text>\n<text text-anchor=\"start\" x=\"5114\" y=\"-617.8\" font-family=\"Helvetica,sans-Serif\" font-size=\"14.00\" fill=\"#000000\">samples = 14</text>\n<text text-anchor=\"start\" x=\"5112.5\" y=\"-602.8\" font-family=\"Helvetica,sans-Serif\" font-size=\"14.00\" fill=\"#000000\">value = [13, 1]</text>\n<text text-anchor=\"start\" x=\"5129\" y=\"-587.8\" font-family=\"Helvetica,sans-Serif\" font-size=\"14.00\" fill=\"#000000\">class = 0</text>\n</g>\n<!-- 143&#45;&gt;147 -->\n<g id=\"edge147\" class=\"edge\">\n<title>143&#45;&gt;147</title>\n<path fill=\"none\" stroke=\"#000000\" d=\"M5094.2756,-698.8796C5101.6184,-689.9633 5109.4476,-680.4565 5117.0146,-671.268\"/>\n<polygon fill=\"#000000\" stroke=\"#000000\" points=\"5119.9227,-673.2424 5123.5781,-663.2981 5114.5192,-668.7924 5119.9227,-673.2424\"/>\n</g>\n<!-- 145 -->\n<g id=\"node146\" class=\"node\">\n<title>145</title>\n<path fill=\"#e58139\" stroke=\"#000000\" d=\"M4887.5,-536.5C4887.5,-536.5 4812.5,-536.5 4812.5,-536.5 4806.5,-536.5 4800.5,-530.5 4800.5,-524.5 4800.5,-524.5 4800.5,-480.5 4800.5,-480.5 4800.5,-474.5 4806.5,-468.5 4812.5,-468.5 4812.5,-468.5 4887.5,-468.5 4887.5,-468.5 4893.5,-468.5 4899.5,-474.5 4899.5,-480.5 4899.5,-480.5 4899.5,-524.5 4899.5,-524.5 4899.5,-530.5 4893.5,-536.5 4887.5,-536.5\"/>\n<text text-anchor=\"start\" x=\"4820.5\" y=\"-521.3\" font-family=\"Helvetica,sans-Serif\" font-size=\"14.00\" fill=\"#000000\">gini = 0.0</text>\n<text text-anchor=\"start\" x=\"4810.5\" y=\"-506.3\" font-family=\"Helvetica,sans-Serif\" font-size=\"14.00\" fill=\"#000000\">samples = 1</text>\n<text text-anchor=\"start\" x=\"4808.5\" y=\"-491.3\" font-family=\"Helvetica,sans-Serif\" font-size=\"14.00\" fill=\"#000000\">value = [1, 0]</text>\n<text text-anchor=\"start\" x=\"4821\" y=\"-476.3\" font-family=\"Helvetica,sans-Serif\" font-size=\"14.00\" fill=\"#000000\">class = 0</text>\n</g>\n<!-- 144&#45;&gt;145 -->\n<g id=\"edge145\" class=\"edge\">\n<title>144&#45;&gt;145</title>\n<path fill=\"none\" stroke=\"#000000\" d=\"M4922.8278,-579.8796C4911.9611,-568.3337 4900.1624,-555.7976 4889.2891,-544.2446\"/>\n<polygon fill=\"#000000\" stroke=\"#000000\" points=\"4891.6988,-541.6982 4882.2964,-536.8149 4886.6014,-546.4958 4891.6988,-541.6982\"/>\n</g>\n<!-- 146 -->\n<g id=\"node147\" class=\"node\">\n<title>146</title>\n<path fill=\"#399de5\" stroke=\"#000000\" d=\"M5004.5,-536.5C5004.5,-536.5 4929.5,-536.5 4929.5,-536.5 4923.5,-536.5 4917.5,-530.5 4917.5,-524.5 4917.5,-524.5 4917.5,-480.5 4917.5,-480.5 4917.5,-474.5 4923.5,-468.5 4929.5,-468.5 4929.5,-468.5 5004.5,-468.5 5004.5,-468.5 5010.5,-468.5 5016.5,-474.5 5016.5,-480.5 5016.5,-480.5 5016.5,-524.5 5016.5,-524.5 5016.5,-530.5 5010.5,-536.5 5004.5,-536.5\"/>\n<text text-anchor=\"start\" x=\"4937.5\" y=\"-521.3\" font-family=\"Helvetica,sans-Serif\" font-size=\"14.00\" fill=\"#000000\">gini = 0.0</text>\n<text text-anchor=\"start\" x=\"4927.5\" y=\"-506.3\" font-family=\"Helvetica,sans-Serif\" font-size=\"14.00\" fill=\"#000000\">samples = 1</text>\n<text text-anchor=\"start\" x=\"4925.5\" y=\"-491.3\" font-family=\"Helvetica,sans-Serif\" font-size=\"14.00\" fill=\"#000000\">value = [0, 1]</text>\n<text text-anchor=\"start\" x=\"4938\" y=\"-476.3\" font-family=\"Helvetica,sans-Serif\" font-size=\"14.00\" fill=\"#000000\">class = 1</text>\n</g>\n<!-- 144&#45;&gt;146 -->\n<g id=\"edge146\" class=\"edge\">\n<title>144&#45;&gt;146</title>\n<path fill=\"none\" stroke=\"#000000\" d=\"M4963.7488,-579.8796C4964.1969,-569.2134 4964.6806,-557.7021 4965.1344,-546.9015\"/>\n<polygon fill=\"#000000\" stroke=\"#000000\" points=\"4968.6352,-546.9531 4965.5582,-536.8149 4961.6414,-546.6592 4968.6352,-546.9531\"/>\n</g>\n<!-- 148 -->\n<g id=\"node149\" class=\"node\">\n<title>148</title>\n<path fill=\"#ffffff\" stroke=\"#000000\" d=\"M5247,-544C5247,-544 5057,-544 5057,-544 5051,-544 5045,-538 5045,-532 5045,-532 5045,-473 5045,-473 5045,-467 5051,-461 5057,-461 5057,-461 5247,-461 5247,-461 5253,-461 5259,-467 5259,-473 5259,-473 5259,-532 5259,-532 5259,-538 5253,-544 5247,-544\"/>\n<text text-anchor=\"start\" x=\"5053\" y=\"-528.8\" font-family=\"Helvetica,sans-Serif\" font-size=\"14.00\" fill=\"#000000\">Alkaline_Phosphotase ≤ 0.069</text>\n<text text-anchor=\"start\" x=\"5122.5\" y=\"-513.8\" font-family=\"Helvetica,sans-Serif\" font-size=\"14.00\" fill=\"#000000\">gini = 0.5</text>\n<text text-anchor=\"start\" x=\"5112.5\" y=\"-498.8\" font-family=\"Helvetica,sans-Serif\" font-size=\"14.00\" fill=\"#000000\">samples = 2</text>\n<text text-anchor=\"start\" x=\"5110.5\" y=\"-483.8\" font-family=\"Helvetica,sans-Serif\" font-size=\"14.00\" fill=\"#000000\">value = [1, 1]</text>\n<text text-anchor=\"start\" x=\"5123\" y=\"-468.8\" font-family=\"Helvetica,sans-Serif\" font-size=\"14.00\" fill=\"#000000\">class = 0</text>\n</g>\n<!-- 147&#45;&gt;148 -->\n<g id=\"edge148\" class=\"edge\">\n<title>147&#45;&gt;148</title>\n<path fill=\"none\" stroke=\"#000000\" d=\"M5155.9015,-579.8796C5155.4883,-571.6838 5155.0499,-562.9891 5154.6219,-554.5013\"/>\n<polygon fill=\"#000000\" stroke=\"#000000\" points=\"5158.1067,-554.1091 5154.1075,-544.2981 5151.1156,-554.4617 5158.1067,-554.1091\"/>\n</g>\n<!-- 151 -->\n<g id=\"node152\" class=\"node\">\n<title>151</title>\n<path fill=\"#e58139\" stroke=\"#000000\" d=\"M5371.5,-536.5C5371.5,-536.5 5288.5,-536.5 5288.5,-536.5 5282.5,-536.5 5276.5,-530.5 5276.5,-524.5 5276.5,-524.5 5276.5,-480.5 5276.5,-480.5 5276.5,-474.5 5282.5,-468.5 5288.5,-468.5 5288.5,-468.5 5371.5,-468.5 5371.5,-468.5 5377.5,-468.5 5383.5,-474.5 5383.5,-480.5 5383.5,-480.5 5383.5,-524.5 5383.5,-524.5 5383.5,-530.5 5377.5,-536.5 5371.5,-536.5\"/>\n<text text-anchor=\"start\" x=\"5300.5\" y=\"-521.3\" font-family=\"Helvetica,sans-Serif\" font-size=\"14.00\" fill=\"#000000\">gini = 0.0</text>\n<text text-anchor=\"start\" x=\"5286\" y=\"-506.3\" font-family=\"Helvetica,sans-Serif\" font-size=\"14.00\" fill=\"#000000\">samples = 12</text>\n<text text-anchor=\"start\" x=\"5284.5\" y=\"-491.3\" font-family=\"Helvetica,sans-Serif\" font-size=\"14.00\" fill=\"#000000\">value = [12, 0]</text>\n<text text-anchor=\"start\" x=\"5301\" y=\"-476.3\" font-family=\"Helvetica,sans-Serif\" font-size=\"14.00\" fill=\"#000000\">class = 0</text>\n</g>\n<!-- 147&#45;&gt;151 -->\n<g id=\"edge151\" class=\"edge\">\n<title>147&#45;&gt;151</title>\n<path fill=\"none\" stroke=\"#000000\" d=\"M5211.95,-584.1742C5231.0877,-570.9335 5252.6965,-555.9832 5272.1465,-542.5265\"/>\n<polygon fill=\"#000000\" stroke=\"#000000\" points=\"5274.3921,-545.229 5280.6244,-536.661 5270.4094,-539.4724 5274.3921,-545.229\"/>\n</g>\n<!-- 149 -->\n<g id=\"node150\" class=\"node\">\n<title>149</title>\n<path fill=\"#e58139\" stroke=\"#000000\" d=\"M5130.5,-417.5C5130.5,-417.5 5055.5,-417.5 5055.5,-417.5 5049.5,-417.5 5043.5,-411.5 5043.5,-405.5 5043.5,-405.5 5043.5,-361.5 5043.5,-361.5 5043.5,-355.5 5049.5,-349.5 5055.5,-349.5 5055.5,-349.5 5130.5,-349.5 5130.5,-349.5 5136.5,-349.5 5142.5,-355.5 5142.5,-361.5 5142.5,-361.5 5142.5,-405.5 5142.5,-405.5 5142.5,-411.5 5136.5,-417.5 5130.5,-417.5\"/>\n<text text-anchor=\"start\" x=\"5063.5\" y=\"-402.3\" font-family=\"Helvetica,sans-Serif\" font-size=\"14.00\" fill=\"#000000\">gini = 0.0</text>\n<text text-anchor=\"start\" x=\"5053.5\" y=\"-387.3\" font-family=\"Helvetica,sans-Serif\" font-size=\"14.00\" fill=\"#000000\">samples = 1</text>\n<text text-anchor=\"start\" x=\"5051.5\" y=\"-372.3\" font-family=\"Helvetica,sans-Serif\" font-size=\"14.00\" fill=\"#000000\">value = [1, 0]</text>\n<text text-anchor=\"start\" x=\"5064\" y=\"-357.3\" font-family=\"Helvetica,sans-Serif\" font-size=\"14.00\" fill=\"#000000\">class = 0</text>\n</g>\n<!-- 148&#45;&gt;149 -->\n<g id=\"edge149\" class=\"edge\">\n<title>148&#45;&gt;149</title>\n<path fill=\"none\" stroke=\"#000000\" d=\"M5131.3647,-460.8796C5125.9128,-449.8835 5120.0157,-437.9893 5114.5184,-426.9015\"/>\n<polygon fill=\"#000000\" stroke=\"#000000\" points=\"5117.5911,-425.2195 5110.0133,-417.8149 5111.3196,-428.3289 5117.5911,-425.2195\"/>\n</g>\n<!-- 150 -->\n<g id=\"node151\" class=\"node\">\n<title>150</title>\n<path fill=\"#399de5\" stroke=\"#000000\" d=\"M5247.5,-417.5C5247.5,-417.5 5172.5,-417.5 5172.5,-417.5 5166.5,-417.5 5160.5,-411.5 5160.5,-405.5 5160.5,-405.5 5160.5,-361.5 5160.5,-361.5 5160.5,-355.5 5166.5,-349.5 5172.5,-349.5 5172.5,-349.5 5247.5,-349.5 5247.5,-349.5 5253.5,-349.5 5259.5,-355.5 5259.5,-361.5 5259.5,-361.5 5259.5,-405.5 5259.5,-405.5 5259.5,-411.5 5253.5,-417.5 5247.5,-417.5\"/>\n<text text-anchor=\"start\" x=\"5180.5\" y=\"-402.3\" font-family=\"Helvetica,sans-Serif\" font-size=\"14.00\" fill=\"#000000\">gini = 0.0</text>\n<text text-anchor=\"start\" x=\"5170.5\" y=\"-387.3\" font-family=\"Helvetica,sans-Serif\" font-size=\"14.00\" fill=\"#000000\">samples = 1</text>\n<text text-anchor=\"start\" x=\"5168.5\" y=\"-372.3\" font-family=\"Helvetica,sans-Serif\" font-size=\"14.00\" fill=\"#000000\">value = [0, 1]</text>\n<text text-anchor=\"start\" x=\"5181\" y=\"-357.3\" font-family=\"Helvetica,sans-Serif\" font-size=\"14.00\" fill=\"#000000\">class = 1</text>\n</g>\n<!-- 148&#45;&gt;150 -->\n<g id=\"edge150\" class=\"edge\">\n<title>148&#45;&gt;150</title>\n<path fill=\"none\" stroke=\"#000000\" d=\"M5172.2856,-460.8796C5177.645,-449.8835 5183.4422,-437.9893 5188.8463,-426.9015\"/>\n<polygon fill=\"#000000\" stroke=\"#000000\" points=\"5192.04,-428.3375 5193.2751,-417.8149 5185.7476,-425.2706 5192.04,-428.3375\"/>\n</g>\n<!-- 155 -->\n<g id=\"node156\" class=\"node\">\n<title>155</title>\n<path fill=\"#e58139\" stroke=\"#000000\" d=\"M5175.5,-1131.5C5175.5,-1131.5 5092.5,-1131.5 5092.5,-1131.5 5086.5,-1131.5 5080.5,-1125.5 5080.5,-1119.5 5080.5,-1119.5 5080.5,-1075.5 5080.5,-1075.5 5080.5,-1069.5 5086.5,-1063.5 5092.5,-1063.5 5092.5,-1063.5 5175.5,-1063.5 5175.5,-1063.5 5181.5,-1063.5 5187.5,-1069.5 5187.5,-1075.5 5187.5,-1075.5 5187.5,-1119.5 5187.5,-1119.5 5187.5,-1125.5 5181.5,-1131.5 5175.5,-1131.5\"/>\n<text text-anchor=\"start\" x=\"5104.5\" y=\"-1116.3\" font-family=\"Helvetica,sans-Serif\" font-size=\"14.00\" fill=\"#000000\">gini = 0.0</text>\n<text text-anchor=\"start\" x=\"5090\" y=\"-1101.3\" font-family=\"Helvetica,sans-Serif\" font-size=\"14.00\" fill=\"#000000\">samples = 49</text>\n<text text-anchor=\"start\" x=\"5088.5\" y=\"-1086.3\" font-family=\"Helvetica,sans-Serif\" font-size=\"14.00\" fill=\"#000000\">value = [49, 0]</text>\n<text text-anchor=\"start\" x=\"5105\" y=\"-1071.3\" font-family=\"Helvetica,sans-Serif\" font-size=\"14.00\" fill=\"#000000\">class = 0</text>\n</g>\n<!-- 154&#45;&gt;155 -->\n<g id=\"edge155\" class=\"edge\">\n<title>154&#45;&gt;155</title>\n<path fill=\"none\" stroke=\"#000000\" d=\"M5134,-1174.8796C5134,-1164.2134 5134,-1152.7021 5134,-1141.9015\"/>\n<polygon fill=\"#000000\" stroke=\"#000000\" points=\"5137.5001,-1141.8149 5134,-1131.8149 5130.5001,-1141.815 5137.5001,-1141.8149\"/>\n</g>\n<!-- 156 -->\n<g id=\"node157\" class=\"node\">\n<title>156</title>\n<path fill=\"#eca06a\" stroke=\"#000000\" d=\"M5300.5,-1139C5300.5,-1139 5225.5,-1139 5225.5,-1139 5219.5,-1139 5213.5,-1133 5213.5,-1127 5213.5,-1127 5213.5,-1068 5213.5,-1068 5213.5,-1062 5219.5,-1056 5225.5,-1056 5225.5,-1056 5300.5,-1056 5300.5,-1056 5306.5,-1056 5312.5,-1062 5312.5,-1068 5312.5,-1068 5312.5,-1127 5312.5,-1127 5312.5,-1133 5306.5,-1139 5300.5,-1139\"/>\n<text text-anchor=\"start\" x=\"5228.5\" y=\"-1123.8\" font-family=\"Helvetica,sans-Serif\" font-size=\"14.00\" fill=\"#000000\">Adult ≤ 0.5</text>\n<text text-anchor=\"start\" x=\"5229.5\" y=\"-1108.8\" font-family=\"Helvetica,sans-Serif\" font-size=\"14.00\" fill=\"#000000\">gini = 0.32</text>\n<text text-anchor=\"start\" x=\"5223.5\" y=\"-1093.8\" font-family=\"Helvetica,sans-Serif\" font-size=\"14.00\" fill=\"#000000\">samples = 5</text>\n<text text-anchor=\"start\" x=\"5221.5\" y=\"-1078.8\" font-family=\"Helvetica,sans-Serif\" font-size=\"14.00\" fill=\"#000000\">value = [4, 1]</text>\n<text text-anchor=\"start\" x=\"5234\" y=\"-1063.8\" font-family=\"Helvetica,sans-Serif\" font-size=\"14.00\" fill=\"#000000\">class = 0</text>\n</g>\n<!-- 154&#45;&gt;156 -->\n<g id=\"edge156\" class=\"edge\">\n<title>154&#45;&gt;156</title>\n<path fill=\"none\" stroke=\"#000000\" d=\"M5179.1179,-1174.8796C5189.174,-1165.6031 5199.923,-1155.6874 5210.2554,-1146.1559\"/>\n<polygon fill=\"#000000\" stroke=\"#000000\" points=\"5212.7124,-1148.6511 5217.6895,-1139.2981 5207.9661,-1143.506 5212.7124,-1148.6511\"/>\n</g>\n<!-- 157 -->\n<g id=\"node158\" class=\"node\">\n<title>157</title>\n<path fill=\"#e58139\" stroke=\"#000000\" d=\"M5300.5,-1012.5C5300.5,-1012.5 5225.5,-1012.5 5225.5,-1012.5 5219.5,-1012.5 5213.5,-1006.5 5213.5,-1000.5 5213.5,-1000.5 5213.5,-956.5 5213.5,-956.5 5213.5,-950.5 5219.5,-944.5 5225.5,-944.5 5225.5,-944.5 5300.5,-944.5 5300.5,-944.5 5306.5,-944.5 5312.5,-950.5 5312.5,-956.5 5312.5,-956.5 5312.5,-1000.5 5312.5,-1000.5 5312.5,-1006.5 5306.5,-1012.5 5300.5,-1012.5\"/>\n<text text-anchor=\"start\" x=\"5233.5\" y=\"-997.3\" font-family=\"Helvetica,sans-Serif\" font-size=\"14.00\" fill=\"#000000\">gini = 0.0</text>\n<text text-anchor=\"start\" x=\"5223.5\" y=\"-982.3\" font-family=\"Helvetica,sans-Serif\" font-size=\"14.00\" fill=\"#000000\">samples = 4</text>\n<text text-anchor=\"start\" x=\"5221.5\" y=\"-967.3\" font-family=\"Helvetica,sans-Serif\" font-size=\"14.00\" fill=\"#000000\">value = [4, 0]</text>\n<text text-anchor=\"start\" x=\"5234\" y=\"-952.3\" font-family=\"Helvetica,sans-Serif\" font-size=\"14.00\" fill=\"#000000\">class = 0</text>\n</g>\n<!-- 156&#45;&gt;157 -->\n<g id=\"edge157\" class=\"edge\">\n<title>156&#45;&gt;157</title>\n<path fill=\"none\" stroke=\"#000000\" d=\"M5263,-1055.8796C5263,-1045.2134 5263,-1033.7021 5263,-1022.9015\"/>\n<polygon fill=\"#000000\" stroke=\"#000000\" points=\"5266.5001,-1022.8149 5263,-1012.8149 5259.5001,-1022.815 5266.5001,-1022.8149\"/>\n</g>\n<!-- 158 -->\n<g id=\"node159\" class=\"node\">\n<title>158</title>\n<path fill=\"#399de5\" stroke=\"#000000\" d=\"M5417.5,-1012.5C5417.5,-1012.5 5342.5,-1012.5 5342.5,-1012.5 5336.5,-1012.5 5330.5,-1006.5 5330.5,-1000.5 5330.5,-1000.5 5330.5,-956.5 5330.5,-956.5 5330.5,-950.5 5336.5,-944.5 5342.5,-944.5 5342.5,-944.5 5417.5,-944.5 5417.5,-944.5 5423.5,-944.5 5429.5,-950.5 5429.5,-956.5 5429.5,-956.5 5429.5,-1000.5 5429.5,-1000.5 5429.5,-1006.5 5423.5,-1012.5 5417.5,-1012.5\"/>\n<text text-anchor=\"start\" x=\"5350.5\" y=\"-997.3\" font-family=\"Helvetica,sans-Serif\" font-size=\"14.00\" fill=\"#000000\">gini = 0.0</text>\n<text text-anchor=\"start\" x=\"5340.5\" y=\"-982.3\" font-family=\"Helvetica,sans-Serif\" font-size=\"14.00\" fill=\"#000000\">samples = 1</text>\n<text text-anchor=\"start\" x=\"5338.5\" y=\"-967.3\" font-family=\"Helvetica,sans-Serif\" font-size=\"14.00\" fill=\"#000000\">value = [0, 1]</text>\n<text text-anchor=\"start\" x=\"5351\" y=\"-952.3\" font-family=\"Helvetica,sans-Serif\" font-size=\"14.00\" fill=\"#000000\">class = 1</text>\n</g>\n<!-- 156&#45;&gt;158 -->\n<g id=\"edge158\" class=\"edge\">\n<title>156&#45;&gt;158</title>\n<path fill=\"none\" stroke=\"#000000\" d=\"M5303.9209,-1055.8796C5315.2728,-1044.3337 5327.5982,-1031.7976 5338.957,-1020.2446\"/>\n<polygon fill=\"#000000\" stroke=\"#000000\" points=\"5341.7466,-1022.3995 5346.2618,-1012.8149 5336.7551,-1017.4919 5341.7466,-1022.3995\"/>\n</g>\n</g>\n</svg>\n"
          },
          "metadata": {},
          "execution_count": 38
        }
      ]
    },
    {
      "cell_type": "markdown",
      "source": [
        "# **RANDOM FOREST CLASSIFIER**"
      ],
      "metadata": {
        "id": "ufvT7C2JPvLM"
      }
    },
    {
      "cell_type": "code",
      "source": [
        "from sklearn.ensemble import RandomForestClassifier\n",
        "rfc=RandomForestClassifier()\n",
        "rfc.fit(x_train,y_train)\n",
        "y_pred=rfc.predict(x_test)"
      ],
      "metadata": {
        "id": "GDz9DuwE_0jC"
      },
      "execution_count": null,
      "outputs": []
    },
    {
      "cell_type": "code",
      "source": [
        "print(classification_report(y_test,y_pred))"
      ],
      "metadata": {
        "id": "HTUXL26NAOK3",
        "colab": {
          "base_uri": "https://localhost:8080/"
        },
        "outputId": "a9874761-288f-43a4-aea6-0bc42af034e7"
      },
      "execution_count": null,
      "outputs": [
        {
          "output_type": "stream",
          "name": "stdout",
          "text": [
            "              precision    recall  f1-score   support\n",
            "\n",
            "           1       0.73      0.89      0.80       112\n",
            "           2       0.56      0.29      0.38        52\n",
            "\n",
            "    accuracy                           0.70       164\n",
            "   macro avg       0.64      0.59      0.59       164\n",
            "weighted avg       0.67      0.70      0.67       164\n",
            "\n"
          ]
        }
      ]
    },
    {
      "cell_type": "code",
      "source": [
        "accuracy_score(y_test,y_pred)"
      ],
      "metadata": {
        "id": "wZzOsxOzAf_6",
        "colab": {
          "base_uri": "https://localhost:8080/"
        },
        "outputId": "033cce62-5a05-4ba3-c74d-73e66adb4d46"
      },
      "execution_count": null,
      "outputs": [
        {
          "output_type": "execute_result",
          "data": {
            "text/plain": [
              "0.7012195121951219"
            ]
          },
          "metadata": {},
          "execution_count": 41
        }
      ]
    },
    {
      "cell_type": "code",
      "source": [
        "confusion_matrix(y_test,y_pred)"
      ],
      "metadata": {
        "id": "5Z2VHJFAAmuv",
        "colab": {
          "base_uri": "https://localhost:8080/"
        },
        "outputId": "1e76d85a-0eaf-427a-99b7-5310ef0803c1"
      },
      "execution_count": null,
      "outputs": [
        {
          "output_type": "execute_result",
          "data": {
            "text/plain": [
              "array([[100,  12],\n",
              "       [ 37,  15]])"
            ]
          },
          "metadata": {},
          "execution_count": 42
        }
      ]
    },
    {
      "cell_type": "code",
      "source": [
        "testDf = pd.read_csv('https://raw.githubusercontent.com/dphi-official/Datasets/master/liver_patient_data/indian_liver_patient_new_testdataset.csv')\n",
        "testDf.head()"
      ],
      "metadata": {
        "id": "YG9huMRrCUMP",
        "colab": {
          "base_uri": "https://localhost:8080/",
          "height": 270
        },
        "outputId": "ec92d7c3-b9de-4bfa-9830-eb82274c05d6"
      },
      "execution_count": null,
      "outputs": [
        {
          "output_type": "execute_result",
          "data": {
            "text/plain": [
              "   Age Gender  Total_Bilirubin  Direct_Bilirubin  Alkaline_Phosphotase  \\\n",
              "0   36   Male              2.8               1.5                   305   \n",
              "1   42   Male              0.8               0.2                   127   \n",
              "2   53   Male             19.8              10.4                   238   \n",
              "3   32   Male             30.5              17.1                   218   \n",
              "4   32   Male             32.6              14.1                   219   \n",
              "\n",
              "   Alamine_Aminotransferase  Aspartate_Aminotransferase  Total_Protiens  \\\n",
              "0                        28                          76             5.9   \n",
              "1                        29                          30             4.9   \n",
              "2                        39                         221             8.1   \n",
              "3                        39                          79             5.5   \n",
              "4                        95                         235             5.8   \n",
              "\n",
              "   Albumin  Albumin_and_Globulin_Ratio  \n",
              "0      2.5                         0.7  \n",
              "1      2.7                         1.2  \n",
              "2      2.5                         0.4  \n",
              "3      2.7                         0.9  \n",
              "4      3.1                         1.1  "
            ],
            "text/html": [
              "\n",
              "  <div id=\"df-2e95dd3f-41e9-4025-8e2e-a45553e84043\">\n",
              "    <div class=\"colab-df-container\">\n",
              "      <div>\n",
              "<style scoped>\n",
              "    .dataframe tbody tr th:only-of-type {\n",
              "        vertical-align: middle;\n",
              "    }\n",
              "\n",
              "    .dataframe tbody tr th {\n",
              "        vertical-align: top;\n",
              "    }\n",
              "\n",
              "    .dataframe thead th {\n",
              "        text-align: right;\n",
              "    }\n",
              "</style>\n",
              "<table border=\"1\" class=\"dataframe\">\n",
              "  <thead>\n",
              "    <tr style=\"text-align: right;\">\n",
              "      <th></th>\n",
              "      <th>Age</th>\n",
              "      <th>Gender</th>\n",
              "      <th>Total_Bilirubin</th>\n",
              "      <th>Direct_Bilirubin</th>\n",
              "      <th>Alkaline_Phosphotase</th>\n",
              "      <th>Alamine_Aminotransferase</th>\n",
              "      <th>Aspartate_Aminotransferase</th>\n",
              "      <th>Total_Protiens</th>\n",
              "      <th>Albumin</th>\n",
              "      <th>Albumin_and_Globulin_Ratio</th>\n",
              "    </tr>\n",
              "  </thead>\n",
              "  <tbody>\n",
              "    <tr>\n",
              "      <th>0</th>\n",
              "      <td>36</td>\n",
              "      <td>Male</td>\n",
              "      <td>2.8</td>\n",
              "      <td>1.5</td>\n",
              "      <td>305</td>\n",
              "      <td>28</td>\n",
              "      <td>76</td>\n",
              "      <td>5.9</td>\n",
              "      <td>2.5</td>\n",
              "      <td>0.7</td>\n",
              "    </tr>\n",
              "    <tr>\n",
              "      <th>1</th>\n",
              "      <td>42</td>\n",
              "      <td>Male</td>\n",
              "      <td>0.8</td>\n",
              "      <td>0.2</td>\n",
              "      <td>127</td>\n",
              "      <td>29</td>\n",
              "      <td>30</td>\n",
              "      <td>4.9</td>\n",
              "      <td>2.7</td>\n",
              "      <td>1.2</td>\n",
              "    </tr>\n",
              "    <tr>\n",
              "      <th>2</th>\n",
              "      <td>53</td>\n",
              "      <td>Male</td>\n",
              "      <td>19.8</td>\n",
              "      <td>10.4</td>\n",
              "      <td>238</td>\n",
              "      <td>39</td>\n",
              "      <td>221</td>\n",
              "      <td>8.1</td>\n",
              "      <td>2.5</td>\n",
              "      <td>0.4</td>\n",
              "    </tr>\n",
              "    <tr>\n",
              "      <th>3</th>\n",
              "      <td>32</td>\n",
              "      <td>Male</td>\n",
              "      <td>30.5</td>\n",
              "      <td>17.1</td>\n",
              "      <td>218</td>\n",
              "      <td>39</td>\n",
              "      <td>79</td>\n",
              "      <td>5.5</td>\n",
              "      <td>2.7</td>\n",
              "      <td>0.9</td>\n",
              "    </tr>\n",
              "    <tr>\n",
              "      <th>4</th>\n",
              "      <td>32</td>\n",
              "      <td>Male</td>\n",
              "      <td>32.6</td>\n",
              "      <td>14.1</td>\n",
              "      <td>219</td>\n",
              "      <td>95</td>\n",
              "      <td>235</td>\n",
              "      <td>5.8</td>\n",
              "      <td>3.1</td>\n",
              "      <td>1.1</td>\n",
              "    </tr>\n",
              "  </tbody>\n",
              "</table>\n",
              "</div>\n",
              "      <button class=\"colab-df-convert\" onclick=\"convertToInteractive('df-2e95dd3f-41e9-4025-8e2e-a45553e84043')\"\n",
              "              title=\"Convert this dataframe to an interactive table.\"\n",
              "              style=\"display:none;\">\n",
              "        \n",
              "  <svg xmlns=\"http://www.w3.org/2000/svg\" height=\"24px\"viewBox=\"0 0 24 24\"\n",
              "       width=\"24px\">\n",
              "    <path d=\"M0 0h24v24H0V0z\" fill=\"none\"/>\n",
              "    <path d=\"M18.56 5.44l.94 2.06.94-2.06 2.06-.94-2.06-.94-.94-2.06-.94 2.06-2.06.94zm-11 1L8.5 8.5l.94-2.06 2.06-.94-2.06-.94L8.5 2.5l-.94 2.06-2.06.94zm10 10l.94 2.06.94-2.06 2.06-.94-2.06-.94-.94-2.06-.94 2.06-2.06.94z\"/><path d=\"M17.41 7.96l-1.37-1.37c-.4-.4-.92-.59-1.43-.59-.52 0-1.04.2-1.43.59L10.3 9.45l-7.72 7.72c-.78.78-.78 2.05 0 2.83L4 21.41c.39.39.9.59 1.41.59.51 0 1.02-.2 1.41-.59l7.78-7.78 2.81-2.81c.8-.78.8-2.07 0-2.86zM5.41 20L4 18.59l7.72-7.72 1.47 1.35L5.41 20z\"/>\n",
              "  </svg>\n",
              "      </button>\n",
              "      \n",
              "  <style>\n",
              "    .colab-df-container {\n",
              "      display:flex;\n",
              "      flex-wrap:wrap;\n",
              "      gap: 12px;\n",
              "    }\n",
              "\n",
              "    .colab-df-convert {\n",
              "      background-color: #E8F0FE;\n",
              "      border: none;\n",
              "      border-radius: 50%;\n",
              "      cursor: pointer;\n",
              "      display: none;\n",
              "      fill: #1967D2;\n",
              "      height: 32px;\n",
              "      padding: 0 0 0 0;\n",
              "      width: 32px;\n",
              "    }\n",
              "\n",
              "    .colab-df-convert:hover {\n",
              "      background-color: #E2EBFA;\n",
              "      box-shadow: 0px 1px 2px rgba(60, 64, 67, 0.3), 0px 1px 3px 1px rgba(60, 64, 67, 0.15);\n",
              "      fill: #174EA6;\n",
              "    }\n",
              "\n",
              "    [theme=dark] .colab-df-convert {\n",
              "      background-color: #3B4455;\n",
              "      fill: #D2E3FC;\n",
              "    }\n",
              "\n",
              "    [theme=dark] .colab-df-convert:hover {\n",
              "      background-color: #434B5C;\n",
              "      box-shadow: 0px 1px 3px 1px rgba(0, 0, 0, 0.15);\n",
              "      filter: drop-shadow(0px 1px 2px rgba(0, 0, 0, 0.3));\n",
              "      fill: #FFFFFF;\n",
              "    }\n",
              "  </style>\n",
              "\n",
              "      <script>\n",
              "        const buttonEl =\n",
              "          document.querySelector('#df-2e95dd3f-41e9-4025-8e2e-a45553e84043 button.colab-df-convert');\n",
              "        buttonEl.style.display =\n",
              "          google.colab.kernel.accessAllowed ? 'block' : 'none';\n",
              "\n",
              "        async function convertToInteractive(key) {\n",
              "          const element = document.querySelector('#df-2e95dd3f-41e9-4025-8e2e-a45553e84043');\n",
              "          const dataTable =\n",
              "            await google.colab.kernel.invokeFunction('convertToInteractive',\n",
              "                                                     [key], {});\n",
              "          if (!dataTable) return;\n",
              "\n",
              "          const docLinkHtml = 'Like what you see? Visit the ' +\n",
              "            '<a target=\"_blank\" href=https://colab.research.google.com/notebooks/data_table.ipynb>data table notebook</a>'\n",
              "            + ' to learn more about interactive tables.';\n",
              "          element.innerHTML = '';\n",
              "          dataTable['output_type'] = 'display_data';\n",
              "          await google.colab.output.renderOutput(dataTable, element);\n",
              "          const docLink = document.createElement('div');\n",
              "          docLink.innerHTML = docLinkHtml;\n",
              "          element.appendChild(docLink);\n",
              "        }\n",
              "      </script>\n",
              "    </div>\n",
              "  </div>\n",
              "  "
            ]
          },
          "metadata": {},
          "execution_count": 47
        }
      ]
    },
    {
      "cell_type": "code",
      "source": [
        "bins= [0, 5, 12, 18, 26, 46, testDf['Age'].max()+1]\n",
        "labels = ['Toddler', 'Child', 'Young', 'Young Adult', 'Adult', 'Old']\n",
        "testDf['Age'] = pd.cut(testDf['Age'], bins=bins, labels=labels, right=False)"
      ],
      "metadata": {
        "id": "eoOj_kx8CXYh"
      },
      "execution_count": null,
      "outputs": []
    },
    {
      "cell_type": "code",
      "source": [
        "X_test = datacols(testDf)\n",
        "y_test = pd.Series(LogReg.predict(X_test), name='prediction')"
      ],
      "metadata": {
        "id": "6qeOHJmiCaGS"
      },
      "execution_count": null,
      "outputs": []
    },
    {
      "cell_type": "code",
      "source": [
        "y_test.to_csv('subbu.csv', index=False)"
      ],
      "metadata": {
        "id": "hg-OyicmCqoI"
      },
      "execution_count": null,
      "outputs": []
    }
  ],
  "metadata": {
    "colab": {
      "name": "19PA1A0484 LIVER_PATIENT_DATA PREDICTION.ipynb",
      "provenance": [],
      "authorship_tag": "ABX9TyNFA3wYX5fnr3fp8Ed/QU2S",
      "include_colab_link": true
    },
    "kernelspec": {
      "display_name": "Python 3",
      "name": "python3"
    },
    "language_info": {
      "name": "python"
    }
  },
  "nbformat": 4,
  "nbformat_minor": 0
}